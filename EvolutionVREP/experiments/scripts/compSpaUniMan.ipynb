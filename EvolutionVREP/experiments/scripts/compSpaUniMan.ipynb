{
 "cells": [
  {
   "cell_type": "code",
   "execution_count": 11,
   "metadata": {},
   "outputs": [],
   "source": [
    "# Load libraries\n",
    "import csv\n",
    "import matplotlib.pyplot as plt\n",
    "import statistics\n",
    "import numpy as np\n",
    "import os\n",
    "from IPython.display import clear_output"
   ]
  },
  {
   "cell_type": "code",
   "execution_count": 12,
   "metadata": {},
   "outputs": [],
   "source": [
    "# Set filepath\n",
    "repository='/home/ebb505/ARE_Project/are-logs/'\n",
    "repLC='LC/'\n",
    "fnTests='noreptests.csv' # REMEMBER TO NOT COUNT UNTIL -1\n",
    "fnDesc='norepmorphdesc.csv' # REMEMBER TO COUNT UNTIL -1"
   ]
  },
  {
   "cell_type": "code",
   "execution_count": 13,
   "metadata": {},
   "outputs": [],
   "source": [
    "# LC alpha parameter values\n",
    "LCAlpha = ['10/','20/','30/','40/','50/','60/','70/','80/','90/','100/']\n",
    "numAlphaValues = len(LCAlpha)"
   ]
  },
  {
   "cell_type": "code",
   "execution_count": 14,
   "metadata": {},
   "outputs": [
    {
     "name": "stdout",
     "output_type": "stream",
     "text": [
      "linearCombination_27_3_16-58-11-1314\n",
      "linearCombination_27_3_16-48-26-6330\n",
      "linearCombination_27_3_16-37-42-2315\n",
      "linearCombination_27_3_16-2-25-5965\n",
      "linearCombination_27_3_15-8-54-4256\n",
      "linearCombination_27_3_12-22-33-3716\n",
      "linearCombination_25_3_0-17-47-7067\n",
      "linearCombination_25_3_0-17-47-7065\n",
      "linearCombination_25_3_0-17-47-7070\n",
      "linearCombination_25_3_0-17-47-7061\n"
     ]
    }
   ],
   "source": [
    "# Get all directories\n",
    "foldLC = []\n",
    "for i in range(numAlphaValues):\n",
    "    tempLC = []\n",
    "    # r=root, d=directories, f = files\n",
    "    for r, d, f in os.walk(repository + repLC + LCAlpha[i]):\n",
    "        for folder in d:\n",
    "            tempLC.append(os.path.join(r, folder))\n",
    "            print(folder)\n",
    "    foldLC.append(tempLC)"
   ]
  },
  {
   "cell_type": "code",
   "execution_count": 15,
   "metadata": {},
   "outputs": [
    {
     "name": "stdout",
     "output_type": "stream",
     "text": [
      "LC =  10\n"
     ]
    }
   ],
   "source": [
    "# See directories\n",
    "print(\"LC = \", len(foldLC))"
   ]
  },
  {
   "cell_type": "code",
   "execution_count": 16,
   "metadata": {},
   "outputs": [],
   "source": [
    "# Get information from files\n",
    "# BL\n",
    "repTestsLC = []\n",
    "repManLC = []\n",
    "for i in range(numAlphaValues):\n",
    "    tempRepTestsLC = []\n",
    "    tempRepManLC = []\n",
    "    for f in foldLC[i]:\n",
    "        my_list_tests = []\n",
    "        my_list_man = []\n",
    "        with open(f + '/' + fnTests, 'r') as testCsvfile, \\\n",
    "        open(f + '/' + fnDesc, 'r') as descCsvfile:\n",
    "            dataTests = csv.reader(testCsvfile, delimiter=',', quotechar='\"')\n",
    "            dataMan = csv.reader(descCsvfile, delimiter=',', quotechar='\"')\n",
    "            for row in dataTests:\n",
    "                my_list_tests.append(row[:-1]) \n",
    "            for row in dataMan:\n",
    "                my_list_man.append(row[:-1]) \n",
    "        tempRepTestsLC.append(my_list_tests)\n",
    "        tempRepManLC.append(my_list_man)\n",
    "    repTestsLC.append(tempRepTestsLC)\n",
    "    repManLC.append(tempRepManLC)"
   ]
  },
  {
   "cell_type": "code",
   "execution_count": 17,
   "metadata": {},
   "outputs": [
    {
     "name": "stdout",
     "output_type": "stream",
     "text": [
      "Replicates:  1 Evaluations:  12386 Features:  5 Generations:  309\n",
      "Replicates:  1 Evaluations:  13121 Features:  5 Generations:  328\n",
      "Replicates:  1 Evaluations:  12209 Features:  5 Generations:  305\n",
      "Replicates:  1 Evaluations:  12487 Features:  5 Generations:  312\n",
      "Replicates:  1 Evaluations:  6938 Features:  5 Generations:  173\n",
      "Replicates:  1 Evaluations:  13357 Features:  5 Generations:  333\n",
      "Replicates:  1 Evaluations:  11189 Features:  5 Generations:  279\n",
      "Replicates:  1 Evaluations:  15821 Features:  5 Generations:  395\n",
      "Replicates:  1 Evaluations:  14276 Features:  5 Generations:  356\n",
      "Replicates:  1 Evaluations:  12920 Features:  5 Generations:  323\n"
     ]
    }
   ],
   "source": [
    "for i in range(numAlphaValues):\n",
    "    population = 40\n",
    "    replicates = len(foldLC[i])\n",
    "    #replicates = 15\n",
    "    evaluations = len(repTestsLC[i][0])\n",
    "    #evaluations = 20000\n",
    "    features = len(repTestsLC[i][0][0])\n",
    "    generations = int(evaluations / population)\n",
    "    print(\"Replicates: \", replicates, \"Evaluations: \", evaluations, \"Features: \", features, \"Generations: \", generations)"
   ]
  },
  {
   "cell_type": "code",
   "execution_count": 18,
   "metadata": {},
   "outputs": [
    {
     "name": "stdout",
     "output_type": "stream",
     "text": [
      "['5', '0', '0', '0', '0.0974712']\n"
     ]
    }
   ],
   "source": [
    "print(repTestsLC[0][0][1])"
   ]
  },
  {
   "cell_type": "code",
   "execution_count": 19,
   "metadata": {},
   "outputs": [
    {
     "name": "stdout",
     "output_type": "stream",
     "text": [
      "0\n",
      "Done!\n",
      "[0.007589213628290005]\n",
      "0\n",
      "Done!\n",
      "[0.00426796738053502]\n",
      "0\n",
      "Done!\n",
      "[0.0011466950610205587]\n",
      "0\n",
      "Done!\n",
      "[0.001281332585889325]\n",
      "0\n",
      "Done!\n",
      "[0.0004324012683770539]\n",
      "0\n",
      "Done!\n",
      "[0.0009732724414164858]\n",
      "0\n",
      "Done!\n",
      "[8.93734918223255e-05]\n",
      "0\n",
      "Done!\n",
      "[0.00018962138929271222]\n",
      "0\n",
      "Done!\n",
      "[0.002871952927991034]\n",
      "0\n",
      "Done!\n",
      "[0.00015479876160990713]\n"
     ]
    }
   ],
   "source": [
    "# Manufacturable robots\n",
    "sumTestsRepLC = []\n",
    "for i in range(numAlphaValues):\n",
    "    tempSumTestsRepLC = []\n",
    "    for j in range(replicates):\n",
    "        dat = np.array([[float(y) for y in x] for x in repTestsLC[i][j]]) # Convert to array\n",
    "        counter = 0\n",
    "        for k in range(len(repTestsLC[i][j])):\n",
    "            if(dat[k,1] > 0 \\\n",
    "               and dat[k,2] > 0 \\\n",
    "               and dat[k,3] > 0 \\\n",
    "              ):\n",
    "                counter = counter + 1\n",
    "        tempSumTestsRepLC.append(counter/len(repTestsLC[i][j]))\n",
    "        print(j)\n",
    "    print(\"Done!\")\n",
    "    print(tempSumTestsRepLC)\n",
    "    sumTestsRepLC.append(tempSumTestsRepLC)"
   ]
  },
  {
   "cell_type": "code",
   "execution_count": 20,
   "metadata": {},
   "outputs": [
    {
     "name": "stdout",
     "output_type": "stream",
     "text": [
      "Done!\n"
     ]
    }
   ],
   "source": [
    "# Process data\n",
    "repResLC = []\n",
    "for i in range(numAlphaValues):\n",
    "    tempRepResLC = []\n",
    "    for rep in range(replicates):\n",
    "        dat = np.array([[float(y) for y in x] for x in repManLC[i][rep]]) # Convert to array\n",
    "        tempRepResLC.append(dat)\n",
    "    repResLC.append(tempRepResLC)\n",
    "print(\"Done!\")"
   ]
  },
  {
   "cell_type": "code",
   "execution_count": 23,
   "metadata": {},
   "outputs": [
    {
     "name": "stdout",
     "output_type": "stream",
     "text": [
      "LC -> Done!\n"
     ]
    }
   ],
   "source": [
    "repDistLC = []\n",
    "for i in range(numAlphaValues):\n",
    "    tempRepDistLC = []\n",
    "    for rep in range(replicates):\n",
    "        temAve = []\n",
    "        for j in range(len(repResLC[i][rep])):\n",
    "            print(\"Pam: \", i, \"Rep: \", rep, \" Prog: \", j/len(repResLC[i][rep]))\n",
    "            temDis = []\n",
    "            for k in range(len(repResLC[i][rep])):\n",
    "                dist = np.linalg.norm(repResLC[i][rep][j][1:]-repResLC[i][rep][k][1:])\n",
    "                temDis.append(dist)\n",
    "            sortedList = np.sort(temDis)\n",
    "            temAve.append(np.mean(sortedList[:14]))\n",
    "            clear_output(wait=True)\n",
    "        tempRepDistLC.append(np.mean(temAve))\n",
    "    repDistLC.append(tempRepDistLC)\n",
    "print(\"LC -> Done!\")"
   ]
  },
  {
   "cell_type": "code",
   "execution_count": 27,
   "metadata": {},
   "outputs": [
    {
     "data": {
      "image/png": "[encoded data removed]",
      "text/plain": [
       "<Figure size 432x288 with 1 Axes>"
      ]
     },
     "metadata": {},
     "output_type": "display_data"
    }
   ],
   "source": [
    "# Plot stuff\n",
    "font = {'weight' : 'normal',\n",
    "        'size'   : 14}\n",
    "\n",
    "plt.rc('font', **font)\n",
    "plt.figure(0)\n",
    "plt.xlabel(\"Proportion of unique manufacturable robots\")\n",
    "plt.ylabel(\"Sparseness\")\n",
    "for i in range(numAlphaValues):\n",
    "    plt.scatter(sumTestsRepLC[i],repDistLC[i],marker='.',linewidths=8.0)\n",
    "axes = plt.gca()\n",
    "axes.set_xlim([0,0.015])\n",
    "axes.set_ylim([0,0.06])\n",
    "# axes = plt.gca()\n",
    "# title = experimentName + ': ' + xVariable + '-' + yVariable\n",
    "# plt.title(title)\n",
    "plt.legend([\"LC (0.9)\", \"LC (0.8)\", \"LC (0.7)\", \"LC (0.6)\", \"LC (0.5)\", \"LC (0.4)\", \"LC (0.3)\", \"LC (0.2)\", \"LC (0.1)\", \"LC (0.0)\"])\n",
    "# plt.xticks(posX,rangeX)\n",
    "# plt.yticks(posX,rangeX)\n",
    "\n",
    "\n",
    "plt.savefig(repository+'SpaManVSDiv.png', dpi=200)"
   ]
  },
  {
   "cell_type": "code",
   "execution_count": null,
   "metadata": {},
   "outputs": [],
   "source": []
  }
 ],
 "metadata": {
  "kernelspec": {
   "display_name": "Python 3",
   "language": "python",
   "name": "python3"
  },
  "language_info": {
   "codemirror_mode": {
    "name": "ipython",
    "version": 3
   },
   "file_extension": ".py",
   "mimetype": "text/x-python",
   "name": "python",
   "nbconvert_exporter": "python",
   "pygments_lexer": "ipython3",
   "version": "3.6.9"
  }
 },
 "nbformat": 4,
 "nbformat_minor": 2
}
