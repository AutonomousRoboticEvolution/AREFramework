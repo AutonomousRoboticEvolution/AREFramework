{
 "cells": [
  {
   "cell_type": "code",
   "execution_count": 1,
   "metadata": {},
   "outputs": [],
   "source": [
    "# Import libraries\n",
    "import csv\n",
    "import matplotlib.pyplot as plt\n",
    "import numpy as np\n",
    "import os\n",
    "import statistics\n",
    "from IPython.display import clear_output"
   ]
  },
  {
   "cell_type": "code",
   "execution_count": 2,
   "metadata": {},
   "outputs": [],
   "source": [
    "# Set filepath\n",
    "\n",
    "rep='/home/ebb505/ARE_Project/are-logs/LC_NS_MS/0'\n",
    "\n",
    "fnTests='tests.csv'\n",
    "fnMorphDesc='morphdesc.csv'\n",
    "fnNoRepTests='noreptests.csv'\n",
    "fnNoRepMorphDesc='norepmorphdesc.csv'"
   ]
  },
  {
   "cell_type": "code",
   "execution_count": 3,
   "metadata": {},
   "outputs": [
    {
     "name": "stdout",
     "output_type": "stream",
     "text": [
      "linearCombination_15_4_16-53-33-3436\n",
      "linearCombination_15_4_16-53-33-3340\n",
      "linearCombination_15_4_16-53-33-3353\n",
      "linearCombination_15_4_16-53-33-3373\n",
      "linearCombination_15_4_16-53-33-3410\n",
      "linearCombination_15_4_16-53-35-5674\n",
      "linearCombination_15_4_16-53-33-3487\n",
      "linearCombination_15_4_16-53-33-3419\n",
      "linearCombination_15_4_16-53-33-3316\n",
      "linearCombination_15_4_16-53-33-3431\n",
      "linearCombination_15_4_16-53-33-3415\n",
      "linearCombination_15_4_16-53-33-3288\n",
      "linearCombination_15_4_16-53-33-3425\n",
      "linearCombination_15_4_16-53-35-5686\n",
      "linearCombination_15_4_16-53-33-3302\n",
      "linearCombination_15_4_16-53-33-3308\n",
      "linearCombination_15_4_16-53-33-3296\n"
     ]
    }
   ],
   "source": [
    "# Get all directories\n",
    "fold = []\n",
    "# r=root, d=directories, f = files\n",
    "for r, d, f in os.walk(rep):\n",
    "    for folder in d:\n",
    "        fold.append(os.path.join(r, folder))\n",
    "        print(folder)"
   ]
  },
  {
   "cell_type": "code",
   "execution_count": 4,
   "metadata": {},
   "outputs": [
    {
     "name": "stdout",
     "output_type": "stream",
     "text": [
      "Directories number =  17\n"
     ]
    }
   ],
   "source": [
    "# See directories\n",
    "print(\"Directories number = \", len(fold))"
   ]
  },
  {
   "cell_type": "code",
   "execution_count": 5,
   "metadata": {},
   "outputs": [],
   "source": [
    "# Get information from files\n",
    "repTests = []\n",
    "repMorphDesc = []\n",
    "for f in fold:\n",
    "    listTests = []\n",
    "    listMorphDesc = []\n",
    "    with open(f + '/' + fnTests, 'r') as csvTests, \\\n",
    "    open(f + '/' + fnMorphDesc, 'r') as csvMorphDesc:\n",
    "        dataTests = csv.reader(csvTests, delimiter=',', quotechar='\"')\n",
    "        for row in dataTests:\n",
    "            listTests.append(row[:]) # Last character is empty for some reason\n",
    "            \n",
    "        dataMorphDesc = csv.reader(csvMorphDesc, delimiter=',', quotechar='\"')\n",
    "        for row in dataMorphDesc:\n",
    "            listMorphDesc.append(row[:]) # Last character is empty for some reason\n",
    "    repTests.append(listTests)\n",
    "    repMorphDesc.append(listMorphDesc)"
   ]
  },
  {
   "cell_type": "code",
   "execution_count": 6,
   "metadata": {},
   "outputs": [
    {
     "name": "stdout",
     "output_type": "stream",
     "text": [
      "Replicates:  17 Evaluations:  30025 Features:  9 Generations:  750\n"
     ]
    }
   ],
   "source": [
    "population = 40\n",
    "replicates = len(repMorphDesc)\n",
    "evaluations = len(repMorphDesc[0])\n",
    "features = len(repMorphDesc[0][0])\n",
    "generations = int(evaluations / population)\n",
    "print(\"Replicates: \", replicates, \"Evaluations: \", evaluations, \"Features: \", features, \"Generations: \", generations)"
   ]
  },
  {
   "cell_type": "code",
   "execution_count": 7,
   "metadata": {},
   "outputs": [
    {
     "name": "stdout",
     "output_type": "stream",
     "text": [
      "Done!\n"
     ]
    }
   ],
   "source": [
    "counter = 0\n",
    "testCollectionList = []\n",
    "morphCollectionList = []\n",
    "#print(\"Initial size of table\",len(repMorphDesc[0]))\n",
    "for i in range(replicates):\n",
    "    testsTempList = []\n",
    "    morphTempList = []\n",
    "    for j in range(len(repMorphDesc[i])):\n",
    "        print(\"Folder: \", i, \" Progress: \", j/len(repMorphDesc[i]))\n",
    "        flag = 0\n",
    "        for k in range(j,len(repMorphDesc[i]),1):\n",
    "            #print(j,\" \",k)\n",
    "            if(j != k ):\n",
    "                if(repMorphDesc[i][j][1] == repMorphDesc[i][k][1] and \\\n",
    "                   repMorphDesc[i][j][2] == repMorphDesc[i][k][2] and \\\n",
    "                   repMorphDesc[i][j][3] == repMorphDesc[i][k][3] and \\\n",
    "                   repMorphDesc[i][j][4] == repMorphDesc[i][k][4] and \\\n",
    "                   repMorphDesc[i][j][5] == repMorphDesc[i][k][5] and \\\n",
    "                   repMorphDesc[i][j][6] == repMorphDesc[i][k][6] and \\\n",
    "                   repMorphDesc[i][j][7] == repMorphDesc[i][k][7]  \\\n",
    "                  ):\n",
    "                    counter = counter + 1\n",
    "                    flag = 1\n",
    "                    #print(\"Copy!\")\n",
    "                    break\n",
    "        if(flag == 0):\n",
    "            testsTempList.append(repTests[i][j])\n",
    "            morphTempList.append(repMorphDesc[i][j])\n",
    "        clear_output(wait=True)\n",
    "            \n",
    "    testCollectionList.append(testsTempList)\n",
    "    morphCollectionList.append(morphTempList)  \n",
    "print(\"Done!\")"
   ]
  },
  {
   "cell_type": "code",
   "execution_count": 8,
   "metadata": {},
   "outputs": [],
   "source": [
    "fileCounter = 0\n",
    "for f in fold:\n",
    "    with open(f + '/' + fnNoRepTests, 'w', newline='') as tests_write_obj, \\\n",
    "    open(f + '/' + fnNoRepMorphDesc, 'w', newline='') as desc_write_obj:\n",
    "        tests_csv_writer = csv.writer(tests_write_obj)\n",
    "        desc_csv_writer = csv.writer(desc_write_obj)\n",
    "        for i in range(len(testCollectionList[fileCounter])):\n",
    "            tests_csv_writer.writerow(testCollectionList[fileCounter][i])\n",
    "            desc_csv_writer.writerow(morphCollectionList[fileCounter][i])\n",
    "    fileCounter = fileCounter + 1"
   ]
  },
  {
   "cell_type": "code",
   "execution_count": null,
   "metadata": {},
   "outputs": [],
   "source": []
  }
 ],
 "metadata": {
  "kernelspec": {
   "display_name": "Python 3",
   "language": "python",
   "name": "python3"
  },
  "language_info": {
   "codemirror_mode": {
    "name": "ipython",
    "version": 3
   },
   "file_extension": ".py",
   "mimetype": "text/x-python",
   "name": "python",
   "nbconvert_exporter": "python",
   "pygments_lexer": "ipython3",
   "version": "3.6.9"
  }
 },
 "nbformat": 4,
 "nbformat_minor": 2
}
