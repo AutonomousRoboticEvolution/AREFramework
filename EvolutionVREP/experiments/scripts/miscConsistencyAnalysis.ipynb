{
 "cells": [
  {
   "cell_type": "code",
   "execution_count": 1,
   "metadata": {},
   "outputs": [],
   "source": [
    "# Load libraries\n",
    "import csv\n",
    "import matplotlib.pyplot as plt\n",
    "import statistics\n",
    "import numpy as np\n",
    "import os\n",
    "from scipy.stats import mannwhitneyu, ranksums, rankdata"
   ]
  },
  {
   "cell_type": "code",
   "execution_count": 2,
   "metadata": {},
   "outputs": [],
   "source": [
    "# Set filepath\n",
    "rep='/home/ebb505/ARE_Project/are-logs/constAnalysis/'\n",
    "repConstAnalysis='/home/ebb505/ARE_Project/are-logs/constAnalysis/'\n",
    "filename='noreptests.csv' \n",
    "oFn='dist'"
   ]
  },
  {
   "cell_type": "code",
   "execution_count": 3,
   "metadata": {},
   "outputs": [],
   "source": [
    "# Get all directories\n",
    "# foldBL = []\n",
    "# foldPN = []\n",
    "foldConstAnalysis = []\n",
    "# foldPGR = []\n",
    "# r=root, d=directories, f = files\n",
    "# for r, d, f in os.walk(repBL):\n",
    "#     for folder in d:\n",
    "#         foldBL.append(os.path.join(r, folder))\n",
    "# for r, d, f in os.walk(repPN):\n",
    "#     for folder in d:\n",
    "#         foldPN.append(os.path.join(r, folder))\n",
    "for r, d, f in os.walk(repConstAnalysis):\n",
    "    for folder in d:\n",
    "        foldConstAnalysis.append(os.path.join(r, folder))\n",
    "# for r, d, f in os.walk(repPGR):\n",
    "#     for folder in d:\n",
    "#         foldPGR.append(os.path.join(r, folder))"
   ]
  },
  {
   "cell_type": "code",
   "execution_count": 4,
   "metadata": {},
   "outputs": [
    {
     "name": "stdout",
     "output_type": "stream",
     "text": [
      "ConstAnalysis =  35\n"
     ]
    }
   ],
   "source": [
    "print(\"ConstAnalysis = \", len(foldConstAnalysis))"
   ]
  },
  {
   "cell_type": "code",
   "execution_count": 5,
   "metadata": {},
   "outputs": [],
   "source": [
    "repConstAnalysis = []\n",
    "for f in foldConstAnalysis:\n",
    "    my_list = []\n",
    "    with open(f + '/' + filename, 'r') as csvfile:\n",
    "        data = csv.reader(csvfile, delimiter=',', quotechar='\"')\n",
    "        for row in data:\n",
    "            my_list.append(row[:-1]) \n",
    "    repConstAnalysis.append(my_list)"
   ]
  },
  {
   "cell_type": "code",
   "execution_count": 6,
   "metadata": {},
   "outputs": [
    {
     "name": "stdout",
     "output_type": "stream",
     "text": [
      "Replicates:  20 Evaluations:  20000 Features:  4 Generations:  500\n"
     ]
    }
   ],
   "source": [
    "population = 40\n",
    "#replicates = len(repGR)\n",
    "replicates = 20\n",
    "#evaluations = len(repBL[0])\n",
    "evaluations = 20000\n",
    "features = len(repConstAnalysis[0][0])\n",
    "generations = int(evaluations / population)\n",
    "print(\"Replicates: \", replicates, \"Evaluations: \", evaluations, \"Features: \", features, \"Generations: \", generations)"
   ]
  },
  {
   "cell_type": "code",
   "execution_count": 7,
   "metadata": {},
   "outputs": [
    {
     "name": "stdout",
     "output_type": "stream",
     "text": [
      "0\n",
      "1\n",
      "2\n",
      "3\n",
      "4\n",
      "5\n",
      "6\n",
      "7\n",
      "8\n",
      "9\n",
      "10\n",
      "11\n",
      "12\n",
      "13\n",
      "14\n",
      "15\n",
      "16\n",
      "17\n",
      "18\n",
      "19\n",
      "Done!\n",
      "[0.008610864885399519, 0.0006365372374283895, 0.011904761904761904, 0.01906614785992218, 0.009786651008025053, 0.003443081557994405, 0.0005598712296171881, 0.0031887755102040817, 0.0055248618784530384, 0.01339469707377387, 0.004323840763381542, 0.012913931173796984, 0.014737598849748382, 0.01076313625831527, 0.024759100642398287, 0.003155656170679838, 0.006277792309704421, 0.0009925937237535314, 0.007751937984496124, 0.010379638845442912]\n"
     ]
    }
   ],
   "source": [
    "sumRepConstAnalysis = []\n",
    "for i in range(replicates):\n",
    "    dat = np.array([[float(y) for y in x] for x in repConstAnalysis[i]]) # Convert to array\n",
    "    counter = 0\n",
    "    for j in range(len(repConstAnalysis[i])):\n",
    "        if(dat[j,1] > 0 \\\n",
    "           and dat[j,2] > 0 \\\n",
    "           and dat[j,3] > 0 \\\n",
    "          ):\n",
    "            counter = counter + 1\n",
    "    sumRepConstAnalysis.append(counter/len(repConstAnalysis[i]))\n",
    "    print(i)\n",
    "print(\"Done!\")\n",
    "print(sumRepConstAnalysis)"
   ]
  },
  {
   "cell_type": "code",
   "execution_count": 17,
   "metadata": {},
   "outputs": [],
   "source": [
    "sampleSizes = [3,6,11]\n",
    "allDist = []\n",
    "# For each sample size\n",
    "for i in range(len(sampleSizes)):\n",
    "    sampDis = []\n",
    "    # For each distribution\n",
    "    for j in range(3):\n",
    "        tempDist = []\n",
    "        for k in range(sampleSizes[i]):\n",
    "            #print(k)\n",
    "            tempDist.append(sumRepConstAnalysis[k+j])  \n",
    "            #print(sumRepGR[k*j])\n",
    "        sampDis.append(tempDist)\n",
    "    allDist.append(sampDis)"
   ]
  },
  {
   "cell_type": "code",
   "execution_count": 18,
   "metadata": {},
   "outputs": [
    {
     "name": "stdout",
     "output_type": "stream",
     "text": [
      "3\n",
      "3\n",
      "6\n",
      "6\n"
     ]
    }
   ],
   "source": [
    "print(len(allDist))\n",
    "print(len(allDist[0]))\n",
    "print(len(allDist[1][0]))\n",
    "print(len(allDist[1][1]))"
   ]
  },
  {
   "cell_type": "code",
   "execution_count": 19,
   "metadata": {},
   "outputs": [
    {
     "data": {
      "image/png": "[encoded data removed]",
      "text/plain": [
       "<Figure size 432x288 with 1 Axes>"
      ]
     },
     "metadata": {},
     "output_type": "display_data"
    },
    {
     "data": {
      "image/png": "[encoded data removed]",
      "text/plain": [
       "<Figure size 432x288 with 1 Axes>"
      ]
     },
     "metadata": {},
     "output_type": "display_data"
    },
    {
     "data": {
      "image/png": "[encoded data removed]",
      "text/plain": [
       "<Figure size 432x288 with 1 Axes>"
      ]
     },
     "metadata": {},
     "output_type": "display_data"
    }
   ],
   "source": [
    "# Plot stuff\n",
    "font = {'weight' : 'normal',\n",
    "        'size'   : 14.0}\n",
    "plt.rc('font', **font)\n",
    "\n",
    "for i in range(len(sampleSizes)):\n",
    "    plt.figure(i)\n",
    "    # Plot box plot stuff\n",
    "    plt.boxplot([allDist[i][0], allDist[i][1], allDist[i][2]])\n",
    "    #Label and stuff\n",
    "    axes = plt.gca()\n",
    "    axes.set_ylim([0.0,0.02])\n",
    "    plt.ylabel('Distributions')\n",
    "    plt.ylabel('Unique robots ratio')\n",
    "    plt.title(\"Samples: \" + str(sampleSizes[i]))\n",
    "    rangeX = [1,2,3]\n",
    "    posX = [1,2,3]\n",
    "    plt.xticks(posX,rangeX)\n",
    "    plt.savefig(rep+oFn+str(i)+'.png', dpi=200)"
   ]
  },
  {
   "cell_type": "code",
   "execution_count": 23,
   "metadata": {},
   "outputs": [
    {
     "name": "stdout",
     "output_type": "stream",
     "text": [
      "0.5\n"
     ]
    }
   ],
   "source": [
    "statTable = []\n",
    "for i in range(len(sampleSizes)):\n",
    "    statSample = []\n",
    "    for j in range(len(sampleSizes)):\n",
    "        statDist = []\n",
    "        for k in range(len(sampleSizes)):\n",
    "            if(j!=k):\n",
    "                stat, p = mannwhitneyu(allDist[i][j], allDist[i][k])\n",
    "                statDist.append(p)\n",
    "            else:\n",
    "                statDist.append(0)\n",
    "        #print(np.max(statDist))\n",
    "        statSample.append(statDist)\n",
    "    statTable.append(statSample)\n",
    "#print(statTable)\n",
    "print(statTable[0][1][2])"
   ]
  },
  {
   "cell_type": "code",
   "execution_count": 12,
   "metadata": {},
   "outputs": [
    {
     "data": {
      "image/png": "[encoded data removed]",
      "text/plain": [
       "<Figure size 432x288 with 1 Axes>"
      ]
     },
     "metadata": {},
     "output_type": "display_data"
    }
   ],
   "source": [
    "# Plot stuff\n",
    "font = {'weight' : 'normal',\n",
    "        'size'   : 14.0}\n",
    "plt.rc('font', **font)\n",
    "for i in range(len(sampleSizes)):\n",
    "    #plt.figure(i)\n",
    "    # Plot box plot stuff\n",
    "    plt.plot([statTable[i][1][0], statTable[i][1][1], statTable[i][1][2]])\n",
    "    #Label and stuff\n",
    "    axes = plt.gca()\n",
    "    axes.set_ylim([0.0,1.0])\n",
    "    plt.ylabel('Distributions')\n",
    "    plt.ylabel('Unique robots ratio')\n",
    "    plt.title(\"Samples: \" + str(sampleSizes[i]))\n",
    "    rangeX = [1,2,3]\n",
    "    posX = [1,2,3]\n",
    "    plt.xticks(posX,rangeX)\n",
    "    plt.savefig(rep+oFn+str(i)+'.png', dpi=200)"
   ]
  },
  {
   "cell_type": "code",
   "execution_count": 26,
   "metadata": {},
   "outputs": [
    {
     "name": "stdout",
     "output_type": "stream",
     "text": [
      "[['-', 0.6849069474372378, 0.7469239020571795], ['-', '-', 0.7286836212866085], ['-', '-', '-']]\n"
     ]
    }
   ],
   "source": [
    "size = len(sampleSizes)\n",
    "table = [[\"-\" for k in range(size)] for k in range(size)]\n",
    "for i in range(size):\n",
    "        for j in range(size):\n",
    "            if i > j:\n",
    "                w,p = ranksums(allDist[0][i],allDist[0][j])\n",
    "                #p = round_to_n(p,2)\n",
    "                table[i][j] = '-'\n",
    "#                 A = -((R_x/size) - (size+1)/2)/size\n",
    "#                 table[i][j] = A\n",
    "            elif i < j:\n",
    "                R_x,p = ranksums(allDist[2][i],allDist[2][j])\n",
    "                A = -((R_x/size) - (size+1)/2)/size\n",
    "                #A = round_to_n(A,3)\n",
    "                table[i][j] = A\n",
    "print(table)"
   ]
  },
  {
   "cell_type": "code",
   "execution_count": null,
   "metadata": {},
   "outputs": [],
   "source": []
  },
  {
   "cell_type": "code",
   "execution_count": null,
   "metadata": {},
   "outputs": [],
   "source": []
  },
  {
   "cell_type": "code",
   "execution_count": null,
   "metadata": {},
   "outputs": [],
   "source": []
  }
 ],
 "metadata": {
  "kernelspec": {
   "display_name": "Python 3",
   "language": "python",
   "name": "python3"
  },
  "language_info": {
   "codemirror_mode": {
    "name": "ipython",
    "version": 3
   },
   "file_extension": ".py",
   "mimetype": "text/x-python",
   "name": "python",
   "nbconvert_exporter": "python",
   "pygments_lexer": "ipython3",
   "version": "3.6.9"
  }
 },
 "nbformat": 4,
 "nbformat_minor": 2
}
