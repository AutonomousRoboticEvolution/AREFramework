{
 "cells": [
  {
   "cell_type": "code",
   "execution_count": 26,
   "metadata": {},
   "outputs": [],
   "source": [
    "# Load libraries\n",
    "import csv\n",
    "import matplotlib.pyplot as plt\n",
    "import statistics\n",
    "import numpy as np\n",
    "import os\n",
    "from IPython.display import clear_output\n",
    "import pandas as pd"
   ]
  },
  {
   "cell_type": "code",
   "execution_count": 27,
   "metadata": {},
   "outputs": [
    {
     "name": "stdout",
     "output_type": "stream",
     "text": [
      "Filepath: /home/ebb505/ARE_Project/are-logs/temp_1021/\n"
     ]
    }
   ],
   "source": [
    "# Set filepath\n",
    "CONTROLLERREPOSITORY='/home/ebb505/ARE_Project/are-logs/SegmentedRobots/'\n",
    "MORPHOLOGYREPOSITORY='/home/ebb505/ARE_Project/are-logs/EvTraitMiddle/'\n",
    "IFILEFITNESSES='fitnesses.csv'\n",
    "IFILEDESCRIPTORS='MD_Cart_WDH.csv'\n",
    "IFILEROBOTLIST='CLRNrobotList.csv'\n",
    "OFILE='robotsTarget.csv'\n",
    "print('Filepath: ' + CONTROLLERREPOSITORY)"
   ]
  },
  {
   "cell_type": "code",
   "execution_count": 28,
   "metadata": {},
   "outputs": [
    {
     "name": "stdout",
     "output_type": "stream",
     "text": [
      "Folders:  14\n",
      "Folders:  16\n",
      "['/home/ebb505/ARE_Project/are-logs/temp_1021/morphoneuro_21_9_10-1-23-3160-1073099662', '/home/ebb505/ARE_Project/are-logs/temp_1021/morphoneuro_21_9_10-1-23-3160-1213294861', '/home/ebb505/ARE_Project/are-logs/temp_1021/morphoneuro_21_9_10-1-23-3160-1804481644', '/home/ebb505/ARE_Project/are-logs/temp_1021/morphoneuro_21_9_10-1-23-3160-191566266', '/home/ebb505/ARE_Project/are-logs/temp_1021/morphoneuro_21_9_10-1-23-3160-1952940632', '/home/ebb505/ARE_Project/are-logs/temp_1021/morphoneuro_21_9_10-1-23-3160-2435118438', '/home/ebb505/ARE_Project/are-logs/temp_1021/morphoneuro_21_9_10-1-23-3160-2487226072', '/home/ebb505/ARE_Project/are-logs/temp_1021/morphoneuro_21_9_10-1-23-3160-262715317', '/home/ebb505/ARE_Project/are-logs/temp_1021/morphoneuro_21_9_10-1-23-3160-340080146', '/home/ebb505/ARE_Project/are-logs/temp_1021/morphoneuro_21_9_10-1-23-3161-1042129579', '/home/ebb505/ARE_Project/are-logs/temp_1021/morphoneuro_21_9_10-1-23-3161-4197681051', '/home/ebb505/ARE_Project/are-logs/temp_1021/morphoneuro_21_9_10-1-23-3163-477887296', '/home/ebb505/ARE_Project/are-logs/temp_1021/morphoneuro_21_9_10-1-23-3176-4172644442', '/home/ebb505/ARE_Project/are-logs/temp_1021/morphoneuro_21_9_10-1-25-5360-1682095317']\n",
      "['/home/ebb505/ARE_Project/are-logs/EvTraitMiddle/A', '/home/ebb505/ARE_Project/are-logs/EvTraitMiddle/B', '/home/ebb505/ARE_Project/are-logs/EvTraitMiddle/C', '/home/ebb505/ARE_Project/are-logs/EvTraitMiddle/D', '/home/ebb505/ARE_Project/are-logs/EvTraitMiddle/E', '/home/ebb505/ARE_Project/are-logs/EvTraitMiddle/F', '/home/ebb505/ARE_Project/are-logs/EvTraitMiddle/G', '/home/ebb505/ARE_Project/are-logs/EvTraitMiddle/H', '/home/ebb505/ARE_Project/are-logs/EvTraitMiddle/I', '/home/ebb505/ARE_Project/are-logs/EvTraitMiddle/K', '/home/ebb505/ARE_Project/are-logs/EvTraitMiddle/L', '/home/ebb505/ARE_Project/are-logs/EvTraitMiddle/M', '/home/ebb505/ARE_Project/are-logs/EvTraitMiddle/N', '/home/ebb505/ARE_Project/are-logs/EvTraitMiddle/P', '/home/ebb505/ARE_Project/are-logs/EvTraitMiddle/R', '/home/ebb505/ARE_Project/are-logs/EvTraitMiddle/S']\n"
     ]
    }
   ],
   "source": [
    "# Get all directories\n",
    "controllers_folders = []\n",
    "# r=root, d=directories, f = files\n",
    "for r, d, f in os.walk(CONTROLLERREPOSITORY):\n",
    "    for folder in d:\n",
    "        controllers_folders.append(os.path.join(r, folder))\n",
    "        #print(folder)\n",
    "print(\"Folders: \", len(controllers_folders))\n",
    "controllers_folders.sort()\n",
    "#print(controllers_folders)\n",
    "morphologies_folders = []\n",
    "# r=root, d=directories, f = files\n",
    "for r, d, f in os.walk(MORPHOLOGYREPOSITORY):\n",
    "    for folder in d:\n",
    "        morphologies_folders.append(os.path.join(r, folder))\n",
    "        #print(folder)\n",
    "print(\"Folders: \", len(morphologies_folders))\n",
    "morphologies_folders.sort()\n",
    "print(controllers_folders)\n",
    "print(morphologies_folders)"
   ]
  },
  {
   "cell_type": "code",
   "execution_count": 29,
   "metadata": {},
   "outputs": [],
   "source": [
    "# Get fitness data\n",
    "my_fitnesses = []\n",
    "for f in controllers_folders:\n",
    "    my_list = []\n",
    "    with open(f + '/' + IFILEFITNESSES, 'r') as csvfile:\n",
    "        data = csv.reader(csvfile, delimiter=',', quotechar='\"')\n",
    "        for row in data:\n",
    "            my_list.append(row[3:-1]) # Last character is empty for some reason\n",
    "    my_fitnesses.append(my_list)\n",
    "# Descriptors\n",
    "my_descriptors = []\n",
    "for f in morphologies_folders:\n",
    "    my_list = []\n",
    "    with open(f + '/' + IFILEDESCRIPTORS, 'r') as csvfile:\n",
    "        data = csv.reader(csvfile, delimiter=',', quotechar='\"')\n",
    "        for row in data:\n",
    "            my_list.append(row[:-1]) # Last character is empty for some reason\n",
    "    my_descriptors.append(my_list)\n",
    "# Robot list\n",
    "my_robotList = []\n",
    "for f in morphologies_folders:\n",
    "    my_list = []\n",
    "    with open(f + '/' + IFILEROBOTLIST, 'r') as csvfile:\n",
    "        data = csv.reader(csvfile, delimiter=',', quotechar='\"')\n",
    "        for row in data:\n",
    "            my_list.append(row[0]) # Last character is empty for some reason\n",
    "    my_robotList.append(my_list)"
   ]
  },
  {
   "cell_type": "code",
   "execution_count": 30,
   "metadata": {},
   "outputs": [
    {
     "name": "stdout",
     "output_type": "stream",
     "text": [
      "Ctrl rep:  14 Generations:  1 Population:  10000\n",
      "Morph rep:  14\n"
     ]
    }
   ],
   "source": [
    "# Estimate data and set parameters\n",
    "#CTRLREP = len(my_fitnesses)\n",
    "CTRLREP = 14\n",
    "GENERATIONS = len(my_fitnesses[0])\n",
    "CTRLEVALUATIONS = len(my_fitnesses[0][0])\n",
    "CTRLEVAL = 100\n",
    "print(\"Ctrl rep: \", CTRLREP, \"Generations: \", GENERATIONS, \"Population: \", CTRLEVALUATIONS)\n",
    "MORPHREP = 14\n",
    "#MORPHREP = len(my_descriptors)\n",
    "MORPHEVALUATIONS = 30000\n",
    "print(\"Morph rep: \", MORPHREP)"
   ]
  },
  {
   "cell_type": "code",
   "execution_count": 31,
   "metadata": {},
   "outputs": [
    {
     "name": "stdout",
     "output_type": "stream",
     "text": [
      "Done!\n",
      "Done!\n",
      "Done!\n"
     ]
    }
   ],
   "source": [
    "# Process data - fitnesses\n",
    "rep_fitnesses = []\n",
    "for rep in range(CTRLREP):\n",
    "    tempDat = []\n",
    "    tempDat = np.array([[float(y) for y in x] for x in my_fitnesses[rep]]) # Convert to array\n",
    "    rep_fitnesses.append(tempDat)\n",
    "print(\"Done!\")\n",
    "# Process data - descritors\n",
    "rep_descriptors = []\n",
    "for rep in range(MORPHREP):\n",
    "    tempDat = []\n",
    "    tempDat = np.array([[float(y) for y in x] for x in my_descriptors[rep]]) # Convert to array\n",
    "    rep_descriptors.append(tempDat)\n",
    "print(\"Done!\")\n",
    "# Process data - robot list\n",
    "rep_robotlist = []\n",
    "for rep in range(MORPHREP):\n",
    "    tempDat = []\n",
    "    tempDat = np.array([int(y) for y in my_robotList[rep]]) # Convert to array\n",
    "    rep_robotlist.append(tempDat)\n",
    "print(\"Done!\")"
   ]
  },
  {
   "cell_type": "code",
   "execution_count": 32,
   "metadata": {},
   "outputs": [],
   "source": [
    "# Extract fitnesses\n",
    "dat_fitnesses =[]\n",
    "for rep in range(CTRLREP):\n",
    "    tempData =[]\n",
    "    for i in range(int(CTRLEVALUATIONS/CTRLEVAL)):\n",
    "        tempData.append(rep_fitnesses[rep][0][(i*CTRLEVAL):(i*CTRLEVAL)+CTRLEVAL])  \n",
    "    dat_fitnesses.append(tempData)"
   ]
  },
  {
   "cell_type": "code",
   "execution_count": 33,
   "metadata": {},
   "outputs": [],
   "source": [
    "# Extraxt max, median, mean\n",
    "rep_max = []\n",
    "for rep in range(CTRLREP):\n",
    "    tempData =[]\n",
    "    for i in range(int(CTRLEVALUATIONS/CTRLEVAL)):\n",
    "        tempData.append(np.max(dat_fitnesses[rep][i]))\n",
    "    rep_max.append(tempData)"
   ]
  },
  {
   "cell_type": "code",
   "execution_count": 34,
   "metadata": {},
   "outputs": [
    {
     "name": "stdout",
     "output_type": "stream",
     "text": [
      "0.0   0.25753937681885636\n",
      "0.0   0.25753937681885636\n",
      "0.0   0.34992710611188266\n",
      "3.5   0.9715336077668174\n"
     ]
    }
   ],
   "source": [
    "# Extraxt max, median, mean\n",
    "# .95\n",
    "# .91 - 0.25m\n",
    "# 0.82 - 0.50m\n",
    "# 0.735 - 0.75\n",
    "rep_zerothreshold = []\n",
    "rep_firstthreshold = []\n",
    "rep_secondthreshold = []\n",
    "rep_thirdthreshold = []\n",
    "for rep in range(CTRLREP):\n",
    "    temp = np.array([float(y) for y in rep_max[rep]])\n",
    "    rep_zerothreshold.append(len(temp[temp>0.91]))\n",
    "    rep_firstthreshold.append(len(temp[temp>0.91]))\n",
    "    rep_secondthreshold.append(len(temp[temp>0.82]))\n",
    "    rep_thirdthreshold.append(len(temp[temp>0.735]))\n",
    "print(np.median(rep_zerothreshold), \" \", np.std(rep_zerothreshold))\n",
    "print(np.median(rep_firstthreshold), \" \", np.std(rep_firstthreshold))\n",
    "print(np.median(rep_secondthreshold), \" \", np.std(rep_secondthreshold))\n",
    "print(np.median(rep_thirdthreshold), \" \", np.std(rep_thirdthreshold))"
   ]
  },
  {
   "cell_type": "code",
   "execution_count": 10,
   "metadata": {},
   "outputs": [
    {
     "data": {
      "image/png": "[encoded data removed]",
      "text/plain": [
       "<Figure size 432x288 with 1 Axes>"
      ]
     },
     "metadata": {},
     "output_type": "display_data"
    }
   ],
   "source": [
    "font = {'weight' : 'normal',\n",
    "            'size'   : 14.0}\n",
    "plt.rc('font', **font)\n",
    "plt.figure(0)\n",
    "\n",
    "plt.boxplot([rep_firstthreshold,rep_secondthreshold,rep_thirdthreshold])\n",
    "plt.xlabel('Distance from target (m)')\n",
    "plt.ylabel('Number of robots')\n",
    "plt.xticks([1, 2, 3], ['0.25', '0.50', '0.75'])\n",
    "plt.savefig(CONTROLLERREPOSITORY+'boxplot.png',dpi=200, bbox_inches='tight')"
   ]
  },
  {
   "cell_type": "code",
   "execution_count": 11,
   "metadata": {},
   "outputs": [],
   "source": [
    "# Plot max robots\n",
    "for rep in range(CTRLREP):\n",
    "    font = {'weight' : 'normal',\n",
    "            'size'   : 14.0}\n",
    "    plt.rc('font', **font)\n",
    "    plt.figure(0)\n",
    "    plt.title('Empty room')\n",
    "    plt.xlabel('Robots in the population')\n",
    "    plt.ylabel('Distance (m)')\n",
    "    plt.plot(rep_max[rep],'k.')\n",
    "    #plt.plot(robotMax,'k.', markersize=8)\n",
    "    plt.text(50, 0.92, '0.25', fontsize=12, horizontalalignment='center')\n",
    "    plt.plot([0,100],[0.91,0.91],'k--')\n",
    "    plt.text(50, 0.83, '0.50', fontsize=12, horizontalalignment='center')\n",
    "    plt.plot([0,100],[0.82,0.82],'k--')\n",
    "    plt.text(50, 0.74, '0.75', fontsize=12, horizontalalignment='center')\n",
    "    plt.plot([0,100],[0.735,0.735],'k--')\n",
    "    # Escape room and empty room\n",
    "    plt.text(50, 0.65, 'Starting Position', fontsize=12, horizontalalignment='center')\n",
    "    plt.plot([0,100],[0.69,0.69],'k--')\n",
    "    # Middle wall\n",
    "#     plt.text(50, 0.62, 'Starting Position', fontsize=12, horizontalalignment='center')\n",
    "#     plt.plot([0,100],[0.65,0.65],'k--')\n",
    "   \n",
    "    plt.ylim([0.6, 1.0])\n",
    "    #plt.yticks([0.4, 0.6, 0.8, 1.0], ['1.1', '1.7', '2.2', '2.83'])\n",
    "    plt.yticks([0.6, 0.8, 1.0], ['1.1', '0.6', '0.0'])\n",
    "    plt.xticks([1, 20, 40, 60, 80, 100], ['1st','20th', '40th', '60th', '80th', '100th'])\n",
    "    plt.savefig(controllers_folders[rep]+'/bootstrapViability.png',dpi=200, bbox_inches='tight')\n",
    "    plt.close()"
   ]
  },
  {
   "cell_type": "code",
   "execution_count": 12,
   "metadata": {},
   "outputs": [],
   "source": [
    "# Get robots \n",
    "rep_max_list = []\n",
    "for rep in range(CTRLREP):\n",
    "    robotMaxArray = np.array([float(y) for y in rep_max[rep]])\n",
    "    temp = robotMaxArray>0.735\n",
    "    robotsPassing = []\n",
    "    for i in range(len(rep_max[rep])):\n",
    "        if(temp[i]):\n",
    "            robotsPassing.append(i)\n",
    "    rep_max_list.append(robotsPassing)\n",
    "#print(rep_max_list)"
   ]
  },
  {
   "cell_type": "code",
   "execution_count": 13,
   "metadata": {},
   "outputs": [],
   "source": [
    "# NOTE! CHECK THE ORDER OF DIRECTORIES\n",
    "rep_robotsOrgans = []\n",
    "for rep in range(CTRLREP):\n",
    "    robotsOrgans = []\n",
    "    for i in range(len(rep_max_list[rep])):\n",
    "        temp = []\n",
    "        temp.append(rep_descriptors[rep][rep_robotlist[rep][rep_max_list[rep][i]],5] * 10 / 2)\n",
    "        temp.append(rep_descriptors[rep][rep_robotlist[rep][rep_max_list[rep][i]],6] * 10 / 2)\n",
    "        temp.append(rep_descriptors[rep][rep_robotlist[rep][rep_max_list[rep][i]],7] * 10 / 2)\n",
    "        temp.append(rep_descriptors[rep][rep_robotlist[rep][rep_max_list[rep][i]],8] * 10 / 2)\n",
    "        robotsOrgans.append(temp)\n",
    "    #print(robotsOrgans)\n",
    "    tempWheels = np.zeros(5)\n",
    "    tempSensors = np.zeros(5)\n",
    "    tempJoints = np.zeros(5)\n",
    "    tempCaster = np.zeros(5)\n",
    "    for i in range(len(rep_max_list[rep])):\n",
    "        for j in range(5):\n",
    "            if(robotsOrgans[i][0] == j):\n",
    "                tempWheels[j] = tempWheels[j] + 1\n",
    "            if(robotsOrgans[i][1] == j):\n",
    "                tempSensors[j] = tempSensors[j] + 1\n",
    "            if(robotsOrgans[i][2] == j):\n",
    "                tempJoints[j] = tempJoints[j] + 1\n",
    "            if(robotsOrgans[i][3] == j):\n",
    "                tempCaster[j] = tempCaster[j] + 1\n",
    "    rep_robotsOrgans.append(tempWheels)"
   ]
  },
  {
   "cell_type": "code",
   "execution_count": 14,
   "metadata": {},
   "outputs": [
    {
     "name": "stdout",
     "output_type": "stream",
     "text": [
      "[array([ 0., 10.,  1.,  0.,  0.]), array([2., 9., 1., 0., 0.]), array([ 0., 14.,  1.,  1.,  0.]), array([0., 6., 0., 0., 0.]), array([0., 0., 1., 0., 0.]), array([ 0., 11.,  2.,  1.,  0.]), array([1., 8., 2., 0., 0.]), array([ 1., 14.,  2.,  0.,  0.]), array([0., 5., 0., 0., 0.]), array([0., 5., 1., 0., 0.]), array([1., 5., 3., 0., 0.]), array([0., 9., 4., 0., 0.]), array([1., 4., 0., 0., 0.]), array([ 1., 11.,  2.,  0.,  0.]), array([ 0., 17.,  0.,  0.,  0.])]\n"
     ]
    }
   ],
   "source": [
    "print(rep_robotsOrgans)"
   ]
  },
  {
   "cell_type": "code",
   "execution_count": 15,
   "metadata": {},
   "outputs": [],
   "source": [
    "# Plot histograms\n",
    "# https://numpy.org/doc/stable/reference/generated/numpy.histogram2d.html\n",
    "for rep in range(CTRLREP):\n",
    "    font = {'weight' : 'normal',\n",
    "            'size'   : 14.0}\n",
    "    plt.rc('font', **font)\n",
    "    plt.figure(0)\n",
    "    \n",
    "    xedges = [0, 0.2, 0.4, 0.6, 0.8, 1.0]\n",
    "    yedges = [0, 0.2, 0.4, 0.6, 0.8, 1.0]\n",
    "\n",
    "    x = rep_descriptors[rep][rep_robotlist[rep][rep_max_list[rep]],5]\n",
    "    y = rep_descriptors[rep][rep_robotlist[rep][rep_max_list[rep]],7]\n",
    "\n",
    "    H, xedges, yedges = np.histogram2d(x, y, bins=(xedges, yedges))\n",
    "    H = H.T  # Let each row list bins with common y range.\n",
    "\n",
    "    plt.imshow(H, interpolation='nearest', origin='lower',extent=[xedges[0], xedges[-1], yedges[0], yedges[-1]], cmap='cubehelix')\n",
    "    plt.colorbar(label='Robots')\n",
    "    X, Y = np.meshgrid(xedges, yedges)\n",
    "\n",
    "\n",
    "    plt.colorbar()\n",
    "\n",
    "    plt.xlabel('Wheels')\n",
    "    plt.ylabel('Joints')\n",
    "    plt.title('Empty room - No tiles - 0.75m ')\n",
    "    plt.yticks([0.1, 0.3, 0.5, 0.7, 0.9], ['0', '1', '2', '3', '4'])\n",
    "    plt.xticks([0.1, 0.3, 0.5, 0.7, 0.9], ['0', '1', '2', '3', '4'])\n",
    "    plt.savefig(controllers_folders[rep]+'/histogram75.png',dpi=200, bbox_inches='tight')\n",
    "    \n",
    "    plt.close()"
   ]
  },
  {
   "cell_type": "code",
   "execution_count": 20,
   "metadata": {},
   "outputs": [],
   "source": [
    "# Get robots \n",
    "# .91 - 0.25m\n",
    "# 0.82 - 0.50m\n",
    "# 0.735 - 0.75\n",
    "rep_max_wheels = []\n",
    "rep_max_joints = []\n",
    "for rep in range(CTRLREP):\n",
    "    robotMaxArray = np.array([float(y) for y in rep_max[rep]])\n",
    "    temp = robotMaxArray>0.95\n",
    "    robotsPassing = []\n",
    "    for i in range(len(rep_max[rep])):\n",
    "        if(temp[i]):\n",
    "            robotsPassing.append(i)\n",
    "            rep_max_wheels.append(rep_descriptors[rep][rep_robotlist[rep][i],5])\n",
    "            rep_max_joints.append(rep_descriptors[rep][rep_robotlist[rep][i],7])"
   ]
  },
  {
   "cell_type": "code",
   "execution_count": 21,
   "metadata": {},
   "outputs": [],
   "source": [
    "font = {'weight' : 'normal',\n",
    "            'size'   : 14.0}\n",
    "plt.rc('font', **font)\n",
    "plt.figure(0)\n",
    "\n",
    "xedges = [0, 0.2, 0.4, 0.6, 0.8, 1.0]\n",
    "yedges = [0, 0.2, 0.4, 0.6, 0.8, 1.0]\n",
    "\n",
    "x = rep_max_wheels\n",
    "y = rep_max_joints\n",
    "\n",
    "H, xedges, yedges = np.histogram2d(x, y, bins=(xedges, yedges))\n",
    "H = H.T  # Let each row list bins with common y range.\n",
    "\n",
    "for i in range(len(H)):\n",
    "    for j in range(len(H[i])):\n",
    "        if(H[i,j] > np.max(H)/5):\n",
    "            plt.text(j/10*2+0.1, i/10*2+0.1, str(int(H[i,j])), fontsize=20, horizontalalignment='center').set_color('White')\n",
    "        else:\n",
    "            plt.text(j/10*2+0.1, i/10*2+0.1, str(int(H[i,j])), fontsize=20, horizontalalignment='center').set_color('Black')\n",
    "                \n",
    "\n",
    "plt.imshow(H, interpolation='nearest', origin='lower',extent=[xedges[0], xedges[-1], yedges[0], yedges[-1]], cmap='Greys')\n",
    "plt.colorbar(label='Robots')\n",
    "X, Y = np.meshgrid(xedges, yedges)\n",
    "\n",
    "\n",
    "plt.xlabel('Wheels')\n",
    "plt.ylabel('Joints')\n",
    "#plt.title('Empty arena - 0.12m ')\n",
    "#plt.title('Escape room - 0.50m ')\n",
    "plt.title('Middle wall - 0.12m ')\n",
    "#plt.title('All robots')\n",
    "plt.yticks([0.1, 0.3, 0.5, 0.7, 0.9], ['0', '1', '2', '3', '4'])\n",
    "plt.xticks([0.1, 0.3, 0.5, 0.7, 0.9], ['0', '1', '2', '3', '4'])\n",
    "plt.savefig(CONTROLLERREPOSITORY+'wheels12Middle.png',dpi=200, bbox_inches='tight')\n",
    "\n",
    "plt.close()"
   ]
  },
  {
   "cell_type": "code",
   "execution_count": 29,
   "metadata": {},
   "outputs": [
    {
     "name": "stderr",
     "output_type": "stream",
     "text": [
      "                                                          "
     ]
    },
    {
     "name": "stdout",
     "output_type": "stream",
     "text": [
      "Moviepy - Building video /home/ebb505/ARE_Project/are-logs/temp_1012/frameWheels.mp4.\n",
      "Moviepy - Writing video /home/ebb505/ARE_Project/are-logs/temp_1012/frameWheels.mp4\n",
      "\n",
      "Moviepy - Done !\n",
      "Moviepy - video ready /home/ebb505/ARE_Project/are-logs/temp_1012/frameWheels.mp4\n"
     ]
    },
    {
     "name": "stderr",
     "output_type": "stream",
     "text": [
      "\r"
     ]
    }
   ],
   "source": [
    "# Get robots \n",
    "import imageio\n",
    "import moviepy.editor as mp\n",
    "images = []\n",
    "for fr in range(60,100,5):\n",
    "    rep_max_wheels = []\n",
    "    rep_max_joints = []\n",
    "    for rep in range(CTRLREP):\n",
    "        robotMaxArray = np.array([float(y) for y in rep_max[rep]])\n",
    "        temp = robotMaxArray>(fr/100)\n",
    "        robotsPassing = []\n",
    "        for i in range(len(rep_max[rep])):\n",
    "            if(temp[i]):\n",
    "                robotsPassing.append(i)\n",
    "                rep_max_wheels.append(rep_descriptors[rep][rep_robotlist[rep][i],5])\n",
    "                rep_max_joints.append(rep_descriptors[rep][rep_robotlist[rep][i],7])\n",
    "    font = {'weight' : 'normal',\n",
    "                'size'   : 14.0}\n",
    "    plt.rc('font', **font)\n",
    "    plt.figure(0)\n",
    "\n",
    "    xedges = [0, 0.2, 0.4, 0.6, 0.8, 1.0]\n",
    "    yedges = [0, 0.2, 0.4, 0.6, 0.8, 1.0]\n",
    "\n",
    "    x = rep_max_wheels\n",
    "    y = rep_max_joints\n",
    "\n",
    "    H, xedges, yedges = np.histogram2d(x, y, bins=(xedges, yedges))\n",
    "    H = H.T  # Let each row list bins with common y range.\n",
    "    \n",
    "    for i in range(len(H)):\n",
    "        for j in range(len(H[i])):\n",
    "            if(H[i,j] > np.max(H)/5):\n",
    "                plt.text(j/10*2+0.1, i/10*2+0.1, str(int(H[i,j])), fontsize=20, horizontalalignment='center').set_color('White')\n",
    "            else:\n",
    "                plt.text(j/10*2+0.1, i/10*2+0.1, str(int(H[i,j])), fontsize=20, horizontalalignment='center').set_color('Black')\n",
    "\n",
    "    plt.imshow(H, interpolation='nearest', origin='lower',extent=[xedges[0], xedges[-1], yedges[0], yedges[-1]], cmap='Greys')\n",
    "    plt.colorbar(label='Robots')\n",
    "    X, Y = np.meshgrid(xedges, yedges)\n",
    "\n",
    "\n",
    "    plt.xlabel('Wheels')\n",
    "    plt.ylabel('Sensors')\n",
    "    \n",
    "    plt.title('Empty room - No tiles - {0:.2f}'.format((1-(fr/100))*2.83)+'m')\n",
    "    #plt.title('Escape room - No tiles - {0:.2f}'.format((1-(fr/100))*2.83)+'m')\n",
    "    #plt.title('Middle wall - No tiles - {0:.2f}'.format((1-(fr/100))*2.83)+'m')\n",
    "    \n",
    "    plt.yticks([0.1, 0.3, 0.5, 0.7, 0.9], ['0', '1', '2', '3', '4'])\n",
    "    plt.xticks([0.1, 0.3, 0.5, 0.7, 0.9], ['0', '1', '2', '3', '4'])\n",
    "    \n",
    "    frame = CONTROLLERREPOSITORY + 'frame' + str(fr) + \".png\"\n",
    "    plt.savefig(frame,dpi=200, bbox_inches='tight')\n",
    "    images.append(imageio.imread(frame))\n",
    "\n",
    "    plt.close()\n",
    "# Save gif and video\n",
    "gifName = \"frameWheels.gif\"\n",
    "imageio.mimsave(CONTROLLERREPOSITORY + gifName, images, duration = 2.0)\n",
    "clip = mp.VideoFileClip(CONTROLLERREPOSITORY + gifName)\n",
    "videoName = \"frameWheels.mp4\"\n",
    "clip.write_videofile(CONTROLLERREPOSITORY + videoName)\n",
    "# Delete files\n",
    "gifName = \"frame.gif\"\n",
    "# if os.path.exists(CONTROLLERREPOSITORY + gifName):\n",
    "#   os.remove(CONTROLLERREPOSITORY + gifName)\n",
    "# else:\n",
    "#   print(\"The file does not exist\")\n",
    "for fr in range(60,100,5):\n",
    "    frameName = CONTROLLERREPOSITORY + 'frame' + str(fr) + \".png\"\n",
    "    if os.path.exists(frameName):\n",
    "      os.remove(frameName)\n",
    "    else:\n",
    "      print(\"The file does not exist\")"
   ]
  },
  {
   "cell_type": "code",
   "execution_count": null,
   "metadata": {},
   "outputs": [],
   "source": []
  }
 ],
 "metadata": {
  "kernelspec": {
   "display_name": "Python 3",
   "language": "python",
   "name": "python3"
  },
  "language_info": {
   "codemirror_mode": {
    "name": "ipython",
    "version": 3
   },
   "file_extension": ".py",
   "mimetype": "text/x-python",
   "name": "python",
   "nbconvert_exporter": "python",
   "pygments_lexer": "ipython3",
   "version": "3.6.9"
  }
 },
 "nbformat": 4,
 "nbformat_minor": 2
}
