{
 "cells": [
  {
   "cell_type": "code",
   "execution_count": 1,
   "metadata": {},
   "outputs": [
    {
     "name": "stderr",
     "output_type": "stream",
     "text": [
      "In /home/ebb505/.local/lib/python3.6/site-packages/matplotlib/mpl-data/stylelib/_classic_test.mplstyle: \n",
      "The text.latex.preview rcparam was deprecated in Matplotlib 3.3 and will be removed two minor releases later.\n",
      "In /home/ebb505/.local/lib/python3.6/site-packages/matplotlib/mpl-data/stylelib/_classic_test.mplstyle: \n",
      "The mathtext.fallback_to_cm rcparam was deprecated in Matplotlib 3.3 and will be removed two minor releases later.\n",
      "In /home/ebb505/.local/lib/python3.6/site-packages/matplotlib/mpl-data/stylelib/_classic_test.mplstyle: Support for setting the 'mathtext.fallback_to_cm' rcParam is deprecated since 3.3 and will be removed two minor releases later; use 'mathtext.fallback : 'cm' instead.\n",
      "In /home/ebb505/.local/lib/python3.6/site-packages/matplotlib/mpl-data/stylelib/_classic_test.mplstyle: \n",
      "The validate_bool_maybe_none function was deprecated in Matplotlib 3.3 and will be removed two minor releases later.\n",
      "In /home/ebb505/.local/lib/python3.6/site-packages/matplotlib/mpl-data/stylelib/_classic_test.mplstyle: \n",
      "The savefig.jpeg_quality rcparam was deprecated in Matplotlib 3.3 and will be removed two minor releases later.\n",
      "In /home/ebb505/.local/lib/python3.6/site-packages/matplotlib/mpl-data/stylelib/_classic_test.mplstyle: \n",
      "The keymap.all_axes rcparam was deprecated in Matplotlib 3.3 and will be removed two minor releases later.\n",
      "In /home/ebb505/.local/lib/python3.6/site-packages/matplotlib/mpl-data/stylelib/_classic_test.mplstyle: \n",
      "The animation.avconv_path rcparam was deprecated in Matplotlib 3.3 and will be removed two minor releases later.\n",
      "In /home/ebb505/.local/lib/python3.6/site-packages/matplotlib/mpl-data/stylelib/_classic_test.mplstyle: \n",
      "The animation.avconv_args rcparam was deprecated in Matplotlib 3.3 and will be removed two minor releases later.\n"
     ]
    }
   ],
   "source": [
    "# Load libraries\n",
    "import csv\n",
    "import matplotlib.pyplot as plt\n",
    "import statistics\n",
    "import numpy as np\n",
    "import os\n",
    "from IPython.display import clear_output\n",
    "import pandas as pd"
   ]
  },
  {
   "cell_type": "code",
   "execution_count": 2,
   "metadata": {},
   "outputs": [
    {
     "name": "stdout",
     "output_type": "stream",
     "text": [
      "Filepath: /home/ebb505/ARE_Project/are-logs/temp_0720/\n"
     ]
    }
   ],
   "source": [
    "# Set filepath\n",
    "REPOSITORY='/home/ebb505/ARE_Project/are-logs/temp_0720/'\n",
    "FILENAME='MD_Cart_WDH.csv'\n",
    "LHSSELECTION='LHSSelection.csv'\n",
    "CLUSTERRANDSELECTION='ClusterRandomSelection.csv'\n",
    "CLUSTERSORTEDSELECTION='ClusterSortedSelection.csv'\n",
    "SPARSENESSSORTEDSELECTION='sortSelection.csv'\n",
    "OFILE='componentsSelection.csv'\n",
    "print('Filepath: ' + REPOSITORY)"
   ]
  },
  {
   "cell_type": "code",
   "execution_count": 3,
   "metadata": {},
   "outputs": [
    {
     "name": "stdout",
     "output_type": "stream",
     "text": [
      "Folders:  20\n"
     ]
    }
   ],
   "source": [
    "# Get all directories\n",
    "folders = []\n",
    "# r=root, d=directories, f = files\n",
    "for r, d, f in os.walk(REPOSITORY):\n",
    "    for folder in d:\n",
    "        folders.append(os.path.join(r, folder))\n",
    "print(\"Folders: \", len(folders))"
   ]
  },
  {
   "cell_type": "code",
   "execution_count": 4,
   "metadata": {},
   "outputs": [],
   "source": [
    "# Get data evolved robots\n",
    "my_replicates = []\n",
    "for f in folders:\n",
    "    my_list = []\n",
    "    with open(f + '/' + FILENAME, 'r') as csvfile:\n",
    "        data = csv.reader(csvfile, delimiter=',', quotechar='\"')\n",
    "        for row in data:\n",
    "            my_list.append(row[:-1]) # Last character is empty for some reason\n",
    "    my_replicates.append(my_list)\n",
    "# Get LHS bootstrap selection\n",
    "lhs_selection = []\n",
    "with open(REPOSITORY + LHSSELECTION, 'r') as csvfile:\n",
    "    data = csv.reader(csvfile, delimiter=',', quotechar='\"')\n",
    "    for row in data:\n",
    "        lhs_selection.append(row[:]) # Last character is empty for some reason\n",
    "clusterrand_selection = []\n",
    "with open(REPOSITORY + CLUSTERRANDSELECTION, 'r') as csvfile:\n",
    "    data = csv.reader(csvfile, delimiter=',', quotechar='\"')\n",
    "    for row in data:\n",
    "        clusterrand_selection.append(row[:]) # Last character is empty for some reason\n",
    "clustersort_selection = []\n",
    "with open(REPOSITORY + CLUSTERSORTEDSELECTION, 'r') as csvfile:\n",
    "    data = csv.reader(csvfile, delimiter=',', quotechar='\"')\n",
    "    for row in data:\n",
    "        clustersort_selection.append(row[:]) # Last character is empty for some reason\n",
    "spasort_selection = []\n",
    "with open(REPOSITORY + SPARSENESSSORTEDSELECTION, 'r') as csvfile:\n",
    "    data = csv.reader(csvfile, delimiter=',', quotechar='\"')\n",
    "    for row in data:\n",
    "        spasort_selection.append(row[:]) # Last character is empty for some reason    "
   ]
  },
  {
   "cell_type": "code",
   "execution_count": 5,
   "metadata": {},
   "outputs": [
    {
     "name": "stdout",
     "output_type": "stream",
     "text": [
      "Replicates:  20 Number of evaluations:  30000 Features size:  9\n"
     ]
    }
   ],
   "source": [
    "POPULATION = 100\n",
    "REPLICATES = len(my_replicates)\n",
    "#evaluations = len(my_replicates[0])\n",
    "EVALUATIONS = 30000\n",
    "FEATURES = len(my_replicates[0][0])\n",
    "GENERATIONS = int(EVALUATIONS / POPULATION)\n",
    "interval=1000\n",
    "rangeValues = range(0,EVALUATIONS,interval)\n",
    "lenRange = len(rangeValues)\n",
    "print(\"Replicates: \", REPLICATES, \"Number of evaluations: \", EVALUATIONS, \"Features size: \", FEATURES)"
   ]
  },
  {
   "cell_type": "code",
   "execution_count": 6,
   "metadata": {},
   "outputs": [],
   "source": [
    "# Check all replicates have the minimum number of evaluations\n",
    "for i in range(REPLICATES):\n",
    "    if len(my_replicates[i]) < EVALUATIONS:\n",
    "        print(\"Error!\")"
   ]
  },
  {
   "cell_type": "code",
   "execution_count": 7,
   "metadata": {},
   "outputs": [
    {
     "name": "stdout",
     "output_type": "stream",
     "text": [
      "Done!\n"
     ]
    }
   ],
   "source": [
    "# Process data\n",
    "repplicates_data = []\n",
    "for rep in range(REPLICATES):\n",
    "    tempDat = []\n",
    "    tempDat = np.array([[float(y) for y in x] for x in my_replicates[rep]]) # Convert to array\n",
    "    repplicates_data.append(tempDat)\n",
    "print(\"Done!\")"
   ]
  },
  {
   "cell_type": "code",
   "execution_count": 8,
   "metadata": {},
   "outputs": [],
   "source": [
    "replicates_lhs_data = np.array([[int(y) for y in x] for x in lhs_selection]) # Convert to array\n",
    "replicates_clusterrand_data = np.array([[int(y) for y in x] for x in clusterrand_selection]) # Convert to array\n",
    "replicates_clustersort_data = np.array([[int(y) for y in x] for x in clustersort_selection]) # Convert to array\n",
    "replicates_spasort_data = np.array([[int(y) for y in x] for x in spasort_selection]) # Convert to array"
   ]
  },
  {
   "cell_type": "code",
   "execution_count": 9,
   "metadata": {},
   "outputs": [
    {
     "name": "stdout",
     "output_type": "stream",
     "text": [
      "Done!\n"
     ]
    }
   ],
   "source": [
    "# Process data\n",
    "INTERVALS = [0.0,0.1,0.2,0.3,0.4,0.5,0.6,0.7,0.8,0.9,1.0]\n",
    "repplicates_organscount_lhs = []\n",
    "repplicates_organscount_clusterrand = []\n",
    "repplicates_organscount_clustersort = []\n",
    "repplicates_organscount_spasort = []\n",
    "for rep in range(REPLICATES):\n",
    "    tempOrgans_lhs = []\n",
    "    tempOrgans_clusterrand = []\n",
    "    tempOrgans_clustersort = []\n",
    "    tempOrgans_spasort = []\n",
    "    for i in range(4):\n",
    "        organNumber_lhs = []\n",
    "        organNumber_clusterrand = []\n",
    "        organNumber_clustersort = []\n",
    "        organNumber_spasort = []\n",
    "        for j in INTERVALS:\n",
    "            organNumber_lhs.append(sum(repplicates_data[rep][replicates_lhs_data[rep][:],5+i]==j))\n",
    "            organNumber_clusterrand.append(sum(repplicates_data[rep][replicates_clusterrand_data[rep][:],5+i]==j))\n",
    "            organNumber_clustersort.append(sum(repplicates_data[rep][replicates_clustersort_data[rep][:],5+i]==j))\n",
    "            organNumber_spasort.append(sum(repplicates_data[rep][replicates_spasort_data[rep][:],5+i]==j))\n",
    "        tempOrgans_lhs.append(organNumber_lhs)\n",
    "        tempOrgans_clusterrand.append(organNumber_clusterrand)\n",
    "        tempOrgans_clustersort.append(organNumber_clustersort)\n",
    "        tempOrgans_spasort.append(organNumber_spasort)\n",
    "    repplicates_organscount_lhs.append(tempOrgans_lhs)\n",
    "    repplicates_organscount_clusterrand.append(tempOrgans_clusterrand)\n",
    "    repplicates_organscount_clustersort.append(tempOrgans_clustersort)\n",
    "    repplicates_organscount_spasort.append(tempOrgans_spasort)\n",
    "# Process data\n",
    "organs_data_lhs = []\n",
    "organs_data_clusterrand = []\n",
    "organs_data_clustersort = []\n",
    "organs_data_spasort = []\n",
    "for rep in range(REPLICATES):\n",
    "    tempDat = np.array([[int(y) for y in x] for x in repplicates_organscount_lhs[rep]]) # Convert to array\n",
    "    organs_data_lhs.append(tempDat)\n",
    "    tempDat = np.array([[int(y) for y in x] for x in repplicates_organscount_clusterrand[rep]]) # Convert to array\n",
    "    organs_data_clusterrand.append(tempDat)\n",
    "    tempDat = np.array([[int(y) for y in x] for x in repplicates_organscount_clustersort[rep]]) # Convert to array\n",
    "    organs_data_clustersort.append(tempDat)\n",
    "    tempDat = np.array([[int(y) for y in x] for x in repplicates_organscount_spasort[rep]]) # Convert to array\n",
    "    organs_data_spasort.append(tempDat)\n",
    "print(\"Done!\")\n",
    "# Count organs\n",
    "wheelCount_lhs = []\n",
    "sensorCount_lhs = []\n",
    "jointCount_lhs = []\n",
    "casterCount_lhs = []\n",
    "wheelCount_clusterrand = []\n",
    "sensorCount_clusterrand = []\n",
    "jointCount_clusterrand = []\n",
    "casterCount_clusterrand = []\n",
    "wheelCount_clustersort = []\n",
    "sensorCount_clustersort = []\n",
    "jointCount_clustersort = []\n",
    "casterCount_clustersort = []\n",
    "wheelCount_spasort = []\n",
    "sensorCount_spasort = []\n",
    "jointCount_spasort = []\n",
    "casterCount_spasort = []\n",
    "for rep in range(REPLICATES):\n",
    "    tempWheel_lhs = []\n",
    "    tempSensor_lhs = []\n",
    "    tempJoint_lhs = []\n",
    "    tempCaster_lhs = []\n",
    "    tempWheel_clusterrand = []\n",
    "    tempSensor_clusterrand = []\n",
    "    tempJoint_clusterrand = []\n",
    "    tempCaster_clusterrand = []\n",
    "    tempWheel_clustersort = []\n",
    "    tempSensor_clustersort = []\n",
    "    tempJoint_clustersort = []\n",
    "    tempCaster_clustersort = []\n",
    "    tempWheel_spasort = []\n",
    "    tempSensor_spasort = []\n",
    "    tempJoint_spasort = []\n",
    "    tempCaster_spasort = []\n",
    "    for i in range(7):\n",
    "        tempWheel_lhs.append(organs_data_lhs[rep][0][i])\n",
    "        tempSensor_lhs.append(organs_data_lhs[rep][1][i])\n",
    "        tempJoint_lhs.append(organs_data_lhs[rep][2][i])\n",
    "        tempCaster_lhs.append(organs_data_lhs[rep][3][i])\n",
    "        \n",
    "        tempWheel_clusterrand.append(organs_data_clusterrand[rep][0][i])\n",
    "        tempSensor_clusterrand.append(organs_data_clusterrand[rep][1][i])\n",
    "        tempJoint_clusterrand.append(organs_data_clusterrand[rep][2][i])\n",
    "        tempCaster_clusterrand.append(organs_data_clusterrand[rep][3][i])\n",
    "        \n",
    "        tempWheel_clustersort.append(organs_data_clustersort[rep][0][i])\n",
    "        tempSensor_clustersort.append(organs_data_clustersort[rep][1][i])\n",
    "        tempJoint_clustersort.append(organs_data_clustersort[rep][2][i])\n",
    "        tempCaster_clustersort.append(organs_data_clustersort[rep][3][i])\n",
    "        \n",
    "        tempWheel_spasort.append(organs_data_spasort[rep][0][i])\n",
    "        tempSensor_spasort.append(organs_data_spasort[rep][1][i])\n",
    "        tempJoint_spasort.append(organs_data_spasort[rep][2][i])\n",
    "        tempCaster_spasort.append(organs_data_spasort[rep][3][i])\n",
    "        \n",
    "    wheelCount_lhs.append(tempWheel_lhs)\n",
    "    sensorCount_lhs.append(tempSensor_lhs)\n",
    "    jointCount_lhs.append(tempJoint_lhs)\n",
    "    casterCount_lhs.append(tempCaster_lhs)\n",
    "    \n",
    "    wheelCount_clusterrand.append(tempWheel_clusterrand)\n",
    "    sensorCount_clusterrand.append(tempSensor_clusterrand)\n",
    "    jointCount_clusterrand.append(tempJoint_clusterrand)\n",
    "    casterCount_clusterrand.append(tempCaster_clusterrand)\n",
    "    \n",
    "    wheelCount_clustersort.append(tempWheel_clustersort)\n",
    "    sensorCount_clustersort.append(tempSensor_clustersort)\n",
    "    jointCount_clustersort.append(tempJoint_clustersort)\n",
    "    casterCount_clustersort.append(tempCaster_clustersort)\n",
    "    \n",
    "    wheelCount_spasort.append(tempWheel_spasort)\n",
    "    sensorCount_spasort.append(tempSensor_spasort)\n",
    "    jointCount_spasort.append(tempJoint_spasort)\n",
    "    casterCount_spasort.append(tempCaster_spasort)\n",
    "    \n",
    "wheelCount_lhs = np.array([[int(y) for y in x] for x in wheelCount_lhs]) # Convert to array\n",
    "sensorCount_lhs = np.array([[int(y) for y in x] for x in sensorCount_lhs]) # Convert to array\n",
    "jointCount_lhs = np.array([[int(y) for y in x] for x in jointCount_lhs]) # Convert to array\n",
    "casterCount_lhs = np.array([[int(y) for y in x] for x in casterCount_lhs]) # Convert to array\n",
    "\n",
    "wheelCount_clusterrand = np.array([[int(y) for y in x] for x in wheelCount_clusterrand]) # Convert to array\n",
    "sensorCount_clusterrand = np.array([[int(y) for y in x] for x in sensorCount_clusterrand]) # Convert to array\n",
    "jointCount_clusterrand = np.array([[int(y) for y in x] for x in jointCount_clusterrand]) # Convert to array\n",
    "casterCount_clusterrand = np.array([[int(y) for y in x] for x in casterCount_clusterrand]) # Convert to array\n",
    "\n",
    "wheelCount_clustersort = np.array([[int(y) for y in x] for x in wheelCount_clustersort]) # Convert to array\n",
    "sensorCount_clustersort = np.array([[int(y) for y in x] for x in sensorCount_clustersort]) # Convert to array\n",
    "jointCount_clustersort = np.array([[int(y) for y in x] for x in jointCount_clustersort]) # Convert to array\n",
    "casterCount_clustersort = np.array([[int(y) for y in x] for x in casterCount_clustersort]) # Convert to array\n",
    "\n",
    "wheelCount_spasort = np.array([[int(y) for y in x] for x in wheelCount_spasort]) # Convert to array\n",
    "sensorCount_spasort = np.array([[int(y) for y in x] for x in sensorCount_spasort]) # Convert to array\n",
    "jointCount_spasort = np.array([[int(y) for y in x] for x in jointCount_spasort]) # Convert to array\n",
    "casterCount_spasort = np.array([[int(y) for y in x] for x in casterCount_spasort]) # Convert to array\n",
    "# Save\n",
    "# Save to CSV\n",
    "with open(REPOSITORY + OFILE, 'w', newline='') as write_obj:\n",
    "    csv_writer = csv.writer(write_obj)\n",
    "    csv_writer.writerow(['LHS'])\n",
    "    for i in range(6):\n",
    "        csv_writer.writerow([np.mean(wheelCount_lhs[:,i]),np.mean(sensorCount_lhs[:,i]),np.mean(jointCount_lhs[:,i]),np.mean(casterCount_lhs[:,i])])\n",
    "    csv_writer.writerow(['Cluster-Rand'])\n",
    "    for i in range(6):\n",
    "        csv_writer.writerow([np.mean(wheelCount_clusterrand[:,i]),np.mean(sensorCount_clusterrand[:,i]),np.mean(jointCount_clusterrand[:,i]),np.mean(casterCount_clusterrand[:,i])])\n",
    "    csv_writer.writerow(['Cluster-Sort'])\n",
    "    for i in range(6):\n",
    "        csv_writer.writerow([np.mean(wheelCount_clustersort[:,i]),np.mean(sensorCount_clustersort[:,i]),np.mean(jointCount_clustersort[:,i]),np.mean(casterCount_clustersort[:,i])])\n",
    "    csv_writer.writerow(['Sparseness-Sort'])\n",
    "    for i in range(6):\n",
    "        csv_writer.writerow([np.mean(wheelCount_spasort[:,i]),np.mean(sensorCount_spasort[:,i]),np.mean(jointCount_spasort[:,i]),np.mean(casterCount_spasort[:,i])])\n"
   ]
  },
  {
   "cell_type": "code",
   "execution_count": 10,
   "metadata": {},
   "outputs": [
    {
     "data": {
      "text/plain": [
       "{'boxes': [<matplotlib.lines.Line2D at 0x7ffa52221f28>,\n",
       "  <matplotlib.lines.Line2D at 0x7ffa521bc240>,\n",
       "  <matplotlib.lines.Line2D at 0x7ffa521cc668>,\n",
       "  <matplotlib.lines.Line2D at 0x7ffa521d6a90>],\n",
       " 'caps': [<matplotlib.lines.Line2D at 0x7ffa521af780>,\n",
       "  <matplotlib.lines.Line2D at 0x7ffa521afa58>,\n",
       "  <matplotlib.lines.Line2D at 0x7ffa521bcba8>,\n",
       "  <matplotlib.lines.Line2D at 0x7ffa521bce80>,\n",
       "  <matplotlib.lines.Line2D at 0x7ffa521ccfd0>,\n",
       "  <matplotlib.lines.Line2D at 0x7ffa521d62e8>,\n",
       "  <matplotlib.lines.Line2D at 0x7ffa52166438>,\n",
       "  <matplotlib.lines.Line2D at 0x7ffa52166710>],\n",
       " 'fliers': [<matplotlib.lines.Line2D at 0x7ffa521bc048>,\n",
       "  <matplotlib.lines.Line2D at 0x7ffa521cc470>,\n",
       "  <matplotlib.lines.Line2D at 0x7ffa521d6898>,\n",
       "  <matplotlib.lines.Line2D at 0x7ffa52166cc0>],\n",
       " 'means': [],\n",
       " 'medians': [<matplotlib.lines.Line2D at 0x7ffa521afd30>,\n",
       "  <matplotlib.lines.Line2D at 0x7ffa521cc198>,\n",
       "  <matplotlib.lines.Line2D at 0x7ffa521d65c0>,\n",
       "  <matplotlib.lines.Line2D at 0x7ffa521669e8>],\n",
       " 'whiskers': [<matplotlib.lines.Line2D at 0x7ffa521af1d0>,\n",
       "  <matplotlib.lines.Line2D at 0x7ffa521af4a8>,\n",
       "  <matplotlib.lines.Line2D at 0x7ffa521bc5f8>,\n",
       "  <matplotlib.lines.Line2D at 0x7ffa521bc8d0>,\n",
       "  <matplotlib.lines.Line2D at 0x7ffa521cca20>,\n",
       "  <matplotlib.lines.Line2D at 0x7ffa521cccf8>,\n",
       "  <matplotlib.lines.Line2D at 0x7ffa521d6e48>,\n",
       "  <matplotlib.lines.Line2D at 0x7ffa52166160>]}"
      ]
     },
     "execution_count": 10,
     "metadata": {},
     "output_type": "execute_result"
    },
    {
     "data": {
      "image/png": "[encoded data removed]",
      "text/plain": [
       "<Figure size 432x288 with 1 Axes>"
      ]
     },
     "metadata": {},
     "output_type": "display_data"
    },
    {
     "data": {
      "image/png": "[encoded data removed]",
      "text/plain": [
       "<Figure size 432x288 with 1 Axes>"
      ]
     },
     "metadata": {},
     "output_type": "display_data"
    },
    {
     "data": {
      "image/png": "[encoded data removed]",
      "text/plain": [
       "<Figure size 432x288 with 1 Axes>"
      ]
     },
     "metadata": {},
     "output_type": "display_data"
    },
    {
     "data": {
      "image/png": "[encoded data removed]",
      "text/plain": [
       "<Figure size 432x288 with 1 Axes>"
      ]
     },
     "metadata": {},
     "output_type": "display_data"
    }
   ],
   "source": [
    "plt.boxplot([wheelCount_lhs[:,0],wheelCount_clusterrand[:,0], wheelCount_clustersort[:,0], wheelCount_spasort[:,0]] )\n",
    "plt.figure()\n",
    "plt.boxplot([sensorCount_lhs[:,0],sensorCount_clusterrand[:,0], sensorCount_clustersort[:,0], sensorCount_spasort[:,0]] )\n",
    "plt.figure()\n",
    "plt.boxplot([casterCount_lhs[:,0],casterCount_clusterrand[:,0], casterCount_clustersort[:,0], casterCount_spasort[:,0]] )\n",
    "plt.figure()\n",
    "plt.boxplot([jointCount_lhs[:,0],jointCount_clusterrand[:,0], jointCount_clustersort[:,0], jointCount_spasort[:,0]] )"
   ]
  },
  {
   "cell_type": "code",
   "execution_count": 192,
   "metadata": {},
   "outputs": [
    {
     "data": {
      "text/plain": [
       "{'boxes': [<matplotlib.lines.Line2D at 0x7f8f83505eb8>,\n",
       "  <matplotlib.lines.Line2D at 0x7f8f833e31d0>,\n",
       "  <matplotlib.lines.Line2D at 0x7f8f833f35f8>,\n",
       "  <matplotlib.lines.Line2D at 0x7f8f833ffa20>],\n",
       " 'caps': [<matplotlib.lines.Line2D at 0x7f8f833d4710>,\n",
       "  <matplotlib.lines.Line2D at 0x7f8f833d49e8>,\n",
       "  <matplotlib.lines.Line2D at 0x7f8f833e3b38>,\n",
       "  <matplotlib.lines.Line2D at 0x7f8f833e3e10>,\n",
       "  <matplotlib.lines.Line2D at 0x7f8f833f3f60>,\n",
       "  <matplotlib.lines.Line2D at 0x7f8f833ff278>,\n",
       "  <matplotlib.lines.Line2D at 0x7f8f8338c3c8>,\n",
       "  <matplotlib.lines.Line2D at 0x7f8f8338c6a0>],\n",
       " 'fliers': [<matplotlib.lines.Line2D at 0x7f8f833d4f98>,\n",
       "  <matplotlib.lines.Line2D at 0x7f8f833f3400>,\n",
       "  <matplotlib.lines.Line2D at 0x7f8f833ff828>,\n",
       "  <matplotlib.lines.Line2D at 0x7f8f8338cc50>],\n",
       " 'means': [],\n",
       " 'medians': [<matplotlib.lines.Line2D at 0x7f8f833d4cc0>,\n",
       "  <matplotlib.lines.Line2D at 0x7f8f833f3128>,\n",
       "  <matplotlib.lines.Line2D at 0x7f8f833ff550>,\n",
       "  <matplotlib.lines.Line2D at 0x7f8f8338c978>],\n",
       " 'whiskers': [<matplotlib.lines.Line2D at 0x7f8f833d4160>,\n",
       "  <matplotlib.lines.Line2D at 0x7f8f833d4438>,\n",
       "  <matplotlib.lines.Line2D at 0x7f8f833e3588>,\n",
       "  <matplotlib.lines.Line2D at 0x7f8f833e3860>,\n",
       "  <matplotlib.lines.Line2D at 0x7f8f833f39b0>,\n",
       "  <matplotlib.lines.Line2D at 0x7f8f833f3c88>,\n",
       "  <matplotlib.lines.Line2D at 0x7f8f833ffdd8>,\n",
       "  <matplotlib.lines.Line2D at 0x7f8f8338c0f0>]}"
      ]
     },
     "execution_count": 192,
     "metadata": {},
     "output_type": "execute_result"
    },
    {
     "data": {
      "image/png": "[encoded data removed]",
      "text/plain": [
       "<Figure size 432x288 with 1 Axes>"
      ]
     },
     "metadata": {},
     "output_type": "display_data"
    },
    {
     "data": {
      "image/png": "[encoded data removed]",
      "text/plain": [
       "<Figure size 432x288 with 1 Axes>"
      ]
     },
     "metadata": {},
     "output_type": "display_data"
    },
    {
     "data": {
      "image/png": "[encoded data removed]",
      "text/plain": [
       "<Figure size 432x288 with 1 Axes>"
      ]
     },
     "metadata": {},
     "output_type": "display_data"
    },
    {
     "data": {
      "image/png": "[encoded data removed]",
      "text/plain": [
       "<Figure size 432x288 with 1 Axes>"
      ]
     },
     "metadata": {},
     "output_type": "display_data"
    }
   ],
   "source": [
    "plt.boxplot([wheelCount_lhs[:,1],wheelCount_clusterrand[:,1], wheelCount_clustersort[:,1], wheelCount_spasort[:,1]] )\n",
    "plt.figure()\n",
    "plt.boxplot([sensorCount_lhs[:,1],sensorCount_clusterrand[:,1], sensorCount_clustersort[:,1], sensorCount_spasort[:,1]] )\n",
    "plt.figure()\n",
    "plt.boxplot([casterCount_lhs[:,1],casterCount_clusterrand[:,1], casterCount_clustersort[:,1], casterCount_spasort[:,1]] )\n",
    "plt.figure()\n",
    "plt.boxplot([jointCount_lhs[:,1],jointCount_clusterrand[:,1], jointCount_clustersort[:,1], jointCount_spasort[:,1]] )"
   ]
  },
  {
   "cell_type": "code",
   "execution_count": 193,
   "metadata": {},
   "outputs": [
    {
     "data": {
      "text/plain": [
       "{'boxes': [<matplotlib.lines.Line2D at 0x7f8f7e7392e8>,\n",
       "  <matplotlib.lines.Line2D at 0x7f8f7e7495c0>,\n",
       "  <matplotlib.lines.Line2D at 0x7f8f7e6d8908>,\n",
       "  <matplotlib.lines.Line2D at 0x7f8f7e6e8ba8>],\n",
       " 'caps': [<matplotlib.lines.Line2D at 0x7f8f7e739b00>,\n",
       "  <matplotlib.lines.Line2D at 0x7f8f7e739dd8>,\n",
       "  <matplotlib.lines.Line2D at 0x7f8f7e749eb8>,\n",
       "  <matplotlib.lines.Line2D at 0x7f8f7e6d8198>,\n",
       "  <matplotlib.lines.Line2D at 0x7f8f7e6e8198>,\n",
       "  <matplotlib.lines.Line2D at 0x7f8f7e6e8438>,\n",
       "  <matplotlib.lines.Line2D at 0x7f8f7e6f6438>,\n",
       "  <matplotlib.lines.Line2D at 0x7f8f7e6f66d8>],\n",
       " 'fliers': [<matplotlib.lines.Line2D at 0x7f8f7e7493c8>,\n",
       "  <matplotlib.lines.Line2D at 0x7f8f7e6d86d8>,\n",
       "  <matplotlib.lines.Line2D at 0x7f8f7e6e8978>,\n",
       "  <matplotlib.lines.Line2D at 0x7f8f7e6f6c18>],\n",
       " 'means': [],\n",
       " 'medians': [<matplotlib.lines.Line2D at 0x7f8f7e7490f0>,\n",
       "  <matplotlib.lines.Line2D at 0x7f8f7e6d8438>,\n",
       "  <matplotlib.lines.Line2D at 0x7f8f7e6e86d8>,\n",
       "  <matplotlib.lines.Line2D at 0x7f8f7e6f6978>],\n",
       " 'whiskers': [<matplotlib.lines.Line2D at 0x7f8f7e739550>,\n",
       "  <matplotlib.lines.Line2D at 0x7f8f7e739828>,\n",
       "  <matplotlib.lines.Line2D at 0x7f8f7e749978>,\n",
       "  <matplotlib.lines.Line2D at 0x7f8f7e749c18>,\n",
       "  <matplotlib.lines.Line2D at 0x7f8f7e6d8c18>,\n",
       "  <matplotlib.lines.Line2D at 0x7f8f7e6d8eb8>,\n",
       "  <matplotlib.lines.Line2D at 0x7f8f7e6e8eb8>,\n",
       "  <matplotlib.lines.Line2D at 0x7f8f7e6f6198>]}"
      ]
     },
     "execution_count": 193,
     "metadata": {},
     "output_type": "execute_result"
    },
    {
     "data": {
      "image/png": "[encoded data removed]",
      "text/plain": [
       "<Figure size 432x288 with 1 Axes>"
      ]
     },
     "metadata": {},
     "output_type": "display_data"
    },
    {
     "data": {
      "image/png": "[encoded data removed]",
      "text/plain": [
       "<Figure size 432x288 with 1 Axes>"
      ]
     },
     "metadata": {},
     "output_type": "display_data"
    },
    {
     "data": {
      "image/png": "[encoded data removed]",
      "text/plain": [
       "<Figure size 432x288 with 1 Axes>"
      ]
     },
     "metadata": {},
     "output_type": "display_data"
    },
    {
     "data": {
      "image/png": "[encoded data removed]",
      "text/plain": [
       "<Figure size 432x288 with 1 Axes>"
      ]
     },
     "metadata": {},
     "output_type": "display_data"
    }
   ],
   "source": [
    "plt.boxplot([wheelCount_lhs[:,2],wheelCount_clusterrand[:,2], wheelCount_clustersort[:,2], wheelCount_spasort[:,2]] )\n",
    "plt.figure()\n",
    "plt.boxplot([sensorCount_lhs[:,2],sensorCount_clusterrand[:,2], sensorCount_clustersort[:,2], sensorCount_spasort[:,2]] )\n",
    "plt.figure()\n",
    "plt.boxplot([casterCount_lhs[:,2],casterCount_clusterrand[:,2], casterCount_clustersort[:,2], casterCount_spasort[:,2]] )\n",
    "plt.figure()\n",
    "plt.boxplot([jointCount_lhs[:,2],jointCount_clusterrand[:,2], jointCount_clustersort[:,2], jointCount_spasort[:,2]] )"
   ]
  },
  {
   "cell_type": "code",
   "execution_count": 169,
   "metadata": {},
   "outputs": [
    {
     "data": {
      "text/plain": [
       "{'boxes': [<matplotlib.lines.Line2D at 0x7f8f7e937a90>,\n",
       "  <matplotlib.lines.Line2D at 0x7f8f7e948d68>,\n",
       "  <matplotlib.lines.Line2D at 0x7f8f7e8e70f0>],\n",
       " 'caps': [<matplotlib.lines.Line2D at 0x7f8f7e9482e8>,\n",
       "  <matplotlib.lines.Line2D at 0x7f8f7e9485c0>,\n",
       "  <matplotlib.lines.Line2D at 0x7f8f7e8d86a0>,\n",
       "  <matplotlib.lines.Line2D at 0x7f8f7e8d8940>,\n",
       "  <matplotlib.lines.Line2D at 0x7f8f7e8e7940>,\n",
       "  <matplotlib.lines.Line2D at 0x7f8f7e8e7be0>],\n",
       " 'fliers': [<matplotlib.lines.Line2D at 0x7f8f7e948b70>,\n",
       "  <matplotlib.lines.Line2D at 0x7f8f7e8d8e80>,\n",
       "  <matplotlib.lines.Line2D at 0x7f8f7e8f5160>],\n",
       " 'means': [],\n",
       " 'medians': [<matplotlib.lines.Line2D at 0x7f8f7e948898>,\n",
       "  <matplotlib.lines.Line2D at 0x7f8f7e8d8be0>,\n",
       "  <matplotlib.lines.Line2D at 0x7f8f7e8e7e80>],\n",
       " 'whiskers': [<matplotlib.lines.Line2D at 0x7f8f7e937cf8>,\n",
       "  <matplotlib.lines.Line2D at 0x7f8f7e937fd0>,\n",
       "  <matplotlib.lines.Line2D at 0x7f8f7e8d8160>,\n",
       "  <matplotlib.lines.Line2D at 0x7f8f7e8d8400>,\n",
       "  <matplotlib.lines.Line2D at 0x7f8f7e8e7400>,\n",
       "  <matplotlib.lines.Line2D at 0x7f8f7e8e76a0>]}"
      ]
     },
     "execution_count": 169,
     "metadata": {},
     "output_type": "execute_result"
    },
    {
     "data": {
      "image/png": "[encoded data removed]",
      "text/plain": [
       "<Figure size 432x288 with 1 Axes>"
      ]
     },
     "metadata": {},
     "output_type": "display_data"
    },
    {
     "data": {
      "image/png": "[encoded data removed]",
      "text/plain": [
       "<Figure size 432x288 with 1 Axes>"
      ]
     },
     "metadata": {},
     "output_type": "display_data"
    },
    {
     "data": {
      "image/png": "[encoded data removed]",
      "text/plain": [
       "<Figure size 432x288 with 1 Axes>"
      ]
     },
     "metadata": {},
     "output_type": "display_data"
    },
    {
     "data": {
      "image/png": "[encoded data removed]",
      "text/plain": [
       "<Figure size 432x288 with 1 Axes>"
      ]
     },
     "metadata": {},
     "output_type": "display_data"
    }
   ],
   "source": [
    "plt.boxplot([wheelCount_lhs[:,3],wheelCount_clusterrand[:,3], wheelCount_clustersort[:,3]] )\n",
    "plt.figure()\n",
    "plt.boxplot([sensorCount_lhs[:,3],sensorCount_clusterrand[:,3], sensorCount_clustersort[:,3]] )\n",
    "plt.figure()\n",
    "plt.boxplot([casterCount_lhs[:,3],casterCount_clusterrand[:,3], casterCount_clustersort[:,3]] )\n",
    "plt.figure()\n",
    "plt.boxplot([jointCount_lhs[:,3],jointCount_clusterrand[:,3], jointCount_clustersort[:,3]] )"
   ]
  },
  {
   "cell_type": "code",
   "execution_count": null,
   "metadata": {},
   "outputs": [],
   "source": []
  }
 ],
 "metadata": {
  "kernelspec": {
   "display_name": "Python 3",
   "language": "python",
   "name": "python3"
  },
  "language_info": {
   "codemirror_mode": {
    "name": "ipython",
    "version": 3
   },
   "file_extension": ".py",
   "mimetype": "text/x-python",
   "name": "python",
   "nbconvert_exporter": "python",
   "pygments_lexer": "ipython3",
   "version": "3.6.9"
  }
 },
 "nbformat": 4,
 "nbformat_minor": 2
}
