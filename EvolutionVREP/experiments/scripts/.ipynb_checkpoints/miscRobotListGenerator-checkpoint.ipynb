{
 "cells": [
  {
   "cell_type": "code",
   "execution_count": 1,
   "metadata": {},
   "outputs": [
    {
     "name": "stderr",
     "output_type": "stream",
     "text": [
      "In /home/ebb505/.local/lib/python3.6/site-packages/matplotlib/mpl-data/stylelib/_classic_test.mplstyle: \n",
      "The text.latex.preview rcparam was deprecated in Matplotlib 3.3 and will be removed two minor releases later.\n",
      "In /home/ebb505/.local/lib/python3.6/site-packages/matplotlib/mpl-data/stylelib/_classic_test.mplstyle: \n",
      "The mathtext.fallback_to_cm rcparam was deprecated in Matplotlib 3.3 and will be removed two minor releases later.\n",
      "In /home/ebb505/.local/lib/python3.6/site-packages/matplotlib/mpl-data/stylelib/_classic_test.mplstyle: Support for setting the 'mathtext.fallback_to_cm' rcParam is deprecated since 3.3 and will be removed two minor releases later; use 'mathtext.fallback : 'cm' instead.\n",
      "In /home/ebb505/.local/lib/python3.6/site-packages/matplotlib/mpl-data/stylelib/_classic_test.mplstyle: \n",
      "The validate_bool_maybe_none function was deprecated in Matplotlib 3.3 and will be removed two minor releases later.\n",
      "In /home/ebb505/.local/lib/python3.6/site-packages/matplotlib/mpl-data/stylelib/_classic_test.mplstyle: \n",
      "The savefig.jpeg_quality rcparam was deprecated in Matplotlib 3.3 and will be removed two minor releases later.\n",
      "In /home/ebb505/.local/lib/python3.6/site-packages/matplotlib/mpl-data/stylelib/_classic_test.mplstyle: \n",
      "The keymap.all_axes rcparam was deprecated in Matplotlib 3.3 and will be removed two minor releases later.\n",
      "In /home/ebb505/.local/lib/python3.6/site-packages/matplotlib/mpl-data/stylelib/_classic_test.mplstyle: \n",
      "The animation.avconv_path rcparam was deprecated in Matplotlib 3.3 and will be removed two minor releases later.\n",
      "In /home/ebb505/.local/lib/python3.6/site-packages/matplotlib/mpl-data/stylelib/_classic_test.mplstyle: \n",
      "The animation.avconv_args rcparam was deprecated in Matplotlib 3.3 and will be removed two minor releases later.\n"
     ]
    }
   ],
   "source": [
    "# Load libraries\n",
    "import csv\n",
    "import matplotlib.pyplot as plt\n",
    "import statistics\n",
    "import numpy as np\n",
    "import os\n",
    "from IPython.display import clear_output"
   ]
  },
  {
   "cell_type": "code",
   "execution_count": 2,
   "metadata": {},
   "outputs": [
    {
     "name": "stdout",
     "output_type": "stream",
     "text": [
      "Filepath: /home/ebb505/ARE_Project/are-logs/temp_0720/\n"
     ]
    }
   ],
   "source": [
    "# Set filepath\n",
    "REPOSITORY='/home/ebb505/ARE_Project/are-logs/temp_0720/'\n",
    "\n",
    "I_LHSSELECTION='LHSSelection.csv'\n",
    "I_CLUSTERRANDSELECTION='ClusterRandomSelection.csv'\n",
    "I_CLUSTERSORTEDSELECTION='ClusterSortedSelection.csv'\n",
    "I_SPARSENESSSORTEDSELECTION='sortSelection.csv'\n",
    "\n",
    "O_LHSSELECTION='LHSrobotList.csv'\n",
    "O_CLUSTERRANDSELECTION='CLRNrobotList.csv'\n",
    "O_CLUSTERSORTEDSELECTION='CLSRrobotList.csv'\n",
    "O_SPARSENESSSORTEDSELECTION='SPSRrobotList.csv'\n",
    "\n",
    "POPULATION=100\n",
    "\n",
    "print('Filepath: ' + REPOSITORY)"
   ]
  },
  {
   "cell_type": "code",
   "execution_count": 3,
   "metadata": {},
   "outputs": [],
   "source": [
    "lhs_selection = []\n",
    "with open(REPOSITORY + I_LHSSELECTION, 'r') as csvfile:\n",
    "    data = csv.reader(csvfile, delimiter=',', quotechar='\"')\n",
    "    for row in data:\n",
    "        lhs_selection.append(row[:]) # Last character is empty for some reason\n",
    "clusterrand_selection = []\n",
    "with open(REPOSITORY + I_CLUSTERRANDSELECTION, 'r') as csvfile:\n",
    "    data = csv.reader(csvfile, delimiter=',', quotechar='\"')\n",
    "    for row in data:\n",
    "        clusterrand_selection.append(row[:]) # Last character is empty for some reason\n",
    "clustersort_selection = []\n",
    "with open(REPOSITORY + I_CLUSTERSORTEDSELECTION, 'r') as csvfile:\n",
    "    data = csv.reader(csvfile, delimiter=',', quotechar='\"')\n",
    "    for row in data:\n",
    "        clustersort_selection.append(row[:]) # Last character is empty for some reason\n",
    "spasort_selection = []\n",
    "with open(REPOSITORY + I_SPARSENESSSORTEDSELECTION, 'r') as csvfile:\n",
    "    data = csv.reader(csvfile, delimiter=',', quotechar='\"')\n",
    "    for row in data:\n",
    "        spasort_selection.append(row[:]) # Last character is empty for some reason"
   ]
  },
  {
   "cell_type": "code",
   "execution_count": 4,
   "metadata": {},
   "outputs": [
    {
     "name": "stdout",
     "output_type": "stream",
     "text": [
      "/home/ebb505/ARE_Project/are-logs/temp_0720/lc_nsms_20_6_14-19-3-3056-4077203333\n",
      "/home/ebb505/ARE_Project/are-logs/temp_0720/lc_nsms_20_6_14-19-3-3090-3445703447\n",
      "/home/ebb505/ARE_Project/are-logs/temp_0720/lc_nsms_20_6_14-19-3-3059-1218101950\n",
      "/home/ebb505/ARE_Project/are-logs/temp_0720/lc_nsms_20_6_14-19-3-3394-346133663\n",
      "/home/ebb505/ARE_Project/are-logs/temp_0720/lc_nsms_20_6_14-19-2-2722-642861003\n",
      "/home/ebb505/ARE_Project/are-logs/temp_0720/lc_nsms_20_6_14-19-2-2786-21116830\n",
      "/home/ebb505/ARE_Project/are-logs/temp_0720/lc_nsms_20_6_14-19-3-3046-3836361664\n",
      "/home/ebb505/ARE_Project/are-logs/temp_0720/lc_nsms_20_6_14-19-2-2828-2517131222\n",
      "/home/ebb505/ARE_Project/are-logs/temp_0720/lc_nsms_20_6_14-19-2-2870-3519426528\n",
      "/home/ebb505/ARE_Project/are-logs/temp_0720/lc_nsms_20_6_14-19-3-3116-311244753\n",
      "/home/ebb505/ARE_Project/are-logs/temp_0720/lc_nsms_20_6_14-19-3-3095-2645844291\n",
      "/home/ebb505/ARE_Project/are-logs/temp_0720/lc_nsms_20_6_14-19-3-3128-1100765102\n",
      "/home/ebb505/ARE_Project/are-logs/temp_0720/lc_nsms_20_6_14-19-3-3384-3405547167\n",
      "/home/ebb505/ARE_Project/are-logs/temp_0720/lc_nsms_20_6_14-19-2-2766-3391108908\n",
      "/home/ebb505/ARE_Project/are-logs/temp_0720/lc_nsms_20_6_14-19-2-2780-3364824389\n",
      "/home/ebb505/ARE_Project/are-logs/temp_0720/lc_nsms_20_6_14-19-2-2841-4063764142\n",
      "/home/ebb505/ARE_Project/are-logs/temp_0720/lc_nsms_20_6_14-19-2-2722-2264975832\n",
      "/home/ebb505/ARE_Project/are-logs/temp_0720/lc_nsms_20_6_14-19-2-2762-1930613936\n",
      "/home/ebb505/ARE_Project/are-logs/temp_0720/lc_nsms_20_6_14-19-2-2826-2734171347\n",
      "/home/ebb505/ARE_Project/are-logs/temp_0720/lc_nsms_20_6_14-19-3-3077-1442671665\n",
      "Folders:  20\n"
     ]
    }
   ],
   "source": [
    "# Get all directories\n",
    "folders = []\n",
    "# r=root, d=directories, f = files\n",
    "for r, d, f in os.walk(REPOSITORY):\n",
    "    for folder in d:\n",
    "        print(os.path.join(r, folder))\n",
    "        folders.append(os.path.join(r, folder))\n",
    "print(\"Folders: \", len(folders))"
   ]
  },
  {
   "cell_type": "code",
   "execution_count": 5,
   "metadata": {},
   "outputs": [
    {
     "name": "stdout",
     "output_type": "stream",
     "text": [
      "20\n",
      "100\n",
      "24001\n"
     ]
    }
   ],
   "source": [
    "print(len(lhs_selection))\n",
    "print(len(lhs_selection[0]))\n",
    "print(int(lhs_selection[0][0]))"
   ]
  },
  {
   "cell_type": "code",
   "execution_count": 7,
   "metadata": {},
   "outputs": [],
   "source": [
    "# Save in folders\n",
    "counter = 0\n",
    "for f in folders:\n",
    "    #print(f)\n",
    "    with open(f + '/' + O_LHSSELECTION, 'w', newline='') as write_obj:\n",
    "        csv_writer = csv.writer(write_obj)\n",
    "        for i in range(POPULATION):\n",
    "            csv_writer.writerow([int(lhs_selection[counter][i]),''])\n",
    "    with open(f + '/' + O_CLUSTERRANDSELECTION, 'w', newline='') as write_obj:\n",
    "        csv_writer = csv.writer(write_obj)\n",
    "        for i in range(POPULATION):\n",
    "            csv_writer.writerow([int(clusterrand_selection[counter][i]),''])\n",
    "    with open(f + '/' + O_CLUSTERSORTEDSELECTION, 'w', newline='') as write_obj:\n",
    "        csv_writer = csv.writer(write_obj)\n",
    "        for i in range(POPULATION):\n",
    "            csv_writer.writerow([int(clustersort_selection[counter][i]),''])\n",
    "    with open(f + '/' + O_SPARSENESSSORTEDSELECTION, 'w', newline='') as write_obj:\n",
    "        csv_writer = csv.writer(write_obj)\n",
    "        for i in range(POPULATION):\n",
    "            csv_writer.writerow([int(spasort_selection[counter][i]),''])\n",
    "    counter = counter + 1"
   ]
  },
  {
   "cell_type": "code",
   "execution_count": null,
   "metadata": {},
   "outputs": [],
   "source": []
  }
 ],
 "metadata": {
  "kernelspec": {
   "display_name": "Python 3",
   "language": "python",
   "name": "python3"
  },
  "language_info": {
   "codemirror_mode": {
    "name": "ipython",
    "version": 3
   },
   "file_extension": ".py",
   "mimetype": "text/x-python",
   "name": "python",
   "nbconvert_exporter": "python",
   "pygments_lexer": "ipython3",
   "version": "3.6.9"
  }
 },
 "nbformat": 4,
 "nbformat_minor": 2
}
