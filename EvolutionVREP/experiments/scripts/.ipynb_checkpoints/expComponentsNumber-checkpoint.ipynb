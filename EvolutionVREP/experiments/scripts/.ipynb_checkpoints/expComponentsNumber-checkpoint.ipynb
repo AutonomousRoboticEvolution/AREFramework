{
 "cells": [
  {
   "cell_type": "code",
   "execution_count": 1,
   "metadata": {},
   "outputs": [
    {
     "name": "stderr",
     "output_type": "stream",
     "text": [
      "In /home/ebb505/.local/lib/python3.6/site-packages/matplotlib/mpl-data/stylelib/_classic_test.mplstyle: \n",
      "The text.latex.preview rcparam was deprecated in Matplotlib 3.3 and will be removed two minor releases later.\n",
      "In /home/ebb505/.local/lib/python3.6/site-packages/matplotlib/mpl-data/stylelib/_classic_test.mplstyle: \n",
      "The mathtext.fallback_to_cm rcparam was deprecated in Matplotlib 3.3 and will be removed two minor releases later.\n",
      "In /home/ebb505/.local/lib/python3.6/site-packages/matplotlib/mpl-data/stylelib/_classic_test.mplstyle: Support for setting the 'mathtext.fallback_to_cm' rcParam is deprecated since 3.3 and will be removed two minor releases later; use 'mathtext.fallback : 'cm' instead.\n",
      "In /home/ebb505/.local/lib/python3.6/site-packages/matplotlib/mpl-data/stylelib/_classic_test.mplstyle: \n",
      "The validate_bool_maybe_none function was deprecated in Matplotlib 3.3 and will be removed two minor releases later.\n",
      "In /home/ebb505/.local/lib/python3.6/site-packages/matplotlib/mpl-data/stylelib/_classic_test.mplstyle: \n",
      "The savefig.jpeg_quality rcparam was deprecated in Matplotlib 3.3 and will be removed two minor releases later.\n",
      "In /home/ebb505/.local/lib/python3.6/site-packages/matplotlib/mpl-data/stylelib/_classic_test.mplstyle: \n",
      "The keymap.all_axes rcparam was deprecated in Matplotlib 3.3 and will be removed two minor releases later.\n",
      "In /home/ebb505/.local/lib/python3.6/site-packages/matplotlib/mpl-data/stylelib/_classic_test.mplstyle: \n",
      "The animation.avconv_path rcparam was deprecated in Matplotlib 3.3 and will be removed two minor releases later.\n",
      "In /home/ebb505/.local/lib/python3.6/site-packages/matplotlib/mpl-data/stylelib/_classic_test.mplstyle: \n",
      "The animation.avconv_args rcparam was deprecated in Matplotlib 3.3 and will be removed two minor releases later.\n"
     ]
    }
   ],
   "source": [
    "# Load libraries\n",
    "import csv\n",
    "import matplotlib.pyplot as plt\n",
    "import statistics\n",
    "import numpy as np\n",
    "import os\n",
    "from IPython.display import clear_output\n",
    "import pandas as pd"
   ]
  },
  {
   "cell_type": "code",
   "execution_count": 2,
   "metadata": {},
   "outputs": [
    {
     "name": "stdout",
     "output_type": "stream",
     "text": [
      "Filepath: /home/ebb505/ARE_Project/are-logs/temp_1120/\n"
     ]
    }
   ],
   "source": [
    "# Set filepath\n",
    "REPOSITORY='/home/ebb505/ARE_Project/are-logs/temp_1120/'\n",
    "FILENAME='MD_Cart_WDH.csv'\n",
    "AREPUCKFILEPATH='/home/ebb505/ARE_Project/are-logs/Descriptors2/ARE-Puck/'+FILENAME\n",
    "AREPOTATOFILEPATH='/home/ebb505/ARE_Project/are-logs/Descriptors2/ARE-Potato/'+FILENAME\n",
    "ARETRICYCLEFILEPATH='/home/ebb505/ARE_Project/are-logs/Descriptors2/ARE-Tricycle/'+FILENAME\n",
    "OFILE='componentsMedian.csv'\n",
    "print('Filepath: ' + REPOSITORY)"
   ]
  },
  {
   "cell_type": "code",
   "execution_count": 3,
   "metadata": {},
   "outputs": [
    {
     "name": "stdout",
     "output_type": "stream",
     "text": [
      "Folders:  20\n"
     ]
    }
   ],
   "source": [
    "# Get all directories\n",
    "folders = []\n",
    "# r=root, d=directories, f = files\n",
    "for r, d, f in os.walk(REPOSITORY):\n",
    "    for folder in d:\n",
    "        folders.append(os.path.join(r, folder))\n",
    "print(\"Folders: \", len(folders))"
   ]
  },
  {
   "cell_type": "code",
   "execution_count": 4,
   "metadata": {},
   "outputs": [],
   "source": [
    "# Get data evolved robots\n",
    "my_replicates = []\n",
    "for f in folders:\n",
    "    my_list = []\n",
    "    with open(f + '/' + FILENAME, 'r') as csvfile:\n",
    "        data = csv.reader(csvfile, delimiter=',', quotechar='\"')\n",
    "        for row in data:\n",
    "            my_list.append(row[:-1]) # Last character is empty for some reason\n",
    "    my_replicates.append(my_list)"
   ]
  },
  {
   "cell_type": "code",
   "execution_count": 5,
   "metadata": {},
   "outputs": [
    {
     "name": "stdout",
     "output_type": "stream",
     "text": [
      "Replicates:  20 Number of evaluations:  4000 Features size:  9\n"
     ]
    }
   ],
   "source": [
    "POPULATION = 25\n",
    "REPLICATES = len(my_replicates)\n",
    "#evaluations = len(my_replicates[0])\n",
    "EVALUATIONS = 4000\n",
    "FEATURES = len(my_replicates[0][0])\n",
    "GENERATIONS = int(EVALUATIONS / POPULATION)\n",
    "interval=1000\n",
    "rangeValues = range(0,EVALUATIONS,interval)\n",
    "lenRange = len(rangeValues)\n",
    "print(\"Replicates: \", REPLICATES, \"Number of evaluations: \", EVALUATIONS, \"Features size: \", FEATURES)"
   ]
  },
  {
   "cell_type": "code",
   "execution_count": 6,
   "metadata": {},
   "outputs": [
    {
     "name": "stdout",
     "output_type": "stream",
     "text": [
      "Done!\n"
     ]
    }
   ],
   "source": [
    "# Process data\n",
    "repplicates_data = []\n",
    "for rep in range(REPLICATES):\n",
    "    tempDat = []\n",
    "    tempDat = np.array([[float(y) for y in x] for x in my_replicates[rep]]) # Convert to array\n",
    "    repplicates_data.append(tempDat)\n",
    "print(\"Done!\")"
   ]
  },
  {
   "cell_type": "code",
   "execution_count": 7,
   "metadata": {},
   "outputs": [],
   "source": [
    "# Process data\n",
    "INTERVALS =  np.arange(0,1,1/16)\n",
    "#INTERVALS = [0.0,0.2,0.4,0.6,0.8,1.0,1.2,1.4,1.6,1.8]\n",
    "repplicates_organscount = []\n",
    "for rep in range(REPLICATES):\n",
    "    tempOrgans = []\n",
    "    for i in range(4):\n",
    "        organNumber = []\n",
    "        for j in INTERVALS:\n",
    "            organNumber.append(sum(repplicates_data[rep][:,5+i]==j))\n",
    "        tempOrgans.append(organNumber)\n",
    "    repplicates_organscount.append(tempOrgans)\n",
    "    "
   ]
  },
  {
   "cell_type": "code",
   "execution_count": 8,
   "metadata": {},
   "outputs": [
    {
     "name": "stdout",
     "output_type": "stream",
     "text": [
      "Done!\n"
     ]
    }
   ],
   "source": [
    "# Process data\n",
    "organs_data = []\n",
    "for rep in range(REPLICATES):\n",
    "    tempDat = []\n",
    "    tempDat = np.array([[int(y) for y in x] for x in repplicates_organscount[rep]]) # Convert to array\n",
    "    organs_data.append(tempDat)\n",
    "print(\"Done!\")"
   ]
  },
  {
   "cell_type": "code",
   "execution_count": 9,
   "metadata": {},
   "outputs": [],
   "source": [
    "wheelCount = []\n",
    "sensorCount = []\n",
    "jointCount = []\n",
    "casterCount = []\n",
    "for rep in range(REPLICATES):\n",
    "    tempWheel = []\n",
    "    tempSensor = []\n",
    "    tempJoint = []\n",
    "    tempCaster = []\n",
    "    for i in range(10):\n",
    "        tempWheel.append(organs_data[rep][0][i])\n",
    "        tempSensor.append(organs_data[rep][1][i])\n",
    "        tempJoint.append(organs_data[rep][2][i])\n",
    "        tempCaster.append(organs_data[rep][3][i])\n",
    "    wheelCount.append(tempWheel)\n",
    "    sensorCount.append(tempSensor)\n",
    "    jointCount.append(tempJoint)\n",
    "    casterCount.append(tempCaster)\n",
    "wheelCount = np.array([[int(y) for y in x] for x in wheelCount]) # Convert to array\n",
    "sensorCount = np.array([[int(y) for y in x] for x in sensorCount]) # Convert to array\n",
    "jointCount = np.array([[int(y) for y in x] for x in jointCount]) # Convert to array\n",
    "casterCount = np.array([[int(y) for y in x] for x in casterCount]) # Convert to array"
   ]
  },
  {
   "cell_type": "code",
   "execution_count": 10,
   "metadata": {},
   "outputs": [
    {
     "data": {
      "image/png": "[encoded data removed]",
      "text/plain": [
       "<Figure size 432x288 with 1 Axes>"
      ]
     },
     "metadata": {},
     "output_type": "display_data"
    }
   ],
   "source": [
    "plt.boxplot([wheelCount[:,0],wheelCount[:,1],wheelCount[:,2],wheelCount[:,3],wheelCount[:,4]])\n",
    "axes = plt.gca()\n",
    "axes.set_yscale('log')"
   ]
  },
  {
   "cell_type": "code",
   "execution_count": 11,
   "metadata": {},
   "outputs": [
    {
     "name": "stdout",
     "output_type": "stream",
     "text": [
      "2582.0 2424.5 2310.0 2578.5\n",
      "431.0 349.0 281.5 231.0\n",
      "374.5 315.0 317.0 187.0\n",
      "290.5 280.0 190.0 167.0\n",
      "232.0 217.5 215.5 142.5\n",
      "175.0 185.5 146.0 128.0\n"
     ]
    }
   ],
   "source": [
    "print(np.median(wheelCount[:,0]),np.median(sensorCount[:,0]),np.median(jointCount[:,0]),np.median(casterCount[:,0]))\n",
    "print(np.median(wheelCount[:,1]),np.median(sensorCount[:,1]),np.median(jointCount[:,1]),np.median(casterCount[:,1]))\n",
    "print(np.median(wheelCount[:,2]),np.median(sensorCount[:,2]),np.median(jointCount[:,2]),np.median(casterCount[:,2]))\n",
    "print(np.median(wheelCount[:,3]),np.median(sensorCount[:,3]),np.median(jointCount[:,3]),np.median(casterCount[:,3]))\n",
    "print(np.median(wheelCount[:,4]),np.median(sensorCount[:,4]),np.median(jointCount[:,4]),np.median(casterCount[:,4]))\n",
    "print(np.median(wheelCount[:,5]),np.median(sensorCount[:,5]),np.median(jointCount[:,5]),np.median(casterCount[:,5]))"
   ]
  },
  {
   "cell_type": "code",
   "execution_count": 12,
   "metadata": {},
   "outputs": [
    {
     "name": "stdout",
     "output_type": "stream",
     "text": [
      "1220.0074958786115\n",
      "338.38150067638156\n",
      "187.61670368066913\n",
      "149.42640328937856\n",
      "109.93055762616687\n",
      "77.64476801433565\n"
     ]
    }
   ],
   "source": [
    "print(np.std(wheelCount[:,0]))\n",
    "print(np.std(wheelCount[:,1]))\n",
    "print(np.std(wheelCount[:,2]))\n",
    "print(np.std(wheelCount[:,3]))\n",
    "print(np.std(wheelCount[:,4]))\n",
    "print(np.std(wheelCount[:,5]))"
   ]
  },
  {
   "cell_type": "code",
   "execution_count": 13,
   "metadata": {},
   "outputs": [],
   "source": [
    "# Save to CSV\n",
    "with open(REPOSITORY + OFILE, 'w', newline='') as write_obj:\n",
    "    csv_writer = csv.writer(write_obj)\n",
    "    for i in range(10):\n",
    "        csv_writer.writerow([np.median(wheelCount[:,i]),np.median(sensorCount[:,i]),np.median(jointCount[:,i]),np.median(casterCount[:,i])])"
   ]
  },
  {
   "cell_type": "code",
   "execution_count": 14,
   "metadata": {},
   "outputs": [],
   "source": [
    "viableRobots_data = []\n",
    "for rep in range(REPLICATES):\n",
    "    tempWheel = repplicates_data[rep][:,5]>0\n",
    "    tempSensor = repplicates_data[rep][:,6]>0\n",
    "    tempJoint = repplicates_data[rep][:,7]>0\n",
    "    viableRobots_data.append(repplicates_data[rep][(tempWheel|tempJoint)&tempSensor])"
   ]
  },
  {
   "cell_type": "code",
   "execution_count": 15,
   "metadata": {},
   "outputs": [
    {
     "name": "stdout",
     "output_type": "stream",
     "text": [
      "3325\n",
      "3325\n"
     ]
    }
   ],
   "source": [
    "x = []\n",
    "print(len(repplicates_data[0][:,5]))\n",
    "x.extend(repplicates_data[0][:,5])\n",
    "print(len(x))\n",
    "# x.extend(repplicates_data[1][:,5])\n",
    "# print(len(x))"
   ]
  },
  {
   "cell_type": "code",
   "execution_count": 31,
   "metadata": {},
   "outputs": [
    {
     "data": {
      "image/png": "[encoded data removed]",
      "text/plain": [
       "<Figure size 432x288 with 2 Axes>"
      ]
     },
     "metadata": {},
     "output_type": "display_data"
    }
   ],
   "source": [
    "font = {'weight' : 'normal',\n",
    "            'size'   : 14.0}\n",
    "plt.rc('font', **font)\n",
    "plt.figure()\n",
    "\n",
    "INTERVALS =  np.arange(0,1,1/16)\n",
    "xedges = INTERVALS\n",
    "yedges = INTERVALS\n",
    "\n",
    "# x = []\n",
    "# y = []\n",
    "# for rep in range(REPLICATES):\n",
    "#     x.extend(repplicates_data[rep][:,5])\n",
    "#     y.extend(repplicates_data[rep][:,7])\n",
    "    \n",
    "x = []\n",
    "y = []\n",
    "for rep in range(REPLICATES):\n",
    "    x.extend(viableRobots_data[rep][:EVALUATIONS,5])\n",
    "    y.extend(viableRobots_data[rep][:EVALUATIONS,7])\n",
    "\n",
    "\n",
    "H, xedges, yedges = np.histogram2d(x, y, bins=(xedges, yedges))\n",
    "H = H.T  # Let each row list bins with common y range.\n",
    "\n",
    "for i in range(len(H)):\n",
    "    for j in range(len(H[i])):\n",
    "        \n",
    "        if(H[i,j] > np.max(H)/5):\n",
    "            plt.text(j/10*0.64+1/32, i/10*0.64+1/32, str(format(float(H[i,j])/1000, '.1f')), fontsize=5, horizontalalignment='center').set_color('White')\n",
    "        else:\n",
    "            plt.text(j/10*0.64+1/32, i/10*0.64+1/32, str(format(float(H[i,j])/1000, '.1f')), fontsize=5, horizontalalignment='center').set_color('Black')\n",
    "                \n",
    "\n",
    "plt.imshow(H, interpolation='nearest', origin='lower',extent=[xedges[0], xedges[-1], yedges[0], yedges[-1]], cmap='Greys')\n",
    "plt.colorbar(label='Robots')\n",
    "X, Y = np.meshgrid(xedges, yedges)\n",
    "\n",
    "plt.xlabel('Wheels')\n",
    "plt.ylabel('Joints')\n",
    "\n",
    "plt.title('Only viable robots')\n",
    "\n",
    "TICKPOS =  np.arange(1/32,1,1/16)\n",
    "TICKLABEL = range(0,16,1)\n",
    "plt.yticks(TICKPOS, [str(i) for i in TICKLABEL])\n",
    "plt.xticks(TICKPOS, [str(i) for i in TICKLABEL])\n",
    "\n",
    "plt.savefig(REPOSITORY+'wheelsViable.png',dpi=200, bbox_inches='tight')"
   ]
  },
  {
   "cell_type": "code",
   "execution_count": null,
   "metadata": {},
   "outputs": [],
   "source": []
  }
 ],
 "metadata": {
  "kernelspec": {
   "display_name": "Python 3",
   "language": "python",
   "name": "python3"
  },
  "language_info": {
   "codemirror_mode": {
    "name": "ipython",
    "version": 3
   },
   "file_extension": ".py",
   "mimetype": "text/x-python",
   "name": "python",
   "nbconvert_exporter": "python",
   "pygments_lexer": "ipython3",
   "version": "3.6.9"
  }
 },
 "nbformat": 4,
 "nbformat_minor": 2
}
