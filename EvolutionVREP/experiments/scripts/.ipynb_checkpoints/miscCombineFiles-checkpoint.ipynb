{
 "cells": [
  {
   "cell_type": "code",
   "execution_count": null,
   "metadata": {},
   "outputs": [],
   "source": [
    "# Load libraries\n",
    "import csv\n",
    "import matplotlib.pyplot as plt\n",
    "import statistics\n",
    "import numpy as np\n",
    "import os\n",
    "from IPython.display import clear_output"
   ]
  },
  {
   "cell_type": "code",
   "execution_count": null,
   "metadata": {},
   "outputs": [],
   "source": [
    "# Set filepath\n",
    "REPOSITORY='/home/ebb505/ARE_Project/are-logs/temp_0808/'\n",
    "IFILE1='sparsenessAllRobotsSym1.csv'\n",
    "IFILE2='sparsenessAllRobotsSym1.csv'\n",
    "OFILE='sparsenessAllRobotsSym.csv'"
   ]
  },
  {
   "cell_type": "code",
   "execution_count": null,
   "metadata": {},
   "outputs": [],
   "source": [
    "# Import data from csv\n",
    "iFile = []\n",
    "with open(REPOSITORY + IFILE1, 'r') as csvfile:\n",
    "    data = csv.reader(csvfile, delimiter=',', quotechar='\"')\n",
    "    for row in data:\n",
    "        iFile.append(row[1:-1]) # Last character is empty for some reason\n",
    "with open(REPOSITORY + IFILE2, 'r') as csvfile:\n",
    "    data = csv.reader(csvfile, delimiter=',', quotechar='\"')\n",
    "    for row in data:\n",
    "        iFile.append(row[1:-1]) # Last character is empty for some reason"
   ]
  },
  {
   "cell_type": "code",
   "execution_count": null,
   "metadata": {},
   "outputs": [],
   "source": [
    "# Save to CSV\n",
    "with open(REPOSITORY + OFILE, 'w', newline='') as write_obj:\n",
    "    csv_writer = csv.writer(write_obj)\n",
    "    for i in range(len(iFile)):\n",
    "        csv_writer.writerow(iFile[i])"
   ]
  }
 ],
 "metadata": {
  "kernelspec": {
   "display_name": "Python 3",
   "language": "python",
   "name": "python3"
  },
  "language_info": {
   "codemirror_mode": {
    "name": "ipython",
    "version": 3
   },
   "file_extension": ".py",
   "mimetype": "text/x-python",
   "name": "python",
   "nbconvert_exporter": "python",
   "pygments_lexer": "ipython3",
   "version": "3.6.9"
  }
 },
 "nbformat": 4,
 "nbformat_minor": 2
}
