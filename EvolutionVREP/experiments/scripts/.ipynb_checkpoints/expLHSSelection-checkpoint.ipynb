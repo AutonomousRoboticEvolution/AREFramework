{
 "cells": [
  {
   "cell_type": "code",
   "execution_count": 1,
   "metadata": {},
   "outputs": [
    {
     "name": "stderr",
     "output_type": "stream",
     "text": [
      "In /home/ebb505/.local/lib/python3.6/site-packages/matplotlib/mpl-data/stylelib/_classic_test.mplstyle: \n",
      "The text.latex.preview rcparam was deprecated in Matplotlib 3.3 and will be removed two minor releases later.\n",
      "In /home/ebb505/.local/lib/python3.6/site-packages/matplotlib/mpl-data/stylelib/_classic_test.mplstyle: \n",
      "The mathtext.fallback_to_cm rcparam was deprecated in Matplotlib 3.3 and will be removed two minor releases later.\n",
      "In /home/ebb505/.local/lib/python3.6/site-packages/matplotlib/mpl-data/stylelib/_classic_test.mplstyle: Support for setting the 'mathtext.fallback_to_cm' rcParam is deprecated since 3.3 and will be removed two minor releases later; use 'mathtext.fallback : 'cm' instead.\n",
      "In /home/ebb505/.local/lib/python3.6/site-packages/matplotlib/mpl-data/stylelib/_classic_test.mplstyle: \n",
      "The validate_bool_maybe_none function was deprecated in Matplotlib 3.3 and will be removed two minor releases later.\n",
      "In /home/ebb505/.local/lib/python3.6/site-packages/matplotlib/mpl-data/stylelib/_classic_test.mplstyle: \n",
      "The savefig.jpeg_quality rcparam was deprecated in Matplotlib 3.3 and will be removed two minor releases later.\n",
      "In /home/ebb505/.local/lib/python3.6/site-packages/matplotlib/mpl-data/stylelib/_classic_test.mplstyle: \n",
      "The keymap.all_axes rcparam was deprecated in Matplotlib 3.3 and will be removed two minor releases later.\n",
      "In /home/ebb505/.local/lib/python3.6/site-packages/matplotlib/mpl-data/stylelib/_classic_test.mplstyle: \n",
      "The animation.avconv_path rcparam was deprecated in Matplotlib 3.3 and will be removed two minor releases later.\n",
      "In /home/ebb505/.local/lib/python3.6/site-packages/matplotlib/mpl-data/stylelib/_classic_test.mplstyle: \n",
      "The animation.avconv_args rcparam was deprecated in Matplotlib 3.3 and will be removed two minor releases later.\n"
     ]
    }
   ],
   "source": [
    "# Load libraries\n",
    "import csv\n",
    "import matplotlib.pyplot as plt\n",
    "import statistics\n",
    "import numpy as np\n",
    "import os\n",
    "from IPython.display import clear_output\n",
    "# LHS\n",
    "from smt.sampling_methods import LHS"
   ]
  },
  {
   "cell_type": "code",
   "execution_count": 2,
   "metadata": {},
   "outputs": [
    {
     "name": "stdout",
     "output_type": "stream",
     "text": [
      "Filepath: /home/ebb505/ARE_Project/are-logs/temp_0808/\n"
     ]
    }
   ],
   "source": [
    "# Set filepath\n",
    "REPOSITORY='/home/ebb505/ARE_Project/are-logs/temp_0808/'\n",
    "FILENAME='MD_Cart_WDH.csv'\n",
    "OFILE='LHSSelection.csv'\n",
    "print('Filepath: ' + REPOSITORY)\n",
    "REPLICATES=20\n",
    "EVALUATIONS=30000"
   ]
  },
  {
   "cell_type": "code",
   "execution_count": 3,
   "metadata": {},
   "outputs": [
    {
     "name": "stdout",
     "output_type": "stream",
     "text": [
      "Folders:  20\n"
     ]
    }
   ],
   "source": [
    "# Get all directories\n",
    "folders = []\n",
    "# r=root, d=directories, f = files\n",
    "for r, d, f in os.walk(REPOSITORY):\n",
    "    for folder in d:\n",
    "        folders.append(os.path.join(r, folder))\n",
    "print(\"Folders: \", len(folders))"
   ]
  },
  {
   "cell_type": "code",
   "execution_count": 4,
   "metadata": {},
   "outputs": [
    {
     "name": "stdout",
     "output_type": "stream",
     "text": [
      "/home/ebb505/ARE_Project/are-logs/temp_0808/lc_nsms_6_7_14-45-54-4854-2568203076\n",
      "/home/ebb505/ARE_Project/are-logs/temp_0808/lc_nsms_6_7_14-45-54-4729-2473138500\n",
      "/home/ebb505/ARE_Project/are-logs/temp_0808/lc_nsms_6_7_14-45-54-4748-1166241614\n",
      "/home/ebb505/ARE_Project/are-logs/temp_0808/lc_nsms_6_7_14-45-54-4853-3533916095\n",
      "/home/ebb505/ARE_Project/are-logs/temp_0808/lc_nsms_6_7_14-45-54-4728-3552986462\n",
      "/home/ebb505/ARE_Project/are-logs/temp_0808/lc_nsms_6_7_14-45-54-4875-4076501458\n",
      "/home/ebb505/ARE_Project/are-logs/temp_0808/lc_nsms_6_7_14-45-54-4905-1634114651\n",
      "/home/ebb505/ARE_Project/are-logs/temp_0808/lc_nsms_6_7_14-45-54-4771-2985634593\n",
      "/home/ebb505/ARE_Project/are-logs/temp_0808/lc_nsms_6_7_14-45-54-4830-1502148383\n",
      "/home/ebb505/ARE_Project/are-logs/temp_0808/lc_nsms_6_7_14-45-54-4706-2402252332\n",
      "/home/ebb505/ARE_Project/are-logs/temp_0808/lc_nsms_6_7_14-45-54-4852-3751257942\n",
      "/home/ebb505/ARE_Project/are-logs/temp_0808/lc_nsms_6_7_14-45-54-4957-2016985069\n",
      "/home/ebb505/ARE_Project/are-logs/temp_0808/lc_nsms_6_7_14-45-54-4685-3170357486\n",
      "/home/ebb505/ARE_Project/are-logs/temp_0808/lc_nsms_6_7_14-45-54-4751-1206639312\n",
      "/home/ebb505/ARE_Project/are-logs/temp_0808/lc_nsms_6_7_14-45-54-4666-1930478439\n",
      "/home/ebb505/ARE_Project/are-logs/temp_0808/lc_nsms_6_7_14-45-54-4996-4169711244\n",
      "/home/ebb505/ARE_Project/are-logs/temp_0808/lc_nsms_6_7_14-45-54-4876-352801395\n",
      "/home/ebb505/ARE_Project/are-logs/temp_0808/lc_nsms_6_7_14-45-54-4792-111164764\n",
      "/home/ebb505/ARE_Project/are-logs/temp_0808/lc_nsms_6_7_14-45-54-4811-2825690124\n",
      "/home/ebb505/ARE_Project/are-logs/temp_0808/lc_nsms_6_7_14-45-54-4855-2485842685\n"
     ]
    }
   ],
   "source": [
    "# Get data evolved robots\n",
    "my_replicates = []\n",
    "for f in folders:\n",
    "    print(f)\n",
    "    my_list = []\n",
    "    with open(f + '/' + FILENAME, 'r') as csvfile:\n",
    "        data = csv.reader(csvfile, delimiter=',', quotechar='\"')\n",
    "        for row in data:\n",
    "            my_list.append(row[:-1]) # Last character is empty for some reason\n",
    "    my_replicates.append(my_list)"
   ]
  },
  {
   "cell_type": "code",
   "execution_count": 5,
   "metadata": {},
   "outputs": [],
   "source": [
    "# Check all replicates have the minimum number of evaluations\n",
    "for i in range(REPLICATES):\n",
    "    if len(my_replicates[i]) < EVALUATIONS:\n",
    "        print(\"Error!\")"
   ]
  },
  {
   "cell_type": "code",
   "execution_count": 6,
   "metadata": {},
   "outputs": [
    {
     "name": "stdout",
     "output_type": "stream",
     "text": [
      "Done!\n"
     ]
    }
   ],
   "source": [
    "# Process data\n",
    "repplicates_data = []\n",
    "for rep in range(REPLICATES):\n",
    "    tempDat = []\n",
    "    tempDat = np.array([[float(y) for y in x] for x in my_replicates[rep]]) # Convert to array\n",
    "    repplicates_data.append(tempDat)\n",
    "print(\"Done!\")"
   ]
  },
  {
   "cell_type": "code",
   "execution_count": 7,
   "metadata": {},
   "outputs": [
    {
     "name": "stdout",
     "output_type": "stream",
     "text": [
      "1950\n",
      "2461\n",
      "2400\n",
      "1977\n",
      "2264\n",
      "1991\n",
      "1592\n",
      "2434\n",
      "1981\n",
      "2318\n",
      "1899\n",
      "2126\n",
      "1956\n",
      "1740\n",
      "1798\n",
      "2090\n",
      "2268\n",
      "2142\n",
      "2340\n",
      "1762\n",
      "[141. 150. 157. 163. 168.]\n"
     ]
    }
   ],
   "source": [
    "# Process data\n",
    "viableRobots_data = []\n",
    "for rep in range(REPLICATES):      \n",
    "    #tempWheel = repplicates_data[rep][:,5]>0\n",
    "    tempWheel = repplicates_data[rep][:,5]>0.2\n",
    "    tempSensor = repplicates_data[rep][:,6]>0\n",
    "    tempJoint = repplicates_data[rep][:,7]>0\n",
    "    #viableRobots_data.append(repplicates_data[rep][(tempWheel|tempJoint)&tempSensor,0])\n",
    "    viableRobots_data.append(repplicates_data[rep][tempWheel&tempSensor,0])\n",
    "    print(len(viableRobots_data[rep]))\n",
    "print(viableRobots_data[0][:5])"
   ]
  },
  {
   "cell_type": "code",
   "execution_count": 8,
   "metadata": {},
   "outputs": [
    {
     "name": "stdout",
     "output_type": "stream",
     "text": [
      "1950\n",
      "2461\n",
      "2400\n",
      "1977\n",
      "2264\n",
      "1991\n",
      "1592\n",
      "2434\n",
      "1981\n",
      "2318\n",
      "1899\n",
      "2126\n",
      "1956\n",
      "1740\n",
      "1798\n",
      "2090\n",
      "2268\n",
      "2142\n",
      "2340\n",
      "1762\n"
     ]
    }
   ],
   "source": [
    "# LHS\n",
    "lhs_robots = []\n",
    "BOOTSTRAPPOPULATION = 100\n",
    "#EVALUATIONS = 30000\n",
    "#xlimits = np.array([[0, EVALUATIONS]])\n",
    "for i in range(REPLICATES):\n",
    "    evaluationsRep = len(viableRobots_data[i])\n",
    "    print(evaluationsRep)\n",
    "    xlimits = np.array([[0, evaluationsRep]])\n",
    "    sampling = LHS(xlimits=xlimits)\n",
    "    samples = sampling(BOOTSTRAPPOPULATION)\n",
    "    samples = np.array([int(y) for y in samples])\n",
    "    lhs_robots.append(samples)"
   ]
  },
  {
   "cell_type": "code",
   "execution_count": 9,
   "metadata": {},
   "outputs": [],
   "source": [
    "# LHS\n",
    "viable_bootstrap = []\n",
    "for i in range(REPLICATES):\n",
    "    #print(i)\n",
    "    viable_bootstrap.append(viableRobots_data[i][lhs_robots[i]])\n",
    "# temp = viableRobots_data[0][lhs_robots[0]]\n",
    "# print(len(viableRobots_data[0]))\n",
    "# print(len(lhs_robots[0]))\n",
    "# print(lhs_robots[0][:5])\n",
    "# print(len(temp))\n",
    "# print(temp[:5])\n",
    "#print(len(temp))\n",
    "    "
   ]
  },
  {
   "cell_type": "code",
   "execution_count": 10,
   "metadata": {},
   "outputs": [],
   "source": [
    "# Save to CSV\n",
    "with open(REPOSITORY + OFILE, 'w', newline='') as write_obj:\n",
    "    csv_writer = csv.writer(write_obj)\n",
    "    for i in range(REPLICATES):\n",
    "        csv_writer.writerow([int(y) for y in viable_bootstrap[i]] )"
   ]
  },
  {
   "cell_type": "code",
   "execution_count": null,
   "metadata": {},
   "outputs": [],
   "source": []
  }
 ],
 "metadata": {
  "kernelspec": {
   "display_name": "Python 3",
   "language": "python",
   "name": "python3"
  },
  "language_info": {
   "codemirror_mode": {
    "name": "ipython",
    "version": 3
   },
   "file_extension": ".py",
   "mimetype": "text/x-python",
   "name": "python",
   "nbconvert_exporter": "python",
   "pygments_lexer": "ipython3",
   "version": "3.6.9"
  }
 },
 "nbformat": 4,
 "nbformat_minor": 2
}
