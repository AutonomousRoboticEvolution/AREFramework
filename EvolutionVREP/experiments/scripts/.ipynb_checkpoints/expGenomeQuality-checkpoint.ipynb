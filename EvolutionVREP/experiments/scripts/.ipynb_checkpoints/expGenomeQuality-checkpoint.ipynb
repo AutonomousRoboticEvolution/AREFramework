{
 "cells": [
  {
   "cell_type": "code",
   "execution_count": 1,
   "metadata": {},
   "outputs": [
    {
     "name": "stderr",
     "output_type": "stream",
     "text": [
      "In /home/ebb505/.local/lib/python3.6/site-packages/matplotlib/mpl-data/stylelib/_classic_test.mplstyle: \n",
      "The text.latex.preview rcparam was deprecated in Matplotlib 3.3 and will be removed two minor releases later.\n",
      "In /home/ebb505/.local/lib/python3.6/site-packages/matplotlib/mpl-data/stylelib/_classic_test.mplstyle: \n",
      "The mathtext.fallback_to_cm rcparam was deprecated in Matplotlib 3.3 and will be removed two minor releases later.\n",
      "In /home/ebb505/.local/lib/python3.6/site-packages/matplotlib/mpl-data/stylelib/_classic_test.mplstyle: Support for setting the 'mathtext.fallback_to_cm' rcParam is deprecated since 3.3 and will be removed two minor releases later; use 'mathtext.fallback : 'cm' instead.\n",
      "In /home/ebb505/.local/lib/python3.6/site-packages/matplotlib/mpl-data/stylelib/_classic_test.mplstyle: \n",
      "The validate_bool_maybe_none function was deprecated in Matplotlib 3.3 and will be removed two minor releases later.\n",
      "In /home/ebb505/.local/lib/python3.6/site-packages/matplotlib/mpl-data/stylelib/_classic_test.mplstyle: \n",
      "The savefig.jpeg_quality rcparam was deprecated in Matplotlib 3.3 and will be removed two minor releases later.\n",
      "In /home/ebb505/.local/lib/python3.6/site-packages/matplotlib/mpl-data/stylelib/_classic_test.mplstyle: \n",
      "The keymap.all_axes rcparam was deprecated in Matplotlib 3.3 and will be removed two minor releases later.\n",
      "In /home/ebb505/.local/lib/python3.6/site-packages/matplotlib/mpl-data/stylelib/_classic_test.mplstyle: \n",
      "The animation.avconv_path rcparam was deprecated in Matplotlib 3.3 and will be removed two minor releases later.\n",
      "In /home/ebb505/.local/lib/python3.6/site-packages/matplotlib/mpl-data/stylelib/_classic_test.mplstyle: \n",
      "The animation.avconv_args rcparam was deprecated in Matplotlib 3.3 and will be removed two minor releases later.\n"
     ]
    }
   ],
   "source": [
    "# Load libraries\n",
    "import csv\n",
    "import matplotlib.pyplot as plt\n",
    "import statistics\n",
    "import numpy as np\n",
    "import os\n",
    "from IPython.display import clear_output\n",
    "import pandas as pd"
   ]
  },
  {
   "cell_type": "code",
   "execution_count": 3,
   "metadata": {},
   "outputs": [
    {
     "name": "stdout",
     "output_type": "stream",
     "text": [
      "Filepath: /home/ebb505/ARE_Project/are-logs/temp_0808/\n"
     ]
    }
   ],
   "source": [
    "# Set filepath\n",
    "REPOSITORY='/home/ebb505/ARE_Project/are-logs/temp_0808/'\n",
    "FILENAMEDESC='MD_Cart_WDH.csv'\n",
    "FILENAMETESTS='tests.csv'\n",
    "AREPUCKFILEPATH='/home/ebb505/ARE_Project/are-logs/Descriptors2/ARE-Puck/'+FILENAMEDESC\n",
    "AREPOTATOFILEPATH='/home/ebb505/ARE_Project/are-logs/Descriptors2/ARE-Potato/'+FILENAMEDESC\n",
    "ARETRICYCLEFILEPATH='/home/ebb505/ARE_Project/are-logs/Descriptors2/ARE-Tricycle/'+FILENAMEDESC\n",
    "OFILE='componentsMean.csv'\n",
    "print('Filepath: ' + REPOSITORY)"
   ]
  },
  {
   "cell_type": "code",
   "execution_count": 4,
   "metadata": {},
   "outputs": [
    {
     "name": "stdout",
     "output_type": "stream",
     "text": [
      "Folders:  20\n"
     ]
    }
   ],
   "source": [
    "# Get all directories\n",
    "folders = []\n",
    "# r=root, d=directories, f = files\n",
    "for r, d, f in os.walk(REPOSITORY):\n",
    "    for folder in d:\n",
    "        folders.append(os.path.join(r, folder))\n",
    "print(\"Folders: \", len(folders))"
   ]
  },
  {
   "cell_type": "code",
   "execution_count": 5,
   "metadata": {},
   "outputs": [],
   "source": [
    "# Get data evolved robots\n",
    "my_replicates_desc = []\n",
    "my_replicates_tests = []\n",
    "for f in folders:\n",
    "    my_list = []\n",
    "    with open(f + '/' + FILENAMEDESC, 'r') as csvfile:\n",
    "        data = csv.reader(csvfile, delimiter=',', quotechar='\"')\n",
    "        for row in data:\n",
    "            my_list.append(row[:-1]) # Last character is empty for some reason\n",
    "    my_replicates_desc.append(my_list)\n",
    "    my_list = []\n",
    "    with open(f + '/' + FILENAMETESTS, 'r') as csvfile:\n",
    "        data = csv.reader(csvfile, delimiter=',', quotechar='\"')\n",
    "        for row in data:\n",
    "            my_list.append(row[:-1]) # Last character is empty for some reason\n",
    "    my_replicates_tests.append(my_list)"
   ]
  },
  {
   "cell_type": "code",
   "execution_count": 8,
   "metadata": {},
   "outputs": [
    {
     "name": "stdout",
     "output_type": "stream",
     "text": [
      "Replicates:  20 Number of evaluations:  30000 Features size:  9\n"
     ]
    }
   ],
   "source": [
    "POPULATION = 25\n",
    "REPLICATES = len(my_replicates_desc)\n",
    "#evaluations = len(my_replicates[0])\n",
    "EVALUATIONS = 30000\n",
    "FEATURES = len(my_replicates_desc[0][0])\n",
    "GENERATIONS = int(EVALUATIONS / POPULATION)\n",
    "interval=1000\n",
    "rangeValues = range(0,EVALUATIONS,interval)\n",
    "lenRange = len(rangeValues)\n",
    "print(\"Replicates: \", REPLICATES, \"Number of evaluations: \", EVALUATIONS, \"Features size: \", FEATURES)"
   ]
  },
  {
   "cell_type": "code",
   "execution_count": 9,
   "metadata": {},
   "outputs": [
    {
     "name": "stdout",
     "output_type": "stream",
     "text": [
      "Done!\n"
     ]
    }
   ],
   "source": [
    "# Process data\n",
    "repplicates_data_desc = []\n",
    "repplicates_data_tests = []\n",
    "for rep in range(REPLICATES):\n",
    "    tempDat = []\n",
    "    tempDat = np.array([[float(y) for y in x] for x in my_replicates_desc[rep]]) # Convert to array\n",
    "    repplicates_data_desc.append(tempDat)\n",
    "    tempDat = []\n",
    "    tempDat = np.array([[float(y) for y in x] for x in my_replicates_tests[rep]]) # Convert to array\n",
    "    repplicates_data_tests.append(tempDat)\n",
    "print(\"Done!\")"
   ]
  },
  {
   "cell_type": "code",
   "execution_count": 29,
   "metadata": {},
   "outputs": [
    {
     "name": "stdout",
     "output_type": "stream",
     "text": [
      "0.0\n",
      "1\n",
      "-1\n"
     ]
    }
   ],
   "source": [
    "print(repplicates_data_desc[rep][0][5])\n",
    "print(my_replicates_tests[rep][0][4])\n",
    "a = repplicates_data_desc[rep][0][5]\n",
    "b = my_replicates_tests[rep][0][4]\n",
    "print(int(a)-int(b))\n",
    "#print(((repplicates_data_desc[rep][ev][5]/2)*10)-my_replicates_tests[rep][ev][4])\n",
    "# print(((repplicates_data_desc[rep][ev,5]/2)*10)-my_replicates_tests[rep][ev,4])"
   ]
  },
  {
   "cell_type": "code",
   "execution_count": 60,
   "metadata": {},
   "outputs": [],
   "source": [
    "# NOTE: THIS MIGHET NOT NEEDED\n",
    "rep_gen_quality = []\n",
    "for rep in range(REPLICATES):\n",
    "    temp__ev_gen_quality = []\n",
    "    for ev in range(EVALUATIONS):\n",
    "        temp_organ = []\n",
    "        for i in range(4):\n",
    "            temp_organ.append(((repplicates_data_desc[rep][ev][5+i] / 2)*10)-repplicates_data_tests[rep][ev][4+i])\n",
    "        temp__ev_gen_quality.append(temp_organ)\n",
    "    rep_gen_quality.append(temp__ev_gen_quality)\n",
    "        "
   ]
  },
  {
   "cell_type": "code",
   "execution_count": 61,
   "metadata": {},
   "outputs": [
    {
     "name": "stdout",
     "output_type": "stream",
     "text": [
      "-1.0\n",
      "-1.0\n"
     ]
    }
   ],
   "source": [
    "print(rep_gen_quality[0][0][0])\n",
    "print(max(rep_gen_quality[0][:][0]))\n",
    "#plt.boxplot([rep_gen_quality[0]])"
   ]
  },
  {
   "cell_type": "code",
   "execution_count": 56,
   "metadata": {},
   "outputs": [
    {
     "name": "stdout",
     "output_type": "stream",
     "text": [
      "Done!\n"
     ]
    }
   ],
   "source": [
    "# NOTE: THIS MIGHET NOT NEEDED\n",
    "# Process data\n",
    "rep_gen_data = []\n",
    "for rep in range(REPLICATES):\n",
    "    tempDat = []\n",
    "    tempDat = np.array([[int(y) for y in x] for x in rep_gen_quality[rep]]) # Convert to array\n",
    "    rep_gen_data.append(tempDat)\n",
    "print(\"Done!\")"
   ]
  },
  {
   "cell_type": "code",
   "execution_count": 57,
   "metadata": {},
   "outputs": [
    {
     "name": "stdout",
     "output_type": "stream",
     "text": [
      "4\n"
     ]
    }
   ],
   "source": [
    "print(np.max(rep_gen_data[0][:,1]))"
   ]
  },
  {
   "cell_type": "code",
   "execution_count": 73,
   "metadata": {},
   "outputs": [
    {
     "name": "stdout",
     "output_type": "stream",
     "text": [
      "1.0\n",
      "0.28136666666666665\n",
      "0.196\n",
      "0.3742666666666667\n",
      "0.3147\n"
     ]
    }
   ],
   "source": [
    "print(np.max(repplicates_data_tests[0][:,5]))\n",
    "tempNoRep = repplicates_data_tests[0][repplicates_data_tests[0][:,4]==0,4]\n",
    "print(len(tempNoRep)/30000)\n",
    "tempNoRep = repplicates_data_tests[0][repplicates_data_tests[0][:,5]==0,5]\n",
    "print(len(tempNoRep)/30000)\n",
    "tempNoRep = repplicates_data_tests[0][repplicates_data_tests[0][:,6]==0,6]\n",
    "print(len(tempNoRep)/30000)\n",
    "tempNoRep = repplicates_data_tests[0][repplicates_data_tests[0][:,7]==0,7]\n",
    "print(len(tempNoRep)/30000)"
   ]
  },
  {
   "cell_type": "code",
   "execution_count": 107,
   "metadata": {},
   "outputs": [],
   "source": [
    "rep_quality_ratio = []\n",
    "for rep in range(REPLICATES):\n",
    "    temp_organ = []\n",
    "    for i in range(4):\n",
    "        tempNoRep = repplicates_data_tests[rep][repplicates_data_tests[rep][:,4+i]==0,4+i]\n",
    "        #temp_organ.append(len(tempNoRep)/EVALUATIONS)\n",
    "        temp_organ.append(len(tempNoRep))\n",
    "        \n",
    "    rep_quality_ratio.append(temp_organ)"
   ]
  },
  {
   "cell_type": "code",
   "execution_count": 108,
   "metadata": {},
   "outputs": [
    {
     "name": "stdout",
     "output_type": "stream",
     "text": [
      "20\n",
      "4\n",
      "[8441. 7911. 7957. 8329. 7712.]\n"
     ]
    }
   ],
   "source": [
    "print(len(rep_quality_ratio))\n",
    "print(len(rep_quality_ratio[0]))\n",
    "#print(rep_quality_ratio)\n",
    "tempDat = np.array([[float(y) for y in x] for x in rep_quality_ratio]) # Convert to array\n",
    "print(tempDat[:5,0])\n",
    "#plt"
   ]
  },
  {
   "cell_type": "code",
   "execution_count": 109,
   "metadata": {},
   "outputs": [
    {
     "data": {
      "text/plain": [
       "{'boxes': [<matplotlib.lines.Line2D at 0x7fbed3ca3198>,\n",
       "  <matplotlib.lines.Line2D at 0x7fbed3caf470>,\n",
       "  <matplotlib.lines.Line2D at 0x7fbed3cbd898>,\n",
       "  <matplotlib.lines.Line2D at 0x7fbed3c4bcc0>],\n",
       " 'caps': [<matplotlib.lines.Line2D at 0x7fbed3ca39b0>,\n",
       "  <matplotlib.lines.Line2D at 0x7fbed3ca3c88>,\n",
       "  <matplotlib.lines.Line2D at 0x7fbed3cafdd8>,\n",
       "  <matplotlib.lines.Line2D at 0x7fbed3cbd0f0>,\n",
       "  <matplotlib.lines.Line2D at 0x7fbed3c4b240>,\n",
       "  <matplotlib.lines.Line2D at 0x7fbed3c4b518>,\n",
       "  <matplotlib.lines.Line2D at 0x7fbed3c5b668>,\n",
       "  <matplotlib.lines.Line2D at 0x7fbed3c5b940>],\n",
       " 'fliers': [<matplotlib.lines.Line2D at 0x7fbed3caf278>,\n",
       "  <matplotlib.lines.Line2D at 0x7fbed3cbd6a0>,\n",
       "  <matplotlib.lines.Line2D at 0x7fbed3c4bac8>,\n",
       "  <matplotlib.lines.Line2D at 0x7fbed3c5bef0>],\n",
       " 'means': [],\n",
       " 'medians': [<matplotlib.lines.Line2D at 0x7fbed3ca3f60>,\n",
       "  <matplotlib.lines.Line2D at 0x7fbed3cbd3c8>,\n",
       "  <matplotlib.lines.Line2D at 0x7fbed3c4b7f0>,\n",
       "  <matplotlib.lines.Line2D at 0x7fbed3c5bc18>],\n",
       " 'whiskers': [<matplotlib.lines.Line2D at 0x7fbed3ca3400>,\n",
       "  <matplotlib.lines.Line2D at 0x7fbed3ca36d8>,\n",
       "  <matplotlib.lines.Line2D at 0x7fbed3caf828>,\n",
       "  <matplotlib.lines.Line2D at 0x7fbed3cafb00>,\n",
       "  <matplotlib.lines.Line2D at 0x7fbed3cbdc50>,\n",
       "  <matplotlib.lines.Line2D at 0x7fbed3cbdf28>,\n",
       "  <matplotlib.lines.Line2D at 0x7fbed3c5b0b8>,\n",
       "  <matplotlib.lines.Line2D at 0x7fbed3c5b390>]}"
      ]
     },
     "execution_count": 109,
     "metadata": {},
     "output_type": "execute_result"
    },
    {
     "data": {
      "image/png": "[encoded data removed]",
      "text/plain": [
       "<Figure size 432x288 with 1 Axes>"
      ]
     },
     "metadata": {},
     "output_type": "display_data"
    }
   ],
   "source": [
    "plt.boxplot([tempDat[:,0],tempDat[:,1],tempDat[:,2],tempDat[:,3]])"
   ]
  },
  {
   "cell_type": "code",
   "execution_count": 111,
   "metadata": {},
   "outputs": [
    {
     "data": {
      "image/png": "[encoded data removed]",
      "text/plain": [
       "<Figure size 432x288 with 1 Axes>"
      ]
     },
     "metadata": {},
     "output_type": "display_data"
    }
   ],
   "source": [
    "tempDat = np.array([[float(y) for y in x] for x in rep_quality_ratio]) # Convert to array\n",
    "# Plot stuff\n",
    "xValues = list(range(POPULATION, EVALUATIONS, POPULATION))\n",
    "xValues = [x/POPULATION for x in xValues]\n",
    "# Plot stuff\n",
    "font = {'weight' : 'normal',\n",
    "        'size'   : 14.0}\n",
    "\n",
    "plt.rc('font', **font)\n",
    "plt.figure(0)\n",
    "\n",
    "plt.boxplot([tempDat[:,0],tempDat[:,1],tempDat[:,2],tempDat[:,3]])\n",
    "# plt.boxplot([lhs_sparseness_mean, clusterrand_sparseness_mean, clustersort_sparseness_mean])\n",
    "\n",
    "plt.xlabel('Organ type')\n",
    "plt.ylabel('Robot with no changes')\n",
    "\n",
    "axes = plt.gca()\n",
    "#axes.set_ylim([0.0,EVALUATIONS])\n",
    "axes.set_ylim([5000,15000])\n",
    "\n",
    "plt.xticks([1, 2, 3, 4], ['Wheels', 'Sensors', 'Joints', 'Casters'])\n",
    "\n",
    "plt.savefig(REPOSITORY+'GenomeQuality.png',dpi=200)"
   ]
  },
  {
   "cell_type": "code",
   "execution_count": null,
   "metadata": {},
   "outputs": [],
   "source": []
  }
 ],
 "metadata": {
  "kernelspec": {
   "display_name": "Python 3",
   "language": "python",
   "name": "python3"
  },
  "language_info": {
   "codemirror_mode": {
    "name": "ipython",
    "version": 3
   },
   "file_extension": ".py",
   "mimetype": "text/x-python",
   "name": "python",
   "nbconvert_exporter": "python",
   "pygments_lexer": "ipython3",
   "version": "3.6.9"
  }
 },
 "nbformat": 4,
 "nbformat_minor": 2
}
