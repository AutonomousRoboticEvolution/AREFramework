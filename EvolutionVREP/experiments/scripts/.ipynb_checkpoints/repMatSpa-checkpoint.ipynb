{
 "cells": [
  {
   "cell_type": "code",
   "execution_count": 1,
   "metadata": {},
   "outputs": [],
   "source": [
    "# Load libraries\n",
    "import csv\n",
    "import matplotlib.pyplot as plt\n",
    "import statistics\n",
    "import numpy as np\n",
    "import os\n",
    "from IPython.display import clear_output\n",
    "import pandas as pd\n"
   ]
  },
  {
   "cell_type": "code",
   "execution_count": 2,
   "metadata": {},
   "outputs": [
    {
     "name": "stdout",
     "output_type": "stream",
     "text": [
      "Filepath: /home/ebb505/ARE_Project/are-logs/lc_nsms_26_5_16-3-4-4743/MD_Matrix_Proto.csv\n"
     ]
    }
   ],
   "source": [
    "# Set filepath\n",
    "repository='/home/ebb505/ARE_Project/are-logs/'\n",
    "replicate='lc_nsms_26_5_16-3-4-4743/'\n",
    "filename='MD_Matrix_Proto.csv'\n",
    "filepath=repository+replicate+filename\n",
    "print('Filepath: ' + filepath)\n",
    "AREPuckFilePath='/home/ebb505/ARE_Project/are-logs/Descriptors2/ARE-Puck/'+filename\n",
    "AREPotatoFilePath='/home/ebb505/ARE_Project/are-logs/Descriptors2/ARE-Potato/'+filename\n",
    "ARETricycleFilePath='/home/ebb505/ARE_Project/are-logs/Descriptors2/ARE-Tricycle/'+filename"
   ]
  },
  {
   "cell_type": "code",
   "execution_count": 3,
   "metadata": {},
   "outputs": [],
   "source": [
    "# Import data from csv\n",
    "my_list = []\n",
    "with open(filepath, 'r') as csvfile:\n",
    "    data = csv.reader(csvfile, delimiter=',', quotechar='\"')\n",
    "    for row in data:\n",
    "        my_list.append(row[1:-1]) # Last character is empty for some reason\n",
    "# Import hand-made robots\n",
    "my_robot = []\n",
    "with open(AREPuckFilePath, 'r') as csvfile:\n",
    "    data = csv.reader(csvfile, delimiter=',', quotechar='\"')\n",
    "    for row in data:\n",
    "        my_robot.append(row[1:]) # Last character is empty for some reason        \n",
    "with open(AREPotatoFilePath, 'r') as csvfile:\n",
    "    data = csv.reader(csvfile, delimiter=',', quotechar='\"')\n",
    "    for row in data:\n",
    "        my_robot.append(row[1:]) # Last character is empty for some reason        \n",
    "with open(ARETricycleFilePath, 'r') as csvfile:\n",
    "    data = csv.reader(csvfile, delimiter=',', quotechar='\"')\n",
    "    for row in data:\n",
    "        my_robot.append(row[1:]) # Last character is empty for some reason        "
   ]
  },
  {
   "cell_type": "code",
   "execution_count": null,
   "metadata": {},
   "outputs": [
    {
     "name": "stdout",
     "output_type": "stream",
     "text": [
      "Number of evaluations:  19400 Features size:  156 Generations:  776\n"
     ]
    }
   ],
   "source": [
    "# Estimate average for each generation\n",
    "population = 25\n",
    "matrixSize = 13\n",
    "voxelsNumber = matrixSize*matrixSize*matrixSize\n",
    "evaluations = int(len(my_list)/matrixSize)\n",
    "featureSize = len(my_list[0])\n",
    "generations = int(evaluations / population)\n",
    "\n",
    "interval=25\n",
    "rangeValues = range(0,evaluations,interval)\n",
    "lenRange = len(rangeValues)\n",
    "\n",
    "print(\"Number of evaluations: \", evaluations, \"Features size: \", featureSize, \"Generations: \", generations)\n",
    "dat = np.array([[float(y) for y in x] for x in my_list]) # Convert to array\n",
    "robotDat = np.array([[float(y) for y in x] for x in my_robot]) # Convert to array"
   ]
  },
  {
   "cell_type": "code",
   "execution_count": 116,
   "metadata": {},
   "outputs": [
    {
     "name": "stdout",
     "output_type": "stream",
     "text": [
      "Done!\n"
     ]
    }
   ],
   "source": [
    "# Process data ALL evolved robots\n",
    "indDistanceList = []\n",
    "for currentInd in range(evaluations):\n",
    "    tempList = []\n",
    "    print(\"Progress: \", currentInd/evaluations)\n",
    "    for ind in range(evaluations):\n",
    "        differentVoxels = 0\n",
    "        for i in range(matrixSize):\n",
    "            for j in range(len(dat[ind*matrixSize+i])):\n",
    "                if(dat[currentInd*matrixSize+i][j] != dat[ind*matrixSize+i][j]):\n",
    "                    differentVoxels = differentVoxels + 1\n",
    "        if(currentInd != ind): # Do not add the ind itself\n",
    "            tempList.append(differentVoxels)\n",
    "    sortedList = np.sort(tempList)\n",
    "    indDistanceList.append(np.mean(sortedList[:14])/voxelsNumber)\n",
    "    clear_output(wait=True)\n",
    "print(\"Done!\")"
   ]
  },
  {
   "cell_type": "code",
   "execution_count": 117,
   "metadata": {},
   "outputs": [
    {
     "name": "stdout",
     "output_type": "stream",
     "text": [
      "39\n"
     ]
    }
   ],
   "source": [
    "print(len(robotDat))"
   ]
  },
  {
   "cell_type": "code",
   "execution_count": null,
   "metadata": {},
   "outputs": [
    {
     "name": "stdout",
     "output_type": "stream",
     "text": [
      "Robot: 1  Progress:  0.002422680412371134\n"
     ]
    }
   ],
   "source": [
    "# Process data hand designed robots\n",
    "robotDistance = []\n",
    "for currentInd in range(int(len(robotDat)/matrixSize)):\n",
    "    tempList = []\n",
    "    tempProgr = []\n",
    "    for ind in range(evaluations):\n",
    "        print(\"Robot:\", currentInd, \" Progress: \", ind/evaluations)\n",
    "        differentVoxels = 0\n",
    "        for i in range(matrixSize):\n",
    "            for j in range(len(dat[ind*matrixSize+i])):\n",
    "                if(robotDat[currentInd*matrixSize+i][j] != dat[ind*matrixSize+i][j]):\n",
    "                    differentVoxels = differentVoxels + 1\n",
    "        if(currentInd != ind): # Do not add the ind itself\n",
    "            tempList.append(differentVoxels)\n",
    "        sortedList = np.sort(tempList)\n",
    "        if(len(sortedList) < 15):\n",
    "            tempProgr.append(np.mean(sortedList)/voxelsNumber)\n",
    "        else:\n",
    "            tempProgr.append(np.mean(sortedList[:14])/voxelsNumber)\n",
    "        clear_output(wait=True)\n",
    "    robotDistance.append(tempProgr)\n",
    "print(\"Done!\")"
   ]
  },
  {
   "cell_type": "code",
   "execution_count": 106,
   "metadata": {},
   "outputs": [
    {
     "name": "stdout",
     "output_type": "stream",
     "text": [
      "3\n",
      "1850\n",
      "1850\n"
     ]
    }
   ],
   "source": [
    "print(len(robotDistance))\n",
    "print(len(robotDistance[2]))\n",
    "print(len(indDistanceList))"
   ]
  },
  {
   "cell_type": "code",
   "execution_count": 6,
   "metadata": {},
   "outputs": [],
   "source": [
    "# Progress ALL robots\n",
    "progressSparseness = []\n",
    "progressAREPuck = []\n",
    "progressAREPotato = []\n",
    "progressARETricycle = []\n",
    "for i in range(population,evaluations,population):\n",
    "    #progressSparseness.append(np.mean(indDistanceList[:i]))\n",
    "    progressAREPuck.append(robotDistance[0][i])\n",
    "    progressAREPotato.append(robotDistance[1][i])\n",
    "    progressARETricycle.append(robotDistance[2][i])"
   ]
  },
  {
   "cell_type": "code",
   "execution_count": 8,
   "metadata": {},
   "outputs": [
    {
     "data": {
      "image/png": "[encoded data removed]",
      "text/plain": [
       "<Figure size 432x288 with 1 Axes>"
      ]
     },
     "metadata": {},
     "output_type": "display_data"
    }
   ],
   "source": [
    "# Plot stuff\n",
    "xValues = list(range(population, evaluations, population))\n",
    "xValues = [x/population for x in xValues]\n",
    "# Plot stuff\n",
    "font = {'weight' : 'normal',\n",
    "        'size'   : 14.0}\n",
    "\n",
    "plt.rc('font', **font)\n",
    "plt.figure(0)\n",
    "plt.plot(xValues, progressAREPuck, '-*', color='orange',  linewidth=2.5)\n",
    "plt.plot(xValues, progressAREPotato, '--', color='red',  linewidth=2.5)\n",
    "plt.plot(xValues, progressARETricycle, '-', color='blue',  linewidth=2.5)\n",
    "# plt.plot(xValues, progressSparseness, '-', color='black',  linewidth=2.5)\n",
    "\n",
    "plt.xlabel('Evaluations')\n",
    "plt.ylabel('Sparseness')\n",
    "\n",
    "axes = plt.gca()\n",
    "axes.set_ylim([0,0.6])\n",
    "\n",
    "rangeX = range(0,lenRange*5000,5000) # Why are these offsets necessary?\n",
    "posX = range(0,lenRange,200) # Why are these offsets necessary?\n",
    "plt.xticks(posX,rangeX)\n",
    "plt.legend(['ARE-Puck', 'ARE-Potato', 'ARE-Tricycle','Evolved robots'])\n",
    "plt.title('Matrix descriptor')\n",
    "\n",
    "plt.savefig(repository+replicate+'MatrixSparseness.png',dpi=200)"
   ]
  },
  {
   "cell_type": "code",
   "execution_count": null,
   "metadata": {},
   "outputs": [],
   "source": []
  }
 ],
 "metadata": {
  "kernelspec": {
   "display_name": "Python 3",
   "language": "python",
   "name": "python3"
  },
  "language_info": {
   "codemirror_mode": {
    "name": "ipython",
    "version": 3
   },
   "file_extension": ".py",
   "mimetype": "text/x-python",
   "name": "python",
   "nbconvert_exporter": "python",
   "pygments_lexer": "ipython3",
   "version": "3.6.9"
  }
 },
 "nbformat": 4,
 "nbformat_minor": 2
}
