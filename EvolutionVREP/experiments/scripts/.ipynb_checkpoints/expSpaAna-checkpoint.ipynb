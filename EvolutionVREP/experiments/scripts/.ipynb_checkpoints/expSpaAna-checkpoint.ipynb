{
 "cells": [
  {
   "cell_type": "code",
   "execution_count": 1,
   "metadata": {},
   "outputs": [
    {
     "name": "stderr",
     "output_type": "stream",
     "text": [
      "In /home/ebb505/.local/lib/python3.6/site-packages/matplotlib/mpl-data/stylelib/_classic_test.mplstyle: \n",
      "The text.latex.preview rcparam was deprecated in Matplotlib 3.3 and will be removed two minor releases later.\n",
      "In /home/ebb505/.local/lib/python3.6/site-packages/matplotlib/mpl-data/stylelib/_classic_test.mplstyle: \n",
      "The mathtext.fallback_to_cm rcparam was deprecated in Matplotlib 3.3 and will be removed two minor releases later.\n",
      "In /home/ebb505/.local/lib/python3.6/site-packages/matplotlib/mpl-data/stylelib/_classic_test.mplstyle: Support for setting the 'mathtext.fallback_to_cm' rcParam is deprecated since 3.3 and will be removed two minor releases later; use 'mathtext.fallback : 'cm' instead.\n",
      "In /home/ebb505/.local/lib/python3.6/site-packages/matplotlib/mpl-data/stylelib/_classic_test.mplstyle: \n",
      "The validate_bool_maybe_none function was deprecated in Matplotlib 3.3 and will be removed two minor releases later.\n",
      "In /home/ebb505/.local/lib/python3.6/site-packages/matplotlib/mpl-data/stylelib/_classic_test.mplstyle: \n",
      "The savefig.jpeg_quality rcparam was deprecated in Matplotlib 3.3 and will be removed two minor releases later.\n",
      "In /home/ebb505/.local/lib/python3.6/site-packages/matplotlib/mpl-data/stylelib/_classic_test.mplstyle: \n",
      "The keymap.all_axes rcparam was deprecated in Matplotlib 3.3 and will be removed two minor releases later.\n",
      "In /home/ebb505/.local/lib/python3.6/site-packages/matplotlib/mpl-data/stylelib/_classic_test.mplstyle: \n",
      "The animation.avconv_path rcparam was deprecated in Matplotlib 3.3 and will be removed two minor releases later.\n",
      "In /home/ebb505/.local/lib/python3.6/site-packages/matplotlib/mpl-data/stylelib/_classic_test.mplstyle: \n",
      "The animation.avconv_args rcparam was deprecated in Matplotlib 3.3 and will be removed two minor releases later.\n"
     ]
    }
   ],
   "source": [
    "# Load libraries\n",
    "import csv\n",
    "import matplotlib.pyplot as plt\n",
    "import statistics\n",
    "import numpy as np\n",
    "import os\n",
    "from IPython.display import clear_output"
   ]
  },
  {
   "cell_type": "code",
   "execution_count": 6,
   "metadata": {},
   "outputs": [
    {
     "name": "stdout",
     "output_type": "stream",
     "text": [
      "Filepath: /home/ebb505/ARE_Project/are-logs/SegmentedRobots/\n"
     ]
    }
   ],
   "source": [
    "# Set filepath\n",
    "REPOSITORY='/home/ebb505/ARE_Project/are-logs/SegmentedRobots/'\n",
    "REPLICATES=1\n",
    "FILENAME='MD_Cart_WDH.csv'\n",
    "#FILENAME='MD_Cart_Sym.csv'\n",
    "#FILENAME='MD_Matrix_Proto.csv'\n",
    "MATRIXFLAG=0\n",
    "OFILE='sparsenessAllRobotsTrait.csv'\n",
    "print('Filepath: ' + REPOSITORY)"
   ]
  },
  {
   "cell_type": "code",
   "execution_count": 3,
   "metadata": {},
   "outputs": [
    {
     "name": "stdout",
     "output_type": "stream",
     "text": [
      "Folders:  1\n"
     ]
    }
   ],
   "source": [
    "# Get all directories\n",
    "folders = []\n",
    "# r=root, d=directories, f = files\n",
    "for r, d, f in os.walk(REPOSITORY):\n",
    "    for folder in d:\n",
    "        folders.append(os.path.join(r, folder))\n",
    "print(\"Folders: \", len(folders))"
   ]
  },
  {
   "cell_type": "code",
   "execution_count": 7,
   "metadata": {},
   "outputs": [
    {
     "name": "stdout",
     "output_type": "stream",
     "text": [
      "/home/ebb505/ARE_Project/are-logs/SegmentedRobots/lc_nsms_16_10_12-8-48-8133-2255506869\n"
     ]
    }
   ],
   "source": [
    "# Get data evolved robots\n",
    "my_replicates = []\n",
    "for i in range(0,REPLICATES):\n",
    "    print(folders[i])\n",
    "    my_list = []\n",
    "    with open(folders[i] + '/' + FILENAME, 'r') as csvfile:\n",
    "        data = csv.reader(csvfile, delimiter=',', quotechar='\"')\n",
    "        for row in data:\n",
    "            my_list.append(row[:-1]) # Last character is empty for some reason\n",
    "    my_replicates.append(my_list)"
   ]
  },
  {
   "cell_type": "code",
   "execution_count": 8,
   "metadata": {},
   "outputs": [
    {
     "name": "stdout",
     "output_type": "stream",
     "text": [
      "Replicates:  1 Number of evaluations:  449 Features size:  9\n"
     ]
    }
   ],
   "source": [
    "POPULATION = 100\n",
    "REPLICATES = len(my_replicates)\n",
    "#evaluations = len(my_replicates[0])\n",
    "EVALUATIONS = 449\n",
    "FEATURES = len(my_replicates[0][0])\n",
    "MATRIXSIZE = 13\n",
    "VOXELSNUMBER = MATRIXSIZE*MATRIXSIZE*MATRIXSIZE\n",
    "GENERATIONS = int(EVALUATIONS / POPULATION)\n",
    "interval=1000\n",
    "rangeValues = range(0,EVALUATIONS,interval)\n",
    "lenRange = len(rangeValues)\n",
    "print(\"Replicates: \", REPLICATES, \"Number of evaluations: \", EVALUATIONS, \"Features size: \", FEATURES)"
   ]
  },
  {
   "cell_type": "code",
   "execution_count": 9,
   "metadata": {},
   "outputs": [],
   "source": [
    "# Check all replicates have the minimum number of evaluations\n",
    "for i in range(REPLICATES):\n",
    "    if len(my_replicates[i]) < EVALUATIONS:\n",
    "        print(\"Error!\")"
   ]
  },
  {
   "cell_type": "code",
   "execution_count": 10,
   "metadata": {},
   "outputs": [
    {
     "name": "stdout",
     "output_type": "stream",
     "text": [
      "Done!\n"
     ]
    }
   ],
   "source": [
    "# Process data\n",
    "repplicates_data = []\n",
    "for rep in range(REPLICATES):\n",
    "    tempDat = []\n",
    "    tempDat = np.array([[float(y) for y in x] for x in my_replicates[rep]]) # Convert to array\n",
    "    repplicates_data.append(tempDat)\n",
    "print(\"Done!\")"
   ]
  },
  {
   "cell_type": "code",
   "execution_count": 11,
   "metadata": {},
   "outputs": [
    {
     "name": "stdout",
     "output_type": "stream",
     "text": [
      "0\n",
      "Done!\n"
     ]
    }
   ],
   "source": [
    "with open(REPOSITORY + OFILE, 'w', newline='') as write_obj:\n",
    "    csv_writer = csv.writer(write_obj)\n",
    "    # Find sparseness\n",
    "    replicates_sparseness = []\n",
    "    for rep in range(REPLICATES):\n",
    "        temAve = []\n",
    "        for i in range(EVALUATIONS):\n",
    "            temDis = []\n",
    "            print(\"Replicate: \", rep, \"Progress: \", i/EVALUATIONS)\n",
    "\n",
    "            if(MATRIXFLAG):\n",
    "                for j in range(EVALUATIONS):\n",
    "                    differentVoxels = sum(sum(abs(repplicates_data[rep][i*MATRIXSIZE:i*MATRIXSIZE+MATRIXSIZE][:]-repplicates_data[rep][j*MATRIXSIZE:j*MATRIXSIZE+MATRIXSIZE][:])))\n",
    "                    if(i != j): # Do not add the ind itself\n",
    "                        temDis.append(differentVoxels)\n",
    "\n",
    "                sortedList = np.sort(temDis)\n",
    "                if(len(sortedList) < 15):\n",
    "                    temAve.append(np.mean(sortedList)/VOXELSNUMBER)\n",
    "                else:\n",
    "                    temAve.append(np.mean(sortedList[:14])/VOXELSNUMBER)\n",
    "\n",
    "            else:\n",
    "                for j in range(EVALUATIONS):\n",
    "                    dist = []\n",
    "                    dist = np.linalg.norm(repplicates_data[rep][i][1:]-repplicates_data[rep][j][1:])\n",
    "                    temDis.append(dist)    \n",
    "                sortedList = np.sort(temDis)\n",
    "                temAve.append(np.mean(sortedList[:14]))\n",
    "\n",
    "            clear_output(wait=True)\n",
    "        replicates_sparseness.append(temAve)\n",
    "        csv_writer.writerow(replicates_sparseness[rep])\n",
    "        print(rep)\n",
    "    print(\"Done!\")"
   ]
  },
  {
   "cell_type": "code",
   "execution_count": 12,
   "metadata": {},
   "outputs": [
    {
     "name": "stdout",
     "output_type": "stream",
     "text": [
      "1\n",
      "449\n"
     ]
    }
   ],
   "source": [
    "print(len(replicates_sparseness))\n",
    "print(len(replicates_sparseness[0]))"
   ]
  },
  {
   "cell_type": "code",
   "execution_count": 13,
   "metadata": {},
   "outputs": [],
   "source": [
    "# Save to CSV\n",
    "with open(REPOSITORY + OFILE, 'w', newline='') as write_obj:\n",
    "    csv_writer = csv.writer(write_obj)\n",
    "    for i in range(REPLICATES):\n",
    "        csv_writer.writerow(replicates_sparseness[i])"
   ]
  },
  {
   "cell_type": "code",
   "execution_count": null,
   "metadata": {},
   "outputs": [],
   "source": []
  }
 ],
 "metadata": {
  "kernelspec": {
   "display_name": "Python 3",
   "language": "python",
   "name": "python3"
  },
  "language_info": {
   "codemirror_mode": {
    "name": "ipython",
    "version": 3
   },
   "file_extension": ".py",
   "mimetype": "text/x-python",
   "name": "python",
   "nbconvert_exporter": "python",
   "pygments_lexer": "ipython3",
   "version": "3.6.9"
  }
 },
 "nbformat": 4,
 "nbformat_minor": 2
}
