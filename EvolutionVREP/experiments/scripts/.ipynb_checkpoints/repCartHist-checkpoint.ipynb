{
 "cells": [
  {
   "cell_type": "code",
   "execution_count": 36,
   "metadata": {},
   "outputs": [],
   "source": [
    "# Load libraries\n",
    "import csv\n",
    "import matplotlib.pyplot as plt\n",
    "import statistics\n",
    "import numpy as np\n",
    "import os\n",
    "from IPython.display import clear_output\n",
    "import pandas as pd"
   ]
  },
  {
   "cell_type": "code",
   "execution_count": 37,
   "metadata": {},
   "outputs": [],
   "source": [
    "# Set filepath\n",
    "repository='/home/ebb505/ARE_Project/are-logs/'\n",
    "replicate='lc_nsms_26_5_16-3-4-4743/'\n",
    "filename='MD_Cart_WDH.csv'\n",
    "ofile='ComponentsNumber.csv'\n",
    "filepath=repository+replicate+filename"
   ]
  },
  {
   "cell_type": "code",
   "execution_count": 38,
   "metadata": {},
   "outputs": [],
   "source": [
    "# Import data from csv (evolved robots)\n",
    "my_list = []\n",
    "with open(filepath, 'r') as csvfile:\n",
    "    data = csv.reader(csvfile, delimiter=',', quotechar='\"')\n",
    "    for row in data:\n",
    "        my_list.append(row[:-1]) # Last character is empty for some reason"
   ]
  },
  {
   "cell_type": "code",
   "execution_count": 39,
   "metadata": {},
   "outputs": [
    {
     "name": "stdout",
     "output_type": "stream",
     "text": [
      "Number of evaluations:  19400 Features size:  9 Generations:  776\n"
     ]
    }
   ],
   "source": [
    "# Estimate average for each generation\n",
    "population = 25\n",
    "evaluations = len(my_list)\n",
    "#evaluations = 22000\n",
    "featureSize = len(my_list[0])\n",
    "generations = int(evaluations / population)\n",
    "\n",
    "interval=25\n",
    "rangeValues = range(0,evaluations,interval)\n",
    "lenRange = len(rangeValues)\n",
    "\n",
    "print(\"Number of evaluations: \", evaluations, \"Features size: \", featureSize, \"Generations: \", generations)\n",
    "dat = np.array([[float(y) for y in x] for x in my_list]) # Convert to array"
   ]
  },
  {
   "cell_type": "code",
   "execution_count": 60,
   "metadata": {},
   "outputs": [
    {
     "name": "stdout",
     "output_type": "stream",
     "text": [
      "Wheels\n",
      "17006\n",
      "2027\n",
      "367\n",
      "0\n",
      "Sensors\n",
      "15489\n",
      "3230\n",
      "639\n",
      "34\n",
      "Joints\n",
      "19400\n",
      "0\n",
      "0\n",
      "0\n",
      "Caster\n",
      "16696\n",
      "2539\n",
      "129\n",
      "36\n",
      "[15489, 3230, 639, 34, 8, 0, 0, 0, 0, 0, 0]\n"
     ]
    }
   ],
   "source": [
    "print(\"Wheels\")\n",
    "print(sum(dat[:,5]==0.0))\n",
    "print(sum(dat[:,5]==0.1))\n",
    "print(sum(dat[:,5]==0.2))\n",
    "print(sum(dat[:,5]==0.3))\n",
    "print(\"Sensors\")\n",
    "print(sum(dat[:,6]==0.0))\n",
    "print(sum(dat[:,6]==0.1))\n",
    "print(sum(dat[:,6]==0.2))\n",
    "print(sum(dat[:,6]==0.3))\n",
    "print(\"Joints\")\n",
    "print(sum(dat[:,7]==0.0))\n",
    "print(sum(dat[:,7]==0.1))\n",
    "print(sum(dat[:,7]==0.2))\n",
    "print(sum(dat[:,7]==0.3))\n",
    "print(\"Caster\")\n",
    "print(sum(dat[:,8]==0.0))\n",
    "print(sum(dat[:,8]==0.1))\n",
    "print(sum(dat[:,8]==0.2))\n",
    "print(sum(dat[:,8]==0.3))\n",
    "organs = []\n",
    "intervals = [0.0,0.1,0.2,0.3,0.4,0.5,0.6,0.7,0.8,0.9,1.0]\n",
    "for i in range(4):\n",
    "    organNumber = []\n",
    "    for j in intervals:\n",
    "        organNumber.append(sum(dat[:,5+i]==j))\n",
    "        \n",
    "    organs.append(organNumber)\n",
    "print()"
   ]
  },
  {
   "cell_type": "code",
   "execution_count": 49,
   "metadata": {},
   "outputs": [
    {
     "data": {
      "image/png": "[encoded data removed]",
      "text/plain": [
       "<Figure size 432x288 with 1 Axes>"
      ]
     },
     "metadata": {},
     "output_type": "display_data"
    }
   ],
   "source": [
    "# Plot stuff\n",
    "font = {'weight' : 'normal',\n",
    "        'size'   : 14.0}\n",
    "\n",
    "plt.rc('font', **font)\n",
    "plt.figure(0)\n",
    "\n",
    "num_bins = 10\n",
    "n, bins, patches = plt.hist(dat[:,8], num_bins, facecolor='blue', alpha=0.5)\n",
    "\n",
    "plt.xlabel('Trait')\n",
    "plt.ylabel('Evaluations')\n",
    "\n",
    "axes = plt.gca()\n",
    "axes.set_xlim([0,1.0])\n",
    "plt.savefig(repository+replicate+'histTraitWheels.png',dpi=200)"
   ]
  },
  {
   "cell_type": "code",
   "execution_count": null,
   "metadata": {},
   "outputs": [],
   "source": [
    "# Save to CSV\n",
    "with open(repository + replicate + oFile, 'w', newline='') as write_obj:\n",
    "    csv_writer = csv.writer(write_obj)\n",
    "    for i in range(4):\n",
    "        csv_writer.writerow(organs[i][:])"
   ]
  },
  {
   "cell_type": "code",
   "execution_count": null,
   "metadata": {},
   "outputs": [],
   "source": []
  }
 ],
 "metadata": {
  "kernelspec": {
   "display_name": "Python 3",
   "language": "python",
   "name": "python3"
  },
  "language_info": {
   "codemirror_mode": {
    "name": "ipython",
    "version": 3
   },
   "file_extension": ".py",
   "mimetype": "text/x-python",
   "name": "python",
   "nbconvert_exporter": "python",
   "pygments_lexer": "ipython3",
   "version": "3.6.9"
  }
 },
 "nbformat": 4,
 "nbformat_minor": 2
}
