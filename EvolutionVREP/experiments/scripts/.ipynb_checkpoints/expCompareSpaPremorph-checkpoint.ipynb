{
 "cells": [
  {
   "cell_type": "code",
   "execution_count": 20,
   "metadata": {},
   "outputs": [],
   "source": [
    "# Load libraries\n",
    "import csv\n",
    "import matplotlib.pyplot as plt\n",
    "import statistics\n",
    "import numpy as np\n",
    "import os\n",
    "from IPython.display import clear_output\n",
    "# Stats\n",
    "from scipy.stats import mannwhitneyu"
   ]
  },
  {
   "cell_type": "code",
   "execution_count": 21,
   "metadata": {},
   "outputs": [
    {
     "name": "stdout",
     "output_type": "stream",
     "text": [
      "Filepath: /home/ebb505/ARE_Project/are-logs/temp_0808/\n"
     ]
    }
   ],
   "source": [
    "# Set filepath\n",
    "REPOSITORY='/home/ebb505/ARE_Project/are-logs/temp_0808/'\n",
    "DESCRIPTORFILE='MD_Cart_WDH.csv'\n",
    "LHSSELECTION='LHSSelection.csv'\n",
    "CLUSTERRANDSELECTION='ClusterRandomSelection.csv'\n",
    "CLUSTERSORTEDSELECTION='ClusterSortedSelection.csv'\n",
    "SPARSENESSSORTEDSELECTION='sortSelection.csv'\n",
    "AREPUCKFILEPATH='/home/ebb505/ARE_Project/are-logs/Descriptors2/ARE-Puck/'+DESCRIPTORFILE\n",
    "AREPOTATOFILEPATH='/home/ebb505/ARE_Project/are-logs/Descriptors2/ARE-Potato/'+DESCRIPTORFILE\n",
    "ARETRICYCLEFILEPATH='/home/ebb505/ARE_Project/are-logs/Descriptors2/ARE-Tricycle/'+DESCRIPTORFILE\n",
    "print('Filepath: ' + REPOSITORY)"
   ]
  },
  {
   "cell_type": "code",
   "execution_count": 22,
   "metadata": {},
   "outputs": [
    {
     "name": "stdout",
     "output_type": "stream",
     "text": [
      "/home/ebb505/ARE_Project/are-logs/temp_0808/lc_nsms_6_7_14-45-54-4854-2568203076\n",
      "/home/ebb505/ARE_Project/are-logs/temp_0808/lc_nsms_6_7_14-45-54-4729-2473138500\n",
      "/home/ebb505/ARE_Project/are-logs/temp_0808/lc_nsms_6_7_14-45-54-4748-1166241614\n",
      "/home/ebb505/ARE_Project/are-logs/temp_0808/lc_nsms_6_7_14-45-54-4853-3533916095\n",
      "/home/ebb505/ARE_Project/are-logs/temp_0808/lc_nsms_6_7_14-45-54-4728-3552986462\n",
      "/home/ebb505/ARE_Project/are-logs/temp_0808/lc_nsms_6_7_14-45-54-4875-4076501458\n",
      "/home/ebb505/ARE_Project/are-logs/temp_0808/lc_nsms_6_7_14-45-54-4905-1634114651\n",
      "/home/ebb505/ARE_Project/are-logs/temp_0808/lc_nsms_6_7_14-45-54-4771-2985634593\n",
      "/home/ebb505/ARE_Project/are-logs/temp_0808/lc_nsms_6_7_14-45-54-4830-1502148383\n",
      "/home/ebb505/ARE_Project/are-logs/temp_0808/lc_nsms_6_7_14-45-54-4706-2402252332\n",
      "/home/ebb505/ARE_Project/are-logs/temp_0808/lc_nsms_6_7_14-45-54-4852-3751257942\n",
      "/home/ebb505/ARE_Project/are-logs/temp_0808/lc_nsms_6_7_14-45-54-4957-2016985069\n",
      "/home/ebb505/ARE_Project/are-logs/temp_0808/lc_nsms_6_7_14-45-54-4685-3170357486\n",
      "/home/ebb505/ARE_Project/are-logs/temp_0808/lc_nsms_6_7_14-45-54-4751-1206639312\n",
      "/home/ebb505/ARE_Project/are-logs/temp_0808/lc_nsms_6_7_14-45-54-4666-1930478439\n",
      "/home/ebb505/ARE_Project/are-logs/temp_0808/lc_nsms_6_7_14-45-54-4996-4169711244\n",
      "/home/ebb505/ARE_Project/are-logs/temp_0808/lc_nsms_6_7_14-45-54-4876-352801395\n",
      "/home/ebb505/ARE_Project/are-logs/temp_0808/lc_nsms_6_7_14-45-54-4792-111164764\n",
      "/home/ebb505/ARE_Project/are-logs/temp_0808/lc_nsms_6_7_14-45-54-4811-2825690124\n",
      "/home/ebb505/ARE_Project/are-logs/temp_0808/lc_nsms_6_7_14-45-54-4855-2485842685\n",
      "Folders:  20\n"
     ]
    }
   ],
   "source": [
    "# Get all directories\n",
    "folders = []\n",
    "# r=root, d=directories, f = files\n",
    "for r, d, f in os.walk(REPOSITORY):\n",
    "    for folder in d:\n",
    "        print(os.path.join(r, folder))\n",
    "        folders.append(os.path.join(r, folder))\n",
    "print(\"Folders: \", len(folders))"
   ]
  },
  {
   "cell_type": "code",
   "execution_count": 23,
   "metadata": {},
   "outputs": [],
   "source": [
    "# Get data evolved robots\n",
    "my_replicates = []\n",
    "for f in folders:\n",
    "    my_list = []\n",
    "    with open(f + '/' + DESCRIPTORFILE, 'r') as csvfile:\n",
    "        data = csv.reader(csvfile, delimiter=',', quotechar='\"')\n",
    "        for row in data:\n",
    "            my_list.append(row[:-1]) # Last character is empty for some reason\n",
    "    my_replicates.append(my_list)\n",
    "# Hand-made robots\n",
    "my_robot = []\n",
    "with open(AREPUCKFILEPATH, 'r') as csvfile:\n",
    "    data = csv.reader(csvfile, delimiter=',', quotechar='\"')\n",
    "    for row in data:\n",
    "        my_robot.append(row[:]) # Last character is empty for some reason        \n",
    "with open(AREPOTATOFILEPATH, 'r') as csvfile:\n",
    "    data = csv.reader(csvfile, delimiter=',', quotechar='\"')\n",
    "    for row in data:\n",
    "        my_robot.append(row[:]) # Last character is empty for some reason        \n",
    "with open(ARETRICYCLEFILEPATH, 'r') as csvfile:\n",
    "    data = csv.reader(csvfile, delimiter=',', quotechar='\"')\n",
    "    for row in data:\n",
    "        my_robot.append(row[:]) # Last character is empty for some reason        \n",
    "# Get LHS bootstrap selection\n",
    "lhs_selection = []\n",
    "with open(REPOSITORY + LHSSELECTION, 'r') as csvfile:\n",
    "    data = csv.reader(csvfile, delimiter=',', quotechar='\"')\n",
    "    for row in data:\n",
    "        lhs_selection.append(row[:]) # Last character is empty for some reason\n",
    "clusterrand_selection = []\n",
    "with open(REPOSITORY + CLUSTERRANDSELECTION, 'r') as csvfile:\n",
    "    data = csv.reader(csvfile, delimiter=',', quotechar='\"')\n",
    "    for row in data:\n",
    "        clusterrand_selection.append(row[:]) # Last character is empty for some reason\n",
    "clustersort_selection = []\n",
    "with open(REPOSITORY + CLUSTERSORTEDSELECTION, 'r') as csvfile:\n",
    "    data = csv.reader(csvfile, delimiter=',', quotechar='\"')\n",
    "    for row in data:\n",
    "        clustersort_selection.append(row[:]) # Last character is empty for some reason\n",
    "spasort_selection = []\n",
    "with open(REPOSITORY + SPARSENESSSORTEDSELECTION, 'r') as csvfile:\n",
    "    data = csv.reader(csvfile, delimiter=',', quotechar='\"')\n",
    "    for row in data:\n",
    "        spasort_selection.append(row[:]) # Last character is empty for some reason"
   ]
  },
  {
   "cell_type": "code",
   "execution_count": 24,
   "metadata": {},
   "outputs": [
    {
     "name": "stdout",
     "output_type": "stream",
     "text": [
      "Replicates:  20 Number of evaluations:  30000 Features size:  9\n"
     ]
    }
   ],
   "source": [
    "POPULATION = 100\n",
    "REPLICATES = len(my_replicates)\n",
    "#evaluations = len(my_replicates[0])\n",
    "EVALUATIONS = 30000\n",
    "FEATURES = len(my_replicates[0][0])\n",
    "GENERATIONS = int(EVALUATIONS / POPULATION)\n",
    "interval=1000\n",
    "rangeValues = range(0,EVALUATIONS,interval)\n",
    "lenRange = len(rangeValues)\n",
    "print(\"Replicates: \", REPLICATES, \"Number of evaluations: \", EVALUATIONS, \"Features size: \", FEATURES)\n"
   ]
  },
  {
   "cell_type": "code",
   "execution_count": 25,
   "metadata": {},
   "outputs": [],
   "source": [
    "# Check all replicates have the minimum number of evaluations\n",
    "for i in range(REPLICATES):\n",
    "    if len(my_replicates[i]) < EVALUATIONS:\n",
    "        print(\"Error!\")"
   ]
  },
  {
   "cell_type": "code",
   "execution_count": 26,
   "metadata": {},
   "outputs": [
    {
     "name": "stdout",
     "output_type": "stream",
     "text": [
      "Done!\n"
     ]
    }
   ],
   "source": [
    "# Process data\n",
    "repplicates_data = []\n",
    "for rep in range(REPLICATES):\n",
    "    tempDat = []\n",
    "    tempDat = np.array([[float(y) for y in x] for x in my_replicates[rep]]) # Convert to array\n",
    "    repplicates_data.append(tempDat)\n",
    "print(\"Done!\")"
   ]
  },
  {
   "cell_type": "code",
   "execution_count": 27,
   "metadata": {},
   "outputs": [],
   "source": [
    "replicates_lhs_data = np.array([[int(y) for y in x] for x in lhs_selection]) # Convert to array\n",
    "replicates_clusterrand_data = np.array([[int(y) for y in x] for x in clusterrand_selection]) # Convert to array\n",
    "replicates_clustersort_data = np.array([[int(y) for y in x] for x in clustersort_selection]) # Convert to array\n",
    "replicates_spasort_data = np.array([[int(y) for y in x] for x in spasort_selection]) # Convert to array"
   ]
  },
  {
   "cell_type": "code",
   "execution_count": 28,
   "metadata": {},
   "outputs": [
    {
     "name": "stdout",
     "output_type": "stream",
     "text": [
      "19\n",
      "Done!\n"
     ]
    }
   ],
   "source": [
    "# Find sparseness\n",
    "replicates_lhs_sparseness = []\n",
    "for rep in range(REPLICATES):\n",
    "    temAve = []\n",
    "    for i in range(POPULATION):\n",
    "        temDis = []\n",
    "        iInd = replicates_lhs_data[rep][i]\n",
    "        print(\"Replicate: \", rep, \"Progress: \", i/POPULATION)\n",
    "        for j in range(POPULATION):\n",
    "            dist = []\n",
    "            jInd = replicates_lhs_data[rep][j]\n",
    "            dist = np.linalg.norm(repplicates_data[rep][iInd][1:]-repplicates_data[rep][jInd][1:])\n",
    "            temDis.append(dist)\n",
    "        sortedList = np.sort(temDis)\n",
    "        temAve.append(np.mean(sortedList[:14]))\n",
    "        temAve.append(np.mean(sortedList))\n",
    "        clear_output(wait=True)\n",
    "    replicates_lhs_sparseness.append(temAve)\n",
    "    print(rep)\n",
    "print(\"Done!\")\n",
    "lhs_sparseness_mean = []\n",
    "for rep in range(REPLICATES):\n",
    "    lhs_sparseness_mean.append(np.mean(replicates_lhs_sparseness[rep]))"
   ]
  },
  {
   "cell_type": "code",
   "execution_count": 29,
   "metadata": {},
   "outputs": [
    {
     "name": "stdout",
     "output_type": "stream",
     "text": [
      "19\n",
      "Done!\n"
     ]
    }
   ],
   "source": [
    "# Find sparseness\n",
    "replicates_clusterrand_sparseness = []\n",
    "for rep in range(REPLICATES):\n",
    "    temAve = []\n",
    "    for i in range(POPULATION):\n",
    "        temDis = []\n",
    "        iInd = replicates_clusterrand_data[rep][i]\n",
    "        print(\"Replicate: \", rep, \"Progress: \", i/POPULATION)\n",
    "        for j in range(POPULATION):\n",
    "            dist = []\n",
    "            jInd = replicates_clusterrand_data[rep][j]\n",
    "            dist = np.linalg.norm(repplicates_data[rep][iInd][1:]-repplicates_data[rep][jInd][1:])\n",
    "            temDis.append(dist)\n",
    "        sortedList = np.sort(temDis)\n",
    "        temAve.append(np.mean(sortedList[:14]))\n",
    "        temAve.append(np.mean(sortedList))\n",
    "        clear_output(wait=True)\n",
    "    replicates_clusterrand_sparseness.append(temAve)\n",
    "    print(rep)\n",
    "print(\"Done!\")\n",
    "clusterrand_sparseness_mean = []\n",
    "for rep in range(REPLICATES):\n",
    "    clusterrand_sparseness_mean.append(np.mean(replicates_clusterrand_sparseness[rep]))"
   ]
  },
  {
   "cell_type": "code",
   "execution_count": 30,
   "metadata": {},
   "outputs": [
    {
     "name": "stdout",
     "output_type": "stream",
     "text": [
      "19\n",
      "Done!\n"
     ]
    }
   ],
   "source": [
    "# Find sparseness\n",
    "replicates_clustersort_sparseness = []\n",
    "for rep in range(REPLICATES):\n",
    "    temAve = []\n",
    "    for i in range(POPULATION):\n",
    "        temDis = []\n",
    "        iInd = replicates_clustersort_data[rep][i]\n",
    "        print(\"Replicate: \", rep, \"Progress: \", i/POPULATION)\n",
    "        for j in range(POPULATION):\n",
    "            dist = []\n",
    "            jInd = replicates_clustersort_data[rep][j]\n",
    "            dist = np.linalg.norm(repplicates_data[rep][iInd][1:]-repplicates_data[rep][jInd][1:])\n",
    "            temDis.append(dist)\n",
    "        sortedList = np.sort(temDis)\n",
    "        temAve.append(np.mean(sortedList[:14]))\n",
    "        temAve.append(np.mean(sortedList))\n",
    "        clear_output(wait=True)\n",
    "    replicates_clustersort_sparseness.append(temAve)\n",
    "    print(rep)\n",
    "print(\"Done!\")\n",
    "clustersort_sparseness_mean = []\n",
    "for rep in range(REPLICATES):\n",
    "    clustersort_sparseness_mean.append(np.mean(replicates_clustersort_sparseness[rep]))"
   ]
  },
  {
   "cell_type": "code",
   "execution_count": 31,
   "metadata": {},
   "outputs": [
    {
     "name": "stdout",
     "output_type": "stream",
     "text": [
      "19\n",
      "Done!\n"
     ]
    }
   ],
   "source": [
    "# Find sparseness\n",
    "replicates_spasort_sparseness = []\n",
    "for rep in range(REPLICATES):\n",
    "    temAve = []\n",
    "    for i in range(POPULATION):\n",
    "        temDis = []\n",
    "        iInd = replicates_spasort_data[rep][i]\n",
    "        print(\"Replicate: \", rep, \"Progress: \", i/POPULATION)\n",
    "        for j in range(POPULATION):\n",
    "            dist = []\n",
    "            jInd = replicates_spasort_data[rep][j]\n",
    "            dist = np.linalg.norm(repplicates_data[rep][iInd][1:]-repplicates_data[rep][jInd][1:])\n",
    "            temDis.append(dist)\n",
    "        sortedList = np.sort(temDis)\n",
    "        temAve.append(np.mean(sortedList[:14]))\n",
    "        temAve.append(np.mean(sortedList))\n",
    "        clear_output(wait=True)\n",
    "    replicates_spasort_sparseness.append(temAve)\n",
    "    print(rep)\n",
    "print(\"Done!\")\n",
    "spasort_sparseness_mean = []\n",
    "for rep in range(REPLICATES):\n",
    "    spasort_sparseness_mean.append(np.mean(replicates_spasort_sparseness[rep]))"
   ]
  },
  {
   "cell_type": "code",
   "execution_count": 32,
   "metadata": {},
   "outputs": [
    {
     "name": "stdout",
     "output_type": "stream",
     "text": [
      "Statistics=111.000, p=0.008\n",
      "Different distribution (reject H0)\n",
      "Statistics=196.000, p=0.462\n",
      "Same distribution (fail to reject H0)\n"
     ]
    }
   ],
   "source": [
    "# https://machinelearningmastery.com/nonparametric-statistical-significance-tests-in-python/\n",
    "stat, p = mannwhitneyu(lhs_sparseness_mean, clustersort_sparseness_mean)\n",
    "print('Statistics=%.3f, p=%.3f' % (stat, p))\n",
    "# interpret\n",
    "alpha = 0.05\n",
    "if p > alpha:\n",
    "    print('Same distribution (fail to reject H0)')\n",
    "else:\n",
    "    print('Different distribution (reject H0)')\n",
    "# https://machinelearningmastery.com/nonparametric-statistical-significance-tests-in-python/\n",
    "stat, p = mannwhitneyu(clusterrand_sparseness_mean, clustersort_sparseness_mean)\n",
    "print('Statistics=%.3f, p=%.3f' % (stat, p))\n",
    "# interpret\n",
    "alpha = 0.05\n",
    "if p > alpha:\n",
    "    print('Same distribution (fail to reject H0)')\n",
    "else:\n",
    "    print('Different distribution (reject H0)')"
   ]
  },
  {
   "cell_type": "code",
   "execution_count": 35,
   "metadata": {},
   "outputs": [
    {
     "data": {
      "image/png": "[encoded data removed]",
      "text/plain": [
       "<Figure size 432x288 with 1 Axes>"
      ]
     },
     "metadata": {},
     "output_type": "display_data"
    }
   ],
   "source": [
    "# Plot stuff\n",
    "xValues = list(range(POPULATION, EVALUATIONS, POPULATION))\n",
    "xValues = [x/POPULATION for x in xValues]\n",
    "# Plot stuff\n",
    "font = {'weight' : 'normal',\n",
    "        'size'   : 14.0}\n",
    "\n",
    "plt.rc('font', **font)\n",
    "plt.figure(0)\n",
    "\n",
    "plt.boxplot([lhs_sparseness_mean, clusterrand_sparseness_mean, clustersort_sparseness_mean, spasort_sparseness_mean])\n",
    "# plt.boxplot([lhs_sparseness_mean, clusterrand_sparseness_mean, clustersort_sparseness_mean])\n",
    "\n",
    "plt.xlabel('Selection method')\n",
    "plt.ylabel('Sparseness')\n",
    "\n",
    "axes = plt.gca()\n",
    "axes.set_ylim([0.35,0.5])\n",
    "\n",
    "plt.xticks([1, 2, 3, 4], ['LHS', 'CSTR-Rand', 'CSTR-Sort', 'SPRS-Sort'])\n",
    "\n",
    "plt.savefig(REPOSITORY+'SelectionComparison.png',dpi=200)"
   ]
  },
  {
   "cell_type": "code",
   "execution_count": null,
   "metadata": {},
   "outputs": [],
   "source": []
  }
 ],
 "metadata": {
  "kernelspec": {
   "display_name": "Python 3",
   "language": "python",
   "name": "python3"
  },
  "language_info": {
   "codemirror_mode": {
    "name": "ipython",
    "version": 3
   },
   "file_extension": ".py",
   "mimetype": "text/x-python",
   "name": "python",
   "nbconvert_exporter": "python",
   "pygments_lexer": "ipython3",
   "version": "3.6.9"
  }
 },
 "nbformat": 4,
 "nbformat_minor": 2
}
