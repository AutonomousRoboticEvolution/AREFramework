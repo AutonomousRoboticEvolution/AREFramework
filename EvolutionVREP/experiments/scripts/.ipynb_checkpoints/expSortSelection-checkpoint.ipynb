{
 "cells": [
  {
   "cell_type": "code",
   "execution_count": 1,
   "metadata": {},
   "outputs": [
    {
     "name": "stderr",
     "output_type": "stream",
     "text": [
      "In /home/ebb505/.local/lib/python3.6/site-packages/matplotlib/mpl-data/stylelib/_classic_test.mplstyle: \n",
      "The text.latex.preview rcparam was deprecated in Matplotlib 3.3 and will be removed two minor releases later.\n",
      "In /home/ebb505/.local/lib/python3.6/site-packages/matplotlib/mpl-data/stylelib/_classic_test.mplstyle: \n",
      "The mathtext.fallback_to_cm rcparam was deprecated in Matplotlib 3.3 and will be removed two minor releases later.\n",
      "In /home/ebb505/.local/lib/python3.6/site-packages/matplotlib/mpl-data/stylelib/_classic_test.mplstyle: Support for setting the 'mathtext.fallback_to_cm' rcParam is deprecated since 3.3 and will be removed two minor releases later; use 'mathtext.fallback : 'cm' instead.\n",
      "In /home/ebb505/.local/lib/python3.6/site-packages/matplotlib/mpl-data/stylelib/_classic_test.mplstyle: \n",
      "The validate_bool_maybe_none function was deprecated in Matplotlib 3.3 and will be removed two minor releases later.\n",
      "In /home/ebb505/.local/lib/python3.6/site-packages/matplotlib/mpl-data/stylelib/_classic_test.mplstyle: \n",
      "The savefig.jpeg_quality rcparam was deprecated in Matplotlib 3.3 and will be removed two minor releases later.\n",
      "In /home/ebb505/.local/lib/python3.6/site-packages/matplotlib/mpl-data/stylelib/_classic_test.mplstyle: \n",
      "The keymap.all_axes rcparam was deprecated in Matplotlib 3.3 and will be removed two minor releases later.\n",
      "In /home/ebb505/.local/lib/python3.6/site-packages/matplotlib/mpl-data/stylelib/_classic_test.mplstyle: \n",
      "The animation.avconv_path rcparam was deprecated in Matplotlib 3.3 and will be removed two minor releases later.\n",
      "In /home/ebb505/.local/lib/python3.6/site-packages/matplotlib/mpl-data/stylelib/_classic_test.mplstyle: \n",
      "The animation.avconv_args rcparam was deprecated in Matplotlib 3.3 and will be removed two minor releases later.\n"
     ]
    }
   ],
   "source": [
    "# Load libraries\n",
    "import csv\n",
    "import matplotlib.pyplot as plt\n",
    "import statistics\n",
    "import numpy as np\n",
    "import os\n",
    "from IPython.display import clear_output"
   ]
  },
  {
   "cell_type": "code",
   "execution_count": 2,
   "metadata": {},
   "outputs": [
    {
     "name": "stdout",
     "output_type": "stream",
     "text": [
      "Filepath: /home/ebb505/ARE_Project/are-logs/temp_0808/\n"
     ]
    }
   ],
   "source": [
    "# Set filepath\n",
    "REPOSITORY='/home/ebb505/ARE_Project/are-logs/temp_0808/'\n",
    "FILENAME='MD_Cart_WDH.csv'\n",
    "AREPUCKFILEPATH='/home/ebb505/ARE_Project/are-logs/Descriptors2/ARE-Puck/'+FILENAME\n",
    "AREPOTATOFILEPATH='/home/ebb505/ARE_Project/are-logs/Descriptors2/ARE-Potato/'+FILENAME\n",
    "ARETRICYCLEFILEPATH='/home/ebb505/ARE_Project/are-logs/Descriptors2/ARE-Tricycle/'+FILENAME\n",
    "IFILESORT='sparsenessAllRobots.csv'\n",
    "OFILE='sortSelection.csv'\n",
    "print('Filepath: ' + REPOSITORY)"
   ]
  },
  {
   "cell_type": "code",
   "execution_count": 3,
   "metadata": {},
   "outputs": [
    {
     "name": "stdout",
     "output_type": "stream",
     "text": [
      "Folders:  20\n"
     ]
    }
   ],
   "source": [
    "# Get all directories\n",
    "folders = []\n",
    "# r=root, d=directories, f = files\n",
    "for r, d, f in os.walk(REPOSITORY):\n",
    "    for folder in d:\n",
    "        folders.append(os.path.join(r, folder))\n",
    "print(\"Folders: \", len(folders))"
   ]
  },
  {
   "cell_type": "code",
   "execution_count": 4,
   "metadata": {},
   "outputs": [],
   "source": [
    "# Get data evolved robots\n",
    "my_replicates = []\n",
    "for f in folders:\n",
    "    my_list = []\n",
    "    with open(f + '/' + FILENAME, 'r') as csvfile:\n",
    "        data = csv.reader(csvfile, delimiter=',', quotechar='\"')\n",
    "        for row in data:\n",
    "            my_list.append(row[:-1]) # Last character is empty for some reason\n",
    "    my_replicates.append(my_list)\n",
    "# Hand-made robots\n",
    "my_robot = []\n",
    "with open(AREPUCKFILEPATH, 'r') as csvfile:\n",
    "    data = csv.reader(csvfile, delimiter=',', quotechar='\"')\n",
    "    for row in data:\n",
    "        my_robot.append(row[:]) # Last character is empty for some reason        \n",
    "with open(AREPOTATOFILEPATH, 'r') as csvfile:\n",
    "    data = csv.reader(csvfile, delimiter=',', quotechar='\"')\n",
    "    for row in data:\n",
    "        my_robot.append(row[:]) # Last character is empty for some reason        \n",
    "with open(ARETRICYCLEFILEPATH, 'r') as csvfile:\n",
    "    data = csv.reader(csvfile, delimiter=',', quotechar='\"')\n",
    "    for row in data:\n",
    "        my_robot.append(row[:]) # Last character is empty for some reason  \n",
    "# Load sparseness file\n",
    "sparseness_robots = []\n",
    "with open(REPOSITORY + IFILESORT, 'r') as csvfile:\n",
    "    data = csv.reader(csvfile, delimiter=',', quotechar='\"')\n",
    "    for row in data:\n",
    "        sparseness_robots.append(row[:]) # Last character is empty for some reason\n"
   ]
  },
  {
   "cell_type": "code",
   "execution_count": 5,
   "metadata": {},
   "outputs": [
    {
     "name": "stdout",
     "output_type": "stream",
     "text": [
      "Replicates:  20 Number of evaluations:  30000 Features size:  9\n"
     ]
    }
   ],
   "source": [
    "POPULATION = 100\n",
    "REPLICATES = len(my_replicates)\n",
    "#evaluations = len(my_replicates[0])\n",
    "EVALUATIONS = 30000\n",
    "FEATURES = len(my_replicates[0][0])\n",
    "GENERATIONS = int(EVALUATIONS / POPULATION)\n",
    "interval=1000\n",
    "rangeValues = range(0,EVALUATIONS,interval)\n",
    "lenRange = len(rangeValues)\n",
    "print(\"Replicates: \", REPLICATES, \"Number of evaluations: \", EVALUATIONS, \"Features size: \", FEATURES)"
   ]
  },
  {
   "cell_type": "code",
   "execution_count": 6,
   "metadata": {},
   "outputs": [],
   "source": [
    "# Check all replicates have the minimum number of evaluations\n",
    "for i in range(REPLICATES):\n",
    "    if len(my_replicates[i]) < EVALUATIONS:\n",
    "        print(\"Error!\")"
   ]
  },
  {
   "cell_type": "code",
   "execution_count": 17,
   "metadata": {},
   "outputs": [
    {
     "name": "stdout",
     "output_type": "stream",
     "text": [
      "Done!\n"
     ]
    }
   ],
   "source": [
    "# Process data\n",
    "repplicates_data = []\n",
    "for rep in range(REPLICATES):\n",
    "    tempDat = []\n",
    "    tempDat = np.array([[float(y) for y in x] for x in my_replicates[rep]]) # Convert to array\n",
    "    repplicates_data.append(tempDat[:EVALUATIONS]) # Avoid getting out of range\n",
    "print(\"Done!\")\n",
    "replicates_sparseness_robots = np.array([[float(y) for y in x] for x in sparseness_robots]) # Convert to array"
   ]
  },
  {
   "cell_type": "code",
   "execution_count": 18,
   "metadata": {},
   "outputs": [
    {
     "name": "stdout",
     "output_type": "stream",
     "text": [
      "30000\n"
     ]
    }
   ],
   "source": [
    "print(len(repplicates_data[0]))"
   ]
  },
  {
   "cell_type": "code",
   "execution_count": 19,
   "metadata": {},
   "outputs": [
    {
     "name": "stdout",
     "output_type": "stream",
     "text": [
      "3933\n",
      "3709\n",
      "3570\n",
      "3228\n",
      "3468\n",
      "3518\n",
      "2859\n",
      "4066\n",
      "3554\n",
      "4027\n",
      "2955\n",
      "4251\n",
      "3399\n",
      "3260\n",
      "3357\n",
      "3730\n",
      "4565\n",
      "4235\n",
      "4236\n",
      "3142\n",
      "[141, 150, 157, 163, 168]\n"
     ]
    }
   ],
   "source": [
    "# Viable robots\n",
    "viableRobots_data = []\n",
    "for rep in range(REPLICATES):      \n",
    "    tempWheel = repplicates_data[rep][:,5]>0\n",
    "    tempSensor = repplicates_data[rep][:,6]>0\n",
    "    tempJoint = repplicates_data[rep][:,7]>0\n",
    "    robotFilter = repplicates_data[rep][(tempWheel|tempJoint)&tempSensor,0]\n",
    "    robotFilter = [int(y) for y in robotFilter]\n",
    "    viableRobots_data.append(robotFilter)\n",
    "    print(len(viableRobots_data[rep]))\n",
    "print(viableRobots_data[0][:5])"
   ]
  },
  {
   "cell_type": "code",
   "execution_count": 20,
   "metadata": {},
   "outputs": [
    {
     "name": "stdout",
     "output_type": "stream",
     "text": [
      "30000\n",
      "3933\n",
      "29997\n",
      "1478\n",
      "3933\n"
     ]
    }
   ],
   "source": [
    "print(len(replicates_sparseness_robots[0]))\n",
    "print(len(viableRobots_data[0]))\n",
    "print(np.max(viableRobots_data[0]))\n",
    "print(np.max(viableRobots_data[0][:100]))\n",
    "print(len(replicates_sparseness_robots[0][viableRobots_data[0]]))"
   ]
  },
  {
   "cell_type": "code",
   "execution_count": 21,
   "metadata": {},
   "outputs": [],
   "source": [
    "# Only viable robots\n",
    "rep_spa_viable = []\n",
    "for rep in range(REPLICATES): \n",
    "    rep_spa_viable.append(replicates_sparseness_robots[rep][viableRobots_data[rep]])"
   ]
  },
  {
   "cell_type": "code",
   "execution_count": 22,
   "metadata": {},
   "outputs": [
    {
     "name": "stdout",
     "output_type": "stream",
     "text": [
      "[0.00818457 0.         0.00128143]\n",
      "[0.01428571 0.01428571 0.01428571]\n"
     ]
    }
   ],
   "source": [
    "print(replicates_sparseness_robots[0][:3])\n",
    "print(rep_spa_viable[0][:3])"
   ]
  },
  {
   "cell_type": "code",
   "execution_count": 23,
   "metadata": {},
   "outputs": [
    {
     "name": "stdout",
     "output_type": "stream",
     "text": [
      "3933\n",
      "3709\n",
      "3570\n",
      "3228\n",
      "3468\n",
      "3518\n",
      "2859\n",
      "4066\n",
      "3554\n",
      "4027\n",
      "2955\n",
      "4251\n",
      "3399\n",
      "3260\n",
      "3357\n",
      "3730\n",
      "4565\n",
      "4235\n",
      "4236\n",
      "3142\n"
     ]
    }
   ],
   "source": [
    "# Sort robots\n",
    "def takeSecond(elem):\n",
    "    return elem[1]\n",
    "\n",
    "replicates_sorted_data = []\n",
    "for i in range(REPLICATES):\n",
    "    tempList = []\n",
    "    tempLen = len(rep_spa_viable[i])\n",
    "    for j in range(tempLen):\n",
    "        tempList.append([viableRobots_data[i][j],rep_spa_viable[i][j]])\n",
    "    tempList.sort(key=takeSecond, reverse=True)\n",
    "    # Remove sparseness column\n",
    "    tempArray = np.array([[int(y) for y in x] for x in tempList]) # Convert to array\n",
    "    replicates_sorted_data.append(tempArray[:,0])\n",
    "    print(len(replicates_sorted_data[i]))"
   ]
  },
  {
   "cell_type": "code",
   "execution_count": 24,
   "metadata": {},
   "outputs": [],
   "source": [
    "# Save to CSV\n",
    "with open(REPOSITORY + OFILE, 'w', newline='') as write_obj:\n",
    "    csv_writer = csv.writer(write_obj)\n",
    "    for i in range(REPLICATES):\n",
    "        csv_writer.writerow([int(y) for y in replicates_sorted_data[i][:POPULATION]])"
   ]
  },
  {
   "cell_type": "code",
   "execution_count": null,
   "metadata": {},
   "outputs": [],
   "source": []
  }
 ],
 "metadata": {
  "kernelspec": {
   "display_name": "Python 3",
   "language": "python",
   "name": "python3"
  },
  "language_info": {
   "codemirror_mode": {
    "name": "ipython",
    "version": 3
   },
   "file_extension": ".py",
   "mimetype": "text/x-python",
   "name": "python",
   "nbconvert_exporter": "python",
   "pygments_lexer": "ipython3",
   "version": "3.6.9"
  }
 },
 "nbformat": 4,
 "nbformat_minor": 2
}
