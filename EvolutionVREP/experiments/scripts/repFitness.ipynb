{
 "cells": [
  {
   "cell_type": "code",
   "execution_count": 74,
   "metadata": {},
   "outputs": [],
   "source": [
    "# Load libraries\n",
    "import csv\n",
    "import matplotlib.pyplot as plt\n",
    "import statistics\n",
    "import numpy as np"
   ]
  },
  {
   "cell_type": "code",
   "execution_count": 75,
   "metadata": {},
   "outputs": [
    {
     "name": "stdout",
     "output_type": "stream",
     "text": [
      "Filepath: /home/ebb505/ARE_Project/are-logs/LC/100/linearCombination_25_3_0-17-47-7061/fitnesses.csv\n"
     ]
    }
   ],
   "source": [
    "# Set filepath\n",
    "repository='/home/ebb505/ARE_Project/are-logs/LC/100/'\n",
    "replicate='linearCombination_25_3_0-17-47-7061/'\n",
    "filename='fitnesses.csv'\n",
    "filepath=repository+replicate+filename\n",
    "print('Filepath: ' + filepath)"
   ]
  },
  {
   "cell_type": "code",
   "execution_count": 76,
   "metadata": {},
   "outputs": [],
   "source": [
    "# Import data from csv\n",
    "my_list = []\n",
    "with open(filepath, 'r') as csvfile:\n",
    "    data = csv.reader(csvfile, delimiter=',', quotechar='\"')\n",
    "    for row in data:\n",
    "        my_list.append(row[1:-1]) # Last character is empty for some reason"
   ]
  },
  {
   "cell_type": "code",
   "execution_count": 77,
   "metadata": {},
   "outputs": [
    {
     "name": "stdout",
     "output_type": "stream",
     "text": [
      "Population:  25 Generations:  1151\n"
     ]
    }
   ],
   "source": [
    "# Estimate average for each generation\n",
    "generations = len(my_list)\n",
    "population = len(my_list[0])\n",
    "\n",
    "print(\"Population: \", population, \"Generations: \", generations)\n",
    "dat = np.array([[float(y) for y in x] for x in my_list]) # Convert to array"
   ]
  },
  {
   "cell_type": "code",
   "execution_count": 78,
   "metadata": {},
   "outputs": [],
   "source": [
    "genFitAve = []\n",
    "genMaxFit = []\n",
    "genMedFit = []\n",
    "for i in range(generations):\n",
    "    average = 0;\n",
    "    for j in range(population):\n",
    "        average = average + dat[i][j]\n",
    "    average = average / population\n",
    "    genFitAve.append(average)\n",
    "    genMedFit.append(statistics.median(dat[i]))\n",
    "    genMaxFit.append(max(dat[i]))\n",
    "#print(genFitAve)\n",
    "genMaxFit = [float(i) for i in genMaxFit]\n",
    "#print(genMaxFit)"
   ]
  },
  {
   "cell_type": "code",
   "execution_count": 79,
   "metadata": {},
   "outputs": [
    {
     "data": {
      "image/png": "[encoded data removed]",
      "text/plain": [
       "<Figure size 432x288 with 1 Axes>"
      ]
     },
     "metadata": {},
     "output_type": "display_data"
    }
   ],
   "source": [
    "# Plot stuff\n",
    "font = {'weight' : 'normal',\n",
    "        'size'   : 14.0}\n",
    "\n",
    "plt.rc('font', **font)\n",
    "plt.figure(0)\n",
    "\n",
    "xValues = list(range(1, generations+1))\n",
    "# dashedLine = [1.5] * numGenerations\n",
    "plt.plot(xValues, genMaxFit)\n",
    "# plt.plot(xValues, dashedLine, '--')\n",
    "plt.xlabel('Generations')\n",
    "plt.ylabel('Score')\n",
    "axes = plt.gca()\n",
    "axes.set_ylim([0,1.0])\n",
    "plt.title(\"Max score per generation\")\n",
    "# #plt.show()\n",
    "# plt.savefig('HighestFitness.png')\n",
    "plt.savefig(repository+replicate+'fitness.png',dpi=200)"
   ]
  },
  {
   "cell_type": "code",
   "execution_count": null,
   "metadata": {},
   "outputs": [],
   "source": []
  }
 ],
 "metadata": {
  "kernelspec": {
   "display_name": "Python 3",
   "language": "python",
   "name": "python3"
  },
  "language_info": {
   "codemirror_mode": {
    "name": "ipython",
    "version": 3
   },
   "file_extension": ".py",
   "mimetype": "text/x-python",
   "name": "python",
   "nbconvert_exporter": "python",
   "pygments_lexer": "ipython3",
   "version": "3.6.9"
  }
 },
 "nbformat": 4,
 "nbformat_minor": 2
}
