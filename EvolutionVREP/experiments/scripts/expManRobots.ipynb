{
 "cells": [
  {
   "cell_type": "code",
   "execution_count": 1,
   "metadata": {},
   "outputs": [],
   "source": [
    "# Load libraries\n",
    "import csv\n",
    "import matplotlib.pyplot as plt\n",
    "import statistics\n",
    "import numpy as np\n",
    "import os\n",
    "from IPython.display import clear_output"
   ]
  },
  {
   "cell_type": "code",
   "execution_count": 45,
   "metadata": {},
   "outputs": [],
   "source": [
    "# Set filepath\n",
    "repository='/home/ebb505/ARE_Project/are-logs/LC_NS_MS/0/'\n",
    "experimentName = \"0\"\n",
    "filename='noreptests.csv'\n",
    "oFile='expManRobots.csv'"
   ]
  },
  {
   "cell_type": "code",
   "execution_count": 3,
   "metadata": {},
   "outputs": [
    {
     "name": "stdout",
     "output_type": "stream",
     "text": [
      "Folders:  17\n"
     ]
    }
   ],
   "source": [
    "# Get all directories\n",
    "folders = []\n",
    "# r=root, d=directories, f = files\n",
    "for r, d, f in os.walk(repository):\n",
    "    for folder in d:\n",
    "        folders.append(os.path.join(r, folder))\n",
    "print(\"Folders: \", len(folders))"
   ]
  },
  {
   "cell_type": "code",
   "execution_count": 4,
   "metadata": {},
   "outputs": [],
   "source": [
    "# Get information from files\n",
    "my_replicates = []\n",
    "for f in folders:\n",
    "    my_list = []\n",
    "    with open(f + '/' + filename, 'r') as csvfile:\n",
    "        data = csv.reader(csvfile, delimiter=',', quotechar='\"')\n",
    "        for row in data:\n",
    "            my_list.append(row[:-1]) # Last character is empty for some reason\n",
    "    my_replicates.append(my_list)"
   ]
  },
  {
   "cell_type": "code",
   "execution_count": 14,
   "metadata": {},
   "outputs": [
    {
     "name": "stdout",
     "output_type": "stream",
     "text": [
      "Replicates:  17 Number of evaluations:  11898 Features size:  5\n"
     ]
    }
   ],
   "source": [
    "# Estimate average for each generation\n",
    "population = 25\n",
    "replicates = len(my_replicates)\n",
    "evaluations = len(my_replicates[0])\n",
    "featureSize = len(my_replicates[0][0])\n",
    "generations = int(evaluations / population)\n",
    "interval=1000\n",
    "rangeValues = range(0,evaluations,interval)\n",
    "lenRange = len(rangeValues)\n",
    "print(\"Replicates: \", replicates, \"Number of evaluations: \", evaluations, \"Features size: \", featureSize)"
   ]
  },
  {
   "cell_type": "code",
   "execution_count": 15,
   "metadata": {},
   "outputs": [
    {
     "name": "stdout",
     "output_type": "stream",
     "text": [
      "Done!\n"
     ]
    }
   ],
   "source": [
    "# Process data\n",
    "repRes = []\n",
    "for rep in range(replicates):\n",
    "    dat = np.array([[float(y) for y in x] for x in my_replicates[rep]]) # Convert to array\n",
    "    repRes.append(dat)\n",
    "print(\"Done!\")"
   ]
  },
  {
   "cell_type": "code",
   "execution_count": 20,
   "metadata": {},
   "outputs": [
    {
     "name": "stdout",
     "output_type": "stream",
     "text": [
      "1.0\n"
     ]
    }
   ],
   "source": [
    "print(repRes[0][9000,3])"
   ]
  },
  {
   "cell_type": "code",
   "execution_count": 26,
   "metadata": {},
   "outputs": [],
   "source": [
    "manRobots = []\n",
    "for rep in range(replicates):\n",
    "    tempList = []\n",
    "    for i in range(len(my_replicates[rep])):\n",
    "        if(repRes[rep][i,1] > 0 and repRes[rep][i,2] > 0 and repRes[rep][i,3] > 0):\n",
    "            tempList.append(1)\n",
    "        else:\n",
    "            tempList.append(0)\n",
    "    manRobots.append(tempList)"
   ]
  },
  {
   "cell_type": "code",
   "execution_count": 37,
   "metadata": {},
   "outputs": [
    {
     "name": "stdout",
     "output_type": "stream",
     "text": [
      "Done!\n"
     ]
    }
   ],
   "source": [
    "# Analyse data\n",
    "manRobArray = []\n",
    "for rep in range(replicates):\n",
    "    dat = np.array(manRobots[rep]) # Convert to array\n",
    "    manRobArray.append(dat)\n",
    "print(\"Done!\")\n",
    "sumManRobots = []\n",
    "for rep in range(replicates):\n",
    "    tempManScore = []\n",
    "    for i in range(interval,evaluations,interval):\n",
    "        tempManScore.append(np.sum(manRobArray[rep][:i]))\n",
    "        #print(np.max(repRes[rep][:i][4]))\n",
    "    sumManRobots.append(tempManScore)"
   ]
  },
  {
   "cell_type": "code",
   "execution_count": 47,
   "metadata": {},
   "outputs": [
    {
     "data": {
      "image/png": "[encoded data removed]",
      "text/plain": [
       "<Figure size 432x288 with 1 Axes>"
      ]
     },
     "metadata": {},
     "output_type": "display_data"
    }
   ],
   "source": [
    "# Plot stuff\n",
    "xValues = list(range(interval, evaluations, interval))\n",
    "xValues = [x/interval for x in xValues]\n",
    "# Plot stuff\n",
    "font = {'weight' : 'normal',\n",
    "        'size'   : 14.0}\n",
    "\n",
    "plt.rc('font', **font)\n",
    "plt.figure(0)\n",
    "\n",
    "for rep in range(replicates):\n",
    "    plt.plot(xValues, sumManRobots[rep], '-', linewidth=2.5)\n",
    "\n",
    "#plt.plot(xValues, sumManRobots[0], '-', color='blue',  linewidth=2.5)\n",
    "\n",
    "# plt.boxplot(sumManRobots, notch=True)\n",
    "\n",
    "plt.xlabel('Unique robots')\n",
    "plt.ylabel('Unique Manufacturable Robots')\n",
    "\n",
    "axes = plt.gca()\n",
    "axes.set_ylim([0,125.0])\n",
    "\n",
    "# rangeX = range(0,lenRange*5000,5000) # Why are these offsets necessary?\n",
    "# posX = range(0,lenRange,200) # Why are these offsets necessary?\n",
    "rangeX = range(2000,12000,2000) # Why are these offsets necessary?\n",
    "posX = range(2,12,2) # Why are these offsets necessary?\n",
    "plt.xticks(posX,rangeX)\n",
    "\n",
    "#plt.legend(['No collisions','Good orientations','Gripper access' ])\n",
    "#plt.title(\"Manufacturability Score\")\n",
    "plt.savefig(repository+experimentName+'expManRobots.png',dpi=200)"
   ]
  },
  {
   "cell_type": "code",
   "execution_count": 46,
   "metadata": {},
   "outputs": [],
   "source": [
    "# Save to CSV\n",
    "with open(repository + experimentName + oFile, 'w', newline='') as write_obj:\n",
    "    csv_writer = csv.writer(write_obj)\n",
    "    for i in range(replicates):\n",
    "        csv_writer.writerow(sumManRobots[i])"
   ]
  },
  {
   "cell_type": "code",
   "execution_count": null,
   "metadata": {},
   "outputs": [],
   "source": []
  }
 ],
 "metadata": {
  "kernelspec": {
   "display_name": "Python 3",
   "language": "python",
   "name": "python3"
  },
  "language_info": {
   "codemirror_mode": {
    "name": "ipython",
    "version": 3
   },
   "file_extension": ".py",
   "mimetype": "text/x-python",
   "name": "python",
   "nbconvert_exporter": "python",
   "pygments_lexer": "ipython3",
   "version": "3.6.9"
  }
 },
 "nbformat": 4,
 "nbformat_minor": 2
}
