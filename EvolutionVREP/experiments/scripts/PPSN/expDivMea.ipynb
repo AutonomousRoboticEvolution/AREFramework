{
 "cells": [
  {
   "cell_type": "code",
   "execution_count": 1,
   "metadata": {},
   "outputs": [],
   "source": [
    "# Import libraries\n",
    "import csv\n",
    "import matplotlib.pyplot as plt\n",
    "import numpy as np\n",
    "import os\n",
    "import statistics"
   ]
  },
  {
   "cell_type": "code",
   "execution_count": 2,
   "metadata": {},
   "outputs": [],
   "source": [
    "# Set filepath\n",
    "\n",
    "repository='/home/ebb505/ARE_Project/are-logs/PPSN/BL/'\n",
    "experimentName = \"RS\"\n",
    "\n",
    "# repository='/home/ebb505/ARE_Project/are-logs/PPSN/NS/'\n",
    "# experimentName = \"NS\"\n",
    "\n",
    "# repository='/home/ebb505/ARE_Project/are-logs/PPSN/GRi/'\n",
    "# experimentName = \"GRi\"\n",
    "\n",
    "filename='morphdesc.csv'"
   ]
  },
  {
   "cell_type": "code",
   "execution_count": 3,
   "metadata": {},
   "outputs": [
    {
     "name": "stdout",
     "output_type": "stream",
     "text": [
      "Folders:  18\n"
     ]
    }
   ],
   "source": [
    "# Get all directories\n",
    "folders = []\n",
    "# r=root, d=directories, f = files\n",
    "for r, d, f in os.walk(repository):\n",
    "    for folder in d:\n",
    "        folders.append(os.path.join(r, folder))\n",
    "print(\"Folders: \", len(folders))"
   ]
  },
  {
   "cell_type": "code",
   "execution_count": 4,
   "metadata": {},
   "outputs": [],
   "source": [
    "# Get information from files\n",
    "my_replicates = []\n",
    "for f in folders:\n",
    "    my_list = []\n",
    "    with open(f + '/' + filename, 'r') as csvfile:\n",
    "        data = csv.reader(csvfile, delimiter=',', quotechar='\"')\n",
    "        for row in data:\n",
    "            my_list.append(row[:-1]) # Last character is empty for some reason\n",
    "    my_replicates.append(my_list)"
   ]
  },
  {
   "cell_type": "code",
   "execution_count": 5,
   "metadata": {},
   "outputs": [
    {
     "name": "stdout",
     "output_type": "stream",
     "text": [
      "Replicates:  15 Evaluations:  20000 Features:  7 Generations:  500\n"
     ]
    }
   ],
   "source": [
    "population = 40\n",
    "#replicates = len(my_replicates)\n",
    "replicates = 15\n",
    "#evaluations = len(my_replicates[0])\n",
    "evaluations = 20000\n",
    "features = len(my_replicates[0][0])\n",
    "generations = int(evaluations / population)\n",
    "print(\"Replicates: \", replicates, \"Evaluations: \", evaluations, \"Features: \", features, \"Generations: \", generations)"
   ]
  },
  {
   "cell_type": "code",
   "execution_count": 6,
   "metadata": {},
   "outputs": [],
   "source": [
    "# Characteristics\n",
    "counter = 0\n",
    "elementX = 4\n",
    "elementY = 5\n",
    "xVariable = \"Wheels\"\n",
    "yVariable = \"Sensors\""
   ]
  },
  {
   "cell_type": "code",
   "execution_count": 7,
   "metadata": {},
   "outputs": [
    {
     "name": "stdout",
     "output_type": "stream",
     "text": [
      "0\n",
      "1\n",
      "2\n",
      "3\n",
      "4\n",
      "5\n",
      "6\n",
      "7\n",
      "8\n",
      "9\n",
      "10\n",
      "11\n",
      "12\n",
      "13\n",
      "14\n",
      "Done!\n"
     ]
    }
   ],
   "source": [
    "# Process data\n",
    "repRes = []\n",
    "for rep in range(replicates):\n",
    "    dat = np.array([[float(y) for y in x] for x in my_replicates[rep]]) # Convert to array\n",
    "    progress = []\n",
    "    for ev in range(population,evaluations,population):\n",
    "      for i in np.arange(0.05,0.95,0.1):\n",
    "        for j in np.arange(0.05,0.95,0.1):\n",
    "          for elem in dat[:ev,:]:\n",
    "            if((i - 0.06 < elem[elementX]) and (elem[elementX] < i + 0.06) and (j - 0.0 < elem[elementY]) and (elem[elementY] < j + 0.06)):\n",
    "              counter = counter + 1\n",
    "              break;\n",
    "      progress.append(counter)\n",
    "      #print (counter)\n",
    "      counter = 0\n",
    "    print(rep)\n",
    "    repRes.append(progress)\n",
    "print(\"Done!\")"
   ]
  },
  {
   "cell_type": "code",
   "execution_count": 10,
   "metadata": {},
   "outputs": [],
   "source": [
    "interval=50\n",
    "rangeValues = range(0,generations,interval)\n",
    "lenRange = len(rangeValues)\n",
    "\n",
    "repArray = np.array(repRes)\n",
    "medians = []\n",
    "for i in rangeValues:\n",
    "    medians.append(statistics.median(repArray[:,i]))"
   ]
  },
  {
   "cell_type": "code",
   "execution_count": 11,
   "metadata": {},
   "outputs": [
    {
     "data": {
      "image/png": "[encoded data removed]",
      "text/plain": [
       "<Figure size 432x288 with 1 Axes>"
      ]
     },
     "metadata": {},
     "output_type": "display_data"
    }
   ],
   "source": [
    "font = {'weight' : 'normal',\n",
    "        'size'   : 14}\n",
    "\n",
    "plt.rc('font', **font)\n",
    "\n",
    "plt.figure(0)\n",
    "\n",
    "# Plot medians and stuff\n",
    "xValues = rangeValues\n",
    "xValues = [x/interval +1 for x in xValues]\n",
    "plt.plot(xValues, medians, '-', color='blue', linewidth=2.5)\n",
    "\n",
    "#Plot box plot\n",
    "plt.boxplot(repArray[:,rangeValues],notch=True)\n",
    "\n",
    "# Labels and stuff\n",
    "plt.xlabel('Evaluations')\n",
    "plt.ylabel('Exploration space covered (%)')\n",
    "axes = plt.gca()\n",
    "axes.set_ylim([0,40])\n",
    "rangeX = range(100*40,evaluations+50*40,100*40) # Why are these offsets necessary?\n",
    "posX = range(int(lenRange/10)*2,lenRange+2,int(lenRange/10)*2) # Why are these offsets necessary?\n",
    "plt.xticks(posX,rangeX)\n",
    "plt.title(experimentName + ': ' + xVariable+'-'+yVariable)\n",
    "plt.savefig(repository+experimentName+xVariable+yVariable+'ExpCovPop.png',dpi=200)"
   ]
  },
  {
   "cell_type": "code",
   "execution_count": null,
   "metadata": {},
   "outputs": [],
   "source": []
  }
 ],
 "metadata": {
  "kernelspec": {
   "display_name": "Python 3",
   "language": "python",
   "name": "python3"
  },
  "language_info": {
   "codemirror_mode": {
    "name": "ipython",
    "version": 3
   },
   "file_extension": ".py",
   "mimetype": "text/x-python",
   "name": "python",
   "nbconvert_exporter": "python",
   "pygments_lexer": "ipython3",
   "version": "3.6.8"
  }
 },
 "nbformat": 4,
 "nbformat_minor": 2
}
