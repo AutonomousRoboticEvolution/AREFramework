{
 "cells": [
  {
   "cell_type": "code",
   "execution_count": 1,
   "metadata": {},
   "outputs": [],
   "source": [
    "# Import libraries\n",
    "import csv\n",
    "import matplotlib.pyplot as plt\n",
    "import numpy as np\n",
    "import os\n",
    "import statistics"
   ]
  },
  {
   "cell_type": "code",
   "execution_count": 2,
   "metadata": {},
   "outputs": [],
   "source": [
    "# Set filepath\n",
    "repo='/home/ebb505/ARE_Project/are-logs/PPSN/'\n",
    "\n",
    "repBase='/home/ebb505/ARE_Project/are-logs/PPSN/BL/'\n",
    "repNov='/home/ebb505/ARE_Project/are-logs/PPSN/NS/'\n",
    "repNSGR='/home/ebb505/ARE_Project/are-logs/PPSN/GRi/'\n",
    "repPGR='/home/ebb505/ARE_Project/are-logs/PPSN/GRe/'\n",
    "\n",
    "filename='norepmorphdesc.csv'"
   ]
  },
  {
   "cell_type": "code",
   "execution_count": 3,
   "metadata": {},
   "outputs": [],
   "source": [
    "# Get all directories\n",
    "foldBase = []\n",
    "foldNov = []\n",
    "foldNSGR = []\n",
    "foldPGR = []\n",
    "\n",
    "# r=root, d=directories, f = files\n",
    "for r, d, f in os.walk(repBase):\n",
    "    for folder in d:\n",
    "        foldBase.append(os.path.join(r, folder))\n",
    "        # r=root, d=directories, f = files\n",
    "for r, d, f in os.walk(repNov):\n",
    "    for folder in d:\n",
    "        foldNov.append(os.path.join(r, folder))\n",
    "for r, d, f in os.walk(repNSGR):\n",
    "    for folder in d:\n",
    "        foldNSGR.append(os.path.join(r, folder))\n",
    "for r, d, f in os.walk(repPGR):\n",
    "    for folder in d:\n",
    "        foldPGR.append(os.path.join(r, folder))"
   ]
  },
  {
   "cell_type": "code",
   "execution_count": 4,
   "metadata": {},
   "outputs": [
    {
     "name": "stdout",
     "output_type": "stream",
     "text": [
      "Base Line:  18\n",
      "Pure Novelty:  18\n",
      "Gene Repression:  29\n",
      "Gene Repression:  15\n"
     ]
    }
   ],
   "source": [
    "# See directories\n",
    "print(\"Base Line: \",len(foldBase))\n",
    "print(\"Pure Novelty: \",len(foldNov))\n",
    "print(\"Gene Repression: \",len(foldNSGR))\n",
    "print(\"Gene Repression: \",len(foldPGR))"
   ]
  },
  {
   "cell_type": "code",
   "execution_count": 5,
   "metadata": {},
   "outputs": [],
   "source": [
    "# Get information from files\n",
    "repBase = []\n",
    "for f in foldBase:\n",
    "    my_list = []\n",
    "    with open(f + '/' + filename, 'r') as csvfile:\n",
    "        data = csv.reader(csvfile, delimiter=',', quotechar='\"')\n",
    "        for row in data:\n",
    "            my_list.append(row[:-1]) # Last character is empty for some reason\n",
    "    repBase.append(my_list)\n",
    "repNov = []\n",
    "for f in foldNov:\n",
    "    my_list = []\n",
    "    with open(f + '/' + filename, 'r') as csvfile:\n",
    "        data = csv.reader(csvfile, delimiter=',', quotechar='\"')\n",
    "        for row in data:\n",
    "            my_list.append(row[:-1]) # Last character is empty for some reason\n",
    "    repNov.append(my_list)\n",
    "repNSGR = []\n",
    "for f in foldNSGR:\n",
    "    my_list = []\n",
    "    with open(f + '/' + filename, 'r') as csvfile:\n",
    "        data = csv.reader(csvfile, delimiter=',', quotechar='\"')\n",
    "        for row in data:\n",
    "            my_list.append(row[:-1]) # Last character is empty for some reason\n",
    "    repNSGR.append(my_list)\n",
    "repPGR = []\n",
    "for f in foldPGR:\n",
    "    my_list = []\n",
    "    with open(f + '/' + filename, 'r') as csvfile:\n",
    "        data = csv.reader(csvfile, delimiter=',', quotechar='\"')\n",
    "        for row in data:\n",
    "            my_list.append(row[:]) # Last character is empty for some reason\n",
    "    repPGR.append(my_list)"
   ]
  },
  {
   "cell_type": "code",
   "execution_count": 6,
   "metadata": {},
   "outputs": [
    {
     "name": "stdout",
     "output_type": "stream",
     "text": [
      "Replicates:  15 Evaluations:  20000 Features:  7 Generations:  500\n"
     ]
    }
   ],
   "source": [
    "population = 40\n",
    "#replicates = len(repBase)\n",
    "replicates = 15\n",
    "#evaluations = len(repBase[0])\n",
    "evaluations = 20000\n",
    "features = len(repBase[0][0])\n",
    "generations = int(evaluations / population)\n",
    "print(\"Replicates: \", replicates, \"Evaluations: \", evaluations, \"Features: \", features, \"Generations: \", generations)"
   ]
  },
  {
   "cell_type": "code",
   "execution_count": 7,
   "metadata": {},
   "outputs": [],
   "source": [
    "# Characteristics\n",
    "counter = 0\n",
    "elementX = 4\n",
    "elementY = 5\n",
    "xVariable = \"Wheels\"\n",
    "yVariable = \"Sensors\""
   ]
  },
  {
   "cell_type": "code",
   "execution_count": 8,
   "metadata": {},
   "outputs": [
    {
     "name": "stdout",
     "output_type": "stream",
     "text": [
      "BL!\n",
      "0\n",
      "1\n",
      "2\n",
      "3\n",
      "4\n",
      "5\n",
      "6\n",
      "7\n",
      "8\n",
      "9\n",
      "10\n",
      "11\n",
      "12\n",
      "13\n",
      "14\n",
      "NS!\n",
      "0\n",
      "1\n",
      "2\n",
      "3\n",
      "4\n",
      "5\n",
      "6\n",
      "7\n",
      "8\n",
      "9\n",
      "10\n",
      "11\n",
      "12\n",
      "13\n",
      "14\n",
      "GRi!\n",
      "0\n",
      "1\n",
      "2\n",
      "3\n",
      "4\n",
      "5\n",
      "6\n",
      "7\n",
      "8\n",
      "9\n",
      "10\n",
      "11\n",
      "12\n",
      "13\n",
      "14\n",
      "GRe!\n",
      "0\n",
      "1\n",
      "2\n",
      "3\n",
      "4\n",
      "5\n",
      "6\n",
      "7\n",
      "8\n",
      "9\n",
      "10\n",
      "11\n",
      "12\n",
      "13\n",
      "14\n",
      "Done!\n"
     ]
    }
   ],
   "source": [
    "# Process data\n",
    "print(\"BL!\")\n",
    "repResBase = []\n",
    "counter = 0\n",
    "for rep in range(replicates):\n",
    "    dat = np.array([[float(y) for y in x] for x in repBase[rep]]) # Convert to array\n",
    "    for i in np.arange(0.05,0.95,0.1):\n",
    "      for j in np.arange(0.05,0.95,0.1):\n",
    "        for elem in dat[:,:]:\n",
    "          if((i - 0.06 < elem[elementX]) and (elem[elementX] < i + 0.06) and (j - 0.0 < elem[elementY]) and (elem[elementY] < j + 0.06)):\n",
    "            counter = counter + 1\n",
    "            break;\n",
    "    repResBase.append(counter)\n",
    "    counter = 0\n",
    "    print(rep)\n",
    "\n",
    "print(\"NS!\")\n",
    "repResNov = []\n",
    "counter = 0\n",
    "for rep in range(replicates):\n",
    "    dat = np.array([[float(y) for y in x] for x in repNov[rep]]) # Convert to array\n",
    "    for i in np.arange(0.05,0.95,0.1):\n",
    "      for j in np.arange(0.05,0.95,0.1):\n",
    "        for elem in dat[:,:]:\n",
    "          if((i - 0.06 < elem[elementX]) and (elem[elementX] < i + 0.06) and (j - 0.0 < elem[elementY]) and (elem[elementY] < j + 0.06)):\n",
    "            counter = counter + 1\n",
    "            break;\n",
    "    repResNov.append(counter)\n",
    "    counter = 0\n",
    "    print(rep)\n",
    "    \n",
    "print(\"GRi!\")\n",
    "repResNSGR = []\n",
    "counter = 0\n",
    "for rep in range(replicates):\n",
    "    dat = np.array([[float(y) for y in x] for x in repNSGR[rep]]) # Convert to array\n",
    "    for i in np.arange(0.05,0.95,0.1):\n",
    "      for j in np.arange(0.05,0.95,0.1):\n",
    "        for elem in dat[:,:]:\n",
    "          if((i - 0.06 < elem[elementX]) and (elem[elementX] < i + 0.06) and (j - 0.0 < elem[elementY]) and (elem[elementY] < j + 0.06)):\n",
    "            counter = counter + 1\n",
    "            break;\n",
    "    repResNSGR.append(counter)\n",
    "    counter = 0\n",
    "    print(rep)\n",
    "\n",
    "        \n",
    "print(\"GRe!\")\n",
    "repResPGR = []\n",
    "counter = 0\n",
    "for rep in range(replicates):\n",
    "    dat = np.array([[float(y) for y in x] for x in repPGR[rep]]) # Convert to array\n",
    "    for i in np.arange(0.05,0.95,0.1):\n",
    "      for j in np.arange(0.05,0.95,0.1):\n",
    "        for elem in dat[:,:]:\n",
    "          if((i - 0.06 < elem[elementX]) and (elem[elementX] < i + 0.06) and (j - 0.0 < elem[elementY]) and (elem[elementY] < j + 0.06)):\n",
    "            counter = counter + 1\n",
    "            break;\n",
    "    repResPGR.append(counter)\n",
    "    counter = 0\n",
    "    print(rep)\n",
    "    \n",
    "print(\"Done!\")"
   ]
  },
  {
   "cell_type": "code",
   "execution_count": 9,
   "metadata": {},
   "outputs": [
    {
     "data": {
      "image/png": "[encoded data removed]",
      "text/plain": [
       "<Figure size 432x288 with 1 Axes>"
      ]
     },
     "metadata": {},
     "output_type": "display_data"
    }
   ],
   "source": [
    "# Plot stuff\n",
    "font = {'weight' : 'normal',\n",
    "        'size'   : 14}\n",
    "plt.rc('font', **font)\n",
    "\n",
    "plt.figure(0)\n",
    "\n",
    "# Plot box plot stuff\n",
    "plt.boxplot([repResBase, repResNov, repResNSGR, repResPGR])\n",
    "\n",
    "# Label and stuff\n",
    "axes = plt.gca()\n",
    "axes.set_ylim([0,40])\n",
    "plt.ylabel('Exploration space covered (%)')\n",
    "# plt.title(\"Manufacturability Ratio\")\n",
    "\n",
    "rangeX = ['RS', 'NS', 'GRi', 'GRe']\n",
    "posX = [1,2,3,4] \n",
    "plt.xticks(posX,rangeX)\n",
    "\n",
    "# plt.text(1.5,1.05,'Skeleton',horizontalalignment='center', verticalalignment='center')\n",
    "# plt.text(3.5,1.05,'Head',horizontalalignment='center', verticalalignment='center')\n",
    "# plt.text(5.5,1.05,'Collisions',horizontalalignment='center', verticalalignment='center')\n",
    "# plt.text(7.5,1.05,'Orientations',horizontalalignment='center', verticalalignment='center')\n",
    "# plt.text(9.5,1.05,'Gripper',horizontalalignment='center', verticalalignment='center')\n",
    "plt.title(xVariable+'-'+yVariable)\n",
    "plt.savefig(repo+xVariable+yVariable+'_ExpSpcCovComp.png', dpi=200)"
   ]
  },
  {
   "cell_type": "code",
   "execution_count": null,
   "metadata": {},
   "outputs": [],
   "source": []
  }
 ],
 "metadata": {
  "kernelspec": {
   "display_name": "Python 3",
   "language": "python",
   "name": "python3"
  },
  "language_info": {
   "codemirror_mode": {
    "name": "ipython",
    "version": 3
   },
   "file_extension": ".py",
   "mimetype": "text/x-python",
   "name": "python",
   "nbconvert_exporter": "python",
   "pygments_lexer": "ipython3",
   "version": "3.6.8"
  }
 },
 "nbformat": 4,
 "nbformat_minor": 2
}
