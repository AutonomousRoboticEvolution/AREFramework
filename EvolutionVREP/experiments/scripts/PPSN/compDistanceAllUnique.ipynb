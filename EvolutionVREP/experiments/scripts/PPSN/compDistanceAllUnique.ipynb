{
 "cells": [
  {
   "cell_type": "code",
   "execution_count": 1,
   "metadata": {},
   "outputs": [],
   "source": [
    "# Load libraries\n",
    "import csv\n",
    "import matplotlib.pyplot as plt\n",
    "import statistics\n",
    "import numpy as np\n",
    "import os"
   ]
  },
  {
   "cell_type": "code",
   "execution_count": 11,
   "metadata": {},
   "outputs": [],
   "source": [
    "# Set filepath\n",
    "repository='/home/ebb505/ARE_Project/are-logs/'\n",
    "repBL='/home/ebb505/ARE_Project/are-logs/BL/'\n",
    "repPN='/home/ebb505/ARE_Project/are-logs/NS/'\n",
    "repGR='/home/ebb505/ARE_Project/are-logs/GRi/'\n",
    "repPGR='/home/ebb505/ARE_Project/are-logs/GRe/'\n",
    "filename='norepmorphdesc.csv' # REMEMBER TO NOT COUNT UNTIL -1\n",
    "#filename='morphdesc.csv' # REMEMBER TO NOT COUNT UNTIL -1"
   ]
  },
  {
   "cell_type": "code",
   "execution_count": 3,
   "metadata": {},
   "outputs": [],
   "source": [
    "# Get all directories\n",
    "foldBL = []\n",
    "foldPN = []\n",
    "foldGR = []\n",
    "foldPGR = []\n",
    "# r=root, d=directories, f = files\n",
    "for r, d, f in os.walk(repBL):\n",
    "    for folder in d:\n",
    "        foldBL.append(os.path.join(r, folder))\n",
    "for r, d, f in os.walk(repPN):\n",
    "    for folder in d:\n",
    "        foldPN.append(os.path.join(r, folder))\n",
    "for r, d, f in os.walk(repGR):\n",
    "    for folder in d:\n",
    "        foldGR.append(os.path.join(r, folder))\n",
    "for r, d, f in os.walk(repPGR):\n",
    "    for folder in d:\n",
    "        foldPGR.append(os.path.join(r, folder))"
   ]
  },
  {
   "cell_type": "code",
   "execution_count": 4,
   "metadata": {},
   "outputs": [
    {
     "name": "stdout",
     "output_type": "stream",
     "text": [
      "BL =  18\n",
      "PN =  18\n",
      "GR =  29\n",
      "PGR =  15\n"
     ]
    }
   ],
   "source": [
    "# See directories\n",
    "print(\"BL = \", len(foldBL))\n",
    "print(\"PN = \", len(foldPN))\n",
    "print(\"GR = \", len(foldGR))\n",
    "print(\"PGR = \", len(foldPGR))"
   ]
  },
  {
   "cell_type": "code",
   "execution_count": 5,
   "metadata": {},
   "outputs": [],
   "source": [
    "# Get information from files\n",
    "repBL = []\n",
    "for f in foldBL:\n",
    "    my_list = []\n",
    "    with open(f + '/' + filename, 'r') as csvfile:\n",
    "        data = csv.reader(csvfile, delimiter=',', quotechar='\"')\n",
    "        for row in data:\n",
    "            my_list.append(row[:-1]) \n",
    "    repBL.append(my_list)\n",
    "repPN = []\n",
    "for f in foldPN:\n",
    "    my_list = []\n",
    "    with open(f + '/' + filename, 'r') as csvfile:\n",
    "        data = csv.reader(csvfile, delimiter=',', quotechar='\"')\n",
    "        for row in data:\n",
    "            my_list.append(row[:-1]) \n",
    "    repPN.append(my_list)\n",
    "repGR = []\n",
    "for f in foldGR:\n",
    "    my_list = []\n",
    "    with open(f + '/' + filename, 'r') as csvfile:\n",
    "        data = csv.reader(csvfile, delimiter=',', quotechar='\"')\n",
    "        for row in data:\n",
    "            my_list.append(row[:-1]) \n",
    "    repGR.append(my_list)\n",
    "repPGR = []\n",
    "for f in foldPGR:\n",
    "    my_list = []\n",
    "    with open(f + '/' + filename, 'r') as csvfile:\n",
    "        data = csv.reader(csvfile, delimiter=',', quotechar='\"')\n",
    "        for row in data:\n",
    "            my_list.append(row[:-1]) \n",
    "    repPGR.append(my_list)"
   ]
  },
  {
   "cell_type": "code",
   "execution_count": 6,
   "metadata": {},
   "outputs": [
    {
     "name": "stdout",
     "output_type": "stream",
     "text": [
      "Replicates:  15 Evaluations:  20000 Features:  7 Generations:  500\n"
     ]
    }
   ],
   "source": [
    "population = 40\n",
    "#replicates = len(repBL)\n",
    "replicates = 15\n",
    "#evaluations = len(repBL[0])\n",
    "evaluations = 20000\n",
    "features = len(repBL[0][0])\n",
    "generations = int(evaluations / population)\n",
    "print(\"Replicates: \", replicates, \"Evaluations: \", evaluations, \"Features: \", features, \"Generations: \", generations)"
   ]
  },
  {
   "cell_type": "code",
   "execution_count": 7,
   "metadata": {},
   "outputs": [
    {
     "name": "stdout",
     "output_type": "stream",
     "text": [
      "Done!\n",
      "Done!\n",
      "Done!\n",
      "Done!\n"
     ]
    }
   ],
   "source": [
    "# Process data\n",
    "repResBL = []\n",
    "for rep in range(replicates):\n",
    "    dat = np.array([[float(y) for y in x] for x in repBL[rep]]) # Convert to array\n",
    "    repResBL.append(dat)\n",
    "print(\"Done!\")\n",
    "# Process data\n",
    "repResPN = []\n",
    "for rep in range(replicates):\n",
    "    dat = np.array([[float(y) for y in x] for x in repPN[rep]]) # Convert to array\n",
    "    repResPN.append(dat)\n",
    "print(\"Done!\")\n",
    "# Process data\n",
    "repResGR = []\n",
    "for rep in range(replicates):\n",
    "    dat = np.array([[float(y) for y in x] for x in repGR[rep]]) # Convert to array\n",
    "    repResGR.append(dat)\n",
    "print(\"Done!\")\n",
    "# Process data\n",
    "repResPGR = []\n",
    "for rep in range(replicates):\n",
    "    dat = np.array([[float(y) for y in x] for x in repPGR[rep]]) # Convert to array\n",
    "    repResPGR.append(dat)\n",
    "print(\"Done!\")"
   ]
  },
  {
   "cell_type": "code",
   "execution_count": 8,
   "metadata": {},
   "outputs": [
    {
     "name": "stdout",
     "output_type": "stream",
     "text": [
      "0\n",
      "1\n",
      "2\n",
      "3\n",
      "4\n",
      "5\n",
      "6\n",
      "7\n",
      "8\n",
      "9\n",
      "10\n",
      "11\n",
      "12\n",
      "13\n",
      "14\n",
      "BL -> Done!\n",
      "0\n",
      "1\n",
      "2\n",
      "3\n",
      "4\n",
      "5\n",
      "6\n",
      "7\n",
      "8\n",
      "9\n",
      "10\n",
      "11\n",
      "12\n",
      "13\n",
      "14\n",
      "PN -> Done!\n",
      "0\n",
      "1\n",
      "2\n",
      "3\n",
      "4\n",
      "5\n",
      "6\n",
      "7\n",
      "8\n",
      "9\n",
      "10\n",
      "11\n",
      "12\n",
      "13\n",
      "14\n",
      "GR - > Done!\n",
      "0\n",
      "1\n",
      "2\n",
      "3\n",
      "4\n",
      "5\n",
      "6\n",
      "7\n",
      "8\n",
      "9\n",
      "10\n",
      "11\n",
      "12\n",
      "13\n",
      "14\n",
      "PGR -> Done!\n"
     ]
    }
   ],
   "source": [
    "repDistBL = []\n",
    "for rep in range(replicates):\n",
    "    temAve = []\n",
    "    for i in range(len(repResBL[rep])):\n",
    "        temDis = []\n",
    "        for j in range(len(repResBL[rep])):\n",
    "            dist = np.linalg.norm(repResBL[rep][i][1:]-repResBL[rep][j][1:])\n",
    "            temDis.append(dist)\n",
    "        sortedList = np.sort(temDis)\n",
    "        temAve.append(np.mean(sortedList[:14]))\n",
    "    repDistBL.append(np.mean(temAve))\n",
    "    print(rep)\n",
    "print(\"BL -> Done!\")\n",
    "\n",
    "repDistPN = []\n",
    "for rep in range(replicates):\n",
    "    temAve = []\n",
    "    for i in range(len(repResPN[rep])):\n",
    "        temDis = []\n",
    "        for j in range(len(repResPN[rep])):\n",
    "            dist = np.linalg.norm(repResPN[rep][i][1:]-repResPN[rep][j][1:])\n",
    "            temDis.append(dist)\n",
    "        sortedList = np.sort(temDis)\n",
    "        temAve.append(np.mean(sortedList[:14]))\n",
    "    repDistPN.append(np.mean(temAve))\n",
    "    print(rep)\n",
    "print(\"PN -> Done!\")\n",
    "\n",
    "repDistGR = []\n",
    "for rep in range(replicates):\n",
    "    temAve = []\n",
    "    for i in range(len(repResGR[rep])):\n",
    "        temDis = []\n",
    "        for j in range(len(repResGR[rep])):\n",
    "            dist = np.linalg.norm(repResGR[rep][i][1:]-repResGR[rep][j][1:])\n",
    "            temDis.append(dist)\n",
    "        sortedList = np.sort(temDis)\n",
    "        temAve.append(np.mean(sortedList[:14]))\n",
    "    repDistGR.append(np.mean(temAve))\n",
    "    print(rep)\n",
    "print(\"GR - > Done!\")\n",
    "\n",
    "\n",
    "repDistPGR = []\n",
    "for rep in range(replicates):\n",
    "    temAve = []\n",
    "    for i in range(len(repResPGR[rep])):\n",
    "        temDis = []\n",
    "        for j in range(len(repResPGR[rep])):\n",
    "            dist = np.linalg.norm(repResPGR[rep][i][1:]-repResPGR[rep][j][1:])\n",
    "            temDis.append(dist)\n",
    "        sortedList = np.sort(temDis)\n",
    "        temAve.append(np.mean(sortedList[:14]))\n",
    "    repDistPGR.append(np.mean(temAve))\n",
    "    print(rep)\n",
    "print(\"PGR -> Done!\")\n"
   ]
  },
  {
   "cell_type": "code",
   "execution_count": 14,
   "metadata": {},
   "outputs": [
    {
     "data": {
      "image/png": "[encoded data removed]",
      "text/plain": [
       "<Figure size 432x288 with 1 Axes>"
      ]
     },
     "metadata": {},
     "output_type": "display_data"
    }
   ],
   "source": [
    "# Plot stuff\n",
    "font = {'weight' : 'normal',\n",
    "        'size'   : 14.0}\n",
    "\n",
    "plt.rc('font', **font)\n",
    "plt.figure(0)\n",
    "\n",
    "# Plot box plot stuff\n",
    "plt.boxplot([repDistBL, repDistPN, repDistGR, repDistPGR], notch=True)\n",
    "#plt.boxplot([[x / 2 for x in repDistBL], [x / 2 for x in repDistPN], [x / 2 for x in repDistGR], [x / 2 for x in repDistPGR]], notch=True)\n",
    "\n",
    "#Label and stuff\n",
    "axes = plt.gca()\n",
    "axes.set_ylim([0,0.25])\n",
    "#axes.set_ylim([0,0.03])\n",
    "plt.ylabel('Spareness')\n",
    "plt.title(\"All Unique Robots\")\n",
    "rangeX = ['BL', 'NS', 'GRi', 'GRe'] \n",
    "posX = [1,2,3,4]\n",
    "plt.xticks(posX,rangeX)\n",
    "plt.savefig(repository+'SparenessAll.png', dpi=200)"
   ]
  },
  {
   "cell_type": "code",
   "execution_count": null,
   "metadata": {},
   "outputs": [],
   "source": []
  }
 ],
 "metadata": {
  "kernelspec": {
   "display_name": "Python 3",
   "language": "python",
   "name": "python3"
  },
  "language_info": {
   "codemirror_mode": {
    "name": "ipython",
    "version": 3
   },
   "file_extension": ".py",
   "mimetype": "text/x-python",
   "name": "python",
   "nbconvert_exporter": "python",
   "pygments_lexer": "ipython3",
   "version": "3.6.9"
  }
 },
 "nbformat": 4,
 "nbformat_minor": 2
}
