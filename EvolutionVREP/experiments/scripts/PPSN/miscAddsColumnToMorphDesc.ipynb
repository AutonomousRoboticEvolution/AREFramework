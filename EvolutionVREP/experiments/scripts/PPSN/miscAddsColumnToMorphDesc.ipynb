{
 "cells": [
  {
   "cell_type": "code",
   "execution_count": 5,
   "metadata": {},
   "outputs": [],
   "source": [
    "# Import libraries\n",
    "import csv\n",
    "import matplotlib.pyplot as plt\n",
    "import numpy as np\n",
    "import os\n",
    "import statistics"
   ]
  },
  {
   "cell_type": "code",
   "execution_count": 6,
   "metadata": {},
   "outputs": [],
   "source": [
    "# Set filepath\n",
    "\n",
    "repBL='/home/ebb505/ARE_Project/are-logs/BL/'\n",
    "repPN='/home/ebb505/ARE_Project/are-logs/PNS/'\n",
    "repGR='/home/ebb505/ARE_Project/are-logs/NSGR/'\n",
    "\n",
    "filename='tests.csv'"
   ]
  },
  {
   "cell_type": "code",
   "execution_count": 7,
   "metadata": {},
   "outputs": [],
   "source": [
    "# Get all directories\n",
    "foldBL = []\n",
    "foldPN = []\n",
    "foldGR = []\n",
    "# r=root, d=directories, f = files\n",
    "for r, d, f in os.walk(repBL):\n",
    "    for folder in d:\n",
    "        foldBL.append(os.path.join(r, folder))\n",
    "for r, d, f in os.walk(repPN):\n",
    "    for folder in d:\n",
    "        foldPN.append(os.path.join(r, folder))\n",
    "for r, d, f in os.walk(repGR):\n",
    "    for folder in d:\n",
    "        foldGR.append(os.path.join(r, folder))"
   ]
  },
  {
   "cell_type": "code",
   "execution_count": 8,
   "metadata": {},
   "outputs": [
    {
     "name": "stdout",
     "output_type": "stream",
     "text": [
      "BL =  3\n",
      "PN =  12\n",
      "GR =  1\n"
     ]
    }
   ],
   "source": [
    "# See directories\n",
    "print(\"BL = \", len(foldBL))\n",
    "print(\"PN = \", len(foldPN))\n",
    "print(\"GR = \", len(foldGR))"
   ]
  },
  {
   "cell_type": "code",
   "execution_count": 9,
   "metadata": {},
   "outputs": [],
   "source": [
    "# Get information from files\n",
    "repBL = []\n",
    "for f in foldBL:\n",
    "    my_list = []\n",
    "    with open(f + '/' + filename, 'r') as csvfile:\n",
    "        data = csv.reader(csvfile, delimiter=',', quotechar='\"')\n",
    "        for row in data:\n",
    "            my_list.append(row[:-1]) # Last character is empty for some reason\n",
    "    repBL.append(my_list)\n",
    "repPN = []\n",
    "for f in foldPN:\n",
    "    my_list = []\n",
    "    with open(f + '/' + filename, 'r') as csvfile:\n",
    "        data = csv.reader(csvfile, delimiter=',', quotechar='\"')\n",
    "        for row in data:\n",
    "            my_list.append(row[:-1]) # Last character is empty for some reason\n",
    "    repPN.append(my_list)\n",
    "repGR = []\n",
    "for f in foldGR:\n",
    "    my_list = []\n",
    "    with open(f + '/' + filename, 'r') as csvfile:\n",
    "        data = csv.reader(csvfile, delimiter=',', quotechar='\"')\n",
    "        for row in data:\n",
    "            my_list.append(row[:-1]) # Last character is empty for some reason\n",
    "    repGR.append(my_list)"
   ]
  },
  {
   "cell_type": "code",
   "execution_count": 10,
   "metadata": {},
   "outputs": [
    {
     "name": "stdout",
     "output_type": "stream",
     "text": [
      "Replicates:  3 Evaluations:  20000 Features:  6 Generations:  500\n"
     ]
    }
   ],
   "source": [
    "population = 40\n",
    "replicates = len(repBL)\n",
    "evaluations = len(repBL[0])\n",
    "features = len(repBL[0][0])\n",
    "generations = int(evaluations / population)\n",
    "print(\"Replicates: \", replicates, \"Evaluations: \", evaluations, \"Features: \", features, \"Generations: \", generations)"
   ]
  },
  {
   "cell_type": "code",
   "execution_count": 11,
   "metadata": {},
   "outputs": [
    {
     "name": "stdout",
     "output_type": "stream",
     "text": [
      "0\n",
      "1\n",
      "2\n",
      "Done!\n",
      "0\n",
      "1\n",
      "2\n",
      "3\n",
      "4\n",
      "5\n",
      "6\n",
      "7\n",
      "8\n",
      "9\n",
      "10\n",
      "11\n",
      "Done!\n",
      "0\n",
      "Done!\n"
     ]
    }
   ],
   "source": [
    "# \n",
    "sumRepBL = []\n",
    "for i in range(3):\n",
    "    dat = np.array([[float(y) for y in x] for x in repBL[i]]) # Convert to array\n",
    "    result = []\n",
    "    for j in range(evaluations):\n",
    "        if(dat[j,0] > 0 \\\n",
    "           and dat[j,1] > 0 \\\n",
    "           and dat[j,2] > 0 \\\n",
    "           and dat[j,3] > 0 \\\n",
    "           and dat[j,4] > 0 \\\n",
    "           and dat[j,5] > 0 \\\n",
    "          ):\n",
    "            result.append(1)\n",
    "        else:\n",
    "            result.append(0)\n",
    "    sumRepBL.append(result)\n",
    "    print(i)\n",
    "print(\"Done!\")\n",
    "#print(sumRepBL)\n",
    "\n",
    "sumRepPN = []\n",
    "for i in range(12):\n",
    "    dat = np.array([[float(y) for y in x] for x in repPN[i]]) # Convert to array\n",
    "    result = []\n",
    "    for j in range(evaluations):\n",
    "        if(dat[j,0] > 0 \\\n",
    "           and dat[j,1] > 0 \\\n",
    "           and dat[j,2] > 0 \\\n",
    "           and dat[j,3] > 0 \\\n",
    "           and dat[j,4] > 0 \\\n",
    "           and dat[j,5] > 0 \\\n",
    "          ):\n",
    "            result.append(1)\n",
    "        else:\n",
    "            result.append(0)\n",
    "    sumRepBL.append(result)\n",
    "    print(i)\n",
    "print(\"Done!\")\n",
    "#print(sumRepPN)\n",
    "\n",
    "sumRepGR = []\n",
    "for i in range(1):\n",
    "    dat = np.array([[float(y) for y in x] for x in repGR[i]]) # Convert to array\n",
    "    result = []\n",
    "    for j in range(evaluations):\n",
    "        if(dat[j,0] > 0 \\\n",
    "           and dat[j,1] > 0 \\\n",
    "           and dat[j,2] > 0 \\\n",
    "           and dat[j,3] > 0 \\\n",
    "           and dat[j,4] > 0 \\\n",
    "           and dat[j,5] > 0 \\\n",
    "          ):\n",
    "            result.append(1)\n",
    "        else:\n",
    "            result.append(0)\n",
    "    sumRepBL.append(result)\n",
    "    print(i)\n",
    "print(\"Done!\")\n",
    "#print(sumRepGR)"
   ]
  },
  {
   "cell_type": "code",
   "execution_count": 15,
   "metadata": {},
   "outputs": [],
   "source": [
    "# From: https://thispointer.com/python-add-a-column-to-an-existing-csv-file/\n",
    "# Adding extra column...\n",
    "filenameinput='morphdesc.csv'\n",
    "filenameoutput='morphdescres.csv'\n",
    "\n",
    "fileCounter = 0\n",
    "for f in foldBL:\n",
    "    my_list = []\n",
    "    with open(f + '/' + filenameinput, 'r') as read_obj, \\\n",
    "    open(f + '/' + filenameoutput, 'w', newline='') as write_obj:\n",
    "        csv_reader = csv.reader(read_obj, delimiter=',', quotechar='\"')\n",
    "        csv_writer = csv.writer(write_obj)\n",
    "        rowCounter = 0\n",
    "        for row in csv_reader:\n",
    "            row.append(sumRepBL[fileCounter][rowCounter]) \n",
    "            csv_writer.writerow(row)\n",
    "            rowCounter = rowCounter + 1\n",
    "    fileCounter = fileCounter + 1\n",
    "fileCounter = 0\n",
    "for f in foldPN:\n",
    "    my_list = []\n",
    "    with open(f + '/' + filenameinput, 'r') as read_obj, \\\n",
    "    open(f + '/' + filenameoutput, 'w', newline='') as write_obj:\n",
    "        csv_reader = csv.reader(read_obj, delimiter=',', quotechar='\"')\n",
    "        csv_writer = csv.writer(write_obj)\n",
    "        rowCounter = 0\n",
    "        for row in csv_reader:\n",
    "            row.append(sumRepBL[fileCounter][rowCounter]) \n",
    "            csv_writer.writerow(row)\n",
    "            rowCounter = rowCounter + 1\n",
    "    fileCounter = fileCounter + 1\n",
    "fileCounter = 0\n",
    "for f in foldGR:\n",
    "    my_list = []\n",
    "    with open(f + '/' + filenameinput, 'r') as read_obj, \\\n",
    "    open(f + '/' + filenameoutput, 'w', newline='') as write_obj:\n",
    "        csv_reader = csv.reader(read_obj, delimiter=',', quotechar='\"')\n",
    "        csv_writer = csv.writer(write_obj)\n",
    "        rowCounter = 0\n",
    "        for row in csv_reader:\n",
    "            row.append(sumRepBL[fileCounter][rowCounter]) \n",
    "            csv_writer.writerow(row)\n",
    "            rowCounter = rowCounter + 1\n",
    "    fileCounter = fileCounter + 1"
   ]
  },
  {
   "cell_type": "code",
   "execution_count": null,
   "metadata": {},
   "outputs": [],
   "source": []
  }
 ],
 "metadata": {
  "kernelspec": {
   "display_name": "Python 3",
   "language": "python",
   "name": "python3"
  },
  "language_info": {
   "codemirror_mode": {
    "name": "ipython",
    "version": 3
   },
   "file_extension": ".py",
   "mimetype": "text/x-python",
   "name": "python",
   "nbconvert_exporter": "python",
   "pygments_lexer": "ipython3",
   "version": "3.6.8"
  }
 },
 "nbformat": 4,
 "nbformat_minor": 2
}
