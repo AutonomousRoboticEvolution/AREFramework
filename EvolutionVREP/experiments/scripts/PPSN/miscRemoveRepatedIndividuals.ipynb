{
 "cells": [
  {
   "cell_type": "code",
   "execution_count": 1,
   "metadata": {},
   "outputs": [],
   "source": [
    "# Import libraries\n",
    "import csv\n",
    "import matplotlib.pyplot as plt\n",
    "import numpy as np\n",
    "import os\n",
    "import statistics"
   ]
  },
  {
   "cell_type": "code",
   "execution_count": 2,
   "metadata": {},
   "outputs": [],
   "source": [
    "# Set filepath\n",
    "\n",
    "#rep='/home/ebb505/ARE_Project/are-logs/BL/'\n",
    "# rep='/home/ebb505/ARE_Project/are-logs/NS/'\n",
    "#rep='/home/ebb505/ARE_Project/are-logs/GRi/'\n",
    "rep='/home/ebb505/ARE_Project/are-logs/GRe/'\n",
    "\n",
    "fnTests='tests.csv'\n",
    "fnMorphDesc='morphdesc.csv'\n",
    "fnNoRepTests='noreptests.csv'\n",
    "fnNoRepMorphDesc='norepmorphdesc.csv'"
   ]
  },
  {
   "cell_type": "code",
   "execution_count": 3,
   "metadata": {},
   "outputs": [],
   "source": [
    "# Get all directories\n",
    "fold = []\n",
    "# r=root, d=directories, f = files\n",
    "for r, d, f in os.walk(rep):\n",
    "    for folder in d:\n",
    "        fold.append(os.path.join(r, folder))"
   ]
  },
  {
   "cell_type": "code",
   "execution_count": 4,
   "metadata": {},
   "outputs": [
    {
     "name": "stdout",
     "output_type": "stream",
     "text": [
      "Directories number =  15\n"
     ]
    }
   ],
   "source": [
    "# See directories\n",
    "print(\"Directories number = \", len(fold))"
   ]
  },
  {
   "cell_type": "code",
   "execution_count": 5,
   "metadata": {},
   "outputs": [],
   "source": [
    "# Get information from files\n",
    "repTests = []\n",
    "repMorphDesc = []\n",
    "for f in fold:\n",
    "    listTests = []\n",
    "    listMorphDesc = []\n",
    "    with open(f + '/' + fnTests, 'r') as csvTests, \\\n",
    "    open(f + '/' + fnMorphDesc, 'r') as csvMorphDesc:\n",
    "        dataTests = csv.reader(csvTests, delimiter=',', quotechar='\"')\n",
    "        for row in dataTests:\n",
    "            listTests.append(row[:]) # Last character is empty for some reason\n",
    "            \n",
    "        dataMorphDesc = csv.reader(csvMorphDesc, delimiter=',', quotechar='\"')\n",
    "        for row in dataMorphDesc:\n",
    "            listMorphDesc.append(row[:]) # Last character is empty for some reason\n",
    "    repTests.append(listTests)\n",
    "    repMorphDesc.append(listMorphDesc)"
   ]
  },
  {
   "cell_type": "code",
   "execution_count": 6,
   "metadata": {},
   "outputs": [
    {
     "name": "stdout",
     "output_type": "stream",
     "text": [
      "Replicates:  15 Evaluations:  10539 Features:  8 Generations:  263\n"
     ]
    }
   ],
   "source": [
    "population = 40\n",
    "replicates = len(repMorphDesc)\n",
    "evaluations = len(repMorphDesc[0])\n",
    "features = len(repMorphDesc[0][0])\n",
    "generations = int(evaluations / population)\n",
    "print(\"Replicates: \", replicates, \"Evaluations: \", evaluations, \"Features: \", features, \"Generations: \", generations)"
   ]
  },
  {
   "cell_type": "code",
   "execution_count": 7,
   "metadata": {},
   "outputs": [
    {
     "name": "stdout",
     "output_type": "stream",
     "text": [
      "Initial size of table 10539\n",
      "Final size of table 10414\n",
      "Final size of table 9518\n",
      "Final size of table 9992\n",
      "Final size of table 9480\n",
      "Final size of table 9859\n",
      "Final size of table 9604\n",
      "Final size of table 9521\n",
      "Final size of table 9486\n",
      "Final size of table 9244\n",
      "Final size of table 9537\n",
      "Final size of table 10131\n",
      "Final size of table 9746\n",
      "Final size of table 9591\n",
      "Final size of table 9787\n",
      "Final size of table 9651\n",
      "Done!\n"
     ]
    }
   ],
   "source": [
    "counter = 0\n",
    "testCollectionList = []\n",
    "morphCollectionList = []\n",
    "print(\"Initial size of table\",len(repMorphDesc[0]))\n",
    "for i in range(replicates):\n",
    "    testsTempList = []\n",
    "    morphTempList = []\n",
    "    for j in range(len(repMorphDesc[i])):\n",
    "        flag = 0\n",
    "        for k in range(j,len(repMorphDesc[i]),1):\n",
    "            #print(j,\" \",k)\n",
    "            if(j != k ):\n",
    "                if(repMorphDesc[i][j][1] == repMorphDesc[i][k][1] and \\\n",
    "                   repMorphDesc[i][j][2] == repMorphDesc[i][k][2] and \\\n",
    "                   repMorphDesc[i][j][3] == repMorphDesc[i][k][3] and \\\n",
    "                   repMorphDesc[i][j][4] == repMorphDesc[i][k][4] and \\\n",
    "                   repMorphDesc[i][j][5] == repMorphDesc[i][k][5] and \\\n",
    "                   repMorphDesc[i][j][6] == repMorphDesc[i][k][6]  \\\n",
    "                  ):\n",
    "                    counter = counter + 1\n",
    "                    flag = 1\n",
    "                    #print(\"Copy!\")\n",
    "                    break\n",
    "        if(flag == 0):\n",
    "            testsTempList.append(repTests[i][j])\n",
    "            morphTempList.append(repMorphDesc[i][j])\n",
    "            \n",
    "    print(\"Final size of table\",len(testsTempList))\n",
    "    testCollectionList.append(testsTempList)\n",
    "    morphCollectionList.append(morphTempList)\n",
    "    \n",
    "print(\"Done!\")"
   ]
  },
  {
   "cell_type": "code",
   "execution_count": 8,
   "metadata": {},
   "outputs": [],
   "source": [
    "fileCounter = 0\n",
    "for f in fold:\n",
    "    with open(f + '/' + fnNoRepTests, 'w', newline='') as tests_write_obj, \\\n",
    "    open(f + '/' + fnNoRepMorphDesc, 'w', newline='') as desc_write_obj:\n",
    "        tests_csv_writer = csv.writer(tests_write_obj)\n",
    "        desc_csv_writer = csv.writer(desc_write_obj)\n",
    "        for i in range(len(testCollectionList[fileCounter])):\n",
    "            tests_csv_writer.writerow(testCollectionList[fileCounter][i])\n",
    "            desc_csv_writer.writerow(morphCollectionList[fileCounter][i])\n",
    "    fileCounter = fileCounter + 1"
   ]
  },
  {
   "cell_type": "code",
   "execution_count": 9,
   "metadata": {},
   "outputs": [
    {
     "ename": "NameError",
     "evalue": "name 'collectionList' is not defined",
     "output_type": "error",
     "traceback": [
      "\u001b[0;31m---------------------------------------------------------------------------\u001b[0m",
      "\u001b[0;31mNameError\u001b[0m                                 Traceback (most recent call last)",
      "\u001b[0;32m<ipython-input-9-108af9536c0f>\u001b[0m in \u001b[0;36m<module>\u001b[0;34m()\u001b[0m\n\u001b[0;32m----> 1\u001b[0;31m \u001b[0mprint\u001b[0m\u001b[0;34m(\u001b[0m\u001b[0mlen\u001b[0m\u001b[0;34m(\u001b[0m\u001b[0mcollectionList\u001b[0m\u001b[0;34m[\u001b[0m\u001b[0;36m0\u001b[0m\u001b[0;34m]\u001b[0m\u001b[0;34m)\u001b[0m\u001b[0;34m)\u001b[0m\u001b[0;34m\u001b[0m\u001b[0;34m\u001b[0m\u001b[0m\n\u001b[0m",
      "\u001b[0;31mNameError\u001b[0m: name 'collectionList' is not defined"
     ]
    }
   ],
   "source": [
    "print(len(collectionList[0]))"
   ]
  },
  {
   "cell_type": "code",
   "execution_count": null,
   "metadata": {},
   "outputs": [],
   "source": []
  }
 ],
 "metadata": {
  "kernelspec": {
   "display_name": "Python 3",
   "language": "python",
   "name": "python3"
  },
  "language_info": {
   "codemirror_mode": {
    "name": "ipython",
    "version": 3
   },
   "file_extension": ".py",
   "mimetype": "text/x-python",
   "name": "python",
   "nbconvert_exporter": "python",
   "pygments_lexer": "ipython3",
   "version": "3.6.8"
  }
 },
 "nbformat": 4,
 "nbformat_minor": 2
}
