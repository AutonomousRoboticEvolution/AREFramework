{
 "cells": [
  {
   "cell_type": "code",
   "execution_count": 18,
   "metadata": {},
   "outputs": [],
   "source": [
    "# Load libraries\n",
    "import csv\n",
    "import matplotlib.pyplot as plt\n",
    "import statistics\n",
    "import numpy as np\n",
    "import os"
   ]
  },
  {
   "cell_type": "code",
   "execution_count": 19,
   "metadata": {},
   "outputs": [],
   "source": [
    "# Set filepath\n",
    "repository='/home/ebb505/ARE_Project/are-logs/PPSN/'\n",
    "repBL='/home/ebb505/ARE_Project/are-logs/PPSN/BL/'\n",
    "repPN='/home/ebb505/ARE_Project/are-logs/PPSN/NS/'\n",
    "repGR='/home/ebb505/ARE_Project/are-logs/PPSN/GRi/'\n",
    "repPGR='/home/ebb505/ARE_Project/are-logs/PPSN/GRe/'\n",
    "filename='norepmorphdesc.csv' # REMEMBER TO NOT COUNT UNTIL -1\n",
    "#filename='morphdesc.csv' # REMEMBER TO NOT COUNT UNTIL -1\n",
    "oFn=repository+'maxSparenessAll'"
   ]
  },
  {
   "cell_type": "code",
   "execution_count": 20,
   "metadata": {},
   "outputs": [],
   "source": [
    "# Get all directories\n",
    "foldBL = []\n",
    "foldPN = []\n",
    "foldGR = []\n",
    "foldPGR = []\n",
    "# r=root, d=directories, f = files\n",
    "for r, d, f in os.walk(repBL):\n",
    "    for folder in d:\n",
    "        foldBL.append(os.path.join(r, folder))\n",
    "for r, d, f in os.walk(repPN):\n",
    "    for folder in d:\n",
    "        foldPN.append(os.path.join(r, folder))\n",
    "for r, d, f in os.walk(repGR):\n",
    "    for folder in d:\n",
    "        foldGR.append(os.path.join(r, folder))\n",
    "for r, d, f in os.walk(repPGR):\n",
    "    for folder in d:\n",
    "        foldPGR.append(os.path.join(r, folder))"
   ]
  },
  {
   "cell_type": "code",
   "execution_count": 21,
   "metadata": {},
   "outputs": [
    {
     "name": "stdout",
     "output_type": "stream",
     "text": [
      "BL =  18\n",
      "PN =  18\n",
      "GR =  29\n",
      "PGR =  15\n"
     ]
    }
   ],
   "source": [
    "# See directories\n",
    "print(\"BL = \", len(foldBL))\n",
    "print(\"PN = \", len(foldPN))\n",
    "print(\"GR = \", len(foldGR))\n",
    "print(\"PGR = \", len(foldPGR))"
   ]
  },
  {
   "cell_type": "code",
   "execution_count": 22,
   "metadata": {},
   "outputs": [],
   "source": [
    "# Get information from files\n",
    "repBL = []\n",
    "for f in foldBL:\n",
    "    my_list = []\n",
    "    with open(f + '/' + filename, 'r') as csvfile:\n",
    "        data = csv.reader(csvfile, delimiter=',', quotechar='\"')\n",
    "        for row in data:\n",
    "            my_list.append(row[:-1]) \n",
    "    repBL.append(my_list)\n",
    "repPN = []\n",
    "for f in foldPN:\n",
    "    my_list = []\n",
    "    with open(f + '/' + filename, 'r') as csvfile:\n",
    "        data = csv.reader(csvfile, delimiter=',', quotechar='\"')\n",
    "        for row in data:\n",
    "            my_list.append(row[:-1]) \n",
    "    repPN.append(my_list)\n",
    "repGR = []\n",
    "for f in foldGR:\n",
    "    my_list = []\n",
    "    with open(f + '/' + filename, 'r') as csvfile:\n",
    "        data = csv.reader(csvfile, delimiter=',', quotechar='\"')\n",
    "        for row in data:\n",
    "            my_list.append(row[:-1]) \n",
    "    repGR.append(my_list)\n",
    "repPGR = []\n",
    "for f in foldPGR:\n",
    "    my_list = []\n",
    "    with open(f + '/' + filename, 'r') as csvfile:\n",
    "        data = csv.reader(csvfile, delimiter=',', quotechar='\"')\n",
    "        for row in data:\n",
    "            my_list.append(row[:-1]) \n",
    "    repPGR.append(my_list)"
   ]
  },
  {
   "cell_type": "code",
   "execution_count": 23,
   "metadata": {},
   "outputs": [
    {
     "name": "stdout",
     "output_type": "stream",
     "text": [
      "Replicates:  15 Evaluations:  20000 Features:  7 Generations:  500\n"
     ]
    }
   ],
   "source": [
    "population = 40\n",
    "#replicates = len(repBL)\n",
    "replicates = 15\n",
    "#evaluations = len(repBL[0])\n",
    "evaluations = 20000\n",
    "features = len(repBL[0][0])\n",
    "generations = int(evaluations / population)\n",
    "print(\"Replicates: \", replicates, \"Evaluations: \", evaluations, \"Features: \", features, \"Generations: \", generations)"
   ]
  },
  {
   "cell_type": "code",
   "execution_count": 24,
   "metadata": {},
   "outputs": [
    {
     "name": "stdout",
     "output_type": "stream",
     "text": [
      "Done!\n",
      "Done!\n",
      "Done!\n",
      "Done!\n"
     ]
    }
   ],
   "source": [
    "# Process data\n",
    "repResBL = []\n",
    "for rep in range(replicates):\n",
    "    dat = np.array([[float(y) for y in x] for x in repBL[rep]]) # Convert to array\n",
    "    repResBL.append(dat)\n",
    "print(\"Done!\")\n",
    "# Process data\n",
    "repResPN = []\n",
    "for rep in range(replicates):\n",
    "    dat = np.array([[float(y) for y in x] for x in repPN[rep]]) # Convert to array\n",
    "    repResPN.append(dat)\n",
    "print(\"Done!\")\n",
    "# Process data\n",
    "repResGR = []\n",
    "for rep in range(replicates):\n",
    "    dat = np.array([[float(y) for y in x] for x in repGR[rep]]) # Convert to array\n",
    "    repResGR.append(dat)\n",
    "print(\"Done!\")\n",
    "# Process data\n",
    "repResPGR = []\n",
    "for rep in range(replicates):\n",
    "    dat = np.array([[float(y) for y in x] for x in repPGR[rep]]) # Convert to array\n",
    "    repResPGR.append(dat)\n",
    "print(\"Done!\")"
   ]
  },
  {
   "cell_type": "code",
   "execution_count": 25,
   "metadata": {},
   "outputs": [
    {
     "name": "stdout",
     "output_type": "stream",
     "text": [
      "9581\n"
     ]
    }
   ],
   "source": [
    "minLen = 20000\n",
    "for rep in range(replicates):\n",
    "    tempLen = len(repResBL[rep])\n",
    "    if(tempLen < minLen):\n",
    "        minLen = tempLen\n",
    "    tempLen = len(repResPN[rep])\n",
    "    if(tempLen < minLen):\n",
    "        minLen = tempLen\n",
    "        tempLen = len(repResGR[rep])\n",
    "    if(tempLen < minLen):\n",
    "        minLen = tempLen\n",
    "        tempLen = len(repResPGR[rep])\n",
    "    if(tempLen < minLen):\n",
    "        minLen = tempLen\n",
    "print(minLen)"
   ]
  },
  {
   "cell_type": "code",
   "execution_count": 26,
   "metadata": {},
   "outputs": [
    {
     "name": "stdout",
     "output_type": "stream",
     "text": [
      "0   1.3531256697999192\n",
      "1   1.4068510386973323\n",
      "2   1.4299636979721144\n",
      "3   1.2493254874047652\n",
      "4   1.6513397066863893\n",
      "5   1.3432891733797756\n",
      "6   1.2581918158658518\n",
      "7   1.5136369480143943\n",
      "8   1.2502292541959015\n",
      "9   1.6022151811381249\n",
      "10   1.5886770701454171\n",
      "11   1.6134345823897795\n",
      "12   1.6210334717210704\n"
     ]
    },
    {
     "ename": "KeyboardInterrupt",
     "evalue": "",
     "output_type": "error",
     "traceback": [
      "\u001b[0;31m-----------------------------------------------------------------------\u001b[0m",
      "\u001b[0;31mKeyboardInterrupt\u001b[0m                     Traceback (most recent call last)",
      "\u001b[0;32m<ipython-input-26-dd0ff4e2dbb8>\u001b[0m in \u001b[0;36m<module>\u001b[0;34m()\u001b[0m\n\u001b[1;32m      4\u001b[0m         \u001b[0mtemDis\u001b[0m \u001b[0;34m=\u001b[0m \u001b[0;34m[\u001b[0m\u001b[0;34m]\u001b[0m\u001b[0;34m\u001b[0m\u001b[0;34m\u001b[0m\u001b[0m\n\u001b[1;32m      5\u001b[0m         \u001b[0;32mfor\u001b[0m \u001b[0mj\u001b[0m \u001b[0;32min\u001b[0m \u001b[0mrange\u001b[0m\u001b[0;34m(\u001b[0m\u001b[0mminLen\u001b[0m\u001b[0;34m)\u001b[0m\u001b[0;34m:\u001b[0m\u001b[0;34m\u001b[0m\u001b[0;34m\u001b[0m\u001b[0m\n\u001b[0;32m----> 6\u001b[0;31m             \u001b[0mdist\u001b[0m \u001b[0;34m=\u001b[0m \u001b[0mnp\u001b[0m\u001b[0;34m.\u001b[0m\u001b[0mlinalg\u001b[0m\u001b[0;34m.\u001b[0m\u001b[0mnorm\u001b[0m\u001b[0;34m(\u001b[0m\u001b[0mrepResBL\u001b[0m\u001b[0;34m[\u001b[0m\u001b[0mrep\u001b[0m\u001b[0;34m]\u001b[0m\u001b[0;34m[\u001b[0m\u001b[0mi\u001b[0m\u001b[0;34m]\u001b[0m\u001b[0;34m[\u001b[0m\u001b[0;36m1\u001b[0m\u001b[0;34m:\u001b[0m\u001b[0;34m]\u001b[0m\u001b[0;34m-\u001b[0m\u001b[0mrepResBL\u001b[0m\u001b[0;34m[\u001b[0m\u001b[0mrep\u001b[0m\u001b[0;34m]\u001b[0m\u001b[0;34m[\u001b[0m\u001b[0mj\u001b[0m\u001b[0;34m]\u001b[0m\u001b[0;34m[\u001b[0m\u001b[0;36m1\u001b[0m\u001b[0;34m:\u001b[0m\u001b[0;34m]\u001b[0m\u001b[0;34m)\u001b[0m\u001b[0;34m\u001b[0m\u001b[0;34m\u001b[0m\u001b[0m\n\u001b[0m\u001b[1;32m      7\u001b[0m             \u001b[0mtemDis\u001b[0m\u001b[0;34m.\u001b[0m\u001b[0mappend\u001b[0m\u001b[0;34m(\u001b[0m\u001b[0mdist\u001b[0m\u001b[0;34m)\u001b[0m\u001b[0;34m\u001b[0m\u001b[0;34m\u001b[0m\u001b[0m\n\u001b[1;32m      8\u001b[0m     \u001b[0mrepDistBL\u001b[0m\u001b[0;34m.\u001b[0m\u001b[0mappend\u001b[0m\u001b[0;34m(\u001b[0m\u001b[0mnp\u001b[0m\u001b[0;34m.\u001b[0m\u001b[0mamax\u001b[0m\u001b[0;34m(\u001b[0m\u001b[0mtemDis\u001b[0m\u001b[0;34m)\u001b[0m\u001b[0;34m)\u001b[0m\u001b[0;34m\u001b[0m\u001b[0;34m\u001b[0m\u001b[0m\n",
      "\u001b[0;31mKeyboardInterrupt\u001b[0m: "
     ]
    }
   ],
   "source": [
    "repDistBL = []\n",
    "for rep in range(replicates):\n",
    "    for i in range(minLen):\n",
    "        temDis = []\n",
    "        for j in range(minLen):\n",
    "            dist = np.linalg.norm(repResBL[rep][i][1:]-repResBL[rep][j][1:])\n",
    "            temDis.append(dist)\n",
    "    repDistBL.append(np.amax(temDis))\n",
    "    print(rep, ' ',repDistBL[rep])\n",
    "print(\"BL -> Done!\")\n",
    "\n",
    "repDistPN = []\n",
    "for rep in range(replicates):\n",
    "    for i in range(minLen):\n",
    "        temDis = []\n",
    "        for j in range(minLen):\n",
    "            dist = np.linalg.norm(repResPN[rep][i][1:]-repResPN[rep][j][1:])\n",
    "            temDis.append(dist)\n",
    "    repDistPN.append(np.amax(temDis))\n",
    "    print(rep, ' ',repDistPN[rep])\n",
    "print(\"PN -> Done!\")\n",
    "\n",
    "repDistGR = []\n",
    "for rep in range(replicates):\n",
    "    for i in range(minLen):\n",
    "        temDis = []\n",
    "        for j in range(minLen):\n",
    "            dist = np.linalg.norm(repResGR[rep][i][1:]-repResGR[rep][j][1:])\n",
    "            temDis.append(dist)\n",
    "    repDistGR.append(np.amax(temDis))\n",
    "    print(rep, ' ',repDistGR[rep])\n",
    "print(\"GR - > Done!\")\n",
    "\n",
    "\n",
    "repDistPGR = []\n",
    "for rep in range(replicates):\n",
    "    for i in range(minLen):\n",
    "        temDis = []\n",
    "        for j in range(minLen):\n",
    "            dist = np.linalg.norm(repResPGR[rep][i][1:]-repResPGR[rep][j][1:])\n",
    "            temDis.append(dist)\n",
    "    repDistPGR.append(np.amax(temDis))\n",
    "    print(rep, ' ',repDistPGR[rep])\n",
    "print(\"PGR -> Done!\")\n"
   ]
  },
  {
   "cell_type": "code",
   "execution_count": null,
   "metadata": {},
   "outputs": [],
   "source": [
    "# Plot stuff\n",
    "font = {'weight' : 'normal',\n",
    "        'size'   : 14.0}\n",
    "\n",
    "plt.rc('font', **font)\n",
    "plt.figure(0)\n",
    "\n",
    "# Plot box plot stuff\n",
    "plt.boxplot([repDistBL, repDistPN, repDistGR, repDistPGR], notch=True)\n",
    "plt.plot([1,4],[2.44,2.44],'k--')\n",
    "\n",
    "#Label and stuff\n",
    "axes = plt.gca()\n",
    "axes.set_ylim([0,2.5])\n",
    "plt.ylabel('Spareness')\n",
    "plt.title(\"All Unique Robots\")\n",
    "rangeX = ['BL', 'NS', 'GRi', 'GRe'] \n",
    "posX = [1,2,3,4]\n",
    "plt.xticks(posX,rangeX)\n",
    "plt.savefig(oFn+'.png', dpi=200)"
   ]
  },
  {
   "cell_type": "code",
   "execution_count": null,
   "metadata": {},
   "outputs": [],
   "source": [
    "# Write to CSV\n",
    "with open(oFn+'.csv', mode='w') as csv_file:\n",
    "    csv_file = csv.writer(csv_file, delimiter=',', quotechar='\"', quoting=csv.QUOTE_MINIMAL)\n",
    "    csv_file.writerow(rangeX)\n",
    "    csv_file.writerow([np.median(repDistBL), np.median(repDistPN), np.median(repDistGR), np.median(repDistPGR)])"
   ]
  }
 ],
 "metadata": {
  "kernelspec": {
   "display_name": "Python 3",
   "language": "python",
   "name": "python3"
  },
  "language_info": {
   "codemirror_mode": {
    "name": "ipython",
    "version": 3
   },
   "file_extension": ".py",
   "mimetype": "text/x-python",
   "name": "python",
   "nbconvert_exporter": "python",
   "pygments_lexer": "ipython3",
   "version": "3.6.8"
  }
 },
 "nbformat": 4,
 "nbformat_minor": 2
}
