{
 "cells": [
  {
   "cell_type": "code",
   "execution_count": 1,
   "metadata": {},
   "outputs": [],
   "source": [
    "# Import libraries\n",
    "import csv\n",
    "import matplotlib.pyplot as plt\n",
    "import numpy as np\n",
    "import os\n",
    "import statistics"
   ]
  },
  {
   "cell_type": "code",
   "execution_count": 2,
   "metadata": {},
   "outputs": [],
   "source": [
    "# Set filepath\n",
    "\n",
    "# repository='/home/ebb505/ARE_Project/are-logs/BL/'\n",
    "# experimentName = \"BL\"\n",
    "\n",
    "repository='/home/ebb505/ARE_Project/are-logs/NS/'\n",
    "experimentName = \"NS\"\n",
    "\n",
    "# repository='/home/ebb505/ARE_Project/are-logs/GRi/'\n",
    "# experimentName = \"GRi\"\n",
    "\n",
    "filename='norepmorphdesc.csv'"
   ]
  },
  {
   "cell_type": "code",
   "execution_count": 3,
   "metadata": {},
   "outputs": [
    {
     "name": "stdout",
     "output_type": "stream",
     "text": [
      "Folders:  18\n"
     ]
    }
   ],
   "source": [
    "# Get all directories\n",
    "folders = []\n",
    "# r=root, d=directories, f = files\n",
    "for r, d, f in os.walk(repository):\n",
    "    for folder in d:\n",
    "        folders.append(os.path.join(r, folder))\n",
    "print(\"Folders: \", len(folders))"
   ]
  },
  {
   "cell_type": "code",
   "execution_count": 4,
   "metadata": {},
   "outputs": [],
   "source": [
    "# Get information from files\n",
    "my_replicates = []\n",
    "for f in folders:\n",
    "    my_list = []\n",
    "    with open(f + '/' + filename, 'r') as csvfile:\n",
    "        data = csv.reader(csvfile, delimiter=',', quotechar='\"')\n",
    "        for row in data:\n",
    "            my_list.append(row[:-1]) # Last character is empty for some reason\n",
    "    my_replicates.append(my_list)"
   ]
  },
  {
   "cell_type": "code",
   "execution_count": 5,
   "metadata": {},
   "outputs": [
    {
     "name": "stdout",
     "output_type": "stream",
     "text": [
      "Replicates:  15 Evaluations:  9624 Features:  7 Generations:  240\n"
     ]
    }
   ],
   "source": [
    "population = 40\n",
    "#replicates = len(my_replicates)\n",
    "replicates = 15\n",
    "evaluations = len(my_replicates[0])\n",
    "#evaluations = 20000\n",
    "features = len(my_replicates[0][0])\n",
    "generations = int(evaluations / population)\n",
    "print(\"Replicates: \", replicates, \"Evaluations: \", evaluations, \"Features: \", features, \"Generations: \", generations)"
   ]
  },
  {
   "cell_type": "code",
   "execution_count": 6,
   "metadata": {},
   "outputs": [
    {
     "name": "stdout",
     "output_type": "stream",
     "text": [
      "Done!\n"
     ]
    }
   ],
   "source": [
    "# Process data\n",
    "repRes = []\n",
    "for rep in range(replicates):\n",
    "    dat = np.array([[float(y) for y in x] for x in my_replicates[rep]]) # Convert to array\n",
    "    repRes.append(dat)\n",
    "print(\"Done!\")"
   ]
  },
  {
   "cell_type": "code",
   "execution_count": 7,
   "metadata": {},
   "outputs": [
    {
     "name": "stdout",
     "output_type": "stream",
     "text": [
      "0\n",
      "1000\n",
      "2000\n",
      "3000\n",
      "4000\n",
      "5000\n",
      "6000\n",
      "7000\n",
      "8000\n",
      "9000\n",
      "0\n",
      "Done!\n"
     ]
    }
   ],
   "source": [
    "repDist = []\n",
    "for rep in range(1):\n",
    "    temAve = []\n",
    "    for i in range(len(repRes[0])):\n",
    "        temDis = []\n",
    "        for j in range(len(repRes[0])):\n",
    "            dist = np.linalg.norm(repRes[rep][i][1:]-repRes[rep][j][1:])\n",
    "            temDis.append(dist)\n",
    "        sortedList = np.sort(temDis)\n",
    "        temAve.append(np.mean(sortedList[:14]))\n",
    "        if(i % 1000 == 0):\n",
    "            print(i)         \n",
    "    repDist.append(np.mean(temAve))\n",
    "    print(rep)\n",
    "print(\"Done!\")"
   ]
  },
  {
   "cell_type": "code",
   "execution_count": 8,
   "metadata": {},
   "outputs": [
    {
     "name": "stdout",
     "output_type": "stream",
     "text": [
      "[0.00000000e+00 1.44676000e-04 2.17014000e-04 ... 1.61254086e+00\n",
      " 1.61873037e+00 1.62181627e+00]\n"
     ]
    }
   ],
   "source": [
    "print(sortedList)"
   ]
  },
  {
   "cell_type": "code",
   "execution_count": 9,
   "metadata": {},
   "outputs": [
    {
     "data": {
      "image/png": "[encoded data removed]",
      "text/plain": [
       "<Figure size 432x288 with 1 Axes>"
      ]
     },
     "metadata": {},
     "output_type": "display_data"
    }
   ],
   "source": [
    "# Plot stuff\n",
    "font = {'weight' : 'normal',\n",
    "        'size'   : 14.0}\n",
    "\n",
    "plt.rc('font', **font)\n",
    "plt.figure(0)\n",
    "\n",
    "# Plot box plot stuff\n",
    "plt.boxplot([repDist], notch=True)\n",
    "#Label and stuff\n",
    "axes = plt.gca()\n",
    "axes.set_ylim([0,0.1])\n",
    "plt.ylabel('Mean Distance')\n",
    "plt.title(\"Novelty\")\n",
    "rangeX = [experimentName] \n",
    "posX = [1]\n",
    "plt.xticks(posX,rangeX)\n",
    "plt.savefig(repository+experimentName+'meanDistAll.png', dpi=200)"
   ]
  },
  {
   "cell_type": "code",
   "execution_count": null,
   "metadata": {},
   "outputs": [],
   "source": []
  }
 ],
 "metadata": {
  "kernelspec": {
   "display_name": "Python 3",
   "language": "python",
   "name": "python3"
  },
  "language_info": {
   "codemirror_mode": {
    "name": "ipython",
    "version": 3
   },
   "file_extension": ".py",
   "mimetype": "text/x-python",
   "name": "python",
   "nbconvert_exporter": "python",
   "pygments_lexer": "ipython3",
   "version": "3.6.9"
  }
 },
 "nbformat": 4,
 "nbformat_minor": 2
}
