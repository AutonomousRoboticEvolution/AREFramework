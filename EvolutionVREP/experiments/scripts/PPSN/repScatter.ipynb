{
 "cells": [
  {
   "cell_type": "code",
   "execution_count": 13,
   "metadata": {},
   "outputs": [],
   "source": [
    "# Load libraries\n",
    "import csv\n",
    "import matplotlib.pyplot as plt\n",
    "import numpy as np"
   ]
  },
  {
   "cell_type": "code",
   "execution_count": 14,
   "metadata": {},
   "outputs": [
    {
     "name": "stdout",
     "output_type": "stream",
     "text": [
      "Filepath: /home/ebb505/ARE_Project/are-logs/ns_10_3_22-15-17-7528/morphdesc.csv\n"
     ]
    }
   ],
   "source": [
    "# Set filepath\n",
    "repository='/home/ebb505/ARE_Project/are-logs/'\n",
    "replicate='ns_10_3_22-15-17-7528/'\n",
    "filename='morphdesc.csv'\n",
    "filepath=repository+replicate+filename\n",
    "print('Filepath: ' + filepath)"
   ]
  },
  {
   "cell_type": "code",
   "execution_count": 15,
   "metadata": {},
   "outputs": [],
   "source": [
    "dim1 = 5\n",
    "dim2 = 6 \n",
    "dimName1 = 'Wheels' \n",
    "dimName2 = 'Sensors'"
   ]
  },
  {
   "cell_type": "code",
   "execution_count": 16,
   "metadata": {},
   "outputs": [],
   "source": [
    "# Import data from csv\n",
    "my_list = []\n",
    "with open(filepath, 'r') as csvfile:\n",
    "    data = csv.reader(csvfile, delimiter=',', quotechar='\"')\n",
    "    for row in data:\n",
    "        my_list.append(row[:-1])"
   ]
  },
  {
   "cell_type": "code",
   "execution_count": 17,
   "metadata": {},
   "outputs": [
    {
     "name": "stdout",
     "output_type": "stream",
     "text": [
      "Number of evaluations:  30025 Features size:  8\n"
     ]
    }
   ],
   "source": [
    "# Estimate average for each generation\n",
    "evaluations = len(my_list)\n",
    "#evaluations = 5400\n",
    "featureSize = len(my_list[0])\n",
    "generations = 25\n",
    "print(\"Number of evaluations: \", evaluations, \"Features size: \", featureSize)\n",
    "\n",
    "dat = np.array([[float(y) for y in x] for x in my_list]) # Convert to array"
   ]
  },
  {
   "cell_type": "code",
   "execution_count": 12,
   "metadata": {},
   "outputs": [
    {
     "data": {
      "image/png": "[encoded data removed]",
      "text/plain": [
       "<Figure size 432x288 with 1 Axes>"
      ]
     },
     "metadata": {},
     "output_type": "display_data"
    }
   ],
   "source": [
    "# Plot stuff\n",
    "# Plot stuff\n",
    "font = {'weight' : 'normal',\n",
    "        'size'   : 14.0}\n",
    "\n",
    "plt.rc('font', **font)\n",
    "plt.figure(0)\n",
    "\n",
    "plt.xlabel(dimName1)\n",
    "plt.ylabel(dimName2)\n",
    "plt.scatter(dat[:evaluations,dim1],dat[:evaluations,dim2],c=dat[:evaluations,6])\n",
    "#plt.scatter(dat[dat[:,dim1] > 0,0],dat[dat[:,dim2] > 0,1],marker='+')\n",
    "#plt.scatter(dat[dat[:,dim1] == 0,0],dat[dat[:,dim2] == 0,1],marker='x')\n",
    "#plt.legend(['Manufacturable robots','Non-Manufacturable robots'])\n",
    "axes = plt.gca()\n",
    "axes.set_xlim([0,1.0])\n",
    "axes.set_ylim([0,1.0])\n",
    "axes = plt.gca()\n",
    "title = \"No manufacturability constraints - Gen: \" + str(int(evaluations/generations))\n",
    "#plt.title(title)\n",
    "#plt.gcf()\n",
    "#plt.show()\n",
    "plt.savefig(repository+replicate+dimName1+dimName2+'Scatter.png', dpi=200)"
   ]
  },
  {
   "cell_type": "code",
   "execution_count": null,
   "metadata": {},
   "outputs": [],
   "source": []
  },
  {
   "cell_type": "code",
   "execution_count": null,
   "metadata": {},
   "outputs": [],
   "source": []
  }
 ],
 "metadata": {
  "kernelspec": {
   "display_name": "Python 3",
   "language": "python",
   "name": "python3"
  },
  "language_info": {
   "codemirror_mode": {
    "name": "ipython",
    "version": 3
   },
   "file_extension": ".py",
   "mimetype": "text/x-python",
   "name": "python",
   "nbconvert_exporter": "python",
   "pygments_lexer": "ipython3",
   "version": "3.6.8"
  }
 },
 "nbformat": 4,
 "nbformat_minor": 2
}
