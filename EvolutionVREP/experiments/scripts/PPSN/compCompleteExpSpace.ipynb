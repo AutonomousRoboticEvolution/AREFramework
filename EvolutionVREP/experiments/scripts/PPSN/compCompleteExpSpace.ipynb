{
 "cells": [
  {
   "cell_type": "code",
   "execution_count": 1,
   "metadata": {},
   "outputs": [],
   "source": [
    "# Load libraries\n",
    "import csv\n",
    "import matplotlib.pyplot as plt\n",
    "import statistics\n",
    "import numpy as np\n",
    "import os"
   ]
  },
  {
   "cell_type": "code",
   "execution_count": 2,
   "metadata": {},
   "outputs": [],
   "source": [
    "# Set filepath\n",
    "rep='/home/ebb505/ARE_Project/are-logs/PPSN/'\n",
    "repBL='/home/ebb505/ARE_Project/are-logs/PPSN/BL/'\n",
    "repPN='/home/ebb505/ARE_Project/are-logs/PPSN/NS/'\n",
    "repGR='/home/ebb505/ARE_Project/are-logs/PPSN/GRi/'\n",
    "repPGR='/home/ebb505/ARE_Project/are-logs/PPSN/GRe/'\n",
    "filename='norepmorphdesc.csv' # REMEMBER TO NOT COUNT UNTIL -1\n",
    "#filename='tests.csv' # REMEMBER TO COUNT UNTIL -1"
   ]
  },
  {
   "cell_type": "code",
   "execution_count": 3,
   "metadata": {},
   "outputs": [],
   "source": [
    "# Get all directories\n",
    "foldBL = []\n",
    "foldPN = []\n",
    "foldGR = []\n",
    "foldPGR = []\n",
    "# r=root, d=directories, f = files\n",
    "for r, d, f in os.walk(repBL):\n",
    "    for folder in d:\n",
    "        foldBL.append(os.path.join(r, folder))\n",
    "for r, d, f in os.walk(repPN):\n",
    "    for folder in d:\n",
    "        foldPN.append(os.path.join(r, folder))\n",
    "for r, d, f in os.walk(repGR):\n",
    "    for folder in d:\n",
    "        foldGR.append(os.path.join(r, folder))\n",
    "for r, d, f in os.walk(repPGR):\n",
    "    for folder in d:\n",
    "        foldPGR.append(os.path.join(r, folder))"
   ]
  },
  {
   "cell_type": "code",
   "execution_count": 4,
   "metadata": {},
   "outputs": [
    {
     "name": "stdout",
     "output_type": "stream",
     "text": [
      "BL =  18\n",
      "PN =  18\n",
      "GR =  29\n",
      "PGR =  15\n"
     ]
    }
   ],
   "source": [
    "# See directories\n",
    "print(\"BL = \", len(foldBL))\n",
    "print(\"PN = \", len(foldPN))\n",
    "print(\"GR = \", len(foldGR))\n",
    "print(\"PGR = \", len(foldPGR))"
   ]
  },
  {
   "cell_type": "code",
   "execution_count": 5,
   "metadata": {},
   "outputs": [],
   "source": [
    "# Get information from files\n",
    "repBL = []\n",
    "for f in foldBL:\n",
    "    my_list = []\n",
    "    with open(f + '/' + filename, 'r') as csvfile:\n",
    "        data = csv.reader(csvfile, delimiter=',', quotechar='\"')\n",
    "        for row in data:\n",
    "            my_list.append(row[:-1]) \n",
    "    repBL.append(my_list)\n",
    "repPN = []\n",
    "for f in foldPN:\n",
    "    my_list = []\n",
    "    with open(f + '/' + filename, 'r') as csvfile:\n",
    "        data = csv.reader(csvfile, delimiter=',', quotechar='\"')\n",
    "        for row in data:\n",
    "            my_list.append(row[:-1]) \n",
    "    repPN.append(my_list)\n",
    "repGR = []\n",
    "for f in foldGR:\n",
    "    my_list = []\n",
    "    with open(f + '/' + filename, 'r') as csvfile:\n",
    "        data = csv.reader(csvfile, delimiter=',', quotechar='\"')\n",
    "        for row in data:\n",
    "            my_list.append(row[:-1]) \n",
    "    repGR.append(my_list)\n",
    "repPGR = []\n",
    "for f in foldPGR:\n",
    "    my_list = []\n",
    "    with open(f + '/' + filename, 'r') as csvfile:\n",
    "        data = csv.reader(csvfile, delimiter=',', quotechar='\"')\n",
    "        for row in data:\n",
    "            my_list.append(row[:]) \n",
    "    repPGR.append(my_list)"
   ]
  },
  {
   "cell_type": "code",
   "execution_count": 6,
   "metadata": {},
   "outputs": [
    {
     "name": "stdout",
     "output_type": "stream",
     "text": [
      "Replicates:  8 Evaluations:  20000 Features:  7 Generations:  500\n"
     ]
    }
   ],
   "source": [
    "population = 40\n",
    "#replicates = len(repBL)\n",
    "replicates = 8\n",
    "#evaluations = len(repBL[0])\n",
    "evaluations = 20000\n",
    "features = len(repBL[0][0])\n",
    "generations = int(evaluations / population)\n",
    "print(\"Replicates: \", replicates, \"Evaluations: \", evaluations, \"Features: \", features, \"Generations: \", generations)"
   ]
  },
  {
   "cell_type": "code",
   "execution_count": 7,
   "metadata": {
    "scrolled": true
   },
   "outputs": [
    {
     "name": "stdout",
     "output_type": "stream",
     "text": [
      "BL\n",
      "0\n",
      "1\n",
      "2\n",
      "3\n",
      "4\n",
      "5\n",
      "6\n",
      "7\n",
      "PN\n",
      "0\n",
      "1\n",
      "2\n",
      "3\n",
      "4\n",
      "5\n",
      "6\n",
      "7\n",
      "GR\n",
      "0\n",
      "1\n",
      "2\n",
      "3\n",
      "4\n",
      "5\n",
      "6\n",
      "7\n",
      "PGR\n",
      "0\n",
      "1\n",
      "2\n",
      "3\n",
      "4\n",
      "5\n",
      "6\n",
      "7\n"
     ]
    }
   ],
   "source": [
    "discStep = 0.2\n",
    "discRange = discStep / 2\n",
    "numElements = (1/discStep)**(features-1)\n",
    "# BL\n",
    "print(\"BL\")\n",
    "sumRepBL = []\n",
    "for i in range(replicates):\n",
    "    dat = np.array([[float(y) for y in x] for x in repBL[i]]) # Convert to array\n",
    "    cells = 0\n",
    "    progress = []\n",
    "    for a in np.arange(0.0+discRange,1.0+discRange,discStep):\n",
    "      for b in np.arange(0.0+discRange,1.0+discRange,discStep):\n",
    "        for c in np.arange(0.0+discRange,1.0+discRange,discStep):\n",
    "          for d in np.arange(0.0+discRange,1.0+discRange,discStep):\n",
    "            for e in np.arange(0.0+discRange,1.0+discRange,discStep):\n",
    "              for f in np.arange(0.0+discRange,1.0+discRange,discStep):\n",
    "                position = 0\n",
    "                for elem in dat[:,:]:\n",
    "                  if((a - discRange < elem[1]) and (elem[1] < a + discRange) and \\\n",
    "                     (b - discRange < elem[2]) and (elem[2] < b + discRange) and \\\n",
    "                     (c - discRange < elem[3]) and (elem[3] < c + discRange) and \\\n",
    "                     (d - discRange < elem[4]) and (elem[4] < d + discRange) and \\\n",
    "                     (e - discRange < elem[5]) and (elem[5] < e + discRange) and \\\n",
    "                     (f - discRange < elem[6]) and (elem[6] < f + discRange)):\n",
    "                    cells = cells + 1\n",
    "                    dat = np.delete(dat, position, axis=0) # Remove element from list\n",
    "                    break;\n",
    "                  position = position + 1\n",
    "          #print(\"c - > \",cells/1000000)\n",
    "        #print(\"b - > \",cells/15625, \" size: \", len(dat))\n",
    "      #print(\"a - > \",cells/numElements, \" size: \", len(dat))\n",
    "    sumRepBL.append((cells/numElements)*100)\n",
    "    print(i)\n",
    "# PN\n",
    "print(\"PN\")\n",
    "sumRepPN = []\n",
    "for i in range(replicates):\n",
    "    dat = np.array([[float(y) for y in x] for x in repPN[i]]) # Convert to array\n",
    "    cells = 0\n",
    "    progress = []\n",
    "    for a in np.arange(0.0+discRange,1.0+discRange,discStep):\n",
    "      for b in np.arange(0.0+discRange,1.0+discRange,discStep):\n",
    "        for c in np.arange(0.0+discRange,1.0+discRange,discStep):\n",
    "          for d in np.arange(0.0+discRange,1.0+discRange,discStep):\n",
    "            for e in np.arange(0.0+discRange,1.0+discRange,discStep):\n",
    "              for f in np.arange(0.0+discRange,1.0+discRange,discStep):\n",
    "                position = 0\n",
    "                for elem in dat[:,:]:\n",
    "                  if((a - discRange < elem[1]) and (elem[1] < a + discRange) and \\\n",
    "                     (b - discRange < elem[2]) and (elem[2] < b + discRange) and \\\n",
    "                     (c - discRange < elem[3]) and (elem[3] < c + discRange) and \\\n",
    "                     (d - discRange < elem[4]) and (elem[4] < d + discRange) and \\\n",
    "                     (e - discRange < elem[5]) and (elem[5] < e + discRange) and \\\n",
    "                     (f - discRange < elem[6]) and (elem[6] < f + discRange)):\n",
    "                    cells = cells + 1\n",
    "                    dat = np.delete(dat, position, axis=0) # Remove element from list\n",
    "                    break;\n",
    "                  position = position + 1\n",
    "          #print(\"c - > \",cells/1000000)\n",
    "        #print(\"b - > \",cells/15625, \" size: \", len(dat))\n",
    "      #print(\"a - > \",cells/numElements, \" size: \", len(dat))\n",
    "    sumRepPN.append((cells/numElements)*100)\n",
    "    print(i)\n",
    "# GR\n",
    "print(\"GR\")\n",
    "sumRepGR = []\n",
    "for i in range(replicates):\n",
    "    dat = np.array([[float(y) for y in x] for x in repGR[i]]) # Convert to array\n",
    "    cells = 0\n",
    "    progress = []\n",
    "    for a in np.arange(0.0+discRange,1.0+discRange,discStep):\n",
    "      for b in np.arange(0.0+discRange,1.0+discRange,discStep):\n",
    "        for c in np.arange(0.0+discRange,1.0+discRange,discStep):\n",
    "          for d in np.arange(0.0+discRange,1.0+discRange,discStep):\n",
    "            for e in np.arange(0.0+discRange,1.0+discRange,discStep):\n",
    "              for f in np.arange(0.0+discRange,1.0+discRange,discStep):\n",
    "                position = 0\n",
    "                for elem in dat[:,:]:\n",
    "                  if((a - discRange < elem[1]) and (elem[1] < a + discRange) and \\\n",
    "                     (b - discRange < elem[2]) and (elem[2] < b + discRange) and \\\n",
    "                     (c - discRange < elem[3]) and (elem[3] < c + discRange) and \\\n",
    "                     (d - discRange < elem[4]) and (elem[4] < d + discRange) and \\\n",
    "                     (e - discRange < elem[5]) and (elem[5] < e + discRange) and \\\n",
    "                     (f - discRange < elem[6]) and (elem[6] < f + discRange)):\n",
    "                    cells = cells + 1\n",
    "                    dat = np.delete(dat, position, axis=0) # Remove element from list\n",
    "                    break;\n",
    "                  position = position + 1\n",
    "          #print(\"c - > \",cells/1000000)\n",
    "        #print(\"b - > \",cells/15625, \" size: \", len(dat))\n",
    "      #print(\"a - > \",cells/numElements, \" size: \", len(dat))\n",
    "    sumRepGR.append((cells/numElements)*100)\n",
    "    print(i)\n",
    "# PGR\n",
    "print(\"PGR\")\n",
    "sumRepPGR = []\n",
    "for i in range(replicates):\n",
    "    dat = np.array([[float(y) for y in x] for x in repPGR[i]]) # Convert to array\n",
    "    cells = 0\n",
    "    progress = []\n",
    "    for a in np.arange(0.0+discRange,1.0+discRange,discStep):\n",
    "      for b in np.arange(0.0+discRange,1.0+discRange,discStep):\n",
    "        for c in np.arange(0.0+discRange,1.0+discRange,discStep):\n",
    "          for d in np.arange(0.0+discRange,1.0+discRange,discStep):\n",
    "            for e in np.arange(0.0+discRange,1.0+discRange,discStep):\n",
    "              for f in np.arange(0.0+discRange,1.0+discRange,discStep):\n",
    "                position = 0\n",
    "                for elem in dat[:,:]:\n",
    "                  if((a - discRange < elem[1]) and (elem[1] < a + discRange) and \\\n",
    "                     (b - discRange < elem[2]) and (elem[2] < b + discRange) and \\\n",
    "                     (c - discRange < elem[3]) and (elem[3] < c + discRange) and \\\n",
    "                     (d - discRange < elem[4]) and (elem[4] < d + discRange) and \\\n",
    "                     (e - discRange < elem[5]) and (elem[5] < e + discRange) and \\\n",
    "                     (f - discRange < elem[6]) and (elem[6] < f + discRange)):\n",
    "                    cells = cells + 1\n",
    "                    dat = np.delete(dat, position, axis=0) # Remove element from list\n",
    "                    break;\n",
    "                  position = position + 1\n",
    "          #print(\"c - > \",cells/1000000)\n",
    "        #print(\"b - > \",cells/15625, \" size: \", len(dat))\n",
    "      #print(\"a - > \",cells/numElements, \" size: \", len(dat))\n",
    "    sumRepPGR.append((cells/numElements)*100)\n",
    "    print(i)"
   ]
  },
  {
   "cell_type": "code",
   "execution_count": 8,
   "metadata": {},
   "outputs": [
    {
     "name": "stdout",
     "output_type": "stream",
     "text": [
      "['3', '0.916667', '0.916667', '0.916667', '0', '0', '0.432292']\n"
     ]
    }
   ],
   "source": [
    "print(repPGR[1][3])"
   ]
  },
  {
   "cell_type": "code",
   "execution_count": 9,
   "metadata": {},
   "outputs": [
    {
     "name": "stdout",
     "output_type": "stream",
     "text": [
      "0.832\n",
      "78125.0\n",
      "0.1\n",
      "0.30000000000000004\n",
      "0.5000000000000001\n",
      "0.7000000000000001\n",
      "0.9000000000000001\n"
     ]
    }
   ],
   "source": [
    "print(sumRepPN[0])\n",
    "print((1/discStep)**(features))\n",
    "discStep = 0.2\n",
    "discRange = discStep / 2\n",
    "for a in np.arange(0.0+discRange,1.0+discRange,discStep):\n",
    "    print(a)"
   ]
  },
  {
   "cell_type": "code",
   "execution_count": 10,
   "metadata": {},
   "outputs": [
    {
     "data": {
      "image/png": "[encoded data removed]",
      "text/plain": [
       "<Figure size 432x288 with 1 Axes>"
      ]
     },
     "metadata": {},
     "output_type": "display_data"
    }
   ],
   "source": [
    "font = {'weight' : 'normal',\n",
    "        'size'   : 14}\n",
    "\n",
    "plt.rc('font', **font)\n",
    "\n",
    "plt.figure(0)\n",
    "\n",
    "# Plot box plot stuff\n",
    "plt.boxplot([sumRepBL, sumRepPN, sumRepGR, sumRepPGR])\n",
    "#Label and stuff\n",
    "axes = plt.gca()\n",
    "axes.set_ylim([0,2])\n",
    "plt.ylabel('Exploration Space Covered (%)')\n",
    "plt.title(\"All dimmensions\")\n",
    "rangeX = ['RS', 'NS', 'GRi', 'GRe'] \n",
    "posX = [1,2,3,4]\n",
    "plt.xticks(posX,rangeX)\n",
    "plt.title(\"All dimensions\")\n",
    "plt.savefig(rep+'ExpSpace.png', dpi=200)"
   ]
  },
  {
   "cell_type": "code",
   "execution_count": null,
   "metadata": {},
   "outputs": [],
   "source": []
  }
 ],
 "metadata": {
  "kernelspec": {
   "display_name": "Python 3",
   "language": "python",
   "name": "python3"
  },
  "language_info": {
   "codemirror_mode": {
    "name": "ipython",
    "version": 3
   },
   "file_extension": ".py",
   "mimetype": "text/x-python",
   "name": "python",
   "nbconvert_exporter": "python",
   "pygments_lexer": "ipython3",
   "version": "3.6.8"
  }
 },
 "nbformat": 4,
 "nbformat_minor": 2
}
