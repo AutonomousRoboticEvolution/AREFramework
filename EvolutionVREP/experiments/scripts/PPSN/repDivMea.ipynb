{
 "cells": [
  {
   "cell_type": "code",
   "execution_count": 7,
   "metadata": {},
   "outputs": [],
   "source": [
    "# Import libraries\n",
    "import csv\n",
    "import matplotlib.pyplot as plt\n",
    "import numpy as np"
   ]
  },
  {
   "cell_type": "code",
   "execution_count": 8,
   "metadata": {},
   "outputs": [
    {
     "name": "stdout",
     "output_type": "stream",
     "text": [
      "Filepath: /home/ebb505/ARE_Project/are-logs/ns_8_3_15-24-51-1895/morphdesc.csv\n"
     ]
    }
   ],
   "source": [
    "# Set filepath\n",
    "repository='/home/ebb505/ARE_Project/are-logs/'\n",
    "replicate='ns_8_3_15-24-51-1895/'\n",
    "filename='morphdesc.csv'\n",
    "filepath=repository+replicate+filename\n",
    "print('Filepath: ' + filepath)"
   ]
  },
  {
   "cell_type": "code",
   "execution_count": 9,
   "metadata": {},
   "outputs": [],
   "source": [
    "# Import data from csv\n",
    "my_list = []\n",
    "with open(filepath, 'r') as csvfile:\n",
    "    data = csv.reader(csvfile, delimiter=',', quotechar='\"')\n",
    "    for row in data:\n",
    "        my_list.append(row[:-1]) # Last element is blank"
   ]
  },
  {
   "cell_type": "code",
   "execution_count": 10,
   "metadata": {},
   "outputs": [
    {
     "name": "stdout",
     "output_type": "stream",
     "text": [
      "Number of evaluations:  24125 Features size:  8\n"
     ]
    }
   ],
   "source": [
    "# Characteristics\n",
    "counter = 0\n",
    "elementX = 5\n",
    "elementY = 6\n",
    "xVariable = \"Wheels\"\n",
    "yVariable = \"Sensors\"\n",
    "population = 25\n",
    "evaluations = len(my_list)\n",
    "featureSize = len(my_list[0])\n",
    "print(\"Number of evaluations: \", evaluations, \"Features size: \", featureSize)"
   ]
  },
  {
   "cell_type": "code",
   "execution_count": 11,
   "metadata": {},
   "outputs": [],
   "source": [
    "# Explore grid\n",
    "dat = np.array([[float(y) for y in x] for x in my_list]) # Convert to array\n",
    "progress = []\n",
    "for ev in range(population,evaluations,population):\n",
    "  for i in np.arange(0.05,0.95,0.1):\n",
    "    for j in np.arange(0.05,0.95,0.1):\n",
    "      for elem in dat[:ev,:]:\n",
    "        if((i - 0.06 < elem[elementX]) and (elem[elementX] < i + 0.06) and (j - 0.0 < elem[elementY]) and (elem[elementY] < j + 0.06)):\n",
    "          counter = counter + 1\n",
    "          break;\n",
    "  progress.append(counter)\n",
    "  #print (counter)\n",
    "  counter = 0\n",
    "#print(progress)"
   ]
  },
  {
   "cell_type": "code",
   "execution_count": 12,
   "metadata": {},
   "outputs": [
    {
     "data": {
      "image/png": "[encoded data removed]",
      "text/plain": [
       "<Figure size 432x288 with 1 Axes>"
      ]
     },
     "metadata": {},
     "output_type": "display_data"
    }
   ],
   "source": [
    "# Plot stuff\n",
    "xValues = list(range(population, evaluations, population))\n",
    "xValues = [x/population for x in xValues]\n",
    "# Plot stuff\n",
    "font = {'weight' : 'normal',\n",
    "        'size'   : 14.0}\n",
    "\n",
    "plt.rc('font', **font)\n",
    "plt.figure(0)\n",
    "\n",
    "plt.plot(xValues, progress)\n",
    "plt.xlabel('Generations')\n",
    "plt.ylabel('Exploration Space Covered (%)')\n",
    "plt.title(xVariable + \"-\" + yVariable)\n",
    "axes = plt.gca()\n",
    "axes.set_ylim([0,40.0])\n",
    "filename = \"progress\" + xVariable + yVariable + \".png\"\n",
    "plt.savefig(repository+replicate+xVariable+yVariable+'.png', dpi=200)\n"
   ]
  },
  {
   "cell_type": "code",
   "execution_count": null,
   "metadata": {},
   "outputs": [],
   "source": []
  },
  {
   "cell_type": "code",
   "execution_count": null,
   "metadata": {},
   "outputs": [],
   "source": []
  }
 ],
 "metadata": {
  "kernelspec": {
   "display_name": "Python 3",
   "language": "python",
   "name": "python3"
  },
  "language_info": {
   "codemirror_mode": {
    "name": "ipython",
    "version": 3
   },
   "file_extension": ".py",
   "mimetype": "text/x-python",
   "name": "python",
   "nbconvert_exporter": "python",
   "pygments_lexer": "ipython3",
   "version": "3.6.8"
  }
 },
 "nbformat": 4,
 "nbformat_minor": 2
}
