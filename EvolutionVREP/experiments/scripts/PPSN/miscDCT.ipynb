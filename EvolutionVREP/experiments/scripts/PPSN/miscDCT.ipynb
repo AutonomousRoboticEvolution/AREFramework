{
 "cells": [
  {
   "cell_type": "code",
   "execution_count": 48,
   "metadata": {},
   "outputs": [],
   "source": [
    "# Load libraries\n",
    "import csv\n",
    "import matplotlib.pyplot as plt\n",
    "import statistics\n",
    "import numpy as np\n",
    "import os\n",
    "# Random\n",
    "from random import seed\n",
    "from random import random\n",
    "# DCT\n",
    "from scipy.fftpack import fft, dct, idct"
   ]
  },
  {
   "cell_type": "code",
   "execution_count": 49,
   "metadata": {},
   "outputs": [],
   "source": [
    "# iCT\n",
    "# https://docs.scipy.org/doc/scipy-0.14.0/reference/generated/scipy.fftpack.idct.html\n",
    "# DCT\n",
    "# https://docs.scipy.org/doc/scipy/reference/generated/scipy.fftpack.dct.html"
   ]
  },
  {
   "cell_type": "code",
   "execution_count": 50,
   "metadata": {},
   "outputs": [],
   "source": [
    "#dat = np.array([[float(y) for y in x] for x in repBase[i]]) # Convert to array"
   ]
  },
  {
   "cell_type": "code",
   "execution_count": 62,
   "metadata": {},
   "outputs": [],
   "source": [
    "# seed random number generator\n",
    "seed(2)\n",
    "# generate some random numbers\n",
    "#print(random(), random(), random())"
   ]
  },
  {
   "cell_type": "code",
   "execution_count": 89,
   "metadata": {},
   "outputs": [],
   "source": [
    "# Gnerate random voxel matrix\n",
    "matrixSize = 24\n",
    "originalMatrix = np.zeros((matrixSize,matrixSize,matrixSize))\n",
    "for i in range(matrixSize):\n",
    "    for j in range(matrixSize):\n",
    "        for k in range(matrixSize):\n",
    "            if(random() > 0.5):\n",
    "                originalMatrix[i][j][k] = 1\n",
    "            else:\n",
    "                originalMatrix[i][j][k] = 0\n",
    "            if(i < 5 and j < 5):\n",
    "                originalMatrix[i][j][k] = 1 \n",
    "            if(i < 19 and i > 5 and j < 19 and j > 5):\n",
    "                originalMatrix[i][j][k] = 0 \n",
    "            #print(i,j,k,originalMatrix[i][j][k])\n",
    "#print(originalMatrix)"
   ]
  },
  {
   "cell_type": "code",
   "execution_count": 90,
   "metadata": {},
   "outputs": [],
   "source": [
    "# Non-inverse\n",
    "matDct = dct(originalMatrix,1,axis=-1)\n",
    "#print(matDct)\n",
    "matDct = dct(matDct,1,axis=-2)\n",
    "#print(matDct)\n",
    "matDct = dct(matDct,1,axis=-3)\n",
    "#print(matDct)"
   ]
  },
  {
   "cell_type": "code",
   "execution_count": 97,
   "metadata": {},
   "outputs": [
    {
     "name": "stdout",
     "output_type": "stream",
     "text": [
      "[[[ 3.53090000e+04  5.07325405e+02  3.20141685e+02 ... -6.24590952e+01\n",
      "    3.28142169e+02 -2.33000000e+02]\n",
      "  [ 2.23479436e+03 -2.00709006e+02 -8.00853533e+01 ...  4.69125904e+02\n",
      "    4.05011463e+01  2.29099913e+02]\n",
      "  [ 9.99467032e+03  2.28785347e+02 -1.24651098e+02 ... -6.20680140e+01\n",
      "    3.33025489e+01 -3.89601689e+02]\n",
      "  ...\n",
      "  [-2.49073046e+02 -1.25430740e+02 -9.35802131e+00 ...  1.68270205e+02\n",
      "   -3.23025407e+02  4.19526844e+02]\n",
      "  [ 5.70065226e+00  3.74587985e+02 -5.90361248e+01 ... -3.62195458e+01\n",
      "   -9.04468546e+01  2.31437161e+02]\n",
      "  [-6.65000000e+02 -1.91496356e+02 -1.67270306e+02 ...  9.56140007e+01\n",
      "   -6.47312356e+02  4.33000000e+02]]\n",
      "\n",
      " [[ 2.64053166e+03  1.93490438e+02  2.29597076e+02 ...  2.95071735e+01\n",
      "   -8.70025652e+01 -2.89946102e+02]\n",
      "  [ 1.30463528e+03  0.00000000e+00  0.00000000e+00 ...  0.00000000e+00\n",
      "    0.00000000e+00  0.00000000e+00]\n",
      "  [ 7.85320879e+02  0.00000000e+00  0.00000000e+00 ...  0.00000000e+00\n",
      "    0.00000000e+00  0.00000000e+00]\n",
      "  ...\n",
      "  [ 3.29968880e+02  0.00000000e+00  0.00000000e+00 ...  0.00000000e+00\n",
      "    0.00000000e+00  0.00000000e+00]\n",
      "  [ 3.52646256e+02  0.00000000e+00  0.00000000e+00 ...  0.00000000e+00\n",
      "    0.00000000e+00  0.00000000e+00]\n",
      "  [ 5.12323437e+01  0.00000000e+00  0.00000000e+00 ...  0.00000000e+00\n",
      "    0.00000000e+00  0.00000000e+00]]\n",
      "\n",
      " [[ 1.03384678e+04  2.33518869e+01  3.00186445e+02 ... -1.74153027e+01\n",
      "    3.46542151e+02  5.48153840e+01]\n",
      "  [ 8.72181785e+02  0.00000000e+00  0.00000000e+00 ...  0.00000000e+00\n",
      "    0.00000000e+00  0.00000000e+00]\n",
      "  [-3.37807002e+03  0.00000000e+00  0.00000000e+00 ...  0.00000000e+00\n",
      "    0.00000000e+00  0.00000000e+00]\n",
      "  ...\n",
      "  [ 4.83168772e+01  0.00000000e+00  0.00000000e+00 ...  0.00000000e+00\n",
      "    0.00000000e+00  0.00000000e+00]\n",
      "  [ 2.80261601e+01  0.00000000e+00  0.00000000e+00 ...  0.00000000e+00\n",
      "    0.00000000e+00  0.00000000e+00]\n",
      "  [ 1.15558601e+03  0.00000000e+00  0.00000000e+00 ...  0.00000000e+00\n",
      "    0.00000000e+00  0.00000000e+00]]\n",
      "\n",
      " ...\n",
      "\n",
      " [[-5.32193920e+02 -1.39736953e+02  1.63852323e+02 ... -4.23970428e+01\n",
      "    1.72606955e+01 -6.46628395e+01]\n",
      "  [ 1.95442488e+02  0.00000000e+00  0.00000000e+00 ...  0.00000000e+00\n",
      "    0.00000000e+00  0.00000000e+00]\n",
      "  [ 3.25019344e+02  0.00000000e+00  0.00000000e+00 ...  0.00000000e+00\n",
      "    0.00000000e+00  0.00000000e+00]\n",
      "  ...\n",
      "  [-9.22628547e+01  0.00000000e+00  0.00000000e+00 ...  0.00000000e+00\n",
      "    0.00000000e+00  0.00000000e+00]\n",
      "  [-1.08073013e+02  0.00000000e+00  0.00000000e+00 ...  0.00000000e+00\n",
      "    0.00000000e+00  0.00000000e+00]\n",
      "  [-3.54838346e+02  0.00000000e+00  0.00000000e+00 ...  0.00000000e+00\n",
      "    0.00000000e+00  0.00000000e+00]]\n",
      "\n",
      " [[ 1.56741559e+02 -2.99724097e+01 -3.10475753e+02 ... -2.90940371e+02\n",
      "   -1.13841387e+02 -1.08634887e+02]\n",
      "  [ 2.12817871e+02  0.00000000e+00  0.00000000e+00 ...  0.00000000e+00\n",
      "    0.00000000e+00  0.00000000e+00]\n",
      "  [ 1.41141807e+02  0.00000000e+00  0.00000000e+00 ...  0.00000000e+00\n",
      "    0.00000000e+00  0.00000000e+00]\n",
      "  ...\n",
      "  [ 2.98601372e+02  0.00000000e+00  0.00000000e+00 ...  0.00000000e+00\n",
      "    0.00000000e+00  0.00000000e+00]\n",
      "  [-1.92202519e+02  0.00000000e+00  0.00000000e+00 ...  0.00000000e+00\n",
      "    0.00000000e+00  0.00000000e+00]\n",
      "  [ 1.63410881e+02  0.00000000e+00  0.00000000e+00 ...  0.00000000e+00\n",
      "    0.00000000e+00  0.00000000e+00]]\n",
      "\n",
      " [[-1.50900000e+03 -2.27127212e+02 -2.64485309e+01 ... -5.45932970e+02\n",
      "    1.66739448e+02  5.30000000e+01]\n",
      "  [ 4.94873040e+02  0.00000000e+00  0.00000000e+00 ...  0.00000000e+00\n",
      "    0.00000000e+00  0.00000000e+00]\n",
      "  [ 8.80381638e+02  0.00000000e+00  0.00000000e+00 ...  0.00000000e+00\n",
      "    0.00000000e+00  0.00000000e+00]\n",
      "  ...\n",
      "  [ 1.39515349e+02  0.00000000e+00  0.00000000e+00 ...  0.00000000e+00\n",
      "    0.00000000e+00  0.00000000e+00]\n",
      "  [ 1.09616977e+02  0.00000000e+00  0.00000000e+00 ...  0.00000000e+00\n",
      "    0.00000000e+00  0.00000000e+00]\n",
      "  [ 1.21000000e+02  0.00000000e+00  0.00000000e+00 ...  0.00000000e+00\n",
      "    0.00000000e+00  0.00000000e+00]]]\n"
     ]
    }
   ],
   "source": [
    "# # Remove elements\n",
    "# for i in range(matrixSize):\n",
    "#     for j in range(matrixSize):\n",
    "#         for k in range(matrixSize):\n",
    "#             if((i == 0 and j == 0 and k == 0)):\n",
    "#                 print()\n",
    "#             else:\n",
    "#                 matDct[i][j][k] = 0\n",
    "#print(matDct)\n",
    "for i in range(1,matrixSize,1):\n",
    "    for j in range(1,matrixSize,1):\n",
    "        for k in range(1,matrixSize,1):\n",
    "            matDct[i][j][k] = 0\n",
    "            #print(matDct[i][j][k])\n",
    "print(matDct)"
   ]
  },
  {
   "cell_type": "code",
   "execution_count": 92,
   "metadata": {},
   "outputs": [],
   "source": [
    "# Inverse\n",
    "iMatDct = idct(matDct,1,axis=-3)\n",
    "#print(iMatDct)\n",
    "iMatDct = idct(iMatDct,1,axis=-2)\n",
    "#print(iMatDct)\n",
    "iMatDct = idct(iMatDct,1,axis=-1)\n",
    "#print(iMatDct)"
   ]
  },
  {
   "cell_type": "code",
   "execution_count": 93,
   "metadata": {},
   "outputs": [],
   "source": [
    "elements = len(iMatDct) * len(iMatDct) * len(iMatDct)\n",
    "#finalMatrix = iMatDct/8 #2\n",
    "#finalMatrix = iMatDct/64 #3\n",
    "#finalMatrix = iMatDct/216 #4\n",
    "#finalMatrix = iMatDct/512 #5\n",
    "#finalMatrix = iMatDct/10648 #12\n",
    "finalMatrix = iMatDct/97336 #24\n",
    "#print(finalMatrix)"
   ]
  },
  {
   "cell_type": "code",
   "execution_count": 94,
   "metadata": {},
   "outputs": [],
   "source": [
    "# Rectify\n",
    "for i in range(matrixSize):\n",
    "    for j in range(matrixSize):\n",
    "        for k in range(matrixSize):\n",
    "            if(finalMatrix[i][j][k] > 0.5):\n",
    "                finalMatrix[i][j][k] = 1\n",
    "            else:\n",
    "                finalMatrix[i][j][k] = 0"
   ]
  },
  {
   "cell_type": "code",
   "execution_count": 95,
   "metadata": {},
   "outputs": [],
   "source": [
    "errorMatrix = abs(abs(originalMatrix)-abs(finalMatrix))\n",
    "#print(originalMatrix-finalMatrix)"
   ]
  },
  {
   "cell_type": "code",
   "execution_count": 96,
   "metadata": {},
   "outputs": [
    {
     "name": "stdout",
     "output_type": "stream",
     "text": [
      "3117.0\n"
     ]
    }
   ],
   "source": [
    "# Calculate error\n",
    "errorSum = sum(sum(sum(errorMatrix)))\n",
    "print(errorSum)"
   ]
  },
  {
   "cell_type": "code",
   "execution_count": 39,
   "metadata": {},
   "outputs": [
    {
     "name": "stdout",
     "output_type": "stream",
     "text": [
      "\n",
      "0.35561342592592593\n",
      "\n",
      "0.35452835648148145\n",
      "\n",
      "0.3541666666666667\n",
      "\n",
      "0.35337094907407407\n",
      "\n",
      "0.3459201388888889\n",
      "\n",
      "0.35033275462962965\n",
      "\n",
      "0.3546006944444444\n",
      "\n",
      "0.3451244212962963\n",
      "\n",
      "0.34584780092592593\n",
      "\n",
      "0.3537326388888889\n",
      "\n",
      "0.35062210648148145\n",
      "\n",
      "0.34736689814814814\n",
      "\n",
      "0.3509837962962963\n",
      "\n",
      "0.34932002314814814\n",
      "\n",
      "0.35228587962962965\n",
      "\n",
      "0.3509837962962963\n",
      "\n",
      "0.3537326388888889\n",
      "\n",
      "0.3538773148148148\n",
      "\n",
      "0.3543113425925926\n",
      "\n",
      "0.3537326388888889\n"
     ]
    }
   ],
   "source": [
    "errorList = []\n",
    "for a in range(20):\n",
    "    seed(a)\n",
    "    matrixSize = 24\n",
    "    originalMatrix = np.zeros((matrixSize,matrixSize,matrixSize))\n",
    "    for i in range(matrixSize):\n",
    "        for j in range(matrixSize):\n",
    "            for k in range(matrixSize):\n",
    "                if(random() > 0.5):\n",
    "                    originalMatrix[i][j][k] = 1\n",
    "                else:\n",
    "                    originalMatrix[i][j][k] = 0\n",
    "                if(i < 19 and i > 5 and j < 19 and j > 5):\n",
    "                    originalMatrix[i][j][k] = 0\n",
    "    # Non-inverse\n",
    "    matDct = dct(originalMatrix,1,axis=-1)\n",
    "    matDct = dct(matDct,1,axis=-2)\n",
    "    matDct = dct(matDct,1,axis=-3)\n",
    "    for i in range(matrixSize):\n",
    "        for j in range(matrixSize):\n",
    "            for k in range(matrixSize):\n",
    "                if((i == 0 and j == 0 and k == 0)):\n",
    "                    print()\n",
    "                else:\n",
    "                    matDct[i][j][k] = 0\n",
    "    # Inverse\n",
    "    iMatDct = idct(matDct,1,axis=-3)\n",
    "    iMatDct = idct(iMatDct,1,axis=-2)\n",
    "    iMatDct = idct(iMatDct,1,axis=-1)\n",
    "    elements = len(iMatDct) * len(iMatDct) * len(iMatDct)\n",
    "    finalMatrix = iMatDct/97336 #24\n",
    "    # Rectify\n",
    "    for i in range(matrixSize):\n",
    "        for j in range(matrixSize):\n",
    "            for k in range(matrixSize):\n",
    "                if(finalMatrix[i][j][k] > 0.5):\n",
    "                    finalMatrix[i][j][k] = 1\n",
    "                else:\n",
    "                    finalMatrix[i][j][k] = 0\n",
    "    errorMatrix = abs(abs(originalMatrix)-abs(finalMatrix))\n",
    "    errorSum = sum(sum(sum(errorMatrix)))\n",
    "    print(errorSum/13824)\n",
    "    errorList.append(errorSum)"
   ]
  },
  {
   "cell_type": "code",
   "execution_count": null,
   "metadata": {},
   "outputs": [],
   "source": []
  }
 ],
 "metadata": {
  "kernelspec": {
   "display_name": "Python 3",
   "language": "python",
   "name": "python3"
  },
  "language_info": {
   "codemirror_mode": {
    "name": "ipython",
    "version": 3
   },
   "file_extension": ".py",
   "mimetype": "text/x-python",
   "name": "python",
   "nbconvert_exporter": "python",
   "pygments_lexer": "ipython3",
   "version": "3.6.8"
  }
 },
 "nbformat": 4,
 "nbformat_minor": 2
}
