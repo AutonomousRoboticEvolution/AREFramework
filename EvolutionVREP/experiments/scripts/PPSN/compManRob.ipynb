{
 "cells": [
  {
   "cell_type": "code",
   "execution_count": 1,
   "metadata": {},
   "outputs": [],
   "source": [
    "# Load libraries\n",
    "import csv\n",
    "import matplotlib.pyplot as plt\n",
    "import statistics\n",
    "import numpy as np\n",
    "import os\n",
    "from scipy.stats import mannwhitneyu"
   ]
  },
  {
   "cell_type": "code",
   "execution_count": 2,
   "metadata": {},
   "outputs": [],
   "source": [
    "# Set filepath\n",
    "rep='/home/ebb505/ARE_Project/are-logs/PPSN/'\n",
    "repBL='/home/ebb505/ARE_Project/are-logs/PPSN/BL/'\n",
    "repPN='/home/ebb505/ARE_Project/are-logs/PPSN/NS/'\n",
    "repGR='/home/ebb505/ARE_Project/are-logs/PPSN/GRi/'\n",
    "repPGR='/home/ebb505/ARE_Project/are-logs/PPSN/GRe/'\n",
    "filename='noreptests.csv' # REMEMBER TO NOT COUNT UNTIL -1\n",
    "#filename='tests.csv' # REMEMBER TO COUNT UNTIL -1\n",
    "oFn='ManRobots'"
   ]
  },
  {
   "cell_type": "code",
   "execution_count": 3,
   "metadata": {},
   "outputs": [],
   "source": [
    "# Get all directories\n",
    "foldBL = []\n",
    "foldPN = []\n",
    "foldGR = []\n",
    "foldPGR = []\n",
    "# r=root, d=directories, f = files\n",
    "for r, d, f in os.walk(repBL):\n",
    "    for folder in d:\n",
    "        foldBL.append(os.path.join(r, folder))\n",
    "for r, d, f in os.walk(repPN):\n",
    "    for folder in d:\n",
    "        foldPN.append(os.path.join(r, folder))\n",
    "for r, d, f in os.walk(repGR):\n",
    "    for folder in d:\n",
    "        foldGR.append(os.path.join(r, folder))\n",
    "for r, d, f in os.walk(repPGR):\n",
    "    for folder in d:\n",
    "        foldPGR.append(os.path.join(r, folder))"
   ]
  },
  {
   "cell_type": "code",
   "execution_count": 4,
   "metadata": {},
   "outputs": [
    {
     "name": "stdout",
     "output_type": "stream",
     "text": [
      "BL =  18\n",
      "PN =  18\n",
      "GR =  29\n",
      "PGR =  15\n"
     ]
    }
   ],
   "source": [
    "# See directories\n",
    "print(\"BL = \", len(foldBL))\n",
    "print(\"PN = \", len(foldPN))\n",
    "print(\"GR = \", len(foldGR))\n",
    "print(\"PGR = \", len(foldPGR))"
   ]
  },
  {
   "cell_type": "code",
   "execution_count": 5,
   "metadata": {},
   "outputs": [],
   "source": [
    "# Get information from files\n",
    "repBL = []\n",
    "for f in foldBL:\n",
    "    my_list = []\n",
    "    with open(f + '/' + filename, 'r') as csvfile:\n",
    "        data = csv.reader(csvfile, delimiter=',', quotechar='\"')\n",
    "        for row in data:\n",
    "            my_list.append(row[:-1]) \n",
    "    repBL.append(my_list)\n",
    "repPN = []\n",
    "for f in foldPN:\n",
    "    my_list = []\n",
    "    with open(f + '/' + filename, 'r') as csvfile:\n",
    "        data = csv.reader(csvfile, delimiter=',', quotechar='\"')\n",
    "        for row in data:\n",
    "            my_list.append(row[:-1]) \n",
    "    repPN.append(my_list)\n",
    "repGR = []\n",
    "for f in foldGR:\n",
    "    my_list = []\n",
    "    with open(f + '/' + filename, 'r') as csvfile:\n",
    "        data = csv.reader(csvfile, delimiter=',', quotechar='\"')\n",
    "        for row in data:\n",
    "            my_list.append(row[:-1]) \n",
    "    repGR.append(my_list)\n",
    "repPGR = []\n",
    "for f in foldPGR:\n",
    "    my_list = []\n",
    "    with open(f + '/' + filename, 'r') as csvfile:\n",
    "        data = csv.reader(csvfile, delimiter=',', quotechar='\"')\n",
    "        for row in data:\n",
    "            my_list.append(row[:]) \n",
    "    repPGR.append(my_list)"
   ]
  },
  {
   "cell_type": "code",
   "execution_count": 6,
   "metadata": {},
   "outputs": [
    {
     "name": "stdout",
     "output_type": "stream",
     "text": [
      "Replicates:  15 Evaluations:  20000 Features:  6 Generations:  500\n"
     ]
    }
   ],
   "source": [
    "population = 40\n",
    "#replicates = len(repBL)\n",
    "replicates = 15\n",
    "#evaluations = len(repBL[0])\n",
    "evaluations = 20000\n",
    "features = len(repBL[0][0])\n",
    "generations = int(evaluations / population)\n",
    "print(\"Replicates: \", replicates, \"Evaluations: \", evaluations, \"Features: \", features, \"Generations: \", generations)"
   ]
  },
  {
   "cell_type": "code",
   "execution_count": 7,
   "metadata": {},
   "outputs": [
    {
     "name": "stdout",
     "output_type": "stream",
     "text": [
      "0\n",
      "1\n",
      "2\n",
      "3\n",
      "4\n",
      "5\n",
      "6\n",
      "7\n",
      "8\n",
      "9\n",
      "10\n",
      "11\n",
      "12\n",
      "13\n",
      "14\n",
      "Done!\n",
      "[0.06735751295336788, 0.06080394717747787, 0.06781991893456861, 0.07175448925522519, 0.062013246961205325, 0.062076829876701586, 0.06804572672836146, 0.0677008101488413, 0.06978886212271504, 0.06905298759864713, 0.06957589769525323, 0.06557377049180328, 0.06506578474369114, 0.0708862555878805, 0.06883854459214879]\n",
      "0\n",
      "1\n",
      "2\n",
      "3\n",
      "4\n",
      "5\n",
      "6\n",
      "7\n",
      "8\n",
      "9\n",
      "10\n",
      "11\n",
      "12\n",
      "13\n",
      "14\n",
      "Done!\n",
      "[0.11367414796342477, 0.11992485126813485, 0.11055175191300846, 0.08900738310090238, 0.08084258468545402, 0.12075355157504633, 0.12586293146573288, 0.12401633628847494, 0.04929994084007099, 0.1283041283041283, 0.15744766912731317, 0.1135822902658529, 0.12614297589359932, 0.1423712342079689, 0.12311635058944131]\n",
      "0\n",
      "1\n",
      "2\n",
      "3\n",
      "4\n",
      "5\n",
      "6\n",
      "7\n",
      "8\n",
      "9\n",
      "10\n",
      "11\n",
      "12\n",
      "13\n",
      "14\n",
      "Done!\n",
      "[0.664794697109188, 0.4918241456966611, 0.5796121332670313, 0.5265647011471121, 0.5272409539473685, 0.5695911324898044, 0.5561399959538742, 0.527237941798409, 0.5292150304938029, 0.44932432432432434, 0.5094206549118387, 0.5881169142309535, 0.5923486986516149, 0.4939624556062912, 0.5479273311251631]\n",
      "0\n",
      "1\n",
      "2\n",
      "3\n",
      "4\n",
      "5\n",
      "6\n",
      "7\n",
      "8\n",
      "9\n",
      "10\n",
      "11\n",
      "12\n",
      "13\n",
      "14\n",
      "Done!\n",
      "[0.48223545227578263, 0.5768018491279681, 0.5547437950360288, 0.5317510548523207, 0.5048179328532305, 0.5078092461474386, 0.5273605713685537, 0.4979970482816783, 0.5398096062310688, 0.5320331341092587, 0.5305497976507748, 0.4586497024420275, 0.5117297466374726, 0.5736180647798099, 0.47746347528753497]\n"
     ]
    }
   ],
   "source": [
    "# \n",
    "sumRepBL = []\n",
    "for i in range(replicates):\n",
    "    dat = np.array([[float(y) for y in x] for x in repBL[i]]) # Convert to array\n",
    "    counter = 0\n",
    "    for j in range(len(repBL[i])):\n",
    "        if(dat[j,1] > 0 \\\n",
    "           and dat[j,2] > 0 \\\n",
    "           and dat[j,3] > 0 \\\n",
    "           and dat[j,4] > 0 \\\n",
    "           and dat[j,5] > 0 \\\n",
    "          ):\n",
    "            counter = counter + 1\n",
    "    sumRepBL.append(counter/len(repBL[i]))\n",
    "    print(i)\n",
    "print(\"Done!\")\n",
    "print(sumRepBL)\n",
    "\n",
    "sumRepPN = []\n",
    "for i in range(replicates):\n",
    "    dat = np.array([[float(y) for y in x] for x in repPN[i]]) # Convert to array\n",
    "    counter = 0\n",
    "    for j in range(len(repPN[i])):\n",
    "        if(dat[j,1] > 0 \\\n",
    "           and dat[j,2] > 0 \\\n",
    "           and dat[j,3] > 0 \\\n",
    "           and dat[j,4] > 0 \\\n",
    "           and dat[j,5] > 0 \\\n",
    "          ):\n",
    "            counter = counter + 1\n",
    "    sumRepPN.append(counter/len(repPN[i]))\n",
    "    print(i)\n",
    "print(\"Done!\")\n",
    "print(sumRepPN)\n",
    "\n",
    "sumRepGR = []\n",
    "for i in range(replicates):\n",
    "    dat = np.array([[float(y) for y in x] for x in repGR[i]]) # Convert to array\n",
    "    counter = 0\n",
    "    for j in range(len(repGR[i])):\n",
    "        if(dat[j,1] > 0 \\\n",
    "           and dat[j,2] > 0 \\\n",
    "           and dat[j,3] > 0 \\\n",
    "           and dat[j,4] > 0 \\\n",
    "           and dat[j,5] > 0 \\\n",
    "          ):\n",
    "            counter = counter + 1\n",
    "    sumRepGR.append(counter/len(repGR[i]))\n",
    "    print(i)\n",
    "print(\"Done!\")\n",
    "print(sumRepGR)\n",
    "\n",
    "sumRepPGR = []\n",
    "for i in range(replicates):\n",
    "    dat = np.array([[float(y) for y in x] for x in repPGR[i]]) # Convert to array\n",
    "    counter = 0\n",
    "    for j in range(len(repPGR[i])):\n",
    "        if(dat[j,1] > 0 \\\n",
    "           and dat[j,2] > 0 \\\n",
    "           and dat[j,3] > 0 \\\n",
    "           and dat[j,4] > 0 \\\n",
    "           and dat[j,5] > 0 \\\n",
    "          ):\n",
    "            counter = counter + 1\n",
    "    sumRepPGR.append(counter/len(repPGR[i]))\n",
    "    print(i)\n",
    "print(\"Done!\")\n",
    "print(sumRepPGR)"
   ]
  },
  {
   "cell_type": "code",
   "execution_count": 8,
   "metadata": {},
   "outputs": [
    {
     "data": {
      "image/png": "[encoded data removed]",
      "text/plain": [
       "<Figure size 432x288 with 1 Axes>"
      ]
     },
     "metadata": {},
     "output_type": "display_data"
    }
   ],
   "source": [
    "# Plot stuff\n",
    "font = {'weight' : 'normal',\n",
    "        'size'   : 14.0}\n",
    "\n",
    "plt.rc('font', **font)\n",
    "plt.figure(0)\n",
    "\n",
    "# Plot box plot stuff\n",
    "plt.boxplot([sumRepBL, sumRepPN, sumRepGR, sumRepPGR])\n",
    "#Label and stuff\n",
    "axes = plt.gca()\n",
    "axes.set_ylim([0,0.7])\n",
    "plt.ylabel('Unique robots ratio')\n",
    "plt.title(\"Manufacturable Robots\")\n",
    "rangeX = ['RS', 'NS', 'GRi', 'GRe'] \n",
    "posX = [1,2,3,4]\n",
    "plt.xticks(posX,rangeX)\n",
    "plt.savefig(rep+oFn+'.png', dpi=200)"
   ]
  },
  {
   "cell_type": "code",
   "execution_count": 9,
   "metadata": {},
   "outputs": [
    {
     "name": "stdout",
     "output_type": "stream",
     "text": [
      "0.5292150304938029\n",
      "0.5273605713685537\n",
      "0.5435547407168959\n",
      "0.52049136513873\n"
     ]
    }
   ],
   "source": [
    "print(np.median(sumRepGR))\n",
    "print(np.median(sumRepPGR))\n",
    "print(np.mean(sumRepGR))\n",
    "print(np.mean(sumRepPGR))"
   ]
  },
  {
   "cell_type": "code",
   "execution_count": 10,
   "metadata": {},
   "outputs": [
    {
     "ename": "NameError",
     "evalue": "name 'dist' is not defined",
     "output_type": "error",
     "traceback": [
      "\u001b[0;31m--------------------------------------------------------------\u001b[0m",
      "\u001b[0;31mNameError\u001b[0m                    Traceback (most recent call last)",
      "\u001b[0;32m<ipython-input-10-e2249961cb23>\u001b[0m in \u001b[0;36m<module>\u001b[0;34m()\u001b[0m\n\u001b[1;32m      4\u001b[0m     \u001b[0mstatRow\u001b[0m \u001b[0;34m=\u001b[0m \u001b[0;34m[\u001b[0m\u001b[0;34m]\u001b[0m\u001b[0;34m\u001b[0m\u001b[0;34m\u001b[0m\u001b[0m\n\u001b[1;32m      5\u001b[0m     \u001b[0;32mfor\u001b[0m \u001b[0mj\u001b[0m \u001b[0;32min\u001b[0m \u001b[0mrange\u001b[0m\u001b[0;34m(\u001b[0m\u001b[0mlen\u001b[0m\u001b[0;34m(\u001b[0m\u001b[0mdistributions\u001b[0m\u001b[0;34m)\u001b[0m\u001b[0;34m)\u001b[0m\u001b[0;34m:\u001b[0m\u001b[0;34m\u001b[0m\u001b[0;34m\u001b[0m\u001b[0m\n\u001b[0;32m----> 6\u001b[0;31m         \u001b[0mstat\u001b[0m\u001b[0;34m,\u001b[0m \u001b[0mp\u001b[0m \u001b[0;34m=\u001b[0m \u001b[0mmannwhitneyu\u001b[0m\u001b[0;34m(\u001b[0m\u001b[0mdist\u001b[0m\u001b[0;34m[\u001b[0m\u001b[0mi\u001b[0m\u001b[0;34m]\u001b[0m\u001b[0;34m,\u001b[0m \u001b[0mdist\u001b[0m\u001b[0;34m[\u001b[0m\u001b[0mj\u001b[0m\u001b[0;34m]\u001b[0m\u001b[0;34m)\u001b[0m\u001b[0;34m\u001b[0m\u001b[0;34m\u001b[0m\u001b[0m\n\u001b[0m\u001b[1;32m      7\u001b[0m \u001b[0;31m#         print('Statistics=%.3f, p=%.3f' % (stat, p))\u001b[0m\u001b[0;34m\u001b[0m\u001b[0;34m\u001b[0m\u001b[0;34m\u001b[0m\u001b[0m\n\u001b[1;32m      8\u001b[0m         \u001b[0malpha\u001b[0m \u001b[0;34m=\u001b[0m \u001b[0;36m0.05\u001b[0m\u001b[0;34m\u001b[0m\u001b[0;34m\u001b[0m\u001b[0m\n",
      "\u001b[0;31mNameError\u001b[0m: name 'dist' is not defined"
     ]
    }
   ],
   "source": [
    "distributions = [sumRepBL, sumRepPN, sumRepGR, sumRepPGR]\n",
    "statTable = []\n",
    "for i in range(len(distributions)):\n",
    "    statRow = []\n",
    "    for j in range(len(distributions)):\n",
    "        stat, p = mannwhitneyu(dist[i], dist[j])\n",
    "#         print('Statistics=%.3f, p=%.3f' % (stat, p))\n",
    "        alpha = 0.05\n",
    "#         if p > alpha:\n",
    "#             print('Same distribution (fail to reject H0)')\n",
    "#         else:\n",
    "#             print('Different distribution (reject H0)')\n",
    "        statRow.append(p)\n",
    "    statTable.append(statRow)\n",
    "print(statTable)"
   ]
  },
  {
   "cell_type": "code",
   "execution_count": 36,
   "metadata": {},
   "outputs": [],
   "source": [
    "# Write to CSV\n",
    "with open(rep+oFn+'.csv', mode='w') as csv_file:\n",
    "    csv_file = csv.writer(csv_file, delimiter=',', quotechar='\"', quoting=csv.QUOTE_MINIMAL)\n",
    "    for i in range(len(distributions)):\n",
    "        csv_file.writerow(statTable[i])"
   ]
  },
  {
   "cell_type": "code",
   "execution_count": null,
   "metadata": {},
   "outputs": [],
   "source": []
  }
 ],
 "metadata": {
  "kernelspec": {
   "display_name": "Python 3",
   "language": "python",
   "name": "python3"
  },
  "language_info": {
   "codemirror_mode": {
    "name": "ipython",
    "version": 3
   },
   "file_extension": ".py",
   "mimetype": "text/x-python",
   "name": "python",
   "nbconvert_exporter": "python",
   "pygments_lexer": "ipython3",
   "version": "3.6.9"
  }
 },
 "nbformat": 4,
 "nbformat_minor": 2
}
