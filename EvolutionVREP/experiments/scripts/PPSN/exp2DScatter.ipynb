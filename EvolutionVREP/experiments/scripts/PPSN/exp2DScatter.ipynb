{
 "cells": [
  {
   "cell_type": "code",
   "execution_count": 19,
   "metadata": {},
   "outputs": [],
   "source": [
    "# Load libraries\n",
    "import csv\n",
    "import matplotlib.pyplot as plt\n",
    "import numpy as np\n",
    "import os\n",
    "import statistics"
   ]
  },
  {
   "cell_type": "code",
   "execution_count": 20,
   "metadata": {},
   "outputs": [],
   "source": [
    "# Set filepath\n",
    "\n",
    "# repository='/home/ebb505/ARE_Project/are-logs/PPSN/BL/'\n",
    "# experimentName = \"RS\"\n",
    "\n",
    "# repository='/home/ebb505/ARE_Project/are-logs/PPSN/NS/'\n",
    "# experimentName = \"NS\"\n",
    "\n",
    "# repository='/home/ebb505/ARE_Project/are-logs/PPSN/GRi/'\n",
    "# experimentName = \"GRi\"\n",
    "\n",
    "repository='/home/ebb505/ARE_Project/are-logs/PPSN/GRe/'\n",
    "experimentName = \"GRe\"\n",
    "\n",
    "filename='norepmorphdesc.csv'"
   ]
  },
  {
   "cell_type": "code",
   "execution_count": 21,
   "metadata": {},
   "outputs": [
    {
     "name": "stdout",
     "output_type": "stream",
     "text": [
      "Folders found: 15\n"
     ]
    }
   ],
   "source": [
    "# Get all directories\n",
    "folders = []\n",
    "# r=root, d=directories, f = files\n",
    "for r, d, f in os.walk(repository):\n",
    "    for folder in d:\n",
    "        folders.append(os.path.join(r, folder))\n",
    "print(\"Folders found:\", len(folders))"
   ]
  },
  {
   "cell_type": "code",
   "execution_count": 22,
   "metadata": {},
   "outputs": [],
   "source": [
    "# Get information from files\n",
    "my_replicates = []\n",
    "for f in folders:\n",
    "    my_list = []\n",
    "    with open(f + '/' + filename, 'r') as csvfile:\n",
    "        data = csv.reader(csvfile, delimiter=',', quotechar='\"')\n",
    "        for row in data:\n",
    "            my_list.append(row[:-1]) # Last character is empty for some reason\n",
    "    my_replicates.append(my_list)"
   ]
  },
  {
   "cell_type": "code",
   "execution_count": 23,
   "metadata": {},
   "outputs": [
    {
     "name": "stdout",
     "output_type": "stream",
     "text": [
      "Replicates:  15 Evaluations:  20000 Features:  6 Generations:  500\n"
     ]
    }
   ],
   "source": [
    "elementX = 4\n",
    "elementY = 5\n",
    "xVariable = \"Wheels\"\n",
    "yVariable = \"Sensors\"\n",
    "rangeX = [0,1,2,3,4,5,6,7,8,9,10] \n",
    "posX = np.arange(0,1.1,0.1) # Why are these offsets necessary?\n",
    "\n",
    "# elementX = 1\n",
    "# elementY = 2\n",
    "# xVariable = \"Width\"\n",
    "# yVariable = \"Depth\"\n",
    "# rangeX = [0,0.05,0.1,0.15,0.2,0.25] \n",
    "# posX = np.arange(0,1.1,0.2) # Why are these offsets necessary?\n",
    "\n",
    "population = 40\n",
    "#replicates = len(my_replicates)\n",
    "replicates = 15\n",
    "#evaluations = len(my_replicates[0])\n",
    "evaluations = 20000\n",
    "features = len(my_replicates[0][0])\n",
    "generations = int(evaluations / population)\n",
    "print(\"Replicates: \", replicates, \"Evaluations: \", evaluations, \"Features: \", features, \"Generations: \", generations)"
   ]
  },
  {
   "cell_type": "code",
   "execution_count": 24,
   "metadata": {},
   "outputs": [
    {
     "name": "stdout",
     "output_type": "stream",
     "text": [
      "19932\n",
      "29924\n",
      "39404\n",
      "49263\n",
      "58867\n",
      "68388\n",
      "77874\n",
      "87118\n",
      "96655\n",
      "106786\n",
      "116532\n",
      "126123\n",
      "135910\n",
      "145561\n",
      "Done!\n"
     ]
    }
   ],
   "source": [
    "# Process data\n",
    "repRes = np.array([[float(y) for y in x] for x in my_replicates[0]])\n",
    "for rep in range(1,replicates,1):\n",
    "    repRes = np.concatenate((repRes, np.array([[float(y) for y in x] for x in my_replicates[rep]])),axis=0)\n",
    "    print(len(repRes))\n",
    "print(\"Done!\")"
   ]
  },
  {
   "cell_type": "code",
   "execution_count": 25,
   "metadata": {},
   "outputs": [
    {
     "data": {
      "image/png": "[encoded data removed]",
      "text/plain": [
       "<Figure size 432x288 with 1 Axes>"
      ]
     },
     "metadata": {},
     "output_type": "display_data"
    }
   ],
   "source": [
    "# Plot stuff\n",
    "font = {'weight' : 'normal',\n",
    "        'size'   : 14}\n",
    "plt.rc('font', **font)\n",
    "# Plot stuff\n",
    "plt.figure(0)\n",
    "plt.xlabel(xVariable)\n",
    "plt.ylabel(yVariable)\n",
    "#plt.scatter(listMat[:,0],listMat[:,1],c=listMat[:,2])\n",
    "plt.scatter(repRes[:,elementX],repRes[:,elementY])\n",
    "axes = plt.gca()\n",
    "axes.set_xlim([0,1.0])\n",
    "axes.set_ylim([0,1.0])\n",
    "axes = plt.gca()\n",
    "title = experimentName + ': ' + xVariable + '-' + yVariable\n",
    "plt.title(title)\n",
    "\n",
    "plt.xticks(posX,rangeX)\n",
    "plt.yticks(posX,rangeX)\n",
    "\n",
    "\n",
    "plt.savefig(repository+experimentName+xVariable+yVariable+'ScatterPop.png', dpi=200)"
   ]
  },
  {
   "cell_type": "code",
   "execution_count": 20,
   "metadata": {},
   "outputs": [
    {
     "name": "stdout",
     "output_type": "stream",
     "text": [
      "[4.       0.916667 0.875    0.916667 0.1      0.1      0.305773]\n"
     ]
    }
   ],
   "source": [
    "print(dat[4])"
   ]
  },
  {
   "cell_type": "code",
   "execution_count": null,
   "metadata": {},
   "outputs": [],
   "source": []
  }
 ],
 "metadata": {
  "kernelspec": {
   "display_name": "Python 3",
   "language": "python",
   "name": "python3"
  },
  "language_info": {
   "codemirror_mode": {
    "name": "ipython",
    "version": 3
   },
   "file_extension": ".py",
   "mimetype": "text/x-python",
   "name": "python",
   "nbconvert_exporter": "python",
   "pygments_lexer": "ipython3",
   "version": "3.6.8"
  }
 },
 "nbformat": 4,
 "nbformat_minor": 2
}
