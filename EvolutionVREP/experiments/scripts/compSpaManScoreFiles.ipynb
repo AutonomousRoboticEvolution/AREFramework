{
 "cells": [
  {
   "cell_type": "code",
   "execution_count": 12,
   "metadata": {},
   "outputs": [],
   "source": [
    "# Load libraries\n",
    "import csv\n",
    "import matplotlib.pyplot as plt\n",
    "import statistics\n",
    "import numpy as np\n",
    "import os\n",
    "from IPython.display import clear_output"
   ]
  },
  {
   "cell_type": "code",
   "execution_count": 13,
   "metadata": {},
   "outputs": [],
   "source": [
    "# Set filepath\n",
    "repository='/home/ebb505/ARE_Project/are-logs/'\n",
    "repLC='LC_NS_MS/'"
   ]
  },
  {
   "cell_type": "code",
   "execution_count": 14,
   "metadata": {},
   "outputs": [],
   "source": [
    "# LC alpha parameter values\n",
    "LCAlpha = ['0']\n",
    "numAlphaValues = len(LCAlpha)"
   ]
  },
  {
   "cell_type": "code",
   "execution_count": 15,
   "metadata": {},
   "outputs": [],
   "source": [
    "# Get all directories\n",
    "sparsDat = []\n",
    "manScoreDat = []\n",
    "manRobotsDat = []\n",
    "\n",
    "for i in range(numAlphaValues):\n",
    "    \n",
    "    tempList = []\n",
    "    with open(repository + repLC + LCAlpha[i] + '/' + LCAlpha[i] + 'expSparseness.csv', 'r') as spaCsvfile:\n",
    "            spaTests = csv.reader(spaCsvfile, delimiter=',', quotechar='\"')\n",
    "            for row in spaTests:\n",
    "                tempList.append(row[:])         \n",
    "    sparsDat.append(tempList)\n",
    "    \n",
    "    tempList = []\n",
    "    with open(repository + repLC + LCAlpha[i] + '/' + LCAlpha[i] + 'expManScore.csv', 'r') as manScoreCsvfile:\n",
    "            manScoreTests = csv.reader(manScoreCsvfile, delimiter=',', quotechar='\"')\n",
    "            for row in manScoreTests:\n",
    "                tempList.append(row[:])         \n",
    "    manScoreDat.append(tempList)\n",
    "    \n",
    "    tempList = []\n",
    "    with open(repository + repLC + LCAlpha[i] + '/' + LCAlpha[i] + 'expManRobots.csv', 'r') as manRobotsCsvfile:\n",
    "            manRobots = csv.reader(manRobotsCsvfile, delimiter=',', quotechar='\"')\n",
    "            for row in manRobots:\n",
    "                tempList.append(row[:])         \n",
    "    manRobotsDat.append(tempList)"
   ]
  },
  {
   "cell_type": "code",
   "execution_count": 16,
   "metadata": {},
   "outputs": [
    {
     "ename": "NameError",
     "evalue": "name 'foldSparsLC' is not defined",
     "output_type": "error",
     "traceback": [
      "\u001b[0;31m---------------------------------------------------------------------------\u001b[0m",
      "\u001b[0;31mNameError\u001b[0m                                 Traceback (most recent call last)",
      "\u001b[0;32m<ipython-input-16-3b6bf576b1c2>\u001b[0m in \u001b[0;36m<module>\u001b[0;34m()\u001b[0m\n\u001b[0;32m----> 1\u001b[0;31m \u001b[0mprint\u001b[0m\u001b[0;34m(\u001b[0m\u001b[0mlen\u001b[0m\u001b[0;34m(\u001b[0m\u001b[0mfoldSparsLC\u001b[0m\u001b[0;34m)\u001b[0m\u001b[0;34m)\u001b[0m\u001b[0;34m\u001b[0m\u001b[0;34m\u001b[0m\u001b[0m\n\u001b[0m\u001b[1;32m      2\u001b[0m \u001b[0mprint\u001b[0m\u001b[0;34m(\u001b[0m\u001b[0mlen\u001b[0m\u001b[0;34m(\u001b[0m\u001b[0mfoldSparsLC\u001b[0m\u001b[0;34m[\u001b[0m\u001b[0;36m0\u001b[0m\u001b[0;34m]\u001b[0m\u001b[0;34m)\u001b[0m\u001b[0;34m)\u001b[0m\u001b[0;34m\u001b[0m\u001b[0;34m\u001b[0m\u001b[0m\n\u001b[1;32m      3\u001b[0m \u001b[0mprint\u001b[0m\u001b[0;34m(\u001b[0m\u001b[0mlen\u001b[0m\u001b[0;34m(\u001b[0m\u001b[0mfoldSparsLC\u001b[0m\u001b[0;34m[\u001b[0m\u001b[0;36m0\u001b[0m\u001b[0;34m]\u001b[0m\u001b[0;34m[\u001b[0m\u001b[0;36m0\u001b[0m\u001b[0;34m]\u001b[0m\u001b[0;34m)\u001b[0m\u001b[0;34m)\u001b[0m\u001b[0;34m\u001b[0m\u001b[0;34m\u001b[0m\u001b[0m\n",
      "\u001b[0;31mNameError\u001b[0m: name 'foldSparsLC' is not defined"
     ]
    }
   ],
   "source": [
    "print(len(foldSparsLC))\n",
    "print(len(foldSparsLC[0]))\n",
    "print(len(foldSparsLC[0][0]))"
   ]
  },
  {
   "cell_type": "code",
   "execution_count": 17,
   "metadata": {},
   "outputs": [],
   "source": [
    "# Convert from strin to float as array\n",
    "sparsDatArray = []\n",
    "manScoreDatArray = []\n",
    "manRobotsDatArray = []\n",
    "for pam in range(numAlphaValues):\n",
    "    tempDat = [] \n",
    "    tempDat = np.array([[float(y) for y in x] for x in sparsDat[pam]]) \n",
    "    sparsDatArray.append(tempDat)\n",
    "    tempDat = [] \n",
    "    tempDat = np.array([[float(y) for y in x] for x in manScoreDat[pam]]) \n",
    "    manScoreDatArray.append(tempDat)\n",
    "    tempDat = [] \n",
    "    tempDat = np.array([[float(y) for y in x] for x in manRobotsDat[pam]]) \n",
    "    manRobotsDatArray.append(tempDat)"
   ]
  },
  {
   "cell_type": "code",
   "execution_count": 18,
   "metadata": {},
   "outputs": [
    {
     "name": "stdout",
     "output_type": "stream",
     "text": [
      "1\n",
      "17\n",
      "11\n",
      "[  0.  10.  31.   0.   3.  33. 100.   2.  46.   8.   1.  11.   4.   0.\n",
      "  10.  17.   2.]\n"
     ]
    }
   ],
   "source": [
    "print(len(sparsDatArray))\n",
    "print(len(sparsDatArray[0]))\n",
    "print(len(sparsDatArray[0][0]))\n",
    "print(manRobotsDatArray[0][:,10])"
   ]
  },
  {
   "cell_type": "code",
   "execution_count": 19,
   "metadata": {},
   "outputs": [
    {
     "data": {
      "image/png": "[encoded data removed]",
      "text/plain": [
       "<Figure size 432x324 with 1 Axes>"
      ]
     },
     "metadata": {},
     "output_type": "display_data"
    }
   ],
   "source": [
    "# Plot stuff\n",
    "font = {'weight' : 'normal',\n",
    "        'size'   : 14}\n",
    "\n",
    "plt.rc('font', **font)\n",
    "plt.figure(figsize=(6, 4.5))\n",
    "#plt.xlabel(\"Proportion of unique manufacturable robots\")\n",
    "plt.xlabel(\"Manufacturability score\")\n",
    "plt.ylabel(\"Sparseness\")\n",
    "for i in range(numAlphaValues):\n",
    "    plt.scatter(manScoreDatArray[i][:,10],sparsDatArray[i][:,10],marker='.',linewidths=8.0)\n",
    "axes = plt.gca()\n",
    "#axes.set_xlim([0,0.015])\n",
    "axes.set_xlim([0,1.0])\n",
    "axes.set_ylim([0.00,0.045])\n",
    "# axes = plt.gca()\n",
    "# title = experimentName + ': ' + xVariable + '-' + yVariable\n",
    "plt.title('Scatter plot for different values of \\u03B1')\n",
    "plt.legend([\"0.0\"])\n",
    "# plt.xticks(posX,rangeX)\n",
    "# plt.yticks(posX,rangeX)\n",
    "\n",
    "\n",
    "plt.savefig(repository+repLC+'compManScoSpa.png', dpi=200)"
   ]
  },
  {
   "cell_type": "code",
   "execution_count": null,
   "metadata": {},
   "outputs": [],
   "source": []
  }
 ],
 "metadata": {
  "kernelspec": {
   "display_name": "Python 3",
   "language": "python",
   "name": "python3"
  },
  "language_info": {
   "codemirror_mode": {
    "name": "ipython",
    "version": 3
   },
   "file_extension": ".py",
   "mimetype": "text/x-python",
   "name": "python",
   "nbconvert_exporter": "python",
   "pygments_lexer": "ipython3",
   "version": "3.6.9"
  }
 },
 "nbformat": 4,
 "nbformat_minor": 2
}
