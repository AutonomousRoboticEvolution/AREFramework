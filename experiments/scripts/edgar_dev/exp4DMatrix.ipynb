{
 "cells": [
  {
   "cell_type": "code",
   "execution_count": 13,
   "metadata": {},
   "outputs": [],
   "source": [
    "# Import libraries\n",
    "import csv\n",
    "import matplotlib.pyplot as plt\n",
    "import numpy as np\n",
    "import os\n",
    "import pandas as pd\n",
    "import seaborn as sns\n",
    "import warnings\n",
    "import miscGeneralMethods\n",
    "import diversity"
   ]
  },
  {
   "cell_type": "code",
   "execution_count": 14,
   "metadata": {},
   "outputs": [],
   "source": [
    "def setConstants():\n",
    "    global REPLICATES\n",
    "    global REPOSITORY\n",
    "    global FILE_ORGAN_POS_DESCRIPTOR\n",
    "    global FILE_COMPONENTS_MEDIAN\n",
    "    global FILE_COVERAGE\n",
    "    global FILE_STATS\n",
    "    global EVALUATIONS\n",
    "    global MAXORGANS\n",
    "    global EXPERIMENTS\n",
    "    global GENERATIONS\n",
    "    global POPULATION\n",
    "    \n",
    "    REPOSITORY='/home/ebb505/ARE_Project/are-logs/matrix_experiments/'\n",
    "    FILE_ORGAN_POS_DESCRIPTOR='organ_pos_desc.csv'\n",
    "    FILE_COMPONENTS_MEDIAN='componentsMedian.csv'\n",
    "    REPLICATES = 1\n",
    "    EVALUATIONS = 12\n",
    "    MAXORGANS = 16\n",
    "    GENERATIONS = 1\n",
    "    POPULATION = 12\n",
    "    FILE_COVERAGE='coverage.csv'\n",
    "    FILE_STATS='stats.csv'\n",
    "    EXPERIMENTS = ['10']\n",
    "    print('Repository: ' + REPOSITORY)\n",
    "    print('Descriptors: ' + FILE_ORGAN_POS_DESCRIPTOR)\n",
    "    print('Components median: ' + FILE_COMPONENTS_MEDIAN)\n",
    "    print('Replicates: ' + str(REPLICATES))"
   ]
  },
  {
   "cell_type": "code",
   "execution_count": 15,
   "metadata": {},
   "outputs": [
    {
     "name": "stdout",
     "output_type": "stream",
     "text": [
      "Repository: /home/ebb505/ARE_Project/are-logs/matrix_experiments/\n",
      "Descriptors: organ_pos_desc.csv\n",
      "Components median: componentsMedian.csv\n",
      "Replicates: 1\n",
      "--- 10 ---\n",
      "/home/ebb505/ARE_Project/are-logs/matrix_experiments/10\n",
      "Getting directories...\n",
      "--- Folders:  1\n",
      "Getting data from files...\n",
      "Transform data to array...\n"
     ]
    }
   ],
   "source": [
    "setConstants()\n",
    "font = {'weight' : 'normal',\n",
    "                    'size'   : 14.0}\n",
    "expDescriptors = []\n",
    "expCoverage = []\n",
    "for exp in EXPERIMENTS:\n",
    "    print('---',exp,'---')\n",
    "    print(REPOSITORY + exp)\n",
    "    folders,folderNames = miscGeneralMethods.getDirectories(REPOSITORY + exp)\n",
    "    dataDescriptors = miscGeneralMethods.getDataFromFiles(folders, FILE_ORGAN_POS_DESCRIPTOR, 0)\n",
    "    arrayDescriptors = miscGeneralMethods.transformDataToArray(dataDescriptors, REPLICATES)"
   ]
  },
  {
   "cell_type": "code",
   "execution_count": 28,
   "metadata": {},
   "outputs": [
    {
     "name": "stdout",
     "output_type": "stream",
     "text": [
      "1\n",
      "12\n",
      "1332\n",
      "[0. 0. 0. 0. 0. 0. 0. 0. 0. 0. 0. 0. 0. 0. 0. 0. 0. 0. 0. 0. 0. 0. 0. 0.\n",
      " 0. 0. 0. 0. 0. 0. 0. 0. 0. 0. 0. 0. 0. 0. 0. 0. 0. 0. 0. 0. 0. 0. 0. 0.\n",
      " 0. 0. 0. 0. 0. 0. 0. 0. 0. 0. 0. 0. 0. 0. 0. 0. 0. 0. 0. 0. 0. 0. 0. 0.\n",
      " 0. 0. 0. 0. 0. 0. 0. 0. 0. 0. 0. 0. 0. 0. 0. 0. 0. 0. 0. 0. 0. 0. 0. 0.\n",
      " 0. 0. 0. 0. 0. 0. 0. 0. 0. 0. 0. 0. 0. 0. 0. 0. 0. 0. 0. 0. 0. 0. 0. 0.\n",
      " 0. 0. 1. 0. 0. 2. 2. 0. 0. 0. 0. 0. 0. 1. 0. 0. 0. 0. 0. 0. 0. 0. 0. 0.\n",
      " 0. 0. 0. 0. 2. 0. 0. 0. 0. 0. 0. 1. 0. 0. 0. 0. 0. 0. 0. 0. 0. 0. 2. 0.\n",
      " 2. 0. 0. 0. 0. 0. 0. 0. 0. 0. 0. 0. 0. 0. 0. 0. 0. 0. 0. 0. 0. 0. 0. 0.\n",
      " 0. 0. 0. 0. 0. 0. 0. 0.]\n"
     ]
    }
   ],
   "source": [
    "print(len(arrayDescriptors))\n",
    "print(len(arrayDescriptors[0]))\n",
    "print(len(arrayDescriptors[0][0]))\n",
    "print(arrayDescriptors[0][0][:200])"
   ]
  },
  {
   "cell_type": "code",
   "execution_count": null,
   "metadata": {},
   "outputs": [],
   "source": []
  }
 ],
 "metadata": {
  "kernelspec": {
   "display_name": "Python 3",
   "language": "python",
   "name": "python3"
  },
  "language_info": {
   "codemirror_mode": {
    "name": "ipython",
    "version": 3
   },
   "file_extension": ".py",
   "mimetype": "text/x-python",
   "name": "python",
   "nbconvert_exporter": "python",
   "pygments_lexer": "ipython3",
   "version": "3.6.9"
  }
 },
 "nbformat": 4,
 "nbformat_minor": 2
}
