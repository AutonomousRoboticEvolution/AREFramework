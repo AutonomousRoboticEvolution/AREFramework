{
 "cells": [
  {
   "cell_type": "code",
   "execution_count": 1,
   "metadata": {},
   "outputs": [],
   "source": [
    "# Load libraries\n",
    "import csv\n",
    "import matplotlib.pyplot as plt\n",
    "import statistics\n",
    "import numpy as np"
   ]
  },
  {
   "cell_type": "code",
   "execution_count": 2,
   "metadata": {},
   "outputs": [
    {
     "name": "stdout",
     "output_type": "stream",
     "text": [
      "Filepath: /home/ebb505/ARE_Project/are-logs/tempDir/LC_nov_locComp_1_4_17-16-44-4334/noreptests.csv\n"
     ]
    }
   ],
   "source": [
    "# Set filepath\n",
    "repository='/home/ebb505/ARE_Project/are-logs/tempDir/'\n",
    "replicate='LC_nov_locComp_1_4_17-16-44-4334/'\n",
    "filename='noreptests.csv'\n",
    "filepath=repository+replicate+filename\n",
    "print('Filepath: ' + filepath)"
   ]
  },
  {
   "cell_type": "code",
   "execution_count": 3,
   "metadata": {},
   "outputs": [],
   "source": [
    "# Import data from csv\n",
    "my_list = []\n",
    "with open(filepath, 'r') as csvfile:\n",
    "    data = csv.reader(csvfile, delimiter=',', quotechar='\"')\n",
    "    for row in data:\n",
    "        my_list.append(row[:-1]) # Last character is empty for some reason"
   ]
  },
  {
   "cell_type": "code",
   "execution_count": 4,
   "metadata": {},
   "outputs": [
    {
     "name": "stdout",
     "output_type": "stream",
     "text": [
      "Number of evaluations:  13504 Features size:  5 Generations:  540\n"
     ]
    }
   ],
   "source": [
    "# Estimate average for each generation\n",
    "population = 25\n",
    "evaluations = len(my_list)\n",
    "featureSize = len(my_list[0])\n",
    "generations = int(evaluations / population)\n",
    "\n",
    "interval=25\n",
    "rangeValues = range(0,evaluations,interval)\n",
    "lenRange = len(rangeValues)\n",
    "\n",
    "print(\"Number of evaluations: \", evaluations, \"Features size: \", featureSize, \"Generations: \", generations)\n",
    "dat = np.array([[float(y) for y in x] for x in my_list]) # Convert to array\n"
   ]
  },
  {
   "cell_type": "code",
   "execution_count": 5,
   "metadata": {},
   "outputs": [
    {
     "name": "stdout",
     "output_type": "stream",
     "text": [
      "[0.166667  0.133333  0.0666667 0.1      ]\n"
     ]
    }
   ],
   "source": [
    "print(dat[:4,4])"
   ]
  },
  {
   "cell_type": "code",
   "execution_count": 6,
   "metadata": {},
   "outputs": [],
   "source": [
    "# Analyse data\n",
    "sumManRobots = []\n",
    "for i in range(population,evaluations,population):\n",
    "    sumManRobots.append(sum(dat[:i,4])/i)\n",
    "#print(sumManRobots)"
   ]
  },
  {
   "cell_type": "code",
   "execution_count": 7,
   "metadata": {},
   "outputs": [
    {
     "data": {
      "image/png": "[encoded data removed]",
      "text/plain": [
       "<Figure size 432x288 with 1 Axes>"
      ]
     },
     "metadata": {},
     "output_type": "display_data"
    }
   ],
   "source": [
    "# Plot stuff\n",
    "xValues = list(range(population, evaluations, population))\n",
    "xValues = [x/population for x in xValues]\n",
    "# Plot stuff\n",
    "font = {'weight' : 'normal',\n",
    "        'size'   : 14.0}\n",
    "\n",
    "plt.rc('font', **font)\n",
    "plt.figure(0)\n",
    "\n",
    "plt.plot(xValues, sumManRobots, '-', color='blue',  linewidth=2.5)\n",
    "\n",
    "plt.xlabel('Evaluations')\n",
    "plt.ylabel('Manufacturability Score')\n",
    "\n",
    "axes = plt.gca()\n",
    "axes.set_ylim([0,1.0])\n",
    "\n",
    "rangeX = range(0,lenRange*5000,5000) # Why are these offsets necessary?\n",
    "posX = range(0,lenRange,200) # Why are these offsets necessary?\n",
    "plt.xticks(posX,rangeX)\n",
    "\n",
    "#plt.legend(['No collisions','Good orientations','Gripper access' ])\n",
    "plt.title(\"Manufacturability Score\")\n",
    "plt.savefig(repository+replicate+'manRobots.png',dpi=200)"
   ]
  },
  {
   "cell_type": "code",
   "execution_count": null,
   "metadata": {},
   "outputs": [],
   "source": []
  }
 ],
 "metadata": {
  "kernelspec": {
   "display_name": "Python 3",
   "language": "python",
   "name": "python3"
  },
  "language_info": {
   "codemirror_mode": {
    "name": "ipython",
    "version": 3
   },
   "file_extension": ".py",
   "mimetype": "text/x-python",
   "name": "python",
   "nbconvert_exporter": "python",
   "pygments_lexer": "ipython3",
   "version": "3.8.5"
  }
 },
 "nbformat": 4,
 "nbformat_minor": 2
}
