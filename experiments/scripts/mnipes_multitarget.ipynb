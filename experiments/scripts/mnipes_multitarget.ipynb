{
 "cells": [
  {
   "cell_type": "code",
   "execution_count": 27,
   "metadata": {},
   "outputs": [],
   "source": [
    "import csv\n",
    "import matplotlib.pyplot as plt\n",
    "import seaborn as sns\n",
    "import pandas as pd\n",
    "import os\n",
    "import math\n",
    "import numpy as np\n",
    "import numpy.linalg as la\n",
    "from PIL import Image\n",
    "\n",
    "def perc_high(a):\n",
    "    return np.percentile(a,q=90)\n",
    "\n",
    "def perc_low(a):\n",
    "    return np.percentile(a,q=10)\n",
    "\n",
    "def load_fitness(filename):\n",
    "    ids = []\n",
    "    fits = []\n",
    "    parents = []\n",
    "    with open(filename) as file :\n",
    "        csv_data = csv.reader(file,delimiter=',')\n",
    "        for row in csv_data:\n",
    "            ids.append(float(row[0]))\n",
    "            fits.append(float(row[-2]))\n",
    "            parents.append(int(row[1]))\n",
    "    return ids, fits, parents\n",
    "\n",
    "def find_index(_id,ids):\n",
    "    for i in range(len(ids)):\n",
    "        if(ids[i] == _id):\n",
    "            return i\n",
    "\n",
    "def compute_gen_rec(par_id,ids,parents):\n",
    "    if(par_id == -1):\n",
    "        return 0\n",
    "    for i, id in zip(range(len(ids)),ids):\n",
    "        if(par_id == id):\n",
    "            return compute_gen_rec(parents[i],ids,parents) + 1\n",
    "\n",
    "def compute_generation(ids,parents):\n",
    "    generation = [0 for _ in range(len(ids))]\n",
    "    for i in range(len(ids)):\n",
    "        generation[i] = compute_gen_rec(parents[i],ids,parents)\n",
    "    return generation\n",
    "\n",
    "def load_descriptor(filename) :\n",
    "    '''\n",
    "    Load a list of descriptor from a file\n",
    "    Trait descriptor: <width,depth,height,voxels,wheels,sensor,joint,caster>\n",
    "    '''\n",
    "    with open(filename) as file :\n",
    "        csv_data = csv.reader(file,delimiter=',')\n",
    "        descriptors = []\n",
    "        for row in csv_data :\n",
    "            desc = []\n",
    "            for i in range(len(row)-1) :\n",
    "                desc.append(float(row[i]))\n",
    "            descriptors.append(desc)\n",
    "        return descriptors\n",
    "    \n",
    "def load_controller_archive(filename):\n",
    "    lines = []\n",
    "    with open(filename) as file :\n",
    "        csv_data = csv.reader(file,delimiter=',')\n",
    "        coord = [0]*3\n",
    "        state = 0\n",
    "        nbr_param = 0\n",
    "        i=0\n",
    "        for row in csv_data:\n",
    "            if(len(row) == 3):\n",
    "                coord[0] = int(row[0])\n",
    "                coord[1] = int(row[1])\n",
    "                coord[2] = int(row[2])\n",
    "                state = 1\n",
    "                i=0\n",
    "            elif(row[0]=='0 0 0 0'):\n",
    "                continue\n",
    "            elif(state == 1):\n",
    "                state = 2\n",
    "            elif(state == 2):\n",
    "                nbr_param = int(row[0])\n",
    "                state = 3\n",
    "            elif(state == 3):\n",
    "                nbr_param += int(row[0])\n",
    "                state = 4\n",
    "            elif(state == 4 and i < nbr_param):\n",
    "                i+=1\n",
    "            elif(state == 4 and i >= nbr_param):\n",
    "                if(coord[1] == 0):\n",
    "                    lines.append([coord[0],coord[1],coord[2],float(row[0])])\n",
    "    return pd.DataFrame(data=lines,columns=[\"number of wheels\",\"number of joints\",\"number of sensors\",\"fitness\"])\n",
    "\n",
    "def compute_lineage_rec(ids,par_id,parents):\n",
    "    if(par_id == -1):\n",
    "        return []\n",
    "    for i, _id in zip(range(len(ids)),ids):\n",
    "        if(par_id == _id):\n",
    "            return [_id] + compute_lineage_rec(ids,parents[i],parents)\n",
    "def compute_lineage(ids,parents):\n",
    "    lineages = dict()\n",
    "    for i, _id in zip(range(len(ids)),ids):\n",
    "        lineages[_id] = compute_lineage_rec(ids,parents[i],parents)\n",
    "    return lineages\n",
    "\n",
    "def load_trajectory(filename):\n",
    "    traj = []\n",
    "    with open(filename) as file :\n",
    "        csv_data = csv.reader(file,delimiter=';')\n",
    "        t = 0\n",
    "        for row in csv_data:\n",
    "            position = row[0].split(',')\n",
    "            pos = [float(elt) for elt in position]\n",
    "            traj.append([t] + pos)\n",
    "            t+=1\n",
    "    return traj\n",
    "\n",
    "def compute_runtime(filename,nbr_eval):\n",
    "    with open(filename) as file :\n",
    "        csv_data = csv.reader(file,delimiter=',')\n",
    "        i = 0\n",
    "        start_time = 0\n",
    "        end_time = 0\n",
    "        for row in csv_data:\n",
    "            if(i==0):\n",
    "                start_time = float(row[1])\n",
    "            if(row[0] == \"overhead\"):\n",
    "                continue\n",
    "            if(i==nbr_eval):\n",
    "                end_time = float(row[2])\n",
    "            i+=1\n",
    "    return end_time - start_time\n",
    "\n",
    "def read_parameters(filename):\n",
    "    '''\n",
    "    Read a parameter and return a dictionnary\n",
    "    '''\n",
    "    parameters = dict()\n",
    "    with open(filename) as file :\n",
    "        csv_data = csv.reader(file,delimiter=',')\n",
    "        for row in csv_data:\n",
    "            parameters[row[0]] = row[2]\n",
    "    return parameters"
   ]
  },
  {
   "cell_type": "code",
   "execution_count": null,
   "metadata": {},
   "outputs": [],
   "source": []
  },
  {
   "cell_type": "code",
   "execution_count": 7,
   "metadata": {},
   "outputs": [],
   "source": [
    "desc_lines = []\n",
    "organ_lines = []\n",
    "exp_folder = \"/home/leni/are-logs/mnipes_v2_multitarget_08_22/selection/\"\n",
    "for folder in os.listdir(exp_folder):\n",
    "    descriptors = load_descriptor(exp_folder + folder + \"/morph_descriptors.csv\")\n",
    "    for desc in descriptors:\n",
    "        desc_lines.append([desc[0],desc[5]*16,desc[6]*16,desc[7]*16])\n",
    "wheels = [0 for _ in range(16)]\n",
    "sensors = [0 for _ in range(16)]\n",
    "joints = [0 for _ in range(16)]\n",
    "\n",
    "total=0\n",
    "for desc in desc_lines:\n",
    "        wheels[int(desc[1])]+=1\n",
    "        sensors[int(desc[2])]+=1\n",
    "        joints[int(desc[3])]+=1\n",
    "\n",
    "        total+=1\n",
    "\n",
    "for i in range(len(wheels)):\n",
    "    wheels[i]=wheels[i]/total*100\n",
    "    sensors[i]=sensors[i]/total*100\n",
    "    joints[i]=joints[i]/total*100\n",
    "\n",
    "\n",
    "for i,w in zip(range(len(wheels)),wheels):\n",
    "    organ_lines.append([str(i),w,\"wheels\",\"multitarget - arena\"])\n",
    "for i,s in zip(range(len(sensors)),sensors):\n",
    "    organ_lines.append([str(i),s,\"sensors\",\"multitarget - arena\"])\n",
    "for i,s in zip(range(len(joints)),joints):\n",
    "    organ_lines.append([str(i),s,\"joints\",\"multitarget - arena\"])"
   ]
  },
  {
   "cell_type": "code",
   "execution_count": 8,
   "metadata": {},
   "outputs": [
    {
     "data": {
      "text/plain": [
       "<seaborn.axisgrid.FacetGrid at 0x7fb4234852e0>"
      ]
     },
     "execution_count": 8,
     "metadata": {},
     "output_type": "execute_result"
    },
    {
     "data": {
      "text/plain": [
       "<Figure size 360x360 with 0 Axes>"
      ]
     },
     "metadata": {},
     "output_type": "display_data"
    },
    {
     "data": {
      "image/png": "[encoded data removed]",
      "text/plain": [
       "<Figure size 939x216 with 1 Axes>"
      ]
     },
     "metadata": {
      "needs_background": "light"
     },
     "output_type": "display_data"
    }
   ],
   "source": [
    "fig = plt.gcf()\n",
    "fig.set_size_inches(5, 5)\n",
    "organs_data = pd.DataFrame(data=organ_lines,columns=[\"number of organs\",\"percentage of robots\",\"type of organ\",\"variant\"])\n",
    "g=sns.catplot(data=organs_data,x=\"number of organs\",y=\"percentage of robots\",hue=\"type of organ\",col=\"variant\",kind='bar',col_wrap=2,aspect=2,height=3)\n",
    "(g.set_titles(\"{col_name}\")\n",
    "  .set(xlim=(-1, 9)))"
   ]
  },
  {
   "cell_type": "code",
   "execution_count": 28,
   "metadata": {},
   "outputs": [],
   "source": [
    "exp_folder = \"/home/leni/are-logs/mnipes_v2_multitarget_08_22/selection/\"\n",
    "list_data = []\n",
    "for folder in os.listdir(exp_folder):\n",
    "    list_data.append(load_controller_archive(exp_folder + \"/\" + folder + \"/controller_archive\"))"
   ]
  },
  {
   "cell_type": "code",
   "execution_count": 35,
   "metadata": {},
   "outputs": [
    {
     "name": "stdout",
     "output_type": "stream",
     "text": [
      "    number of wheels  number of joints  number of sensors   fitness\n",
      "0                  1                 0                  0  0.707195\n",
      "1                  1                 0                  3  0.645650\n",
      "2                  2                 0                  0  0.637623\n",
      "3                  2                 0                  3  0.639909\n",
      "4                  3                 0                  3  0.662740\n",
      "..               ...               ...                ...       ...\n",
      "82                 4                 0                  0  0.694651\n",
      "83                 5                 0                  0  0.673771\n",
      "84                 6                 0                  0  0.707183\n",
      "85                 7                 0                  0  0.733825\n",
      "86                 8                 0                  0  0.657801\n",
      "\n",
      "[87 rows x 4 columns]\n"
     ]
    },
    {
     "data": {
      "image/png": "[encoded data removed]",
      "text/plain": [
       "<Figure size 648x504 with 2 Axes>"
      ]
     },
     "metadata": {
      "needs_background": "light"
     },
     "output_type": "display_data"
    }
   ],
   "source": [
    "data = pd.concat(list_data,ignore_index=True)\n",
    "print(data)\n",
    "data.pop(\"number of joints\")\n",
    "data = data.groupby([\"number of wheels\",\"number of sensors\"]).max().squeeze().unstack()\n",
    "#data = data.pivot(index=\"number of wheels\",columns=\"number of sensors\",values=\"fitness\")\n",
    "fig = plt.gcf()\n",
    "fig.set_size_inches(9, 7)\n",
    "ax = sns.heatmap(data,robust=True)#,vmin=0,vmax=0.2)\n",
    "ax.set_ylim([0,9])\n",
    "ax.set_xlim([0,9])\n",
    "ax.set_title(\"multitarget - arena\")\n",
    "plt.show()"
   ]
  },
  {
   "cell_type": "code",
   "execution_count": 33,
   "metadata": {},
   "outputs": [
    {
     "data": {
      "image/png": "[encoded data removed]",
      "text/plain": [
       "<Figure size 648x504 with 2 Axes>"
      ]
     },
     "metadata": {
      "needs_background": "light"
     },
     "output_type": "display_data"
    }
   ],
   "source": [
    "data = pd.concat(list_data,ignore_index=True)\n",
    "data.pop(\"number of sensors\")\n",
    "data = data.groupby([\"number of wheels\",\"number of joints\"]).max().squeeze().unstack()\n",
    "#data = data.pivot(index=\"number of wheels\",columns=\"number of sensors\",values=\"fitness\")\n",
    "fig = plt.gcf()\n",
    "fig.set_size_inches(9, 7)\n",
    "ax = sns.heatmap(data,robust=True)#,vmin=0,vmax=0.2)\n",
    "ax.set_ylim([0,9])\n",
    "ax.set_xlim([0,9])\n",
    "ax.set_title(\"multitarget - arena\")\n",
    "plt.show()"
   ]
  },
  {
   "cell_type": "code",
   "execution_count": 34,
   "metadata": {},
   "outputs": [
    {
     "data": {
      "image/png": "[encoded data removed]",
      "text/plain": [
       "<Figure size 648x504 with 2 Axes>"
      ]
     },
     "metadata": {
      "needs_background": "light"
     },
     "output_type": "display_data"
    }
   ],
   "source": [
    "data = pd.concat(list_data,ignore_index=True)\n",
    "data.pop(\"number of wheels\")\n",
    "data = data.groupby([\"number of joints\",\"number of sensors\"]).max().squeeze().unstack()\n",
    "#data = data.pivot(index=\"number of wheels\",columns=\"number of sensors\",values=\"fitness\")\n",
    "fig = plt.gcf()\n",
    "fig.set_size_inches(9, 7)\n",
    "ax = sns.heatmap(data,robust=True)#,vmin=0,vmax=0.2)\n",
    "ax.set_ylim([0,9])\n",
    "ax.set_xlim([0,9])\n",
    "ax.set_title(\"multitarget - arena\")\n",
    "plt.show()"
   ]
  },
  {
   "cell_type": "code",
   "execution_count": 24,
   "metadata": {},
   "outputs": [
    {
     "data": {
      "image/png": "[encoded data removed]",
      "text/plain": [
       "<Figure size 648x648 with 1 Axes>"
      ]
     },
     "metadata": {
      "needs_background": "light"
     },
     "output_type": "display_data"
    }
   ],
   "source": [
    "exp_folder = \"/home/leni/are-logs/mnipes_v2_multitarget_08_22/selection/\"\n",
    "trajectory = []\n",
    "for folder in os.listdir(exp_folder):\n",
    "    for file in os.listdir(exp_folder + \"/\" + folder):\n",
    "        if(file.split(\"_\")[0] != \"traj\"):\n",
    "            continue\n",
    "        trajectory += load_trajectory(exp_folder + \"/\" + folder + \"/\" + file)\n",
    "\n",
    "data = pd.DataFrame(data=trajectory,columns=[\"t\",\"x\",\"y\",\"z\"])\n",
    "fig = plt.gcf()\n",
    "fig.set_size_inches(9, 9)\n",
    "ax = sns.histplot(data=data,x=\"x\",y=\"y\",bins=2048,legend=False,pmax=0.3)\n",
    "ax.set_xlim([-1,1])\n",
    "ax.set_ylim([-1,1])\n",
    "ax.set_title(\"multitarget - arena\")\n",
    "plt.show()"
   ]
  },
  {
   "cell_type": "code",
   "execution_count": null,
   "metadata": {},
   "outputs": [],
   "source": []
  }
 ],
 "metadata": {
  "kernelspec": {
   "display_name": "Python 3",
   "language": "python",
   "name": "python3"
  },
  "language_info": {
   "codemirror_mode": {
    "name": "ipython",
    "version": 3
   },
   "file_extension": ".py",
   "mimetype": "text/x-python",
   "name": "python",
   "nbconvert_exporter": "python",
   "pygments_lexer": "ipython3",
   "version": "3.8.10"
  }
 },
 "nbformat": 4,
 "nbformat_minor": 4
}
